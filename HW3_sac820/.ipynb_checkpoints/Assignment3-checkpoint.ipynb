{
 "cells": [
  {
   "cell_type": "markdown",
   "metadata": {},
   "source": [
    "$$Z = \\dfrac{\\mu_{population} - \\mu_{sample}}{\\frac{\\sigma}{\\sqrt{N}}}$$"
   ]
  },
  {
   "cell_type": "markdown",
   "metadata": {},
   "source": [
    "$$H_{0}: \\mu = \\mu_{0}$$\n",
    "$$H_{a}: \\mu \\neq \\mu_{0}$$\n",
    "\n",
    "$$H_{a}: \\mu > \\mu_{0} \\textrm{ or } H_{a} \\mu < \\mu_{0}$$\n",
    "\n",
    "\n",
    "Our null hypothesis is that\n",
    "Our alternative hypothesis is that"
   ]
  },
  {
   "cell_type": "markdown",
   "metadata": {},
   "source": [
    "$$\\alpha = .05$$\n",
    "\n",
    "<center>Our $\\alpha$ is 0.05, meaning we are looking for a 95% confidence interval.<center>"
   ]
  },
  {
   "cell_type": "code",
   "execution_count": 2,
   "metadata": {},
   "outputs": [],
   "source": [
    "import os\n",
    "import pandas as pd\n",
    "import numpy as np"
   ]
  },
  {
   "cell_type": "code",
   "execution_count": 14,
   "metadata": {},
   "outputs": [
    {
     "data": {
      "text/html": [
       "<div>\n",
       "<style>\n",
       "    .dataframe thead tr:only-child th {\n",
       "        text-align: right;\n",
       "    }\n",
       "\n",
       "    .dataframe thead th {\n",
       "        text-align: left;\n",
       "    }\n",
       "\n",
       "    .dataframe tbody tr th {\n",
       "        vertical-align: top;\n",
       "    }\n",
       "</style>\n",
       "<table border=\"1\" class=\"dataframe\">\n",
       "  <thead>\n",
       "    <tr style=\"text-align: right;\">\n",
       "      <th></th>\n",
       "      <th>31.62223931</th>\n",
       "    </tr>\n",
       "  </thead>\n",
       "  <tbody>\n",
       "    <tr>\n",
       "      <th>0</th>\n",
       "      <td>32.821376</td>\n",
       "    </tr>\n",
       "    <tr>\n",
       "      <th>1</th>\n",
       "      <td>30.229101</td>\n",
       "    </tr>\n",
       "    <tr>\n",
       "      <th>2</th>\n",
       "      <td>31.413766</td>\n",
       "    </tr>\n",
       "    <tr>\n",
       "      <th>3</th>\n",
       "      <td>39.010550</td>\n",
       "    </tr>\n",
       "    <tr>\n",
       "      <th>4</th>\n",
       "      <td>34.822079</td>\n",
       "    </tr>\n",
       "  </tbody>\n",
       "</table>\n",
       "</div>"
      ],
      "text/plain": [
       "   31.62223931\n",
       "0    32.821376\n",
       "1    30.229101\n",
       "2    31.413766\n",
       "3    39.010550\n",
       "4    34.822079"
      ]
     },
     "execution_count": 14,
     "metadata": {},
     "output_type": "execute_result"
    }
   ],
   "source": [
    "os.system(\"curl -O https://raw.githubusercontent.com/fedhere/PUI2017_fb55/master/Lab3_fb55/times.txt\")\n",
    "data = pd.read_csv(\"times.txt\")\n",
    "data.head()"
   ]
  },
  {
   "cell_type": "code",
   "execution_count": 17,
   "metadata": {},
   "outputs": [
    {
     "name": "stdout",
     "output_type": "stream",
     "text": [
      "(31.62223931    34.494888\n",
      "dtype: float64, 31.62223931    7.131497\n",
      "dtype: float64)\n"
     ]
    }
   ],
   "source": [
    "mu = np.mean(data)\n",
    "std = np.std(data)\n",
    "\n",
    "se = std / sqrt(len(data))\n",
    "z =  ( - mu) / se\n",
    "\n",
    "alpha = 0.05\n",
    "\n",
    "if z >= alpha:\n",
    "    print(\"Insignificant. Do not reject the null hypothesis.\")\n",
    "    print(\"P value = \" + str(z))\n",
    "    print(\"P value > 0.05\")\n",
    "else:\n",
    "    print(\"Significant. Reject the null hypothesis.\")\n",
    "    print(\"P value = \" + str(z))\n",
    "    print(\"P value < 0.05\")"
   ]
  }
 ],
 "metadata": {
  "kernelspec": {
   "display_name": "Python 2",
   "language": "python",
   "name": "python2"
  },
  "language_info": {
   "codemirror_mode": {
    "name": "ipython",
    "version": 2
   },
   "file_extension": ".py",
   "mimetype": "text/x-python",
   "name": "python",
   "nbconvert_exporter": "python",
   "pygments_lexer": "ipython2",
   "version": "2.7.12"
  }
 },
 "nbformat": 4,
 "nbformat_minor": 2
}
