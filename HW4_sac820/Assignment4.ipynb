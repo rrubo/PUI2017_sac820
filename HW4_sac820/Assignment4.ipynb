{
 "cells": [
  {
   "cell_type": "markdown",
   "metadata": {
    "collapsed": true,
    "run_control": {
     "frozen": false,
     "read_only": false
    }
   },
   "source": [
    "# PUI2017 HW4 Assignment 4\n",
    "### sac820@nyu.edu"
   ]
  },
  {
   "cell_type": "markdown",
   "metadata": {},
   "source": [
    "# Part 0: Setup\n",
    "\n",
    "1. Import libraries\n",
    "2. Set single significance threshold for entire exercise\n",
    "3. Read in data"
   ]
  },
  {
   "cell_type": "code",
   "execution_count": 5,
   "metadata": {
    "ExecuteTime": {
     "end_time": "2017-10-05T16:48:06.390950",
     "start_time": "2017-10-05T16:48:04.815178"
    },
    "run_control": {
     "frozen": false,
     "read_only": false
    },
    "scrolled": true
   },
   "outputs": [
    {
     "name": "stdout",
     "output_type": "stream",
     "text": [
      "Populating the interactive namespace from numpy and matplotlib\n"
     ]
    }
   ],
   "source": [
    "import pylab as pl\n",
    "import pandas as pd\n",
    "import numpy as np\n",
    "import os\n",
    "import scipy.stats\n",
    "from getCitiBikeCSV import getCitiBikeCSV\n",
    "from astral import Astral\n",
    "import datetime\n",
    "import geopandas as gpd\n",
    "\n",
    "%pylab inline"
   ]
  },
  {
   "cell_type": "code",
   "execution_count": 6,
   "metadata": {},
   "outputs": [],
   "source": [
    "#Set significance threshold for entire project\n",
    "alpha = 0.05"
   ]
  },
  {
   "cell_type": "markdown",
   "metadata": {},
   "source": [
    "<center>**The significance threshold is 0.05**<center>\n",
    "<br>\n",
    "$$\\alpha = 0.05$$"
   ]
  },
  {
   "cell_type": "markdown",
   "metadata": {},
   "source": [
    "#### Read in data for a cold month and a hot month and then clean up data"
   ]
  },
  {
   "cell_type": "code",
   "execution_count": 7,
   "metadata": {
    "scrolled": true
   },
   "outputs": [
    {
     "name": "stdout",
     "output_type": "stream",
     "text": [
      "('Downloading', '201501')\n",
      "file in place, you can continue\n",
      "('Downloading', '201508')\n",
      "file in place, you can continue\n"
     ]
    }
   ],
   "source": [
    "#Use January and July data in 2015\n",
    "datestring_00 = '201501'\n",
    "datestring_01 = '201508'\n",
    "\n",
    "#Download data\n",
    "getCitiBikeCSV(datestring_00)\n",
    "getCitiBikeCSV(datestring_01)\n",
    "\n",
    "#Open data in Python as dataframes\n",
    "df_00 = pd.read_csv(os.getenv(\"PUIDATA\") + \"/\" + datestring_00 + '-citibike-tripdata.csv')\n",
    "df_01 = pd.read_csv(os.getenv(\"PUIDATA\") + \"/\" + datestring_01 + '-citibike-tripdata.csv')\n",
    "\n",
    "#Turn starttimes into datetimes\n",
    "df_00['starttime'] = pd.to_datetime(df_00['starttime'])\n",
    "df_01['starttime'] = pd.to_datetime(df_01['starttime'])\n",
    "\n",
    "#Combine dataframes\n",
    "frames = [df_00, df_01]\n",
    "citibikeData = pd.concat(frames)"
   ]
  },
  {
   "cell_type": "code",
   "execution_count": 8,
   "metadata": {},
   "outputs": [
    {
     "data": {
      "text/plain": [
       "Index([u'tripduration', u'starttime', u'stoptime', u'start station id',\n",
       "       u'start station name', u'start station latitude',\n",
       "       u'start station longitude', u'end station id', u'end station name',\n",
       "       u'end station latitude', u'end station longitude', u'bikeid',\n",
       "       u'usertype', u'birth year', u'gender'],\n",
       "      dtype='object')"
      ]
     },
     "execution_count": 8,
     "metadata": {},
     "output_type": "execute_result"
    }
   ],
   "source": [
    "citibikeData.columns"
   ]
  },
  {
   "cell_type": "code",
   "execution_count": 9,
   "metadata": {
    "scrolled": false
   },
   "outputs": [
    {
     "data": {
      "text/html": [
       "<div>\n",
       "<style>\n",
       "    .dataframe thead tr:only-child th {\n",
       "        text-align: right;\n",
       "    }\n",
       "\n",
       "    .dataframe thead th {\n",
       "        text-align: left;\n",
       "    }\n",
       "\n",
       "    .dataframe tbody tr th {\n",
       "        vertical-align: top;\n",
       "    }\n",
       "</style>\n",
       "<table border=\"1\" class=\"dataframe\">\n",
       "  <thead>\n",
       "    <tr style=\"text-align: right;\">\n",
       "      <th></th>\n",
       "      <th>tripduration</th>\n",
       "      <th>starttime</th>\n",
       "      <th>stoptime</th>\n",
       "      <th>start station id</th>\n",
       "      <th>start station name</th>\n",
       "      <th>start station latitude</th>\n",
       "      <th>start station longitude</th>\n",
       "      <th>end station id</th>\n",
       "      <th>end station name</th>\n",
       "      <th>end station latitude</th>\n",
       "      <th>end station longitude</th>\n",
       "      <th>bikeid</th>\n",
       "      <th>usertype</th>\n",
       "      <th>birth year</th>\n",
       "      <th>gender</th>\n",
       "    </tr>\n",
       "  </thead>\n",
       "  <tbody>\n",
       "    <tr>\n",
       "      <th>0</th>\n",
       "      <td>1346</td>\n",
       "      <td>2015-01-01 00:01:00</td>\n",
       "      <td>1/1/2015 0:24</td>\n",
       "      <td>455</td>\n",
       "      <td>1 Ave &amp; E 44 St</td>\n",
       "      <td>40.750020</td>\n",
       "      <td>-73.969053</td>\n",
       "      <td>265</td>\n",
       "      <td>Stanton St &amp; Chrystie St</td>\n",
       "      <td>40.722293</td>\n",
       "      <td>-73.991475</td>\n",
       "      <td>18660</td>\n",
       "      <td>Subscriber</td>\n",
       "      <td>1960.0</td>\n",
       "      <td>2</td>\n",
       "    </tr>\n",
       "    <tr>\n",
       "      <th>1</th>\n",
       "      <td>363</td>\n",
       "      <td>2015-01-01 00:02:00</td>\n",
       "      <td>1/1/2015 0:08</td>\n",
       "      <td>434</td>\n",
       "      <td>9 Ave &amp; W 18 St</td>\n",
       "      <td>40.743174</td>\n",
       "      <td>-74.003664</td>\n",
       "      <td>482</td>\n",
       "      <td>W 15 St &amp; 7 Ave</td>\n",
       "      <td>40.739355</td>\n",
       "      <td>-73.999318</td>\n",
       "      <td>16085</td>\n",
       "      <td>Subscriber</td>\n",
       "      <td>1963.0</td>\n",
       "      <td>1</td>\n",
       "    </tr>\n",
       "    <tr>\n",
       "      <th>2</th>\n",
       "      <td>346</td>\n",
       "      <td>2015-01-01 00:04:00</td>\n",
       "      <td>1/1/2015 0:10</td>\n",
       "      <td>491</td>\n",
       "      <td>E 24 St &amp; Park Ave S</td>\n",
       "      <td>40.740964</td>\n",
       "      <td>-73.986022</td>\n",
       "      <td>505</td>\n",
       "      <td>6 Ave &amp; W 33 St</td>\n",
       "      <td>40.749013</td>\n",
       "      <td>-73.988484</td>\n",
       "      <td>20845</td>\n",
       "      <td>Subscriber</td>\n",
       "      <td>1974.0</td>\n",
       "      <td>1</td>\n",
       "    </tr>\n",
       "    <tr>\n",
       "      <th>3</th>\n",
       "      <td>182</td>\n",
       "      <td>2015-01-01 00:04:00</td>\n",
       "      <td>1/1/2015 0:07</td>\n",
       "      <td>384</td>\n",
       "      <td>Fulton St &amp; Waverly Ave</td>\n",
       "      <td>40.683178</td>\n",
       "      <td>-73.965964</td>\n",
       "      <td>399</td>\n",
       "      <td>Lafayette Ave &amp; St James Pl</td>\n",
       "      <td>40.688515</td>\n",
       "      <td>-73.964763</td>\n",
       "      <td>19610</td>\n",
       "      <td>Subscriber</td>\n",
       "      <td>1969.0</td>\n",
       "      <td>1</td>\n",
       "    </tr>\n",
       "    <tr>\n",
       "      <th>4</th>\n",
       "      <td>969</td>\n",
       "      <td>2015-01-01 00:05:00</td>\n",
       "      <td>1/1/2015 0:21</td>\n",
       "      <td>474</td>\n",
       "      <td>5 Ave &amp; E 29 St</td>\n",
       "      <td>40.745168</td>\n",
       "      <td>-73.986831</td>\n",
       "      <td>432</td>\n",
       "      <td>E 7 St &amp; Avenue A</td>\n",
       "      <td>40.726218</td>\n",
       "      <td>-73.983799</td>\n",
       "      <td>20197</td>\n",
       "      <td>Subscriber</td>\n",
       "      <td>1977.0</td>\n",
       "      <td>1</td>\n",
       "    </tr>\n",
       "  </tbody>\n",
       "</table>\n",
       "</div>"
      ],
      "text/plain": [
       "   tripduration           starttime       stoptime  start station id  \\\n",
       "0          1346 2015-01-01 00:01:00  1/1/2015 0:24               455   \n",
       "1           363 2015-01-01 00:02:00  1/1/2015 0:08               434   \n",
       "2           346 2015-01-01 00:04:00  1/1/2015 0:10               491   \n",
       "3           182 2015-01-01 00:04:00  1/1/2015 0:07               384   \n",
       "4           969 2015-01-01 00:05:00  1/1/2015 0:21               474   \n",
       "\n",
       "        start station name  start station latitude  start station longitude  \\\n",
       "0          1 Ave & E 44 St               40.750020               -73.969053   \n",
       "1          9 Ave & W 18 St               40.743174               -74.003664   \n",
       "2     E 24 St & Park Ave S               40.740964               -73.986022   \n",
       "3  Fulton St & Waverly Ave               40.683178               -73.965964   \n",
       "4          5 Ave & E 29 St               40.745168               -73.986831   \n",
       "\n",
       "   end station id             end station name  end station latitude  \\\n",
       "0             265     Stanton St & Chrystie St             40.722293   \n",
       "1             482              W 15 St & 7 Ave             40.739355   \n",
       "2             505              6 Ave & W 33 St             40.749013   \n",
       "3             399  Lafayette Ave & St James Pl             40.688515   \n",
       "4             432            E 7 St & Avenue A             40.726218   \n",
       "\n",
       "   end station longitude  bikeid    usertype  birth year  gender  \n",
       "0             -73.991475   18660  Subscriber      1960.0       2  \n",
       "1             -73.999318   16085  Subscriber      1963.0       1  \n",
       "2             -73.988484   20845  Subscriber      1974.0       1  \n",
       "3             -73.964763   19610  Subscriber      1969.0       1  \n",
       "4             -73.983799   20197  Subscriber      1977.0       1  "
      ]
     },
     "execution_count": 9,
     "metadata": {},
     "output_type": "execute_result"
    }
   ],
   "source": [
    "citibikeData.head()"
   ]
  },
  {
   "cell_type": "markdown",
   "metadata": {},
   "source": [
    "# Part 1: Trip Duration for Day vs. Night"
   ]
  },
  {
   "cell_type": "markdown",
   "metadata": {},
   "source": [
    "### 0: State Null and Alternative Hypotheses\n",
    "\n",
    "<center>**Null Hypothesis:** The average duration of a Citibike trip at night is the same as a trip during the day.<center>\n",
    "\n",
    "<br>\n",
    "\n",
    "$$H_0: P_0 - P_1 = 0$$\n",
    "$$H_a: P_0 - P_1 \\neq 0$$\n",
    "\n",
    "\n"
   ]
  },
  {
   "cell_type": "markdown",
   "metadata": {},
   "source": [
    "### 1: Read in and clean data\n",
    "\n",
    "We need to define what is day and what is night. We can use the Astral Python library to determine when sunset and sunrise are during these dates in New York City. From there, we can separate the data into day and night trips. From there we can calculate the average trip duration.\n",
    "\n",
    "\n",
    "\n"
   ]
  },
  {
   "cell_type": "code",
   "execution_count": 10,
   "metadata": {
    "scrolled": true
   },
   "outputs": [],
   "source": [
    "#Make a copy of the original data\n",
    "durationData = citibikeData.copy()\n",
    "\n",
    "#Drop unneeded variables\n",
    "durationData.drop(['start station id', 'start station name', 'start station latitude', \n",
    "                                 'start station longitude', 'end station id', 'end station name',\n",
    "                                 'end station latitude', 'end station longitude', 'bikeid','usertype', \n",
    "                                 'birth year', 'gender', 'stoptime'], axis=1, inplace=True)"
   ]
  },
  {
   "cell_type": "code",
   "execution_count": 11,
   "metadata": {
    "scrolled": true
   },
   "outputs": [
    {
     "data": {
      "text/html": [
       "<div>\n",
       "<style>\n",
       "    .dataframe thead tr:only-child th {\n",
       "        text-align: right;\n",
       "    }\n",
       "\n",
       "    .dataframe thead th {\n",
       "        text-align: left;\n",
       "    }\n",
       "\n",
       "    .dataframe tbody tr th {\n",
       "        vertical-align: top;\n",
       "    }\n",
       "</style>\n",
       "<table border=\"1\" class=\"dataframe\">\n",
       "  <thead>\n",
       "    <tr style=\"text-align: right;\">\n",
       "      <th></th>\n",
       "      <th>tripduration</th>\n",
       "      <th>starttime</th>\n",
       "    </tr>\n",
       "  </thead>\n",
       "  <tbody>\n",
       "    <tr>\n",
       "      <th>0</th>\n",
       "      <td>1346</td>\n",
       "      <td>2015-01-01 00:01:00</td>\n",
       "    </tr>\n",
       "    <tr>\n",
       "      <th>1</th>\n",
       "      <td>363</td>\n",
       "      <td>2015-01-01 00:02:00</td>\n",
       "    </tr>\n",
       "    <tr>\n",
       "      <th>2</th>\n",
       "      <td>346</td>\n",
       "      <td>2015-01-01 00:04:00</td>\n",
       "    </tr>\n",
       "    <tr>\n",
       "      <th>3</th>\n",
       "      <td>182</td>\n",
       "      <td>2015-01-01 00:04:00</td>\n",
       "    </tr>\n",
       "    <tr>\n",
       "      <th>4</th>\n",
       "      <td>969</td>\n",
       "      <td>2015-01-01 00:05:00</td>\n",
       "    </tr>\n",
       "  </tbody>\n",
       "</table>\n",
       "</div>"
      ],
      "text/plain": [
       "   tripduration           starttime\n",
       "0          1346 2015-01-01 00:01:00\n",
       "1           363 2015-01-01 00:02:00\n",
       "2           346 2015-01-01 00:04:00\n",
       "3           182 2015-01-01 00:04:00\n",
       "4           969 2015-01-01 00:05:00"
      ]
     },
     "execution_count": 11,
     "metadata": {},
     "output_type": "execute_result"
    }
   ],
   "source": [
    "durationData.head()"
   ]
  },
  {
   "cell_type": "code",
   "execution_count": 12,
   "metadata": {
    "scrolled": true
   },
   "outputs": [
    {
     "data": {
      "text/html": [
       "<div>\n",
       "<style>\n",
       "    .dataframe thead tr:only-child th {\n",
       "        text-align: right;\n",
       "    }\n",
       "\n",
       "    .dataframe thead th {\n",
       "        text-align: left;\n",
       "    }\n",
       "\n",
       "    .dataframe tbody tr th {\n",
       "        vertical-align: top;\n",
       "    }\n",
       "</style>\n",
       "<table border=\"1\" class=\"dataframe\">\n",
       "  <thead>\n",
       "    <tr style=\"text-align: right;\">\n",
       "      <th></th>\n",
       "      <th>tripduration</th>\n",
       "      <th>starttime</th>\n",
       "      <th>date</th>\n",
       "    </tr>\n",
       "  </thead>\n",
       "  <tbody>\n",
       "    <tr>\n",
       "      <th>0</th>\n",
       "      <td>1346</td>\n",
       "      <td>00:01:00</td>\n",
       "      <td>2015-01-01</td>\n",
       "    </tr>\n",
       "    <tr>\n",
       "      <th>1</th>\n",
       "      <td>363</td>\n",
       "      <td>00:02:00</td>\n",
       "      <td>2015-01-01</td>\n",
       "    </tr>\n",
       "    <tr>\n",
       "      <th>2</th>\n",
       "      <td>346</td>\n",
       "      <td>00:04:00</td>\n",
       "      <td>2015-01-01</td>\n",
       "    </tr>\n",
       "    <tr>\n",
       "      <th>3</th>\n",
       "      <td>182</td>\n",
       "      <td>00:04:00</td>\n",
       "      <td>2015-01-01</td>\n",
       "    </tr>\n",
       "    <tr>\n",
       "      <th>4</th>\n",
       "      <td>969</td>\n",
       "      <td>00:05:00</td>\n",
       "      <td>2015-01-01</td>\n",
       "    </tr>\n",
       "  </tbody>\n",
       "</table>\n",
       "</div>"
      ],
      "text/plain": [
       "   tripduration starttime        date\n",
       "0          1346  00:01:00  2015-01-01\n",
       "1           363  00:02:00  2015-01-01\n",
       "2           346  00:04:00  2015-01-01\n",
       "3           182  00:04:00  2015-01-01\n",
       "4           969  00:05:00  2015-01-01"
      ]
     },
     "execution_count": 12,
     "metadata": {},
     "output_type": "execute_result"
    }
   ],
   "source": [
    "#Create a year/month/day so we can match it to new dataframe for sunrise and sunset\n",
    "durationData['date'] = [d.date() for d in durationData['starttime']]\n",
    "durationData['starttime'] = [d.time() for d in durationData['starttime']]\n",
    "\n",
    "durationData.head()"
   ]
  },
  {
   "cell_type": "markdown",
   "metadata": {},
   "source": [
    "**Calculating sunrise and sunset given location and date:** Originally, we were going to use the Python Astral library. However, it kept having strange problems that were not easy to debug. (It kept insisting that the sun doesn't set in NYC.) So, we looked at the Astral documentation and learned that they actually used a spreadsheet with formulas from NOAA. So we downloaded this [spreadsheet](https://www.esrl.noaa.gov/gmd/grad/solcalc/calcdetails.html) and put in the correct latitude and longitude for NYC (40.7128, -74.006), timezone (UTC-5), and the correct date (January and August 2015) to obtain the sunrise and sunset times in NYC. We then copied these values to a new CSV and imported those. This is perhaps not the most automated or Pythonic way of doing this, but we had time constraints. If we had time, we would have looked at the formulas inside of the spreadsheet and made functions based off of that. \n"
   ]
  },
  {
   "cell_type": "code",
   "execution_count": 13,
   "metadata": {},
   "outputs": [
    {
     "data": {
      "text/html": [
       "<div>\n",
       "<style>\n",
       "    .dataframe thead tr:only-child th {\n",
       "        text-align: right;\n",
       "    }\n",
       "\n",
       "    .dataframe thead th {\n",
       "        text-align: left;\n",
       "    }\n",
       "\n",
       "    .dataframe tbody tr th {\n",
       "        vertical-align: top;\n",
       "    }\n",
       "</style>\n",
       "<table border=\"1\" class=\"dataframe\">\n",
       "  <thead>\n",
       "    <tr style=\"text-align: right;\">\n",
       "      <th></th>\n",
       "      <th>date</th>\n",
       "      <th>sunrise</th>\n",
       "      <th>sunset</th>\n",
       "    </tr>\n",
       "  </thead>\n",
       "  <tbody>\n",
       "    <tr>\n",
       "      <th>0</th>\n",
       "      <td>2015-01-01</td>\n",
       "      <td>7:20:08</td>\n",
       "      <td>16:39:28</td>\n",
       "    </tr>\n",
       "    <tr>\n",
       "      <th>1</th>\n",
       "      <td>2015-01-02</td>\n",
       "      <td>7:20:12</td>\n",
       "      <td>16:40:19</td>\n",
       "    </tr>\n",
       "    <tr>\n",
       "      <th>2</th>\n",
       "      <td>2015-01-03</td>\n",
       "      <td>7:20:14</td>\n",
       "      <td>16:41:12</td>\n",
       "    </tr>\n",
       "    <tr>\n",
       "      <th>3</th>\n",
       "      <td>2015-01-04</td>\n",
       "      <td>7:20:14</td>\n",
       "      <td>16:42:06</td>\n",
       "    </tr>\n",
       "    <tr>\n",
       "      <th>4</th>\n",
       "      <td>2015-01-05</td>\n",
       "      <td>7:20:12</td>\n",
       "      <td>16:43:02</td>\n",
       "    </tr>\n",
       "  </tbody>\n",
       "</table>\n",
       "</div>"
      ],
      "text/plain": [
       "        date  sunrise    sunset\n",
       "0 2015-01-01  7:20:08  16:39:28\n",
       "1 2015-01-02  7:20:12  16:40:19\n",
       "2 2015-01-03  7:20:14  16:41:12\n",
       "3 2015-01-04  7:20:14  16:42:06\n",
       "4 2015-01-05  7:20:12  16:43:02"
      ]
     },
     "execution_count": 13,
     "metadata": {},
     "output_type": "execute_result"
    }
   ],
   "source": [
    "sunriseSunset = pd.read_csv('nyc_sunrise_sunset.csv', parse_dates=True)\n",
    "sunriseSunset['date'] = pd.to_datetime(sunriseSunset['date'])\n",
    "sunriseSunset.head()"
   ]
  },
  {
   "cell_type": "markdown",
   "metadata": {},
   "source": [
    "**Mapping the new sunrise and sunset times to the dates:** We created dictionaries from the new Pandas dataframe and mapped them to the original dataframe. Mapping allows us to have multiple values for one key. That is, there are multiple observations from the original dataframe that happen on the same date and that will have the same sunset and sunrise times."
   ]
  },
  {
   "cell_type": "code",
   "execution_count": 14,
   "metadata": {},
   "outputs": [
    {
     "data": {
      "text/html": [
       "<div>\n",
       "<style>\n",
       "    .dataframe thead tr:only-child th {\n",
       "        text-align: right;\n",
       "    }\n",
       "\n",
       "    .dataframe thead th {\n",
       "        text-align: left;\n",
       "    }\n",
       "\n",
       "    .dataframe tbody tr th {\n",
       "        vertical-align: top;\n",
       "    }\n",
       "</style>\n",
       "<table border=\"1\" class=\"dataframe\">\n",
       "  <thead>\n",
       "    <tr style=\"text-align: right;\">\n",
       "      <th></th>\n",
       "      <th>tripduration</th>\n",
       "      <th>starttime</th>\n",
       "      <th>date</th>\n",
       "      <th>sunrise</th>\n",
       "      <th>sunset</th>\n",
       "    </tr>\n",
       "  </thead>\n",
       "  <tbody>\n",
       "    <tr>\n",
       "      <th>0</th>\n",
       "      <td>1346</td>\n",
       "      <td>00:01:00</td>\n",
       "      <td>2015-01-01</td>\n",
       "      <td>7:20:08</td>\n",
       "      <td>16:39:28</td>\n",
       "    </tr>\n",
       "    <tr>\n",
       "      <th>1</th>\n",
       "      <td>363</td>\n",
       "      <td>00:02:00</td>\n",
       "      <td>2015-01-01</td>\n",
       "      <td>7:20:08</td>\n",
       "      <td>16:39:28</td>\n",
       "    </tr>\n",
       "    <tr>\n",
       "      <th>2</th>\n",
       "      <td>346</td>\n",
       "      <td>00:04:00</td>\n",
       "      <td>2015-01-01</td>\n",
       "      <td>7:20:08</td>\n",
       "      <td>16:39:28</td>\n",
       "    </tr>\n",
       "    <tr>\n",
       "      <th>3</th>\n",
       "      <td>182</td>\n",
       "      <td>00:04:00</td>\n",
       "      <td>2015-01-01</td>\n",
       "      <td>7:20:08</td>\n",
       "      <td>16:39:28</td>\n",
       "    </tr>\n",
       "    <tr>\n",
       "      <th>4</th>\n",
       "      <td>969</td>\n",
       "      <td>00:05:00</td>\n",
       "      <td>2015-01-01</td>\n",
       "      <td>7:20:08</td>\n",
       "      <td>16:39:28</td>\n",
       "    </tr>\n",
       "  </tbody>\n",
       "</table>\n",
       "</div>"
      ],
      "text/plain": [
       "   tripduration starttime        date  sunrise    sunset\n",
       "0          1346  00:01:00  2015-01-01  7:20:08  16:39:28\n",
       "1           363  00:02:00  2015-01-01  7:20:08  16:39:28\n",
       "2           346  00:04:00  2015-01-01  7:20:08  16:39:28\n",
       "3           182  00:04:00  2015-01-01  7:20:08  16:39:28\n",
       "4           969  00:05:00  2015-01-01  7:20:08  16:39:28"
      ]
     },
     "execution_count": 14,
     "metadata": {},
     "output_type": "execute_result"
    }
   ],
   "source": [
    "sunrise_to_date = sunriseSunset.set_index('date').to_dict()['sunrise']\n",
    "sunset_to_date = sunriseSunset.set_index('date').to_dict()['sunset']\n",
    "\n",
    "durationData['sunrise'] = durationData['date'].map(sunrise_to_date)\n",
    "durationData['sunset'] = durationData['date'].map(sunset_to_date)\n",
    "\n",
    "durationData.head()"
   ]
  },
  {
   "cell_type": "markdown",
   "metadata": {},
   "source": [
    "**Creating datetime values:** To make comparison of times easier, we made sure that the sunrise, sunset, and start time values were all date times with the same date."
   ]
  },
  {
   "cell_type": "code",
   "execution_count": 15,
   "metadata": {},
   "outputs": [
    {
     "data": {
      "text/html": [
       "<div>\n",
       "<style>\n",
       "    .dataframe thead tr:only-child th {\n",
       "        text-align: right;\n",
       "    }\n",
       "\n",
       "    .dataframe thead th {\n",
       "        text-align: left;\n",
       "    }\n",
       "\n",
       "    .dataframe tbody tr th {\n",
       "        vertical-align: top;\n",
       "    }\n",
       "</style>\n",
       "<table border=\"1\" class=\"dataframe\">\n",
       "  <thead>\n",
       "    <tr style=\"text-align: right;\">\n",
       "      <th></th>\n",
       "      <th>tripduration</th>\n",
       "      <th>starttime</th>\n",
       "      <th>date</th>\n",
       "      <th>sunrise</th>\n",
       "      <th>sunset</th>\n",
       "    </tr>\n",
       "  </thead>\n",
       "  <tbody>\n",
       "    <tr>\n",
       "      <th>0</th>\n",
       "      <td>1346</td>\n",
       "      <td>2015-01-01 00:01:00</td>\n",
       "      <td>2015-01-01</td>\n",
       "      <td>2015-01-01 07:20:08</td>\n",
       "      <td>2015-01-01 16:39:28</td>\n",
       "    </tr>\n",
       "    <tr>\n",
       "      <th>1</th>\n",
       "      <td>363</td>\n",
       "      <td>2015-01-01 00:02:00</td>\n",
       "      <td>2015-01-01</td>\n",
       "      <td>2015-01-01 07:20:08</td>\n",
       "      <td>2015-01-01 16:39:28</td>\n",
       "    </tr>\n",
       "    <tr>\n",
       "      <th>2</th>\n",
       "      <td>346</td>\n",
       "      <td>2015-01-01 00:04:00</td>\n",
       "      <td>2015-01-01</td>\n",
       "      <td>2015-01-01 07:20:08</td>\n",
       "      <td>2015-01-01 16:39:28</td>\n",
       "    </tr>\n",
       "    <tr>\n",
       "      <th>3</th>\n",
       "      <td>182</td>\n",
       "      <td>2015-01-01 00:04:00</td>\n",
       "      <td>2015-01-01</td>\n",
       "      <td>2015-01-01 07:20:08</td>\n",
       "      <td>2015-01-01 16:39:28</td>\n",
       "    </tr>\n",
       "    <tr>\n",
       "      <th>4</th>\n",
       "      <td>969</td>\n",
       "      <td>2015-01-01 00:05:00</td>\n",
       "      <td>2015-01-01</td>\n",
       "      <td>2015-01-01 07:20:08</td>\n",
       "      <td>2015-01-01 16:39:28</td>\n",
       "    </tr>\n",
       "  </tbody>\n",
       "</table>\n",
       "</div>"
      ],
      "text/plain": [
       "   tripduration           starttime        date             sunrise  \\\n",
       "0          1346 2015-01-01 00:01:00  2015-01-01 2015-01-01 07:20:08   \n",
       "1           363 2015-01-01 00:02:00  2015-01-01 2015-01-01 07:20:08   \n",
       "2           346 2015-01-01 00:04:00  2015-01-01 2015-01-01 07:20:08   \n",
       "3           182 2015-01-01 00:04:00  2015-01-01 2015-01-01 07:20:08   \n",
       "4           969 2015-01-01 00:05:00  2015-01-01 2015-01-01 07:20:08   \n",
       "\n",
       "               sunset  \n",
       "0 2015-01-01 16:39:28  \n",
       "1 2015-01-01 16:39:28  \n",
       "2 2015-01-01 16:39:28  \n",
       "3 2015-01-01 16:39:28  \n",
       "4 2015-01-01 16:39:28  "
      ]
     },
     "execution_count": 15,
     "metadata": {},
     "output_type": "execute_result"
    }
   ],
   "source": [
    "durationData['sunrise'] = durationData['date'].astype(str) + ' ' + durationData['sunrise'].astype(str)\n",
    "durationData['sunset'] = durationData['date'].astype(str) + ' ' + durationData['sunset'].astype(str)\n",
    "durationData['starttime'] = durationData['date'].astype(str) + ' ' + durationData['starttime'].astype(str)\n",
    "\n",
    "durationData['sunrise'] = pd.to_datetime(durationData['sunrise'])\n",
    "durationData['sunset'] = pd.to_datetime(durationData['sunset'])\n",
    "durationData['starttime'] = pd.to_datetime(durationData['starttime'])\n",
    "\n",
    "durationData.head()"
   ]
  },
  {
   "cell_type": "markdown",
   "metadata": {},
   "source": [
    "**Calculating if the trip is night or day:** We had some trouble using iterrows to assign new values into a dataframe column so we created a list which we would attach to the dataframe as a new column."
   ]
  },
  {
   "cell_type": "code",
   "execution_count": 16,
   "metadata": {},
   "outputs": [],
   "source": [
    "dayORnight = []\n",
    "\n",
    "for index, row in durationData.iterrows():\n",
    "    if (row['starttime'] > row['sunrise'] and row['starttime'] < row['sunset']): \n",
    "        dayORnight.append('day')\n",
    "    else: \n",
    "        dayORnight.append('night')"
   ]
  },
  {
   "cell_type": "code",
   "execution_count": 17,
   "metadata": {},
   "outputs": [
    {
     "data": {
      "text/html": [
       "<div>\n",
       "<style>\n",
       "    .dataframe thead tr:only-child th {\n",
       "        text-align: right;\n",
       "    }\n",
       "\n",
       "    .dataframe thead th {\n",
       "        text-align: left;\n",
       "    }\n",
       "\n",
       "    .dataframe tbody tr th {\n",
       "        vertical-align: top;\n",
       "    }\n",
       "</style>\n",
       "<table border=\"1\" class=\"dataframe\">\n",
       "  <thead>\n",
       "    <tr style=\"text-align: right;\">\n",
       "      <th></th>\n",
       "      <th>tripduration</th>\n",
       "      <th>starttime</th>\n",
       "      <th>date</th>\n",
       "      <th>sunrise</th>\n",
       "      <th>sunset</th>\n",
       "      <th>dayORnight</th>\n",
       "    </tr>\n",
       "  </thead>\n",
       "  <tbody>\n",
       "    <tr>\n",
       "      <th>0</th>\n",
       "      <td>1346</td>\n",
       "      <td>2015-01-01 00:01:00</td>\n",
       "      <td>2015-01-01</td>\n",
       "      <td>2015-01-01 07:20:08</td>\n",
       "      <td>2015-01-01 16:39:28</td>\n",
       "      <td>night</td>\n",
       "    </tr>\n",
       "    <tr>\n",
       "      <th>1</th>\n",
       "      <td>363</td>\n",
       "      <td>2015-01-01 00:02:00</td>\n",
       "      <td>2015-01-01</td>\n",
       "      <td>2015-01-01 07:20:08</td>\n",
       "      <td>2015-01-01 16:39:28</td>\n",
       "      <td>night</td>\n",
       "    </tr>\n",
       "    <tr>\n",
       "      <th>2</th>\n",
       "      <td>346</td>\n",
       "      <td>2015-01-01 00:04:00</td>\n",
       "      <td>2015-01-01</td>\n",
       "      <td>2015-01-01 07:20:08</td>\n",
       "      <td>2015-01-01 16:39:28</td>\n",
       "      <td>night</td>\n",
       "    </tr>\n",
       "    <tr>\n",
       "      <th>3</th>\n",
       "      <td>182</td>\n",
       "      <td>2015-01-01 00:04:00</td>\n",
       "      <td>2015-01-01</td>\n",
       "      <td>2015-01-01 07:20:08</td>\n",
       "      <td>2015-01-01 16:39:28</td>\n",
       "      <td>night</td>\n",
       "    </tr>\n",
       "    <tr>\n",
       "      <th>4</th>\n",
       "      <td>969</td>\n",
       "      <td>2015-01-01 00:05:00</td>\n",
       "      <td>2015-01-01</td>\n",
       "      <td>2015-01-01 07:20:08</td>\n",
       "      <td>2015-01-01 16:39:28</td>\n",
       "      <td>night</td>\n",
       "    </tr>\n",
       "  </tbody>\n",
       "</table>\n",
       "</div>"
      ],
      "text/plain": [
       "   tripduration           starttime        date             sunrise  \\\n",
       "0          1346 2015-01-01 00:01:00  2015-01-01 2015-01-01 07:20:08   \n",
       "1           363 2015-01-01 00:02:00  2015-01-01 2015-01-01 07:20:08   \n",
       "2           346 2015-01-01 00:04:00  2015-01-01 2015-01-01 07:20:08   \n",
       "3           182 2015-01-01 00:04:00  2015-01-01 2015-01-01 07:20:08   \n",
       "4           969 2015-01-01 00:05:00  2015-01-01 2015-01-01 07:20:08   \n",
       "\n",
       "               sunset dayORnight  \n",
       "0 2015-01-01 16:39:28      night  \n",
       "1 2015-01-01 16:39:28      night  \n",
       "2 2015-01-01 16:39:28      night  \n",
       "3 2015-01-01 16:39:28      night  \n",
       "4 2015-01-01 16:39:28      night  "
      ]
     },
     "execution_count": 17,
     "metadata": {},
     "output_type": "execute_result"
    }
   ],
   "source": [
    "lightORdark = pd.Series(dayORnight)\n",
    "durationData['dayORnight'] = lightORdark.values\n",
    "durationData.head()"
   ]
  },
  {
   "cell_type": "markdown",
   "metadata": {},
   "source": [
    "**Calculate means and sample sizes for later tests:** We calculated the mean trip duration time of trips taken at night and trips taken during the day. We also calculated how many trips happened at night and how many during the day. There is a massive disparity between how many trips happen during the night versus the day."
   ]
  },
  {
   "cell_type": "code",
   "execution_count": 107,
   "metadata": {},
   "outputs": [],
   "source": [
    "nightData = durationData[durationData['dayORnight'] == 'night']\n",
    "nightMean = mean(nightData['tripduration'])\n",
    "nightSize = nightData.count(axis=0, numeric_only=True).values[0]\n",
    "\n",
    "\n",
    "dayData = durationData[durationData['dayORnight'] == 'day']\n",
    "dayMean = mean(dayData['tripduration'])\n",
    "daySize = dayData.count(axis=0, numeric_only=True).values[0]"
   ]
  },
  {
   "cell_type": "code",
   "execution_count": 108,
   "metadata": {},
   "outputs": [
    {
     "name": "stdout",
     "output_type": "stream",
     "text": [
      "908.247255143\n",
      "961.182096841\n",
      "401387\n",
      "1063209\n"
     ]
    }
   ],
   "source": [
    "print(nightMean)\n",
    "print(dayMean)\n",
    "\n",
    "print(nightSize)\n",
    "print(daySize)"
   ]
  },
  {
   "cell_type": "markdown",
   "metadata": {},
   "source": [
    "### 2: Kolmogorov-Smirnov Test"
   ]
  },
  {
   "cell_type": "markdown",
   "metadata": {},
   "source": [
    "**Null hypothesis for Kolmogorov Smirnoff test:** \n",
    "\n",
    "$H_0:$ the samples of the trip durations at night and the trip durations during the day come from the same parent distribution."
   ]
  },
  {
   "cell_type": "markdown",
   "metadata": {},
   "source": [
    "<center>**Null hypothesis is rejected if:**<center>\n",
    "<br>\n",
    "$$D_{(n_1,n_2)} > c(\\alpha) \\sqrt{\\dfrac{(n_1 + n_2)}{n_1n_2}}$$\n",
    "\n",
    "Where $c(\\alpha$) is the inverse of the KS distribution. You do not have to know how to get that because there are tables that list critical values.\n",
    "\n",
    "This result depends in your choice of binning though, and thus the results you get by hand may not be exactly the same as the one the KS returns. Either way: this is how you would calculate the KS statistics by hand."
   ]
  },
  {
   "cell_type": "code",
   "execution_count": 20,
   "metadata": {},
   "outputs": [
    {
     "data": {
      "image/png": "[encoded data removed]",
      "text/plain": [
       "<IPython.core.display.Image object>"
      ]
     },
     "execution_count": 20,
     "metadata": {},
     "output_type": "execute_result"
    }
   ],
   "source": [
    "from IPython.display import Image\n",
    "Image(filename=\"ks2sample_table.png\")"
   ]
  },
  {
   "cell_type": "markdown",
   "metadata": {},
   "source": [
    "**Plotting a histogram and CDF:** By plotting a histogram and then the cumulative distribution function, that will help set us up for the Kolmogorov-Smirnov test, as that test looks at the distance between the two CDFs."
   ]
  },
  {
   "cell_type": "code",
   "execution_count": 109,
   "metadata": {},
   "outputs": [
    {
     "name": "stdout",
     "output_type": "stream",
     "text": [
      "count    4.013870e+05\n",
      "mean     9.082473e+02\n",
      "std      9.239682e+03\n",
      "min      6.000000e+01\n",
      "25%      3.830000e+02\n",
      "50%      6.160000e+02\n",
      "75%      1.012000e+03\n",
      "max      2.712082e+06\n",
      "Name: tripduration, dtype: float64\n",
      "count    1.063209e+06\n",
      "mean     9.611821e+02\n",
      "std      5.987176e+03\n",
      "min      6.000000e+01\n",
      "25%      3.990000e+02\n",
      "50%      6.440000e+02\n",
      "75%      1.091000e+03\n",
      "max      2.842280e+06\n",
      "Name: tripduration, dtype: float64\n"
     ]
    }
   ],
   "source": [
    "print(nightData.tripduration.describe())\n",
    "print(dayData.tripduration.describe())"
   ]
  },
  {
   "cell_type": "markdown",
   "metadata": {},
   "source": [
    "It seems that there are some extreme duration times. I am not sure where they came from but let us drop any trip durations longer than the 75th percentile. "
   ]
  },
  {
   "cell_type": "code",
   "execution_count": 110,
   "metadata": {},
   "outputs": [],
   "source": [
    "nightData = nightData[nightData.tripduration < 1500]\n",
    "dayData = dayData[dayData.tripduration < 1500]"
   ]
  },
  {
   "cell_type": "code",
   "execution_count": 112,
   "metadata": {
    "scrolled": true
   },
   "outputs": [
    {
     "data": {
      "text/plain": [
       "<matplotlib.axes._subplots.AxesSubplot at 0x7f3a5ffda950>"
      ]
     },
     "execution_count": 112,
     "metadata": {},
     "output_type": "execute_result"
    },
    {
     "data": {
      "image/png": "[encoded data removed]",
      "text/plain": [
       "<matplotlib.figure.Figure at 0x7f3a5ffda650>"
      ]
     },
     "metadata": {},
     "output_type": "display_data"
    }
   ],
   "source": [
    "step = 50\n",
    "bin_range = np.arange(0, nightData.tripduration.max(), step)\n",
    "out, bins  = pd.cut(nightData.tripduration, bins=bin_range, include_lowest=True, right=False, retbins=True)\n",
    "out.value_counts(sort=False).plot.bar()"
   ]
  },
  {
   "cell_type": "code",
   "execution_count": 113,
   "metadata": {},
   "outputs": [
    {
     "data": {
      "text/plain": [
       "<matplotlib.axes._subplots.AxesSubplot at 0x7f3a5fd52050>"
      ]
     },
     "execution_count": 113,
     "metadata": {},
     "output_type": "execute_result"
    },
    {
     "data": {
      "image/png": "[encoded data removed]",
      "text/plain": [
       "<matplotlib.figure.Figure at 0x7f3a5fd5e910>"
      ]
     },
     "metadata": {},
     "output_type": "display_data"
    }
   ],
   "source": [
    "step = 50\n",
    "bin_range = np.arange(0, dayData.tripduration.max(), step)\n",
    "out, bins  = pd.cut(dayData.tripduration, bins=bin_range, include_lowest=True, right=False, retbins=True)\n",
    "out.value_counts(sort=False).plot.bar()"
   ]
  },
  {
   "cell_type": "markdown",
   "metadata": {},
   "source": [
    "**We want to make a cumulative distribution function of each to compare the difference between the two**\n",
    "\n",
    "$$F_{x_0}(x) = P(x<x_0)$$"
   ]
  },
  {
   "cell_type": "code",
   "execution_count": 117,
   "metadata": {},
   "outputs": [
    {
     "name": "stdout",
     "output_type": "stream",
     "text": [
      "              count_nonzero\n",
      "tripduration               \n",
      "(0, 50]                 NaN\n",
      "(50, 100]          0.000528\n",
      "(100, 150]         0.001435\n",
      "(150, 200]         0.004461\n",
      "(200, 250]         0.007430\n",
      "(250, 300]         0.009532\n",
      "(300, 350]         0.010455\n",
      "(350, 400]         0.011415\n",
      "(400, 450]         0.011833\n",
      "(450, 500]         0.011542\n",
      "(500, 550]         0.010669\n",
      "(550, 600]         0.009661\n",
      "(600, 650]         0.009548\n",
      "(650, 700]         0.009810\n",
      "(700, 750]         0.010176\n",
      "(750, 800]         0.010143\n",
      "(800, 850]         0.010085\n",
      "(850, 900]         0.010077\n",
      "(900, 950]         0.010521\n",
      "(950, 1000]        0.009644\n",
      "(1000, 1050]       0.009203\n",
      "(1050, 1100]       0.008678\n",
      "(1100, 1150]       0.008056\n",
      "(1150, 1200]       0.007137\n",
      "(1200, 1250]       0.005704\n",
      "(1250, 1300]       0.004297\n",
      "(1300, 1350]       0.002878\n",
      "(1350, 1400]       0.001672\n",
      "(1400, 1450]       0.000000\n"
     ]
    },
    {
     "name": "stderr",
     "output_type": "stream",
     "text": [
      "/usr/local/lib/python2.7/dist-packages/ipykernel_launcher.py:8: RuntimeWarning: invalid value encountered in sqrt\n",
      "  \n"
     ]
    },
    {
     "data": {
      "image/png": "[encoded data removed]",
      "text/plain": [
       "<matplotlib.figure.Figure at 0x7f3a5fd22a10>"
      ]
     },
     "metadata": {},
     "output_type": "display_data"
    }
   ],
   "source": [
    "csNight=nightData.tripduration.groupby(pd.cut(nightData.tripduration, bins)).agg([count_nonzero]).cumsum()\n",
    "csDay=dayData.tripduration.groupby(pd.cut(dayData.tripduration, bins)).agg([count_nonzero]).cumsum()\n",
    "\n",
    "print (np.abs(csNight / csNight.max()-csDay / csDay.max()))\n",
    "\n",
    "pl.plot(bins[:-1] + 5, csNight / csNight.max(), label = \"Night\")\n",
    "pl.plot(bins[:-1] + 5, csDay / csDay.max(), label = \"Day\")\n",
    "pl.plot(bins[:-1] + 5, (np.sqrt(csDay / csDay.max() - csNight / csNight.max()))**2, 'k-',\n",
    "        label = \"difference\")\n",
    "pl.xlabel(\"Trip Duration\")\n",
    "pl.ylabel(\"Normalized Cumulative Number\")\n",
    "pl.legend();"
   ]
  },
  {
   "cell_type": "markdown",
   "metadata": {},
   "source": [
    "**Calculating the KS statistic that we compare our statistic to:**"
   ]
  },
  {
   "cell_type": "code",
   "execution_count": 118,
   "metadata": {},
   "outputs": [
    {
     "name": "stdout",
     "output_type": "stream",
     "text": [
      "0.0\n"
     ]
    }
   ],
   "source": [
    "daySize = dayData.count(axis=0, numeric_only=True).values[0]\n",
    "nightSize = nightData.count(axis=0, numeric_only=True).values[0]\n",
    "\n",
    "ks_statistic = 1.36 * sqrt((nightSize + daySize) / (nightSize * daySize))\n",
    "print(ks_statistic)"
   ]
  },
  {
   "cell_type": "markdown",
   "metadata": {},
   "source": [
    "In order to reject the null hypothesis, we need a KS statistic that is higher than the above printed value."
   ]
  },
  {
   "cell_type": "markdown",
   "metadata": {},
   "source": [
    "**Performing the KS test:**"
   ]
  },
  {
   "cell_type": "code",
   "execution_count": 102,
   "metadata": {},
   "outputs": [
    {
     "name": "stdout",
     "output_type": "stream",
     "text": [
      "Ks_2sampResult(statistic=0.025341326250195251, pvalue=2.5468964783149539e-161)\n"
     ]
    }
   ],
   "source": [
    "ks = scipy.stats.ks_2samp(nightData.tripduration, dayData.tripduration)\n",
    "print(ks)"
   ]
  },
  {
   "cell_type": "markdown",
   "metadata": {},
   "source": [
    "**Explaining the results:** The results return the KS statistic and the two-tailed p-value. Our statistic is higher than the 0.0 we received above but by only a tiny amount. And our p-value is well above 0.05. This means that we cannot reject the null. In this case, that means the two distributions - the trip durations at night and those during the day - come from the same distribution and do not represent two distinct distributions.\n"
   ]
  },
  {
   "cell_type": "markdown",
   "metadata": {},
   "source": [
    "**Now perform the KS test on two equal sample sizes of 200:**"
   ]
  },
  {
   "cell_type": "code",
   "execution_count": 119,
   "metadata": {},
   "outputs": [
    {
     "name": "stdout",
     "output_type": "stream",
     "text": [
      "Ks_2sampResult(statistic=0.060000000000000053, pvalue=0.85370713521650132)\n"
     ]
    }
   ],
   "source": [
    "night = np.random.choice(nightData.tripduration, 200)\n",
    "day = np.random.choice(dayData.tripduration, 200)\n",
    "\n",
    "ks_200 = scipy.stats.ks_2samp(night, day)\n",
    "print(ks_200)"
   ]
  },
  {
   "cell_type": "markdown",
   "metadata": {},
   "source": [
    "**Explaining the results:** The results return the KS statistic and the two-tailed p-value. Our statistic is higher than the 0.0 we received above by a higher amount than before and our p-value is much lower. However, the p-value is still above 0.05. We still cannot reject the null, though it is a better result than last time."
   ]
  },
  {
   "cell_type": "markdown",
   "metadata": {},
   "source": [
    "### 3: Pearson's Test for Correlation"
   ]
  },
  {
   "cell_type": "markdown",
   "metadata": {},
   "source": [
    "**The Null Hypothesis for the Pearson's Test for Correlation:**\n",
    "\n",
    "$H_0:$ the R coefficient is 0 meaning that there is no relationship between the two variables"
   ]
  },
  {
   "cell_type": "code",
   "execution_count": 104,
   "metadata": {},
   "outputs": [
    {
     "name": "stdout",
     "output_type": "stream",
     "text": [
      "(-0.13094364950799589, 0.064576135040199628)\n"
     ]
    }
   ],
   "source": [
    "#You have to sort the data\n",
    "\n",
    "pearson = scipy.stats.pearsonr(night, day)\n",
    "print(pearson)"
   ]
  },
  {
   "cell_type": "markdown",
   "metadata": {},
   "source": [
    "**Explaining the results:** The first number returned is the R or correlation coefficient. The second is the 2-tailed p-value. The R value is always between -1 and 1. We see here that the value is quite close to zero and only slightly negatively associated. The p-value is also just above 0.05. Thus, we cannot reject the null meaning there is no relationship between the two variables.\n"
   ]
  },
  {
   "cell_type": "markdown",
   "metadata": {},
   "source": [
    "### 4: Spearman's Test for Correlation"
   ]
  },
  {
   "cell_type": "markdown",
   "metadata": {},
   "source": [
    "**The Null Hypothesis for the Spearman's Test for Correlation:**\n",
    "\n",
    "$H_0:$ the R coefficient is 0 meaning that there is no relationship between the two variables"
   ]
  },
  {
   "cell_type": "code",
   "execution_count": 105,
   "metadata": {},
   "outputs": [
    {
     "name": "stdout",
     "output_type": "stream",
     "text": [
      "SpearmanrResult(correlation=-0.10049438097755263, pvalue=0.15680951184865038)\n"
     ]
    }
   ],
   "source": [
    "spearman = scipy.stats.spearmanr(night, day)\n",
    "print(spearman)"
   ]
  },
  {
   "cell_type": "markdown",
   "metadata": {},
   "source": [
    "**Explaining the results:** The first value is the correlation coefficient which like the Pearson is between -1 and 1. The second "
   ]
  },
  {
   "cell_type": "markdown",
   "metadata": {},
   "source": [
    "# Part 2: Age for Manhattan vs. Brooklyn"
   ]
  },
  {
   "cell_type": "markdown",
   "metadata": {},
   "source": [
    "### 0: State Null and Alternative Hypotheses\n",
    "\n",
    "<center>**Null Hypothesis:** The average age of a Citibike user whose trip originates in Manhattan is the same as the average age of a user whose trip originates in Brooklyn.<center>\n",
    "\n",
    "<br>\n",
    "\n",
    "$$H_0: P_0 - P_1 = 0$$\n",
    "$$H_a: P_0 - P_1 \\neq 0$$\n",
    "\n"
   ]
  },
  {
   "cell_type": "markdown",
   "metadata": {},
   "source": [
    "### 1: Read in and clean data\n",
    "\n",
    "We need to separate the data into trips that originate in Manhattan versus those that originate in Brooklyn. From there we can calculate the mean age of users in both sets. In order to separate the data, we will test if the Lat/Lon coordinates sit within Manhattan or Brooklyn. We will add a column for which borough the trip starts in. First, we [download](http://www1.nyc.gov/site/planning/data-maps/open-data/districts-download-metadata.page) shapefiles of the boroughs of NYC. We then tested if each Lat/Lon was within that shapefile."
   ]
  },
  {
   "cell_type": "code",
   "execution_count": 91,
   "metadata": {
    "scrolled": true
   },
   "outputs": [],
   "source": [
    "#Create a copy of the original data\n",
    "boroughData = citibikeData.copy()\n",
    "\n",
    "#Drop unnecessary variables\n",
    "boroughData.drop(['tripduration', 'starttime', 'stoptime', 'start station id', 'start station name',\n",
    "                                 'end station id', 'end station name', 'end station latitude', 'end station longitude',\n",
    "                                 'bikeid', 'usertype', 'gender'], axis=1, inplace=True)\n",
    "\n",
    "#Create an age variable\n",
    "boroughData['age'] = 2015 - boroughData['birth year']\n",
    "boroughData.drop('birth year', axis=1, inplace=True)"
   ]
  },
  {
   "cell_type": "code",
   "execution_count": 92,
   "metadata": {},
   "outputs": [
    {
     "data": {
      "text/html": [
       "<div>\n",
       "<style>\n",
       "    .dataframe thead tr:only-child th {\n",
       "        text-align: right;\n",
       "    }\n",
       "\n",
       "    .dataframe thead th {\n",
       "        text-align: left;\n",
       "    }\n",
       "\n",
       "    .dataframe tbody tr th {\n",
       "        vertical-align: top;\n",
       "    }\n",
       "</style>\n",
       "<table border=\"1\" class=\"dataframe\">\n",
       "  <thead>\n",
       "    <tr style=\"text-align: right;\">\n",
       "      <th></th>\n",
       "      <th>start station latitude</th>\n",
       "      <th>start station longitude</th>\n",
       "      <th>age</th>\n",
       "    </tr>\n",
       "  </thead>\n",
       "  <tbody>\n",
       "    <tr>\n",
       "      <th>0</th>\n",
       "      <td>40.750020</td>\n",
       "      <td>-73.969053</td>\n",
       "      <td>55.0</td>\n",
       "    </tr>\n",
       "    <tr>\n",
       "      <th>1</th>\n",
       "      <td>40.743174</td>\n",
       "      <td>-74.003664</td>\n",
       "      <td>52.0</td>\n",
       "    </tr>\n",
       "    <tr>\n",
       "      <th>2</th>\n",
       "      <td>40.740964</td>\n",
       "      <td>-73.986022</td>\n",
       "      <td>41.0</td>\n",
       "    </tr>\n",
       "    <tr>\n",
       "      <th>3</th>\n",
       "      <td>40.683178</td>\n",
       "      <td>-73.965964</td>\n",
       "      <td>46.0</td>\n",
       "    </tr>\n",
       "    <tr>\n",
       "      <th>4</th>\n",
       "      <td>40.745168</td>\n",
       "      <td>-73.986831</td>\n",
       "      <td>38.0</td>\n",
       "    </tr>\n",
       "  </tbody>\n",
       "</table>\n",
       "</div>"
      ],
      "text/plain": [
       "   start station latitude  start station longitude   age\n",
       "0               40.750020               -73.969053  55.0\n",
       "1               40.743174               -74.003664  52.0\n",
       "2               40.740964               -73.986022  41.0\n",
       "3               40.683178               -73.965964  46.0\n",
       "4               40.745168               -73.986831  38.0"
      ]
     },
     "execution_count": 92,
     "metadata": {},
     "output_type": "execute_result"
    }
   ],
   "source": [
    "boroughData.head()"
   ]
  },
  {
   "cell_type": "code",
   "execution_count": 197,
   "metadata": {},
   "outputs": [],
   "source": [
    "import geopandas as gpd\n",
    "from shapely.geometry import shape, Point\n",
    "\n",
    "manhattan = gpd.read_file(\"borough_boundaries/manhattan.shp\")\n",
    "brooklyn = gpd.read_file(\"borough_boundaries/brooklyn.shp\")\n",
    "\n",
    "manhattanPolygon = manhattan['geometry'][0]\n",
    "brooklynPolygon = brooklyn['geometry'][0]"
   ]
  },
  {
   "cell_type": "code",
   "execution_count": 200,
   "metadata": {},
   "outputs": [],
   "source": [
    "points = []\n",
    "\n",
    "for index, row in boroughData.iterrows():\n",
    "    lon = row['start station latitude']\n",
    "    lat = row['start station longitude']    \n",
    "    point = Point(lon, lat)\n",
    "    points.append(point)"
   ]
  },
  {
   "cell_type": "code",
   "execution_count": 203,
   "metadata": {},
   "outputs": [],
   "source": [
    "from geopandas.geoseries import *\n",
    "manhattanPolygon = GeoSeries(manhattanPolygon)\n",
    "brooklynPolygon = GeoSeries(brooklynPolygon)"
   ]
  },
  {
   "cell_type": "code",
   "execution_count": null,
   "metadata": {},
   "outputs": [
    {
     "name": "stderr",
     "output_type": "stream",
     "text": [
      "/usr/local/lib/python2.7/dist-packages/ipykernel_launcher.py:7: DeprecationWarning: \n",
      ".ix is deprecated. Please use\n",
      ".loc for label based indexing or\n",
      ".iloc for positional indexing\n",
      "\n",
      "See the documentation here:\n",
      "http://pandas.pydata.org/pandas-docs/stable/indexing.html#ix-indexer-is-deprecated\n",
      "  import sys\n",
      "/usr/local/lib/python2.7/dist-packages/ipykernel_launcher.py:9: DeprecationWarning: \n",
      ".ix is deprecated. Please use\n",
      ".loc for label based indexing or\n",
      ".iloc for positional indexing\n",
      "\n",
      "See the documentation here:\n",
      "http://pandas.pydata.org/pandas-docs/stable/indexing.html#ix-indexer-is-deprecated\n",
      "  if __name__ == '__main__':\n"
     ]
    }
   ],
   "source": [
    "boroughs = []\n",
    "\n",
    "for index, row in boroughData.iterrows():\n",
    "    lon = row['start station latitude']\n",
    "    lat = row['start station longitude']    \n",
    "    point = Point(lon, lat)\n",
    "    if point.intersects(manhattanPolygon.unary_union) == True:\n",
    "        boroughs.append('manhattan')\n",
    "    if point.intersects(brooklynPolygon.unary_union) == True:\n",
    "        boroughs.append('brooklyn')\n",
    "    else:\n",
    "        boroughs.append('other')"
   ]
  },
  {
   "cell_type": "markdown",
   "metadata": {},
   "source": [
    "https://automating-gis-processes.github.io/2016/Lesson3-point-in-polygon.html\n",
    "https://www.oreilly.com/learning/introducing-pandas-objects\n",
    "http://michelleful.github.io/code-blog/2015/04/29/geopandas-manipulation/\n",
    "https://www.codesd.com/item/how-to-find-points-that-intersect-with-a-polygon-in-geopandas.html"
   ]
  },
  {
   "cell_type": "code",
   "execution_count": 176,
   "metadata": {},
   "outputs": [
    {
     "data": {
      "text/html": [
       "<div>\n",
       "<style>\n",
       "    .dataframe thead tr:only-child th {\n",
       "        text-align: right;\n",
       "    }\n",
       "\n",
       "    .dataframe thead th {\n",
       "        text-align: left;\n",
       "    }\n",
       "\n",
       "    .dataframe tbody tr th {\n",
       "        vertical-align: top;\n",
       "    }\n",
       "</style>\n",
       "<table border=\"1\" class=\"dataframe\">\n",
       "  <thead>\n",
       "    <tr style=\"text-align: right;\">\n",
       "      <th></th>\n",
       "      <th>start station latitude</th>\n",
       "      <th>start station longitude</th>\n",
       "      <th>age</th>\n",
       "      <th>borough</th>\n",
       "    </tr>\n",
       "  </thead>\n",
       "  <tbody>\n",
       "    <tr>\n",
       "      <th>0</th>\n",
       "      <td>40.750020</td>\n",
       "      <td>-73.969053</td>\n",
       "      <td>55.0</td>\n",
       "      <td>other</td>\n",
       "    </tr>\n",
       "    <tr>\n",
       "      <th>1</th>\n",
       "      <td>40.743174</td>\n",
       "      <td>-74.003664</td>\n",
       "      <td>52.0</td>\n",
       "      <td>other</td>\n",
       "    </tr>\n",
       "    <tr>\n",
       "      <th>2</th>\n",
       "      <td>40.740964</td>\n",
       "      <td>-73.986022</td>\n",
       "      <td>41.0</td>\n",
       "      <td>other</td>\n",
       "    </tr>\n",
       "    <tr>\n",
       "      <th>3</th>\n",
       "      <td>40.683178</td>\n",
       "      <td>-73.965964</td>\n",
       "      <td>46.0</td>\n",
       "      <td>other</td>\n",
       "    </tr>\n",
       "    <tr>\n",
       "      <th>4</th>\n",
       "      <td>40.745168</td>\n",
       "      <td>-73.986831</td>\n",
       "      <td>38.0</td>\n",
       "      <td>other</td>\n",
       "    </tr>\n",
       "  </tbody>\n",
       "</table>\n",
       "</div>"
      ],
      "text/plain": [
       "   start station latitude  start station longitude   age borough\n",
       "0               40.750020               -73.969053  55.0   other\n",
       "1               40.743174               -74.003664  52.0   other\n",
       "2               40.740964               -73.986022  41.0   other\n",
       "3               40.683178               -73.965964  46.0   other\n",
       "4               40.745168               -73.986831  38.0   other"
      ]
     },
     "execution_count": 176,
     "metadata": {},
     "output_type": "execute_result"
    }
   ],
   "source": [
    "whichBorough = pd.Series(boroughs)\n",
    "boroughData['borough'] = whichBorough.values\n",
    "boroughData.head()"
   ]
  },
  {
   "cell_type": "code",
   "execution_count": 177,
   "metadata": {},
   "outputs": [],
   "source": [
    "brooklynData = boroughData[boroughData['borough'] == 'brooklyn']\n",
    "brooklynMean = mean(brooklynData['age'])\n",
    "brooklynSize = brooklynData.count(axis=0, numeric_only=True).values\n",
    "\n",
    "\n",
    "manhattanData = boroughData[boroughData['borough'] == 'manhattan']\n",
    "manhattanMean = mean(manhattanData['age'])\n",
    "manhattanSize = manhattanData.count(axis=0, numeric_only=True).values"
   ]
  },
  {
   "cell_type": "code",
   "execution_count": 178,
   "metadata": {},
   "outputs": [
    {
     "name": "stdout",
     "output_type": "stream",
     "text": [
      "nan\n",
      "[0 0 0]\n",
      "nan\n",
      "[0 0 0]\n"
     ]
    }
   ],
   "source": [
    "print(brooklynMean)\n",
    "print(brooklynSize)\n",
    "\n",
    "\n",
    "print(manhattanMean)\n",
    "print(manhattanSize)"
   ]
  },
  {
   "cell_type": "markdown",
   "metadata": {},
   "source": [
    "### 2: Kolmogorov-Smirnov Test"
   ]
  },
  {
   "cell_type": "markdown",
   "metadata": {},
   "source": [
    "### 3: Pearson's Test for Correlation"
   ]
  },
  {
   "cell_type": "markdown",
   "metadata": {},
   "source": [
    "### 4: Spearman's Test for Correlation"
   ]
  }
 ],
 "metadata": {
  "anaconda-cloud": {},
  "kernelspec": {
   "display_name": "Python 2",
   "language": "python",
   "name": "python2"
  },
  "language_info": {
   "codemirror_mode": {
    "name": "ipython",
    "version": 2
   },
   "file_extension": ".py",
   "mimetype": "text/x-python",
   "name": "python",
   "nbconvert_exporter": "python",
   "pygments_lexer": "ipython2",
   "version": "2.7.12"
  },
  "latex_envs": {
   "LaTeX_envs_menu_present": true,
   "bibliofile": "biblio.bib",
   "cite_by": "apalike",
   "current_citInitial": 1,
   "eqLabelWithNumbers": true,
   "eqNumInitial": 1,
   "hotkeys": {
    "equation": "Ctrl-E",
    "itemize": "Ctrl-I"
   },
   "labels_anchors": false,
   "latex_user_defs": false,
   "report_style_numbering": false,
   "user_envs_cfg": false
  },
  "toc": {
   "colors": {
    "hover_highlight": "#DAA520",
    "running_highlight": "#FF0000",
    "selected_highlight": "#FFD700"
   },
   "moveMenuLeft": true,
   "nav_menu": {
    "height": "135px",
    "width": "251px"
   },
   "navigate_menu": true,
   "number_sections": true,
   "sideBar": true,
   "threshold": 4,
   "toc_cell": false,
   "toc_section_display": "block",
   "toc_window_display": false
  }
 },
 "nbformat": 4,
 "nbformat_minor": 1
}
