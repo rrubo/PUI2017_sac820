{
 "cells": [
  {
   "cell_type": "markdown",
   "metadata": {},
   "source": [
    "# HW5 Assignment 1\n",
    "### sac820@nyu.edu"
   ]
  },
  {
   "cell_type": "markdown",
   "metadata": {},
   "source": [
    "### [Part 1:](#part-1) Create a $\\chi^2$ distribution.\n",
    "Play around with creating a distribution using SciPy Stats. Create a function that can be called later that creates a $\\chi^2$ distribution with 20 degrees of freedom and a size of 1,000. Calculate the mean and standard deviation. Then plot a histogram to see whether or not it looks like a $\\chi^2$ distribution.\n",
    "\n",
    "### [Part 2:](#part-2) Create 100 $\\chi^2$ distributions of size 1000. \n",
    "Generate N samples from a distribution of your choice other than Gaussian with a chosen mean μ and standard deviation σ such that the distribution is N(μ, σ). Plot the distribution as well as one of the samples.\n",
    "\n",
    "### [Part 3:](#part-3) Calculate the mean for each of the 100 distributions. \n",
    "Calculate the mean of each sample (all samples should have the same size n).\n",
    "\n",
    "### [Part 4:](#part-4) Calculate the Z-statistic for each of the 100 distributions.\n",
    "Assess the validity of the Z-test: if the samples are drawn from the distribution you are testing, the z-values you calculate should follow a N(0,1) distribution (a Gaussian with mean 0 and standard deviation 1). Show that the distribution of z -statistics that you calculated (one for each sample) is indeed consistent with N(0,1). Plot the distribution of z-statistics.\n",
    "\n",
    "### [Part 5:](#part-5) Assess the goodness of fit of the Z-statistic distribution to a Gaussian.\n",
    "Fit the z-statistics with a Gaussian model and assess the goodness of fit with a simple test (AD or KS)."
   ]
  },
  {
   "cell_type": "markdown",
   "metadata": {},
   "source": [
    "#### Part 0: Setup Notebook <a class=\"anchor\" id=\"part-0\"></a>"
   ]
  },
  {
   "cell_type": "code",
   "execution_count": 1,
   "metadata": {},
   "outputs": [],
   "source": [
    "from __future__ import print_function, division\n",
    "\n",
    "import pandas as pd\n",
    "import numpy as np\n",
    "import scipy.stats\n",
    "import matplotlib\n",
    "import matplotlib.pyplot as plt\n",
    "#print(plt.style.available)\n",
    "plt.style.use('classic')\n",
    "\n",
    "%matplotlib inline\n",
    "\n",
    "#This allows me to use LaTeX in the plot labels and titles\n",
    "from matplotlib import rc\n",
    "rc('font',**{'family':'sans-serif','sans-serif':['Helvetica']})\n",
    "## for Palatino and other serif fonts use:\n",
    "#rc('font',**{'family':'serif','serif':['Palatino']})\n",
    "rc('text', usetex=True)"
   ]
  },
  {
   "cell_type": "markdown",
   "metadata": {},
   "source": [
    "#### Part 1: Create one sample from $\\chi^2$ Distribution to test it out. <a class=\"anchor\" id=\"part-1\"></a>"
   ]
  },
  {
   "cell_type": "markdown",
   "metadata": {},
   "source": [
    "Seed the pseudo-random number generator for reproducibility."
   ]
  },
  {
   "cell_type": "code",
   "execution_count": 2,
   "metadata": {},
   "outputs": [],
   "source": [
    "np.random.seed(888)"
   ]
  },
  {
   "cell_type": "markdown",
   "metadata": {},
   "source": [
    "Create a sample from a $\\chi^2$ distribution. "
   ]
  },
  {
   "cell_type": "code",
   "execution_count": 3,
   "metadata": {},
   "outputs": [],
   "source": [
    "def makeChiDistribution():\n",
    "    '''\n",
    "    Create a chi squared distribution with df of 20\n",
    "    and a sample size of 1000\n",
    "    '''\n",
    "    #You need to define degrees of freedom for chi squared distributions\n",
    "    degreeFreedom = 20\n",
    "\n",
    "    #Loc refers to location\n",
    "    #Scale refers to scale\n",
    "    #Size is shape of random variates\n",
    "    #The farther you place the location right on the number line, the more Gaussian it becomes\n",
    "    chiDistribution = scipy.stats.chi2.rvs(degreeFreedom, loc=1000, scale=100, size=1000)\n",
    "    return chiDistribution\n",
    "\n",
    "chiDistribution = makeChiDistribution()"
   ]
  },
  {
   "cell_type": "markdown",
   "metadata": {},
   "source": [
    "Calculate and print the mean and standard deviation."
   ]
  },
  {
   "cell_type": "code",
   "execution_count": 4,
   "metadata": {
    "scrolled": true
   },
   "outputs": [
    {
     "name": "stdout",
     "output_type": "stream",
     "text": [
      "Sample mean: 3005.955711\n",
      "Sample standard deviation: 623.611260\n",
      "Sample standard error: 0.623611\n"
     ]
    }
   ],
   "source": [
    "print('Sample mean: {a:5F}'.format(a = chiDistribution.mean()))\n",
    "print('Sample standard deviation: {a:5F}'.format(a = chiDistribution.std()))\n",
    "print('Sample standard error: {a:5F}'.format(a = (chiDistribution.std()) / 1000))"
   ]
  },
  {
   "cell_type": "markdown",
   "metadata": {},
   "source": [
    "Plot a histogram to see whether or not it looks like a $\\chi^2$ distribution."
   ]
  },
  {
   "cell_type": "code",
   "execution_count": 5,
   "metadata": {},
   "outputs": [
    {
     "data": {
      "image/png": "[encoded data removed]",
      "text/plain": [
       "<matplotlib.figure.Figure at 0x10cae26a0>"
      ]
     },
     "metadata": {},
     "output_type": "display_data"
    }
   ],
   "source": [
    "plt.figure\n",
    "plt.hist(chiDistribution, 100)\n",
    "plt.xlabel('Sample')\n",
    "plt.ylabel('Frequency')\n",
    "plt.title('Chi-Squared Distribution Histogram\\n\\small{Sample of 10,000 with 5 Degrees of Freedom}');"
   ]
  },
  {
   "cell_type": "markdown",
   "metadata": {},
   "source": [
    "<center>**Figure 1: As we push a $\\chi^2$ distribution rightward on the number line, the distribution begins to look more Gaussian.**<center>"
   ]
  },
  {
   "cell_type": "markdown",
   "metadata": {},
   "source": [
    "#### Part 2: Create 100 samples from Chi Squared Distribution <a class=\"anchor\" id=\"part-2\"></a>"
   ]
  },
  {
   "cell_type": "markdown",
   "metadata": {},
   "source": [
    "Define an empty numpy array of dimensions (100, 10000) to fill with the samples. We are making 100 sample distributions each with a sample size of 10,000."
   ]
  },
  {
   "cell_type": "code",
   "execution_count": 7,
   "metadata": {},
   "outputs": [],
   "source": [
    "chiDistributions = np.zeros((100, 1000))"
   ]
  },
  {
   "cell_type": "code",
   "execution_count": 8,
   "metadata": {},
   "outputs": [],
   "source": [
    "for i in range(0,100):\n",
    "    chiDistributions[i] = makeChiDistribution()"
   ]
  },
  {
   "cell_type": "code",
   "execution_count": 17,
   "metadata": {},
   "outputs": [
    {
     "data": {
      "image/png": "[encoded data removed]",
      "text/plain": [
       "<matplotlib.figure.Figure at 0x1101cb4e0>"
      ]
     },
     "metadata": {},
     "output_type": "display_data"
    }
   ],
   "source": [
    "plt.figure\n",
    "plt.hist(chiDistributions, 50)\n",
    "plt.xlabel('Sample')\n",
    "plt.ylabel('Frequency')\n",
    "plt.title('Chi-Squared Distribution Histogram\\n\\small{100 Samples of Size 1000 with 15 Degrees of Freedom}');"
   ]
  },
  {
   "cell_type": "code",
   "execution_count": 30,
   "metadata": {},
   "outputs": [
    {
     "data": {
      "image/png": "[encoded data removed]",
      "text/plain": [
       "<matplotlib.figure.Figure at 0x150299780>"
      ]
     },
     "metadata": {},
     "output_type": "display_data"
    }
   ],
   "source": [
    "plt.figure\n",
    "plt.hist(chiDistributions[5], 50)\n",
    "plt.xlabel('Sample')\n",
    "plt.ylabel('Frequency')\n",
    "plt.title('Chi-Squared Distribution Histogram\\n\\small{100 Samples of Size 1000 with 15 Degrees of Freedom}');"
   ]
  },
  {
   "cell_type": "markdown",
   "metadata": {},
   "source": [
    "#### Part 3: Calculate the mean for each sample <a class=\"anchor\" id=\"part-3\"></a>"
   ]
  },
  {
   "cell_type": "code",
   "execution_count": 10,
   "metadata": {},
   "outputs": [],
   "source": [
    "distributionMeans = np.zeros(100)\n",
    "\n",
    "for i in range(0,100):\n",
    "    distributionMeans[i] = chiDistributions[i].mean()"
   ]
  },
  {
   "cell_type": "code",
   "execution_count": 15,
   "metadata": {},
   "outputs": [
    {
     "data": {
      "image/png": "[encoded data removed]",
      "text/plain": [
       "<matplotlib.figure.Figure at 0x10ed61898>"
      ]
     },
     "metadata": {},
     "output_type": "display_data"
    }
   ],
   "source": [
    "plt.figure\n",
    "plt.hist(distributionMeans)\n",
    "plt.xlabel('Sample Mean')\n",
    "plt.ylabel('Frequency')\n",
    "plt.title('Chi-Squared Distribution Sample Means');"
   ]
  },
  {
   "cell_type": "code",
   "execution_count": 18,
   "metadata": {},
   "outputs": [],
   "source": [
    "#Calculate mean of all samples\n",
    "\n",
    "totalMean = chiDistributions.mean()\n",
    "totalSTD = chiDistributions.std()"
   ]
  },
  {
   "cell_type": "code",
   "execution_count": 19,
   "metadata": {},
   "outputs": [],
   "source": [
    "samplesMean = distributionMeans.mean()\n",
    "samplesSTD = distributionMeans.std()"
   ]
  },
  {
   "cell_type": "code",
   "execution_count": 20,
   "metadata": {},
   "outputs": [
    {
     "name": "stdout",
     "output_type": "stream",
     "text": [
      "3003.86638468 633.639803717\n"
     ]
    }
   ],
   "source": [
    "print(totalMean, totalSTD)"
   ]
  },
  {
   "cell_type": "code",
   "execution_count": 21,
   "metadata": {},
   "outputs": [
    {
     "name": "stdout",
     "output_type": "stream",
     "text": [
      "3003.86638468 18.7602648721\n"
     ]
    }
   ],
   "source": [
    "print(samplesMean, samplesSTD)"
   ]
  },
  {
   "cell_type": "markdown",
   "metadata": {},
   "source": [
    "#### Part 4: Assess the validity of the z-test <a class=\"anchor\" id=\"part-4\"></a>"
   ]
  },
  {
   "cell_type": "code",
   "execution_count": 23,
   "metadata": {},
   "outputs": [],
   "source": [
    "def calculateZ(distribution, mu, std):\n",
    "    z = ((mu - distribution.mean()) / (std) ) * np.sqrt(len(distribution))\n",
    "    return z"
   ]
  },
  {
   "cell_type": "code",
   "execution_count": 24,
   "metadata": {},
   "outputs": [],
   "source": [
    "mu = 3003.86638468\n",
    "std = 633.639803717\n",
    "\n",
    "zStatistics = np.zeros(100)\n",
    "\n",
    "for i in range(1,100):\n",
    "    zStatistics[i] = calculateZ(chiDistributions[i], mu, std)"
   ]
  },
  {
   "cell_type": "code",
   "execution_count": 32,
   "metadata": {},
   "outputs": [
    {
     "name": "stdout",
     "output_type": "stream",
     "text": [
      "Sample mean: 0.012307\n",
      "Sample standard deviation: 0.928054\n"
     ]
    }
   ],
   "source": [
    "print('Sample mean: {a:5F}'.format(a = zStatistics.mean()))\n",
    "print('Sample standard deviation: {a:5F}'.format(a = zStatistics.std()))"
   ]
  },
  {
   "cell_type": "code",
   "execution_count": 29,
   "metadata": {},
   "outputs": [
    {
     "data": {
      "image/png": "[encoded data removed]",
      "text/plain": [
       "<matplotlib.figure.Figure at 0x150a17c50>"
      ]
     },
     "metadata": {},
     "output_type": "display_data"
    }
   ],
   "source": [
    "plt.figure\n",
    "plt.hist(zStatistics)\n",
    "plt.xlabel('Sample Z Statistic')\n",
    "plt.ylabel('Frequency')\n",
    "plt.title('Distribution of Z Statistics');"
   ]
  },
  {
   "cell_type": "code",
   "execution_count": 36,
   "metadata": {},
   "outputs": [
    {
     "data": {
      "image/png": "[encoded data removed]",
      "text/plain": [
       "<matplotlib.figure.Figure at 0x150309080>"
      ]
     },
     "metadata": {},
     "output_type": "display_data"
    }
   ],
   "source": [
    "#Create a Gaussian distribution with which to compare\n",
    "gaussDistribution = np.random.normal(0, 1, 100)\n",
    "\n",
    "plt.figure\n",
    "plt.hist(zStatistics, alpha=0.5, label='Distribution of Z-scores')\n",
    "plt.hist(gaussDistribution, alpha=0.5, label='Gaussian Distribution')\n",
    "plt.legend()\n",
    "plt.xlabel('Standard Deviation')\n",
    "plt.ylabel('z Statistic')\n",
    "plt.title('Distributions of Z Statistics and Gaussian');"
   ]
  },
  {
   "cell_type": "markdown",
   "metadata": {},
   "source": [
    "#### Part 5: Fit z-statistic to a Gaussian model and assess goodness of fit <a class=\"anchor\" id=\"part-5\"></a>"
   ]
  },
  {
   "cell_type": "code",
   "execution_count": 31,
   "metadata": {},
   "outputs": [
    {
     "data": {
      "text/plain": [
       "KstestResult(statistic=0.07900632288593451, pvalue=0.54502868328874521)"
      ]
     },
     "execution_count": 31,
     "metadata": {},
     "output_type": "execute_result"
    }
   ],
   "source": [
    "scipy.stats.kstest(zStatistics, \"norm\")"
   ]
  },
  {
   "cell_type": "code",
   "execution_count": null,
   "metadata": {},
   "outputs": [],
   "source": []
  }
 ],
 "metadata": {
  "kernelspec": {
   "display_name": "PUI2017",
   "language": "python",
   "name": "pui2017"
  },
  "language_info": {
   "codemirror_mode": {
    "name": "ipython",
    "version": 3
   },
   "file_extension": ".py",
   "mimetype": "text/x-python",
   "name": "python",
   "nbconvert_exporter": "python",
   "pygments_lexer": "ipython3",
   "version": "3.6.3"
  }
 },
 "nbformat": 4,
 "nbformat_minor": 2
}
