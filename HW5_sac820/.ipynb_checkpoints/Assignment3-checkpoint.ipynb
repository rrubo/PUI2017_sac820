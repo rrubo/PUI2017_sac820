{
 "cells": [
  {
   "cell_type": "markdown",
   "metadata": {
    "toc": true
   },
   "source": [
    "<h1>Table of Contents<span class=\"tocSkip\"></span></h1>\n",
    "<div class=\"toc\" style=\"margin-top: 1em;\"><ul class=\"toc-item\"><li><span><a href=\"#Setup-the-Notebook\" data-toc-modified-id=\"Setup-the-Notebook-1\"><span class=\"toc-item-num\">1&nbsp;&nbsp;</span>Setup the Notebook</a></span></li><li><span><a href=\"#Getting-the-Data\" data-toc-modified-id=\"Getting-the-Data-2\"><span class=\"toc-item-num\">2&nbsp;&nbsp;</span>Getting the Data</a></span><ul class=\"toc-item\"><li><span><a href=\"#Download-shootings-data\" data-toc-modified-id=\"Download-shootings-data-2.1\"><span class=\"toc-item-num\">2.1&nbsp;&nbsp;</span>Download shootings data</a></span></li><li><span><a href=\"#Download-homicides-data\" data-toc-modified-id=\"Download-homicides-data-2.2\"><span class=\"toc-item-num\">2.2&nbsp;&nbsp;</span>Download homicides data</a></span></li><li><span><a href=\"#Download-population-data\" data-toc-modified-id=\"Download-population-data-2.3\"><span class=\"toc-item-num\">2.3&nbsp;&nbsp;</span>Download population data</a></span></li><li><span><a href=\"#Download-GDP-data\" data-toc-modified-id=\"Download-GDP-data-2.4\"><span class=\"toc-item-num\">2.4&nbsp;&nbsp;</span>Download GDP data</a></span></li><li><span><a href=\"#Merge-data\" data-toc-modified-id=\"Merge-data-2.5\"><span class=\"toc-item-num\">2.5&nbsp;&nbsp;</span>Merge data</a></span></li></ul></li><li><span><a href=\"#Exploring-the-Data\" data-toc-modified-id=\"Exploring-the-Data-3\"><span class=\"toc-item-num\">3&nbsp;&nbsp;</span>Exploring the Data</a></span><ul class=\"toc-item\"><li><span><a href=\"#Plot-mass-shootings-against-GDP-in-absolute-numbers-and-then-per-person.-Show-the-errorbars-(y-errors).\" data-toc-modified-id=\"Plot-mass-shootings-against-GDP-in-absolute-numbers-and-then-per-person.-Show-the-errorbars-(y-errors).-3.1\"><span class=\"toc-item-num\">3.1&nbsp;&nbsp;</span>Plot mass shootings against GDP in absolute numbers and then per person. Show the errorbars (y errors).</a></span></li><li><span><a href=\"#Plot-the-average-number-of-civilian-fire-arms-per-person\" data-toc-modified-id=\"Plot-the-average-number-of-civilian-fire-arms-per-person-3.2\"><span class=\"toc-item-num\">3.2&nbsp;&nbsp;</span>Plot the average number of civilian fire arms per person</a></span></li><li><span><a href=\"#Plot-the-average-number-of-homicides-by-firearms-per-person\" data-toc-modified-id=\"Plot-the-average-number-of-homicides-by-firearms-per-person-3.3\"><span class=\"toc-item-num\">3.3&nbsp;&nbsp;</span>Plot the average number of homicides by firearms per person</a></span></li><li><span><a href=\"#Plot-the-number-of-homicides-by-firearm-against-the-number-of-civilian-firearms-and-plot-the-US-in-a-different-color\" data-toc-modified-id=\"Plot-the-number-of-homicides-by-firearm-against-the-number-of-civilian-firearms-and-plot-the-US-in-a-different-color-3.4\"><span class=\"toc-item-num\">3.4&nbsp;&nbsp;</span>Plot the number of homicides by firearm against the number of civilian firearms and plot the US in a different color</a></span></li><li><span><a href=\"#Plot-the-number-of--mass-shootings-against-the-number-of-civilian-firearms-and-plot-the-US-in-a-different-color\" data-toc-modified-id=\"Plot-the-number-of--mass-shootings-against-the-number-of-civilian-firearms-and-plot-the-US-in-a-different-color-3.5\"><span class=\"toc-item-num\">3.5&nbsp;&nbsp;</span>Plot the number of  mass shootings against the number of civilian firearms and plot the US in a different color</a></span></li></ul></li><li><span><a href=\"#Modeling-the-Data\" data-toc-modified-id=\"Modeling-the-Data-4\"><span class=\"toc-item-num\">4&nbsp;&nbsp;</span>Modeling the Data</a></span><ul class=\"toc-item\"><li><span><a href=\"#Fit-a-line-to-the-number-of-mass-shootings-per-person-as-a-function-of-average-total-all-civilian-firearms-per-person\" data-toc-modified-id=\"Fit-a-line-to-the-number-of-mass-shootings-per-person-as-a-function-of-average-total-all-civilian-firearms-per-person-4.1\"><span class=\"toc-item-num\">4.1&nbsp;&nbsp;</span>Fit a line to the number of mass shootings per person as a function of average total all civilian firearms per person</a></span></li><li><span><a href=\"#Calculate-the-confidence-interval-by-hand-and-plot-them\" data-toc-modified-id=\"Calculate-the-confidence-interval-by-hand-and-plot-them-4.2\"><span class=\"toc-item-num\">4.2&nbsp;&nbsp;</span>Calculate the confidence interval by hand and plot them</a></span></li></ul></li><li><span><a href=\"#Use-the-statsmodels.graphics-package-to-plot-the-influence-plot\" data-toc-modified-id=\"Use-the-statsmodels.graphics-package-to-plot-the-influence-plot-5\"><span class=\"toc-item-num\">5&nbsp;&nbsp;</span>Use the statsmodels.graphics package to plot the influence plot</a></span></li><li><span><a href=\"#Calculate-from-scratch-the-standardized-residuals-and-the-H-leverage-for-the-WLS-model-and-discuss-if-there-are-any-differences\" data-toc-modified-id=\"Calculate-from-scratch-the-standardized-residuals-and-the-H-leverage-for-the-WLS-model-and-discuss-if-there-are-any-differences-6\"><span class=\"toc-item-num\">6&nbsp;&nbsp;</span>Calculate from scratch the standardized residuals and the H leverage for the WLS model and discuss if there are any differences</a></span></li><li><span><a href=\"#Discuss-your-findings\" data-toc-modified-id=\"Discuss-your-findings-7\"><span class=\"toc-item-num\">7&nbsp;&nbsp;</span>Discuss your findings</a></span></li></ul></div>"
   ]
  },
  {
   "cell_type": "markdown",
   "metadata": {},
   "source": [
    "# HW5 Assignment 3\n",
    "**NetID:** sac820@nyu.edu"
   ]
  },
  {
   "cell_type": "markdown",
   "metadata": {
    "heading_collapsed": true
   },
   "source": [
    "## Setup the Notebook"
   ]
  },
  {
   "cell_type": "code",
   "execution_count": 166,
   "metadata": {
    "hidden": true
   },
   "outputs": [
    {
     "name": "stdout",
     "output_type": "stream",
     "text": [
      "Populating the interactive namespace from numpy and matplotlib\n"
     ]
    }
   ],
   "source": [
    "import pandas as pd\n",
    "import numpy as np\n",
    "import pylab as pl\n",
    "import statsmodels.api as sm\n",
    "import seaborn as sns\n",
    "sns.set(color_codes=True)\n",
    "\n",
    "%pylab inline"
   ]
  },
  {
   "cell_type": "markdown",
   "metadata": {},
   "source": [
    "## Getting the Data"
   ]
  },
  {
   "cell_type": "markdown",
   "metadata": {},
   "source": [
    "### Download shootings data"
   ]
  },
  {
   "cell_type": "code",
   "execution_count": 5,
   "metadata": {},
   "outputs": [
    {
     "data": {
      "text/html": [
       "<div>\n",
       "<style>\n",
       "    .dataframe thead tr:only-child th {\n",
       "        text-align: right;\n",
       "    }\n",
       "\n",
       "    .dataframe thead th {\n",
       "        text-align: left;\n",
       "    }\n",
       "\n",
       "    .dataframe tbody tr th {\n",
       "        vertical-align: top;\n",
       "    }\n",
       "</style>\n",
       "<table border=\"1\" class=\"dataframe\">\n",
       "  <thead>\n",
       "    <tr style=\"text-align: right;\">\n",
       "      <th></th>\n",
       "      <th>Country</th>\n",
       "      <th>Guns/100 inhabitants</th>\n",
       "      <th>Number of mass shootings</th>\n",
       "    </tr>\n",
       "  </thead>\n",
       "  <tbody>\n",
       "    <tr>\n",
       "      <th>0</th>\n",
       "      <td>Australia</td>\n",
       "      <td>15.0</td>\n",
       "      <td>4</td>\n",
       "    </tr>\n",
       "    <tr>\n",
       "      <th>1</th>\n",
       "      <td>Austria</td>\n",
       "      <td>30.4</td>\n",
       "      <td>1</td>\n",
       "    </tr>\n",
       "    <tr>\n",
       "      <th>2</th>\n",
       "      <td>Beligium</td>\n",
       "      <td>17.2</td>\n",
       "      <td>2</td>\n",
       "    </tr>\n",
       "    <tr>\n",
       "      <th>3</th>\n",
       "      <td>Canada</td>\n",
       "      <td>30.8</td>\n",
       "      <td>4</td>\n",
       "    </tr>\n",
       "    <tr>\n",
       "      <th>4</th>\n",
       "      <td>Denmark</td>\n",
       "      <td>12.0</td>\n",
       "      <td>0</td>\n",
       "    </tr>\n",
       "  </tbody>\n",
       "</table>\n",
       "</div>"
      ],
      "text/plain": [
       "     Country  Guns/100 inhabitants  Number of mass shootings\n",
       "0  Australia                  15.0                         4\n",
       "1    Austria                  30.4                         1\n",
       "2   Beligium                  17.2                         2\n",
       "3     Canada                  30.8                         4\n",
       "4    Denmark                  12.0                         0"
      ]
     },
     "execution_count": 5,
     "metadata": {},
     "output_type": "execute_result"
    }
   ],
   "source": [
    "shootingsDataSource = 'https://raw.githubusercontent.com/seanandrewchen/PUI2017_sac820/master/HW5_sac820/gun_data.csv'\n",
    "shootingsData = pd.read_csv(shootingsDataSource)\n",
    "shootingsData.head()"
   ]
  },
  {
   "cell_type": "markdown",
   "metadata": {},
   "source": [
    "### Download homicides data"
   ]
  },
  {
   "cell_type": "code",
   "execution_count": 4,
   "metadata": {},
   "outputs": [
    {
     "data": {
      "text/html": [
       "<div>\n",
       "<style>\n",
       "    .dataframe thead tr:only-child th {\n",
       "        text-align: right;\n",
       "    }\n",
       "\n",
       "    .dataframe thead th {\n",
       "        text-align: left;\n",
       "    }\n",
       "\n",
       "    .dataframe tbody tr th {\n",
       "        vertical-align: top;\n",
       "    }\n",
       "</style>\n",
       "<table border=\"1\" class=\"dataframe\">\n",
       "  <thead>\n",
       "    <tr style=\"text-align: right;\">\n",
       "      <th></th>\n",
       "      <th>Country</th>\n",
       "      <th>Number of homicides by firearm</th>\n",
       "      <th>Average total all civilian firearms</th>\n",
       "    </tr>\n",
       "  </thead>\n",
       "  <tbody>\n",
       "    <tr>\n",
       "      <th>0</th>\n",
       "      <td>Albania</td>\n",
       "      <td>56.0</td>\n",
       "      <td>270000.0</td>\n",
       "    </tr>\n",
       "    <tr>\n",
       "      <th>1</th>\n",
       "      <td>Algeria</td>\n",
       "      <td>20.0</td>\n",
       "      <td>1900000.0</td>\n",
       "    </tr>\n",
       "    <tr>\n",
       "      <th>4</th>\n",
       "      <td>Argentina</td>\n",
       "      <td>1198.0</td>\n",
       "      <td>3950000.0</td>\n",
       "    </tr>\n",
       "    <tr>\n",
       "      <th>5</th>\n",
       "      <td>Armenia</td>\n",
       "      <td>9.0</td>\n",
       "      <td>380000.0</td>\n",
       "    </tr>\n",
       "    <tr>\n",
       "      <th>6</th>\n",
       "      <td>Australia</td>\n",
       "      <td>30.0</td>\n",
       "      <td>3050000.0</td>\n",
       "    </tr>\n",
       "  </tbody>\n",
       "</table>\n",
       "</div>"
      ],
      "text/plain": [
       "     Country  Number of homicides by firearm  \\\n",
       "0    Albania                            56.0   \n",
       "1    Algeria                            20.0   \n",
       "4  Argentina                          1198.0   \n",
       "5    Armenia                             9.0   \n",
       "6  Australia                            30.0   \n",
       "\n",
       "   Average total all civilian firearms  \n",
       "0                             270000.0  \n",
       "1                            1900000.0  \n",
       "4                            3950000.0  \n",
       "5                             380000.0  \n",
       "6                            3050000.0  "
      ]
     },
     "execution_count": 4,
     "metadata": {},
     "output_type": "execute_result"
    }
   ],
   "source": [
    "homicidesDataSource = 'https://raw.githubusercontent.com/seanandrewchen/PUI2017_sac820/master/HW5_sac820/original_data.csv'\n",
    "homicidesData = pd.read_csv(homicidesDataSource)\n",
    "homicidesData = homicidesData.dropna()\n",
    "homicidesData = homicidesData.drop(['Source', 'ISO code', '% of homicides by firearm', 'Homicide by firearm rate per 100,000 pop', 'Rank by rate of ownership', 'Average firearms per 100 people'], axis=1)\n",
    "homicidesData.head()"
   ]
  },
  {
   "cell_type": "markdown",
   "metadata": {},
   "source": [
    "### Download population data"
   ]
  },
  {
   "cell_type": "code",
   "execution_count": 2,
   "metadata": {},
   "outputs": [
    {
     "data": {
      "text/html": [
       "<div>\n",
       "<style>\n",
       "    .dataframe thead tr:only-child th {\n",
       "        text-align: right;\n",
       "    }\n",
       "\n",
       "    .dataframe thead th {\n",
       "        text-align: left;\n",
       "    }\n",
       "\n",
       "    .dataframe tbody tr th {\n",
       "        vertical-align: top;\n",
       "    }\n",
       "</style>\n",
       "<table border=\"1\" class=\"dataframe\">\n",
       "  <thead>\n",
       "    <tr style=\"text-align: right;\">\n",
       "      <th></th>\n",
       "      <th>Country</th>\n",
       "      <th>Population</th>\n",
       "    </tr>\n",
       "  </thead>\n",
       "  <tbody>\n",
       "    <tr>\n",
       "      <th>0</th>\n",
       "      <td>Afghanistan</td>\n",
       "      <td>33736494</td>\n",
       "    </tr>\n",
       "    <tr>\n",
       "      <th>1</th>\n",
       "      <td>Albania</td>\n",
       "      <td>2880703</td>\n",
       "    </tr>\n",
       "    <tr>\n",
       "      <th>2</th>\n",
       "      <td>Algeria</td>\n",
       "      <td>39871528</td>\n",
       "    </tr>\n",
       "    <tr>\n",
       "      <th>3</th>\n",
       "      <td>American Samoa</td>\n",
       "      <td>55537</td>\n",
       "    </tr>\n",
       "    <tr>\n",
       "      <th>4</th>\n",
       "      <td>Andorra</td>\n",
       "      <td>78014</td>\n",
       "    </tr>\n",
       "  </tbody>\n",
       "</table>\n",
       "</div>"
      ],
      "text/plain": [
       "          Country Population\n",
       "0     Afghanistan   33736494\n",
       "1         Albania    2880703\n",
       "2         Algeria   39871528\n",
       "3  American Samoa      55537\n",
       "4         Andorra      78014"
      ]
     },
     "execution_count": 2,
     "metadata": {},
     "output_type": "execute_result"
    }
   ],
   "source": [
    "popDataSource = 'https://raw.githubusercontent.com/seanandrewchen/PUI2017_sac820/master/HW5_sac820/population.csv'\n",
    "popData = pd.read_csv(popDataSource, encoding='latin-1')\n",
    "popData = popData.dropna()\n",
    "popData.head()"
   ]
  },
  {
   "cell_type": "markdown",
   "metadata": {},
   "source": [
    "### Download GDP data"
   ]
  },
  {
   "cell_type": "code",
   "execution_count": 3,
   "metadata": {},
   "outputs": [
    {
     "data": {
      "text/html": [
       "<div>\n",
       "<style>\n",
       "    .dataframe thead tr:only-child th {\n",
       "        text-align: right;\n",
       "    }\n",
       "\n",
       "    .dataframe thead th {\n",
       "        text-align: left;\n",
       "    }\n",
       "\n",
       "    .dataframe tbody tr th {\n",
       "        vertical-align: top;\n",
       "    }\n",
       "</style>\n",
       "<table border=\"1\" class=\"dataframe\">\n",
       "  <thead>\n",
       "    <tr style=\"text-align: right;\">\n",
       "      <th></th>\n",
       "      <th>Country</th>\n",
       "      <th>GDP</th>\n",
       "    </tr>\n",
       "  </thead>\n",
       "  <tbody>\n",
       "    <tr>\n",
       "      <th>0</th>\n",
       "      <td>Afghanistan</td>\n",
       "      <td>19702986340.50</td>\n",
       "    </tr>\n",
       "    <tr>\n",
       "      <th>1</th>\n",
       "      <td>Albania</td>\n",
       "      <td>11390365293.80</td>\n",
       "    </tr>\n",
       "    <tr>\n",
       "      <th>2</th>\n",
       "      <td>Algeria</td>\n",
       "      <td>164779467703.30</td>\n",
       "    </tr>\n",
       "    <tr>\n",
       "      <th>3</th>\n",
       "      <td>American Samoa</td>\n",
       "      <td>641000000.00</td>\n",
       "    </tr>\n",
       "    <tr>\n",
       "      <th>4</th>\n",
       "      <td>Andorra</td>\n",
       "      <td>..</td>\n",
       "    </tr>\n",
       "  </tbody>\n",
       "</table>\n",
       "</div>"
      ],
      "text/plain": [
       "          Country              GDP\n",
       "0     Afghanistan   19702986340.50\n",
       "1         Albania   11390365293.80\n",
       "2         Algeria  164779467703.30\n",
       "3  American Samoa     641000000.00\n",
       "4         Andorra               .."
      ]
     },
     "execution_count": 3,
     "metadata": {},
     "output_type": "execute_result"
    }
   ],
   "source": [
    "gdpDataSource = 'https://raw.githubusercontent.com/seanandrewchen/PUI2017_sac820/master/HW5_sac820/gdp.csv'\n",
    "gdpData = pd.read_csv(gdpDataSource, encoding='latin-1')\n",
    "gdpData = gdpData.dropna()\n",
    "gdpData.head()"
   ]
  },
  {
   "cell_type": "markdown",
   "metadata": {},
   "source": [
    "### Merge data"
   ]
  },
  {
   "cell_type": "code",
   "execution_count": 6,
   "metadata": {},
   "outputs": [],
   "source": [
    "demographicData = gdpData.merge(popData, right_on='Country', left_on='Country')\n",
    "gunData = homicidesData.merge(shootingsData, right_on='Country', left_on='Country')\n",
    "df = gunData.merge(demographicData, right_on='Country', left_on='Country')\n",
    "df[['GDP','Population']] = df[['GDP','Population']].astype(float)"
   ]
  },
  {
   "cell_type": "code",
   "execution_count": 18,
   "metadata": {},
   "outputs": [
    {
     "data": {
      "text/html": [
       "<div>\n",
       "<style>\n",
       "    .dataframe thead tr:only-child th {\n",
       "        text-align: right;\n",
       "    }\n",
       "\n",
       "    .dataframe thead th {\n",
       "        text-align: left;\n",
       "    }\n",
       "\n",
       "    .dataframe tbody tr th {\n",
       "        vertical-align: top;\n",
       "    }\n",
       "</style>\n",
       "<table border=\"1\" class=\"dataframe\">\n",
       "  <thead>\n",
       "    <tr style=\"text-align: right;\">\n",
       "      <th></th>\n",
       "      <th>Country</th>\n",
       "      <th>Number of homicides by firearm</th>\n",
       "      <th>Average total all civilian firearms</th>\n",
       "      <th>Guns/100 inhabitants</th>\n",
       "      <th>Number of mass shootings</th>\n",
       "      <th>GDP</th>\n",
       "      <th>Population</th>\n",
       "    </tr>\n",
       "  </thead>\n",
       "  <tbody>\n",
       "    <tr>\n",
       "      <th>0</th>\n",
       "      <td>Australia</td>\n",
       "      <td>30.0</td>\n",
       "      <td>3050000.0</td>\n",
       "      <td>15.0</td>\n",
       "      <td>4</td>\n",
       "      <td>1.345383e+12</td>\n",
       "      <td>23789338.0</td>\n",
       "    </tr>\n",
       "    <tr>\n",
       "      <th>1</th>\n",
       "      <td>Austria</td>\n",
       "      <td>18.0</td>\n",
       "      <td>2500000.0</td>\n",
       "      <td>30.4</td>\n",
       "      <td>1</td>\n",
       "      <td>3.769674e+11</td>\n",
       "      <td>8633169.0</td>\n",
       "    </tr>\n",
       "    <tr>\n",
       "      <th>2</th>\n",
       "      <td>Canada</td>\n",
       "      <td>173.0</td>\n",
       "      <td>9950000.0</td>\n",
       "      <td>30.8</td>\n",
       "      <td>4</td>\n",
       "      <td>1.552808e+12</td>\n",
       "      <td>35848610.0</td>\n",
       "    </tr>\n",
       "    <tr>\n",
       "      <th>3</th>\n",
       "      <td>Denmark</td>\n",
       "      <td>15.0</td>\n",
       "      <td>650000.0</td>\n",
       "      <td>12.0</td>\n",
       "      <td>0</td>\n",
       "      <td>3.013078e+11</td>\n",
       "      <td>5683483.0</td>\n",
       "    </tr>\n",
       "    <tr>\n",
       "      <th>4</th>\n",
       "      <td>Finland</td>\n",
       "      <td>24.0</td>\n",
       "      <td>2400000.0</td>\n",
       "      <td>45.3</td>\n",
       "      <td>2</td>\n",
       "      <td>2.323617e+11</td>\n",
       "      <td>5479531.0</td>\n",
       "    </tr>\n",
       "    <tr>\n",
       "      <th>5</th>\n",
       "      <td>France</td>\n",
       "      <td>35.0</td>\n",
       "      <td>19000000.0</td>\n",
       "      <td>31.2</td>\n",
       "      <td>6</td>\n",
       "      <td>2.433562e+12</td>\n",
       "      <td>66624068.0</td>\n",
       "    </tr>\n",
       "    <tr>\n",
       "      <th>6</th>\n",
       "      <td>Germany</td>\n",
       "      <td>158.0</td>\n",
       "      <td>25000000.0</td>\n",
       "      <td>30.3</td>\n",
       "      <td>7</td>\n",
       "      <td>3.363600e+12</td>\n",
       "      <td>81686611.0</td>\n",
       "    </tr>\n",
       "    <tr>\n",
       "      <th>7</th>\n",
       "      <td>Greece</td>\n",
       "      <td>29.0</td>\n",
       "      <td>2500000.0</td>\n",
       "      <td>22.5</td>\n",
       "      <td>0</td>\n",
       "      <td>1.948602e+11</td>\n",
       "      <td>10820883.0</td>\n",
       "    </tr>\n",
       "    <tr>\n",
       "      <th>8</th>\n",
       "      <td>Hungary</td>\n",
       "      <td>7.0</td>\n",
       "      <td>560000.0</td>\n",
       "      <td>5.5</td>\n",
       "      <td>0</td>\n",
       "      <td>1.217152e+11</td>\n",
       "      <td>9843028.0</td>\n",
       "    </tr>\n",
       "    <tr>\n",
       "      <th>9</th>\n",
       "      <td>Iceland</td>\n",
       "      <td>0.0</td>\n",
       "      <td>90000.0</td>\n",
       "      <td>30.3</td>\n",
       "      <td>0</td>\n",
       "      <td>1.678371e+10</td>\n",
       "      <td>330815.0</td>\n",
       "    </tr>\n",
       "    <tr>\n",
       "      <th>10</th>\n",
       "      <td>Ireland</td>\n",
       "      <td>21.0</td>\n",
       "      <td>360000.0</td>\n",
       "      <td>8.6</td>\n",
       "      <td>0</td>\n",
       "      <td>2.837160e+11</td>\n",
       "      <td>4676835.0</td>\n",
       "    </tr>\n",
       "    <tr>\n",
       "      <th>11</th>\n",
       "      <td>Italy</td>\n",
       "      <td>417.0</td>\n",
       "      <td>7000000.0</td>\n",
       "      <td>11.9</td>\n",
       "      <td>0</td>\n",
       "      <td>1.824902e+12</td>\n",
       "      <td>60730582.0</td>\n",
       "    </tr>\n",
       "    <tr>\n",
       "      <th>12</th>\n",
       "      <td>Japan</td>\n",
       "      <td>11.0</td>\n",
       "      <td>710000.0</td>\n",
       "      <td>0.6</td>\n",
       "      <td>0</td>\n",
       "      <td>4.383076e+12</td>\n",
       "      <td>127141000.0</td>\n",
       "    </tr>\n",
       "    <tr>\n",
       "      <th>13</th>\n",
       "      <td>Luxembourg</td>\n",
       "      <td>3.0</td>\n",
       "      <td>70000.0</td>\n",
       "      <td>15.3</td>\n",
       "      <td>0</td>\n",
       "      <td>5.804824e+10</td>\n",
       "      <td>569604.0</td>\n",
       "    </tr>\n",
       "    <tr>\n",
       "      <th>14</th>\n",
       "      <td>New Zealand</td>\n",
       "      <td>7.0</td>\n",
       "      <td>925000.0</td>\n",
       "      <td>22.6</td>\n",
       "      <td>3</td>\n",
       "      <td>1.755644e+11</td>\n",
       "      <td>4595700.0</td>\n",
       "    </tr>\n",
       "    <tr>\n",
       "      <th>15</th>\n",
       "      <td>Norway</td>\n",
       "      <td>2.0</td>\n",
       "      <td>1400000.0</td>\n",
       "      <td>31.3</td>\n",
       "      <td>1</td>\n",
       "      <td>3.865784e+11</td>\n",
       "      <td>5188607.0</td>\n",
       "    </tr>\n",
       "    <tr>\n",
       "      <th>16</th>\n",
       "      <td>Poland</td>\n",
       "      <td>35.0</td>\n",
       "      <td>510000.0</td>\n",
       "      <td>1.3</td>\n",
       "      <td>0</td>\n",
       "      <td>4.773368e+11</td>\n",
       "      <td>37986412.0</td>\n",
       "    </tr>\n",
       "    <tr>\n",
       "      <th>17</th>\n",
       "      <td>Portugal</td>\n",
       "      <td>44.0</td>\n",
       "      <td>900000.0</td>\n",
       "      <td>8.5</td>\n",
       "      <td>1</td>\n",
       "      <td>1.990823e+11</td>\n",
       "      <td>10358076.0</td>\n",
       "    </tr>\n",
       "    <tr>\n",
       "      <th>18</th>\n",
       "      <td>Spain</td>\n",
       "      <td>90.0</td>\n",
       "      <td>4500000.0</td>\n",
       "      <td>10.4</td>\n",
       "      <td>1</td>\n",
       "      <td>1.192955e+12</td>\n",
       "      <td>46447697.0</td>\n",
       "    </tr>\n",
       "    <tr>\n",
       "      <th>19</th>\n",
       "      <td>Sweden</td>\n",
       "      <td>37.0</td>\n",
       "      <td>2800000.0</td>\n",
       "      <td>31.6</td>\n",
       "      <td>2</td>\n",
       "      <td>4.956944e+11</td>\n",
       "      <td>9799186.0</td>\n",
       "    </tr>\n",
       "    <tr>\n",
       "      <th>20</th>\n",
       "      <td>Switzerland</td>\n",
       "      <td>57.0</td>\n",
       "      <td>3400000.0</td>\n",
       "      <td>45.7</td>\n",
       "      <td>2</td>\n",
       "      <td>6.707899e+11</td>\n",
       "      <td>8282396.0</td>\n",
       "    </tr>\n",
       "    <tr>\n",
       "      <th>21</th>\n",
       "      <td>United States</td>\n",
       "      <td>9146.0</td>\n",
       "      <td>270000000.0</td>\n",
       "      <td>88.8</td>\n",
       "      <td>78</td>\n",
       "      <td>1.803665e+13</td>\n",
       "      <td>320896618.0</td>\n",
       "    </tr>\n",
       "  </tbody>\n",
       "</table>\n",
       "</div>"
      ],
      "text/plain": [
       "          Country  Number of homicides by firearm  \\\n",
       "0       Australia                            30.0   \n",
       "1         Austria                            18.0   \n",
       "2          Canada                           173.0   \n",
       "3         Denmark                            15.0   \n",
       "4         Finland                            24.0   \n",
       "5          France                            35.0   \n",
       "6         Germany                           158.0   \n",
       "7          Greece                            29.0   \n",
       "8         Hungary                             7.0   \n",
       "9         Iceland                             0.0   \n",
       "10        Ireland                            21.0   \n",
       "11          Italy                           417.0   \n",
       "12          Japan                            11.0   \n",
       "13     Luxembourg                             3.0   \n",
       "14    New Zealand                             7.0   \n",
       "15         Norway                             2.0   \n",
       "16         Poland                            35.0   \n",
       "17       Portugal                            44.0   \n",
       "18          Spain                            90.0   \n",
       "19         Sweden                            37.0   \n",
       "20    Switzerland                            57.0   \n",
       "21  United States                          9146.0   \n",
       "\n",
       "    Average total all civilian firearms  Guns/100 inhabitants  \\\n",
       "0                             3050000.0                  15.0   \n",
       "1                             2500000.0                  30.4   \n",
       "2                             9950000.0                  30.8   \n",
       "3                              650000.0                  12.0   \n",
       "4                             2400000.0                  45.3   \n",
       "5                            19000000.0                  31.2   \n",
       "6                            25000000.0                  30.3   \n",
       "7                             2500000.0                  22.5   \n",
       "8                              560000.0                   5.5   \n",
       "9                               90000.0                  30.3   \n",
       "10                             360000.0                   8.6   \n",
       "11                            7000000.0                  11.9   \n",
       "12                             710000.0                   0.6   \n",
       "13                              70000.0                  15.3   \n",
       "14                             925000.0                  22.6   \n",
       "15                            1400000.0                  31.3   \n",
       "16                             510000.0                   1.3   \n",
       "17                             900000.0                   8.5   \n",
       "18                            4500000.0                  10.4   \n",
       "19                            2800000.0                  31.6   \n",
       "20                            3400000.0                  45.7   \n",
       "21                          270000000.0                  88.8   \n",
       "\n",
       "    Number of mass shootings           GDP   Population  \n",
       "0                          4  1.345383e+12   23789338.0  \n",
       "1                          1  3.769674e+11    8633169.0  \n",
       "2                          4  1.552808e+12   35848610.0  \n",
       "3                          0  3.013078e+11    5683483.0  \n",
       "4                          2  2.323617e+11    5479531.0  \n",
       "5                          6  2.433562e+12   66624068.0  \n",
       "6                          7  3.363600e+12   81686611.0  \n",
       "7                          0  1.948602e+11   10820883.0  \n",
       "8                          0  1.217152e+11    9843028.0  \n",
       "9                          0  1.678371e+10     330815.0  \n",
       "10                         0  2.837160e+11    4676835.0  \n",
       "11                         0  1.824902e+12   60730582.0  \n",
       "12                         0  4.383076e+12  127141000.0  \n",
       "13                         0  5.804824e+10     569604.0  \n",
       "14                         3  1.755644e+11    4595700.0  \n",
       "15                         1  3.865784e+11    5188607.0  \n",
       "16                         0  4.773368e+11   37986412.0  \n",
       "17                         1  1.990823e+11   10358076.0  \n",
       "18                         1  1.192955e+12   46447697.0  \n",
       "19                         2  4.956944e+11    9799186.0  \n",
       "20                         2  6.707899e+11    8282396.0  \n",
       "21                        78  1.803665e+13  320896618.0  "
      ]
     },
     "execution_count": 18,
     "metadata": {},
     "output_type": "execute_result"
    }
   ],
   "source": [
    "df"
   ]
  },
  {
   "cell_type": "markdown",
   "metadata": {},
   "source": [
    "## Exploring the Data\n"
   ]
  },
  {
   "cell_type": "markdown",
   "metadata": {},
   "source": [
    "### Plot mass shootings against GDP in absolute numbers and then per person. Show the errorbars (y errors)."
   ]
  },
  {
   "cell_type": "code",
   "execution_count": 84,
   "metadata": {},
   "outputs": [
    {
     "data": {
      "image/png": "[encoded data removed]",
      "text/plain": [
       "<matplotlib.figure.Figure at 0x10b12a4a8>"
      ]
     },
     "metadata": {},
     "output_type": "display_data"
    }
   ],
   "source": [
    "fig = pl.figure(figsize=(15,5))\n",
    "fig.suptitle('Mass Shootings against GDP')\n",
    "\n",
    "ax1 = fig.add_subplot(121)\n",
    "ax1.scatter(df['GDP'] / 1e9, df['Number of mass shootings'])\n",
    "ax1.errorbar(df['GDP'] / 1e9, df['Number of mass shootings'], \n",
    "            yerr = np.sqrt(df['Number of mass shootings'] * 1.0), fmt = '.')\n",
    "ax1.set_xlabel(\"GDP (in billions)\")\n",
    "ax1.set_ylabel(\"Number of mass shootings\")\n",
    "ax1.set_ylim()\n",
    "\n",
    "ax2 = fig.add_subplot(122)\n",
    "ax2.scatter(df['GDP'] / 1e9, df['Number of mass shootings'] / df['Population'] * 1e6)\n",
    "ax2.errorbar(df['GDP'] / 1e9, df['Number of mass shootings'] / df['Population'] * 1e6, \n",
    "            yerr = np.sqrt(df['Number of mass shootings'] * 1.0) / df['Population'] * 1e6, fmt = '.')\n",
    "ax2.set_xlabel(\"GDP (in billions)\")\n",
    "ax2.set_ylabel(\"Number of mass shooting per million people\")\n",
    "ax2.set_ylim()\n",
    "pl.show()"
   ]
  },
  {
   "cell_type": "markdown",
   "metadata": {},
   "source": [
    "Number of mass shooting vs GDP. Errors represent Poisson statistics. The datapoint to the top right of the plot is the USA which has the highest GDP and highest number of mass shootings."
   ]
  },
  {
   "cell_type": "markdown",
   "metadata": {},
   "source": [
    "### Plot the average number of civilian fire arms per person"
   ]
  },
  {
   "cell_type": "code",
   "execution_count": 94,
   "metadata": {
    "ExecuteTime": {
     "end_time": "2017-10-12T07:17:52.778486",
     "start_time": "2017-10-12T07:17:52.768299"
    },
    "run_control": {
     "frozen": false,
     "read_only": false
    }
   },
   "outputs": [
    {
     "data": {
      "image/png": "[encoded data removed]",
      "text/plain": [
       "<matplotlib.figure.Figure at 0x110b53fd0>"
      ]
     },
     "metadata": {},
     "output_type": "display_data"
    }
   ],
   "source": [
    "fig = pl.figure(figsize=(15,5))\n",
    "fig.suptitle('Number of civilian firearms per person')\n",
    "\n",
    "ax1 = fig.add_subplot(121)\n",
    "ax1.scatter(df['GDP'] / 1e9, df['Average total all civilian firearms'] / df['Population'])\n",
    "ax1.set_xlabel(\"GDP (in billions)\")\n",
    "ax1.set_ylabel(\"Firearms per person\")\n",
    "ax1.set_ylim()\n",
    "\n",
    "ax2 = fig.add_subplot(122)\n",
    "ax2.scatter(df['GDP'] / 1e9, df['Average total all civilian firearms'] / df['Population'])\n",
    "ax2.errorbar(df['GDP'] / 1e9, df['Average total all civilian firearms'] / df['Population'], \n",
    "            yerr = np.sqrt(df['Average total all civilian firearms'] / df['Population']) * 1.0, fmt = '.')\n",
    "ax2.set_xlabel(\"GDP (in billions)\")\n",
    "ax2.set_ylabel(\"Firearms per person\")\n",
    "ax2.set_ylim()\n",
    "pl.show()"
   ]
  },
  {
   "cell_type": "markdown",
   "metadata": {},
   "source": [
    "### Plot the average number of homicides by firearms per person"
   ]
  },
  {
   "cell_type": "code",
   "execution_count": 129,
   "metadata": {},
   "outputs": [
    {
     "data": {
      "image/png": "[encoded data removed]",
      "text/plain": [
       "<matplotlib.figure.Figure at 0x111db01d0>"
      ]
     },
     "metadata": {},
     "output_type": "display_data"
    }
   ],
   "source": [
    "fig = pl.figure(figsize=(10,5)) \n",
    "ax = fig.add_subplot(111)\n",
    "ax.hist(df['Number of homicides by firearm'] / df['Population'] * 1e6)\n",
    "ax.set_xlabel('Homicides by firearm per million people');\n",
    "ax.set_title('Number of firearm homicides per million people')\n",
    "pl.show()"
   ]
  },
  {
   "cell_type": "code",
   "execution_count": 136,
   "metadata": {},
   "outputs": [
    {
     "data": {
      "image/png": "[encoded data removed]",
      "text/plain": [
       "<matplotlib.figure.Figure at 0x1110d9080>"
      ]
     },
     "metadata": {},
     "output_type": "display_data"
    }
   ],
   "source": [
    "fig = pl.figure(figsize=(10,5)) \n",
    "ax = fig.add_subplot(111)\n",
    "ax.scatter(df['GDP'] / 1e9, df['Number of homicides by firearm'] / df['Population'] * 1e6)\n",
    "ax.errorbar(df['GDP'] / 1e9, df['Number of homicides by firearm'] / df['Population'] * 1e6, \n",
    "            yerr = np.sqrt(df['Number of homicides by firearm'] / df['Population'] * 1e6) * 1.0, fmt = '.')\n",
    "ax.set_xlabel(\"GDP (in billions)\")\n",
    "ax.set_ylabel(\"Homicides by firearm per million people\")\n",
    "ax.set_title('Homicides by firearm per million people against GDP (in billions)')\n",
    "ax.set_ylim()\n",
    "pl.show()"
   ]
  },
  {
   "cell_type": "markdown",
   "metadata": {},
   "source": [
    "### Plot the number of homicides by firearm against the number of civilian firearms and plot the US in a different color"
   ]
  },
  {
   "cell_type": "code",
   "execution_count": 157,
   "metadata": {},
   "outputs": [
    {
     "data": {
      "image/png": "[encoded data removed]",
      "text/plain": [
       "<matplotlib.figure.Figure at 0x1110caa20>"
      ]
     },
     "metadata": {},
     "output_type": "display_data"
    }
   ],
   "source": [
    "color_map = list(range(len(df['Country'])))\n",
    "color_map = ['red' for elem in color_map]\n",
    "color_map[21] = 'blue'\n",
    "\n",
    "fig = pl.figure(figsize=(15,5))\n",
    "fig.suptitle('Number of firearm homicides against number of civilian firearms')\n",
    "\n",
    "ax1 = fig.add_subplot(121)\n",
    "ax1.scatter(df['Average total all civilian firearms'] / 1e6, df['Number of homicides by firearm'],\n",
    "           c=color_map)\n",
    "ax1.set_xlabel(\"Number of civilian firearms in the thousands\")\n",
    "ax1.set_ylabel(\"Number of firearm homicides\")\n",
    "ax1.set_ylim()\n",
    "\n",
    "ax2 = fig.add_subplot(122)\n",
    "ax1.scatter(df['Average total all civilian firearms'] / 1e6, df['Number of homicides by firearm'],\n",
    "           c=color_map)\n",
    "ax2.errorbar(df['Average total all civilian firearms'] / 1e6, df['Number of homicides by firearm'], \n",
    "            yerr = np.sqrt(df['Number of homicides by firearm'] * 1.0), fmt = '.')\n",
    "ax2.set_xlabel(\"Number of civilian firearms in the thousands\")\n",
    "ax2.set_ylabel(\"Number of firearm homicides\")\n",
    "ax2.set_ylim()\n",
    "pl.show()"
   ]
  },
  {
   "cell_type": "markdown",
   "metadata": {},
   "source": [
    "### Plot the number of  mass shootings against the number of civilian firearms and plot the US in a different color"
   ]
  },
  {
   "cell_type": "code",
   "execution_count": 158,
   "metadata": {},
   "outputs": [
    {
     "data": {
      "image/png": "[encoded data removed]",
      "text/plain": [
       "<matplotlib.figure.Figure at 0x1105b77f0>"
      ]
     },
     "metadata": {},
     "output_type": "display_data"
    }
   ],
   "source": [
    "color_map = list(range(len(df['Country'])))\n",
    "color_map = ['red' for elem in color_map]\n",
    "color_map[21] = 'blue'\n",
    "\n",
    "fig = pl.figure(figsize=(15,5))\n",
    "fig.suptitle('Number of firearm homicides against number of mass shootings')\n",
    "\n",
    "ax1 = fig.add_subplot(121)\n",
    "ax1.scatter(df['Average total all civilian firearms'] / 1e6, df['Number of mass shootings'],\n",
    "           c=color_map)\n",
    "ax1.set_xlabel(\"Number of civilian firearms in the thousands\")\n",
    "ax1.set_ylabel(\"Number of mass shootings\")\n",
    "ax1.set_ylim()\n",
    "\n",
    "ax2 = fig.add_subplot(122)\n",
    "ax1.scatter(df['Average total all civilian firearms'] / 1e6, df['Number of mass shootings'],\n",
    "           c=color_map)\n",
    "ax2.errorbar(df['Average total all civilian firearms'] / 1e6, df['Number of mass shootings'], \n",
    "            yerr = np.sqrt(df['Number of mass shootings'] * 1.0), fmt = '.')\n",
    "ax2.set_xlabel(\"Number of civilian firearms in the thousands\")\n",
    "ax2.set_ylabel(\"Number of mass shootings\")\n",
    "ax2.set_ylim()\n",
    "pl.show()"
   ]
  },
  {
   "cell_type": "markdown",
   "metadata": {},
   "source": [
    "## Modeling the Data"
   ]
  },
  {
   "cell_type": "markdown",
   "metadata": {},
   "source": [
    "### Fit a line to the number of mass shootings per person as a function of average total all civilian firearms per person"
   ]
  },
  {
   "cell_type": "markdown",
   "metadata": {},
   "source": [
    "Before you do it it is a good idea to make sure that both quantities are roughly of the same order of magnitude (unity). (You can simply divide by the order of magnitude of the mean of the sample to obtain this). Use\n",
    "\n",
    "    - statsmodels OLS\n",
    "    - statsmodels WLS\n",
    "    - seaborn\n",
    "    - choose one of\n",
    "        -- creating a function that calculates the residuals and minimizing that function\n",
    "        -- analytical solution http://mathworld.wolfram.com/LeastSquaresFitting.html\n",
    "        -- numpy.polyfit() - https://docs.scipy.org/doc/numpy-1.13.0/reference/generated/numpy.polyfit.html\n",
    "    \n",
    "\n",
    "WLS: that is the weighted square fit. The statsmodel package WLS function allows you to take the uncertainties of each data point into account when you fit your model. It takes the parameter weights, which is the inverse of your errors:\n",
    "weights = 1.0/df.yerror\n",
    "Notice that \n",
    "    a - sqrt(0) = 0\n",
    "    b - 1/0 = infinity\n",
    "    c - you cannot have weight that are infinity in your fit. Please come up with a solution and justify it.\n",
    "\n",
    "Use the seaborn python package built in regression function  to plot the regression confidence intervals. \n",
    "\n",
    "import seaborn  as sns\n",
    "sns.regplot(x=\"x\", y=\"y\", data=df);"
   ]
  },
  {
   "cell_type": "code",
   "execution_count": 174,
   "metadata": {
    "ExecuteTime": {
     "end_time": "2017-10-12T16:35:12.472517",
     "start_time": "2017-10-12T16:35:11.345016"
    }
   },
   "outputs": [],
   "source": [
    "linearModel_0 = sm.OLS(endog=df['Number of mass shootings'] / df['Population'] * 1e6,\n",
    "                     exog=sm.add_constant(df['Average total all civilian firearms'] / df['Population'] * 1e3)).fit()"
   ]
  },
  {
   "cell_type": "code",
   "execution_count": 178,
   "metadata": {},
   "outputs": [
    {
     "data": {
      "image/png": "[encoded data removed]",
      "text/plain": [
       "<matplotlib.figure.Figure at 0x110f8b198>"
      ]
     },
     "metadata": {},
     "output_type": "display_data"
    }
   ],
   "source": [
    "fittedValues_0 = linearModel_0.fittedvalues\n",
    "\n",
    "fig = pl.figure(figsize=(15,5)) \n",
    "ax = fig.add_subplot(111)\n",
    "\n",
    "pl.plot(df['Average total all civilian firearms'] / df['Population'] * 1e3, df['Number of mass shootings'] / df['Population'] * 1e6, '.')\n",
    "pl.plot(df['Average total all civilian firearms'] / df['Population'] * 1e3, fittedValues_0, '-', label='OLS Fit')\n",
    "ax.set_xlabel(\"Firearms per a thousand people\")\n",
    "ax.set_ylabel(\"Number of mass shootings per a thousand people\")\n",
    "pl.legend()\n",
    "pl.show()"
   ]
  },
  {
   "cell_type": "code",
   "execution_count": 179,
   "metadata": {},
   "outputs": [],
   "source": [
    "yerror = np.abs(np.sqrt(df['Number of mass shootings'] / df['Population'] * 1e6))"
   ]
  },
  {
   "cell_type": "code",
   "execution_count": 181,
   "metadata": {},
   "outputs": [
    {
     "data": {
      "image/png": "[encoded data removed]",
      "text/plain": [
       "<matplotlib.figure.Figure at 0x114ba4e10>"
      ]
     },
     "metadata": {},
     "output_type": "display_data"
    },
    {
     "name": "stdout",
     "output_type": "stream",
     "text": [
      "Figure showing both WLS and OLS regression using Statsmodels\n"
     ]
    }
   ],
   "source": [
    "# Setting up WLS\n",
    "\n",
    "\n",
    "# Handle 0.0 results by mapping them to 1.0 (\"neutral weight\")\n",
    "yerror2 = np.where(yerror==0.0, 1.0, yerror)\n",
    "\n",
    "linearModel_1 = sm.WLS(endog=df['Number of mass shootings'] / df['Population'] * 1e6, \n",
    "                     exog=sm.add_constant(df['Average total all civilian firearms'] / df['Population'] * 1e3), weights = 1 / yerror2).fit()\n",
    "\n",
    "fittedValues_1 = linearModel_1.fittedvalues\n",
    "\n",
    "#Plot OLS and WLS\n",
    "fig = pl.figure(figsize=(5,5)) \n",
    "ax = fig.add_subplot(111)\n",
    "\n",
    "pl.plot(df['Average total all civilian firearms'] / df['Population'] * 1e3, df['Number of mass shootings'] / df['Population'] * 1e6, '.')\n",
    "pl.errorbar(df['Average total all civilian firearms'] / df['Population'] * 1e3, df['Number of mass shootings'] / df['Population'] * 1e6, \n",
    "            yerr = np.sqrt(df['Number of mass shootings'] / df['Population'] * 1e6), fmt = '.', label = 'y', c = 'steelblue')\n",
    "pl.plot(df['Average total all civilian firearms'] / df['Population'] * 1e3, fittedValues_0, '-', label='OLS fit')\n",
    "pl.plot(df['Average total all civilian firearms'] / df['Population'] * 1e3,fittedValues_1, '-', label='WLS fit')\n",
    "ax.set_xlabel(\"Number of firearms per a thousand people\")\n",
    "ax.set_ylabel(\"Number of mass shootings per a thousand people\")\n",
    "pl.legend()\n",
    "\n",
    "pl.show()\n",
    "print(\"Figure showing both WLS and OLS regression using Statsmodels\")"
   ]
  },
  {
   "cell_type": "code",
   "execution_count": 183,
   "metadata": {},
   "outputs": [
    {
     "data": {
      "image/png": "[encoded data removed]",
      "text/plain": [
       "<matplotlib.figure.Figure at 0x1136100f0>"
      ]
     },
     "metadata": {},
     "output_type": "display_data"
    },
    {
     "name": "stdout",
     "output_type": "stream",
     "text": [
      "Figure shows Seaborn regression analysis of the variables\n"
     ]
    }
   ],
   "source": [
    "# Seaborn setup and plot\n",
    "import seaborn as sns; sns.set(color_codes=True)\n",
    "\n",
    "df['MS per person'] = df['Number of mass shootings'] / df['Population'] * 1e6\n",
    "df['FA per person'] = df['Average total all civilian firearms'] / df['Population'] * 1e3\n",
    "\n",
    "fig = pl.figure(figsize=(5,5)) \n",
    "ax = fig.add_subplot(111)\n",
    "\n",
    "ax = sns.regplot(x=\"FA per person\", y=\"MS per person\", data=df)\n",
    "ax.set_xlabel(\"Number of firearms per a thousand people\")\n",
    "ax.set_ylabel(\"Number of mass shootings per a thousand people\")\n",
    "\n",
    "pl.show()\n",
    "print(\"Figure shows Seaborn regression analysis of the variables\")"
   ]
  },
  {
   "cell_type": "code",
   "execution_count": 184,
   "metadata": {},
   "outputs": [
    {
     "data": {
      "image/png": "[encoded data removed]",
      "text/plain": [
       "<matplotlib.figure.Figure at 0x112b71a90>"
      ]
     },
     "metadata": {},
     "output_type": "display_data"
    },
    {
     "name": "stdout",
     "output_type": "stream",
     "text": [
      "Figure with numpy.polyfit regression line\n"
     ]
    }
   ],
   "source": [
    "# Setting up numpy.polyfit based on example from https://github.com/fedhere/PUI2017_fb55/blob/master/Lab5_fb55/genderIncomeBias.ipynb\n",
    "m, b = np.polyfit(df['Average total all civilian firearms'] / df['Population'] * 1e3, df['Number of mass shootings'] / df['Population'] * 1e6, 1) \n",
    "\n",
    "fig = pl.figure(figsize=(5,5)) \n",
    "ax = fig.add_subplot(111)\n",
    "\n",
    "pl.plot(df['Average total all civilian firearms'] / df['Population'] * 1e3, df['Number of mass shootings'] / df['Population'] * 1e6, '.')\n",
    "pl.plot(df['Average total all civilian firearms'] / df['Population'] * 1e3, df['Average total all civilian firearms'] / df['Population'] * 1e3 * m + b, '-.', \n",
    "        label='numpy polyfit')\n",
    "ax.set_xlabel(\"Number of firearms per a thousand people\")\n",
    "ax.set_ylabel(\"Number of mass shootings per a thousand people\")\n",
    "pl.legend()\n",
    "\n",
    "pl.show()\n",
    "print(\"Figure with numpy.polyfit regression line\")"
   ]
  },
  {
   "cell_type": "markdown",
   "metadata": {
    "ExecuteTime": {
     "end_time": "2017-10-12T16:21:08.019663",
     "start_time": "2017-10-12T16:21:08.010876"
    },
    "heading_collapsed": true
   },
   "source": [
    "### Calculate the confidence interval by hand and plot them \n",
    "you can use pylab.fill_between(x, yfit - ci, yfit + ci, alpha=0.5)"
   ]
  },
  {
   "cell_type": "markdown",
   "metadata": {
    "hidden": true
   },
   "source": [
    "**Confidence intervals: **\n",
    "there are three type of intervals in a linear regression, plot any one of them all three if you want - how do they compare to the seaborn plot?:\n",
    "\n",
    "1) Confidence intervals for the parameters slope and intercept\n",
    "\n",
    "2) Confidence interval for the average y value\n",
    "\n",
    "3) Prediction interval for a single y value"
   ]
  },
  {
   "cell_type": "markdown",
   "metadata": {
    "hidden": true
   },
   "source": [
    "1) __confidence interval of the  model parameters slope and intercept:__\n",
    "define sigma as the sum of the residuals over the square root of number n of observations. \n",
    "\n",
    "sigma: σ̂ =sqrt(Sum((Yoberved_i−Ypredicted_i)^2)/n)\n",
    "\n",
    "where the sum is over all observations\n",
    "\n",
    "Define t_alpha/2,n-2 the t statistics at (1-alpha/2) for a t distribution with n-2 degrees of freedom (you can calculate it with scipy\n",
    "tp = sp.stats.t.ppf(0.975, n-2)\n",
    "\n"
   ]
  },
  {
   "cell_type": "code",
   "execution_count": null,
   "metadata": {
    "ExecuteTime": {
     "end_time": "2017-10-12T15:42:26.836222",
     "start_time": "2017-10-12T15:42:26.819963"
    },
    "hidden": true
   },
   "outputs": [],
   "source": [
    "from IPython.display import Image\n",
    "Image(filename=\"../Lab5_fb55/confidence_intervals_regression.png\")"
   ]
  },
  {
   "cell_type": "code",
   "execution_count": null,
   "metadata": {
    "ExecuteTime": {
     "end_time": "2017-10-12T15:54:20.748008",
     "start_time": "2017-10-12T15:54:20.736381"
    },
    "hidden": true
   },
   "outputs": [],
   "source": [
    "from IPython.display import Image\n",
    "Image(filename=\"../Lab5_fb55/confidence_intervals_regression2.png\")"
   ]
  },
  {
   "cell_type": "markdown",
   "metadata": {
    "hidden": true
   },
   "source": [
    "[proof](https://onlinecourses.science.psu.edu/stat414/node/280)"
   ]
  },
  {
   "cell_type": "markdown",
   "metadata": {
    "hidden": true
   },
   "source": [
    "2) **A confidence interval for E(y | x) , the expected (average) value of y for a given x_**\n",
    "\n",
    "define s: residual standard error sy = sqrt(Sum((y_observed-y_predicted)^2)/(n-2))\n",
    "\n",
    "(note: n-2 is the degrees of freedom of the problem: observations - number of parameters - 1)\n",
    "\n",
    "the confidence interval for a given y(x*) is: \n",
    "\n",
    "y_predicted(x*) +/- t_(alpha/2)(n-2) * sy * sqrt( 1/n + (x* - mean(x)^2) / sum((x* - mean(x)^2)"
   ]
  },
  {
   "cell_type": "code",
   "execution_count": null,
   "metadata": {
    "ExecuteTime": {
     "end_time": "2017-10-12T16:09:14.173143",
     "start_time": "2017-10-12T16:09:14.161088"
    },
    "hidden": true
   },
   "outputs": [],
   "source": [
    "from IPython.display import Image\n",
    "Image(filename=\"../Lab5_fb55/ciY.png\")"
   ]
  },
  {
   "cell_type": "markdown",
   "metadata": {
    "hidden": true
   },
   "source": [
    "3) **Confidence intervals for average y (predicted) values**\n",
    "\n",
    "y_predicted(x*) +/- t_(n-2) * sy * sqrt( 1 + 1/n + (x* - mean(x)^2) / sum((x* - mean(x)^2)\n",
    "\n",
    "very similar, but note the +1 in the square root"
   ]
  },
  {
   "cell_type": "code",
   "execution_count": null,
   "metadata": {
    "ExecuteTime": {
     "end_time": "2017-10-12T16:08:46.077157",
     "start_time": "2017-10-12T16:08:46.067407"
    },
    "hidden": true
   },
   "outputs": [],
   "source": [
    "from IPython.display import Image\n",
    "Image(filename=\"../Lab5_fb55/ciYaverage.png\")"
   ]
  },
  {
   "cell_type": "code",
   "execution_count": null,
   "metadata": {
    "ExecuteTime": {
     "end_time": "2017-10-12T16:36:39.238967",
     "start_time": "2017-10-12T16:36:38.688004"
    },
    "hidden": true
   },
   "outputs": [],
   "source": [
    "pl.figure()\n",
    "import seaborn  as sns\n",
    "sns.regplot(x=\"x\", y=\"y\", data=df_);\n",
    "\n",
    "pl.ylabel(\"Mass shootings\")\n",
    "pl.xlabel(\"Fire arms\");"
   ]
  },
  {
   "cell_type": "markdown",
   "metadata": {
    "heading_collapsed": true
   },
   "source": [
    "## Use the statsmodels.graphics package to plot the influence plot\n",
    "Read the package documentation to learn how to read this plot and extract the countries with the highest influence\n",
    "\n",
    "This is the topic of this week's assigned reading, so make sure you do the reading before you do this step. It will help you interpret the plot."
   ]
  },
  {
   "cell_type": "code",
   "execution_count": 185,
   "metadata": {
    "ExecuteTime": {
     "end_time": "2017-10-11T07:46:21.766085",
     "start_time": "2017-10-11T07:46:21.412498"
    },
    "hidden": true
   },
   "outputs": [
    {
     "data": {
      "image/png": "[encoded data removed]",
      "text/plain": [
       "<matplotlib.figure.Figure at 0x1135f3f28>"
      ]
     },
     "metadata": {},
     "output_type": "display_data"
    }
   ],
   "source": [
    "sm.graphics.influence_plot(linearModel_0, alpha  = 0.05, criterion=\"cooks\");"
   ]
  },
  {
   "cell_type": "markdown",
   "metadata": {},
   "source": [
    "## Calculate from scratch the standardized residuals and the H leverage for the WLS model and discuss if there are any differences"
   ]
  },
  {
   "cell_type": "markdown",
   "metadata": {
    "heading_collapsed": true
   },
   "source": [
    "## Discuss your findings"
   ]
  },
  {
   "cell_type": "code",
   "execution_count": null,
   "metadata": {
    "hidden": true
   },
   "outputs": [],
   "source": []
  }
 ],
 "metadata": {
  "anaconda-cloud": {},
  "kernelspec": {
   "display_name": "Python 3",
   "language": "python",
   "name": "python3"
  },
  "language_info": {
   "codemirror_mode": {
    "name": "ipython",
    "version": 3
   },
   "file_extension": ".py",
   "mimetype": "text/x-python",
   "name": "python",
   "nbconvert_exporter": "python",
   "pygments_lexer": "ipython3",
   "version": "3.6.3"
  },
  "latex_envs": {
   "LaTeX_envs_menu_present": true,
   "bibliofile": "biblio.bib",
   "cite_by": "apalike",
   "current_citInitial": 1,
   "eqLabelWithNumbers": true,
   "eqNumInitial": 1,
   "hotkeys": {
    "equation": "Ctrl-E",
    "itemize": "Ctrl-I"
   },
   "labels_anchors": false,
   "latex_user_defs": false,
   "report_style_numbering": false,
   "user_envs_cfg": false
  },
  "toc": {
   "nav_menu": {
    "height": "13px",
    "width": "251px"
   },
   "number_sections": true,
   "sideBar": true,
   "skip_h1_title": true,
   "toc_cell": true,
   "toc_position": {
    "height": "729px",
    "left": "0px",
    "right": "1170px",
    "top": "52px",
    "width": "218px"
   },
   "toc_section_display": "block",
   "toc_window_display": true
  }
 },
 "nbformat": 4,
 "nbformat_minor": 1
}
