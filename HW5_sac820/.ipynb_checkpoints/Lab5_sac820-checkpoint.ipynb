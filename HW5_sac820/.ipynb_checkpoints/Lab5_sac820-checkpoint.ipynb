{
 "cells": [
  {
   "cell_type": "code",
   "execution_count": 1,
   "metadata": {},
   "outputs": [
    {
     "name": "stdout",
     "output_type": "stream",
     "text": [
      "Populating the interactive namespace from numpy and matplotlib\n"
     ]
    }
   ],
   "source": [
    "import numpy as np\n",
    "import pylab as pl\n",
    "import pandas as pd\n",
    "import scipy.stats as st\n",
    "%pylab inline"
   ]
  },
  {
   "cell_type": "code",
   "execution_count": 29,
   "metadata": {},
   "outputs": [],
   "source": [
    "normalDistribution = st.norm.rvs(loc=100, scale=10, size=1000)"
   ]
  },
  {
   "cell_type": "code",
   "execution_count": 30,
   "metadata": {},
   "outputs": [
    {
     "data": {
      "image/png": "[encoded data removed]",
      "text/plain": [
       "<matplotlib.figure.Figure at 0x7fcadca9a8d0>"
      ]
     },
     "metadata": {},
     "output_type": "display_data"
    }
   ],
   "source": [
    "pl.hist(normalDistribution);"
   ]
  },
  {
   "cell_type": "code",
   "execution_count": 47,
   "metadata": {},
   "outputs": [],
   "source": [
    "def calculateZ(norm, mu=100, std=10):\n",
    "    z = ((mu - norm.mean()) / (std) ) * np.sqrt(len(norm))\n",
    "    return z"
   ]
  },
  {
   "cell_type": "code",
   "execution_count": 48,
   "metadata": {},
   "outputs": [
    {
     "data": {
      "text/plain": [
       "1.452984798910804"
      ]
     },
     "execution_count": 48,
     "metadata": {},
     "output_type": "execute_result"
    }
   ],
   "source": [
    "calculateZ(normalDistribution)"
   ]
  },
  {
   "cell_type": "code",
   "execution_count": 52,
   "metadata": {},
   "outputs": [],
   "source": [
    "np.random.seed(10)\n",
    "\n",
    "z = np.zeros(1000)\n",
    "\n",
    "for i in range(0,1000):\n",
    "    z[i] = (calculateZ(st.norm.rvs(loc=100, scale=10, size=1000)))"
   ]
  },
  {
   "cell_type": "code",
   "execution_count": 53,
   "metadata": {},
   "outputs": [
    {
     "data": {
      "image/png": "[encoded data removed]",
      "text/plain": [
       "<matplotlib.figure.Figure at 0x7fcadc7edd90>"
      ]
     },
     "metadata": {},
     "output_type": "display_data"
    }
   ],
   "source": [
    "pl.hist(z);"
   ]
  },
  {
   "cell_type": "code",
   "execution_count": 54,
   "metadata": {},
   "outputs": [
    {
     "data": {
      "text/plain": [
       "KstestResult(statistic=0.015500100716127896, pvalue=0.96989408286333612)"
      ]
     },
     "execution_count": 54,
     "metadata": {},
     "output_type": "execute_result"
    }
   ],
   "source": [
    "st.kstest(z, 'norm')"
   ]
  },
  {
   "cell_type": "code",
   "execution_count": 28,
   "metadata": {},
   "outputs": [
    {
     "name": "stdout",
     "output_type": "stream",
     "text": [
      "Populating the interactive namespace from numpy and matplotlib\n"
     ]
    }
   ],
   "source": [
    "import numpy as np\n",
    "import pylab as plt\n",
    "%pylab inline"
   ]
  },
  {
   "cell_type": "code",
   "execution_count": 29,
   "metadata": {},
   "outputs": [],
   "source": [
    "x = np.random.uniform(-50, 50, 75)"
   ]
  },
  {
   "cell_type": "code",
   "execution_count": 32,
   "metadata": {},
   "outputs": [],
   "source": [
    "def line(x, a=1, b=0):\n",
    "    \"\"\"Defines the line\"\"\"\n",
    "    y = (a * x) + b\n",
    "    return y + (np.random.randn(len(y)) * np.abs(y.mean()))\n",
    "    \n",
    "y = line(x)"
   ]
  },
  {
   "cell_type": "code",
   "execution_count": 33,
   "metadata": {},
   "outputs": [
    {
     "data": {
      "image/png": "[encoded data removed]",
      "text/plain": [
       "<matplotlib.figure.Figure at 0x7feef330de50>"
      ]
     },
     "metadata": {},
     "output_type": "display_data"
    }
   ],
   "source": [
    "plt.plot(x, y, '.');"
   ]
  },
  {
   "cell_type": "code",
   "execution_count": 34,
   "metadata": {},
   "outputs": [],
   "source": [
    "import statsmodels.api as sm"
   ]
  },
  {
   "cell_type": "code",
   "execution_count": 35,
   "metadata": {},
   "outputs": [],
   "source": [
    "linearModel = sm.OLS(endog=y, exog=x).fit()"
   ]
  },
  {
   "cell_type": "code",
   "execution_count": 46,
   "metadata": {},
   "outputs": [
    {
     "name": "stdout",
     "output_type": "stream",
     "text": [
      "[[  1.         -19.92493513]\n",
      " [  1.         -47.53017433]\n",
      " [  1.          18.16234432]\n",
      " [  1.         -36.76657786]\n",
      " [  1.         -18.83887423]\n",
      " [  1.          10.19930264]\n",
      " [  1.         -28.33547629]\n",
      " [  1.          47.62294694]\n",
      " [  1.          38.59522236]\n",
      " [  1.         -33.40352749]\n",
      " [  1.         -46.38476808]\n",
      " [  1.          13.52428613]\n",
      " [  1.         -44.66511685]\n",
      " [  1.           3.66959302]\n",
      " [  1.           5.72991098]\n",
      " [  1.         -37.49764165]\n",
      " [  1.          18.25567883]\n",
      " [  1.           7.67921464]\n",
      " [  1.           3.08788839]\n",
      " [  1.          30.97086245]\n",
      " [  1.         -19.30370968]\n",
      " [  1.          -3.72057553]\n",
      " [  1.         -45.86687555]\n",
      " [  1.          17.86918291]\n",
      " [  1.           5.74395744]\n",
      " [  1.         -21.91645111]\n",
      " [  1.         -16.39096598]\n",
      " [  1.           7.62599364]\n",
      " [  1.          -2.36858782]\n",
      " [  1.          36.53515963]\n",
      " [  1.          43.72339684]\n",
      " [  1.          46.63095822]\n",
      " [  1.          -1.17999439]\n",
      " [  1.         -17.30176105]\n",
      " [  1.          49.21963705]\n",
      " [  1.          11.25382393]\n",
      " [  1.         -47.24122618]\n",
      " [  1.         -14.85558159]\n",
      " [  1.         -33.22463472]\n",
      " [  1.         -33.51060718]\n",
      " [  1.          12.61274308]\n",
      " [  1.         -35.66995497]\n",
      " [  1.         -42.67512323]\n",
      " [  1.         -18.59896831]\n",
      " [  1.          48.95041166]\n",
      " [  1.         -30.10334764]\n",
      " [  1.          22.89999867]\n",
      " [  1.          45.24645445]\n",
      " [  1.           8.17638867]\n",
      " [  1.          49.40697121]\n",
      " [  1.          30.31944654]\n",
      " [  1.         -35.76582577]\n",
      " [  1.         -36.30213139]\n",
      " [  1.         -10.92901785]\n",
      " [  1.         -44.70770236]\n",
      " [  1.          -1.78604145]\n",
      " [  1.          13.26623815]\n",
      " [  1.         -12.47913173]\n",
      " [  1.         -47.46146536]\n",
      " [  1.         -34.64503118]\n",
      " [  1.          43.1746892 ]\n",
      " [  1.         -16.7920633 ]\n",
      " [  1.          42.64842779]\n",
      " [  1.          11.51587361]\n",
      " [  1.         -35.61909589]\n",
      " [  1.          27.19348508]\n",
      " [  1.         -27.74944392]\n",
      " [  1.          25.32981286]\n",
      " [  1.          35.38109232]\n",
      " [  1.          25.01627161]\n",
      " [  1.           5.00069918]\n",
      " [  1.          38.2785639 ]\n",
      " [  1.         -31.82815618]\n",
      " [  1.         -37.17401741]\n",
      " [  1.         -49.84906034]]\n"
     ]
    }
   ],
   "source": [
    "print(sm.add_constant(x))"
   ]
  },
  {
   "cell_type": "code",
   "execution_count": 42,
   "metadata": {},
   "outputs": [],
   "source": [
    "linearModel_0 = sm.OLS(endog=y, exog=sm.add_constant(x)).fit()"
   ]
  },
  {
   "cell_type": "code",
   "execution_count": 36,
   "metadata": {},
   "outputs": [
    {
     "data": {
      "text/plain": [
       "array([-20.22405526, -48.24371401,  18.43500381, -37.31853065,\n",
       "       -19.12169003,  10.35241816, -28.76085842,  48.33787935,\n",
       "        39.17462741, -33.90499298, -47.08111252,  13.72731747,\n",
       "       -45.33564528,   3.72468224,   5.81593042, -38.06056942,\n",
       "        18.5297395 ,   7.79449771,   3.13424485,  31.43580793,\n",
       "       -19.59350376,  -3.77643011, -46.55544521,  18.13744137,\n",
       "         5.83018774, -22.24546857, -16.63703292,   7.74047773,\n",
       "        -2.40414589,  37.08363829,  44.37978784,  47.33099855,\n",
       "        -1.19770888, -17.56150116,  49.95853954,  11.42277029,\n",
       "       -47.95042807, -15.0785988 , -33.72341461, -34.01368019,\n",
       "        12.80209001, -36.20544487, -43.31577717, -18.87818255,\n",
       "        49.68527244, -30.55526967,  23.2437815 ,  45.92571013,\n",
       "         8.29913549,  50.14868602,  30.77461272, -36.30275492,\n",
       "       -36.84711174, -11.09308811, -45.3788701 ,  -1.81285414,\n",
       "        13.46539558, -12.66647284, -48.17397356, -35.16513456,\n",
       "        43.82284281, -17.04415165,  43.28868097,  11.68875395,\n",
       "       -36.15382227,  27.60172323, -28.16602832,  25.71007292,\n",
       "        35.91224571,  25.39182467,   5.07577144,  38.85321515,\n",
       "       -32.30597165, -37.73208682, -50.59741195])"
      ]
     },
     "execution_count": 36,
     "metadata": {},
     "output_type": "execute_result"
    }
   ],
   "source": [
    "linearModel.fittedvalues"
   ]
  },
  {
   "cell_type": "code",
   "execution_count": 39,
   "metadata": {
    "scrolled": true
   },
   "outputs": [
    {
     "data": {
      "image/png": "[encoded data removed]",
      "text/plain": [
       "<matplotlib.figure.Figure at 0x7feef31d66d0>"
      ]
     },
     "metadata": {},
     "output_type": "display_data"
    }
   ],
   "source": [
    "plt.plot(x, y, '.')\n",
    "plt.plot(x, linearModel.fittedvalues);"
   ]
  },
  {
   "cell_type": "code",
   "execution_count": 44,
   "metadata": {},
   "outputs": [
    {
     "data": {
      "image/png": "[encoded data removed]",
      "text/plain": [
       "<matplotlib.figure.Figure at 0x7feef306b9d0>"
      ]
     },
     "metadata": {},
     "output_type": "display_data"
    }
   ],
   "source": [
    "plt.plot(x, y, '.')\n",
    "plt.plot(x, linearModel_0.fittedvalues);"
   ]
  },
  {
   "cell_type": "code",
   "execution_count": 40,
   "metadata": {},
   "outputs": [
    {
     "data": {
      "text/html": [
       "<table class=\"simpletable\">\n",
       "<caption>OLS Regression Results</caption>\n",
       "<tr>\n",
       "  <th>Dep. Variable:</th>            <td>y</td>        <th>  R-squared:         </th> <td>   0.992</td>\n",
       "</tr>\n",
       "<tr>\n",
       "  <th>Model:</th>                   <td>OLS</td>       <th>  Adj. R-squared:    </th> <td>   0.992</td>\n",
       "</tr>\n",
       "<tr>\n",
       "  <th>Method:</th>             <td>Least Squares</td>  <th>  F-statistic:       </th> <td>   9485.</td>\n",
       "</tr>\n",
       "<tr>\n",
       "  <th>Date:</th>             <td>Thu, 12 Oct 2017</td> <th>  Prob (F-statistic):</th> <td>7.14e-80</td>\n",
       "</tr>\n",
       "<tr>\n",
       "  <th>Time:</th>                 <td>20:11:21</td>     <th>  Log-Likelihood:    </th> <td> -182.73</td>\n",
       "</tr>\n",
       "<tr>\n",
       "  <th>No. Observations:</th>      <td>    75</td>      <th>  AIC:               </th> <td>   367.5</td>\n",
       "</tr>\n",
       "<tr>\n",
       "  <th>Df Residuals:</th>          <td>    74</td>      <th>  BIC:               </th> <td>   369.8</td>\n",
       "</tr>\n",
       "<tr>\n",
       "  <th>Df Model:</th>              <td>     1</td>      <th>                     </th>     <td> </td>   \n",
       "</tr>\n",
       "<tr>\n",
       "  <th>Covariance Type:</th>      <td>nonrobust</td>    <th>                     </th>     <td> </td>   \n",
       "</tr>\n",
       "</table>\n",
       "<table class=\"simpletable\">\n",
       "<tr>\n",
       "   <td></td>     <th>coef</th>     <th>std err</th>      <th>t</th>      <th>P>|t|</th>  <th>[0.025</th>    <th>0.975]</th>  \n",
       "</tr>\n",
       "<tr>\n",
       "  <th>x1</th> <td>    1.0150</td> <td>    0.010</td> <td>   97.392</td> <td> 0.000</td> <td>    0.994</td> <td>    1.036</td>\n",
       "</tr>\n",
       "</table>\n",
       "<table class=\"simpletable\">\n",
       "<tr>\n",
       "  <th>Omnibus:</th>       <td> 0.015</td> <th>  Durbin-Watson:     </th> <td>   2.127</td>\n",
       "</tr>\n",
       "<tr>\n",
       "  <th>Prob(Omnibus):</th> <td> 0.993</td> <th>  Jarque-Bera (JB):  </th> <td>   0.117</td>\n",
       "</tr>\n",
       "<tr>\n",
       "  <th>Skew:</th>          <td>-0.031</td> <th>  Prob(JB):          </th> <td>   0.943</td>\n",
       "</tr>\n",
       "<tr>\n",
       "  <th>Kurtosis:</th>      <td> 2.817</td> <th>  Cond. No.          </th> <td>    1.00</td>\n",
       "</tr>\n",
       "</table>"
      ],
      "text/plain": [
       "<class 'statsmodels.iolib.summary.Summary'>\n",
       "\"\"\"\n",
       "                            OLS Regression Results                            \n",
       "==============================================================================\n",
       "Dep. Variable:                      y   R-squared:                       0.992\n",
       "Model:                            OLS   Adj. R-squared:                  0.992\n",
       "Method:                 Least Squares   F-statistic:                     9485.\n",
       "Date:                Thu, 12 Oct 2017   Prob (F-statistic):           7.14e-80\n",
       "Time:                        20:11:21   Log-Likelihood:                -182.73\n",
       "No. Observations:                  75   AIC:                             367.5\n",
       "Df Residuals:                      74   BIC:                             369.8\n",
       "Df Model:                           1                                         \n",
       "Covariance Type:            nonrobust                                         \n",
       "==============================================================================\n",
       "                 coef    std err          t      P>|t|      [0.025      0.975]\n",
       "------------------------------------------------------------------------------\n",
       "x1             1.0150      0.010     97.392      0.000       0.994       1.036\n",
       "==============================================================================\n",
       "Omnibus:                        0.015   Durbin-Watson:                   2.127\n",
       "Prob(Omnibus):                  0.993   Jarque-Bera (JB):                0.117\n",
       "Skew:                          -0.031   Prob(JB):                        0.943\n",
       "Kurtosis:                       2.817   Cond. No.                         1.00\n",
       "==============================================================================\n",
       "\n",
       "Warnings:\n",
       "[1] Standard Errors assume that the covariance matrix of the errors is correctly specified.\n",
       "\"\"\""
      ]
     },
     "execution_count": 40,
     "metadata": {},
     "output_type": "execute_result"
    }
   ],
   "source": [
    "linearModel.summary()"
   ]
  },
  {
   "cell_type": "code",
   "execution_count": 41,
   "metadata": {},
   "outputs": [
    {
     "data": {
      "text/plain": [
       "array([ 1.01501235])"
      ]
     },
     "execution_count": 41,
     "metadata": {},
     "output_type": "execute_result"
    }
   ],
   "source": [
    "linearModel.params"
   ]
  },
  {
   "cell_type": "code",
   "execution_count": 45,
   "metadata": {},
   "outputs": [
    {
     "data": {
      "text/plain": [
       "array([-0.23123383,  1.01430025])"
      ]
     },
     "execution_count": 45,
     "metadata": {},
     "output_type": "execute_result"
    }
   ],
   "source": [
    "linearModel_0.params"
   ]
  },
  {
   "cell_type": "code",
   "execution_count": 47,
   "metadata": {},
   "outputs": [
    {
     "data": {
      "text/html": [
       "<table class=\"simpletable\">\n",
       "<caption>OLS Regression Results</caption>\n",
       "<tr>\n",
       "  <th>Dep. Variable:</th>            <td>y</td>        <th>  R-squared:         </th> <td>   0.992</td>\n",
       "</tr>\n",
       "<tr>\n",
       "  <th>Model:</th>                   <td>OLS</td>       <th>  Adj. R-squared:    </th> <td>   0.992</td>\n",
       "</tr>\n",
       "<tr>\n",
       "  <th>Method:</th>             <td>Least Squares</td>  <th>  F-statistic:       </th> <td>   9324.</td>\n",
       "</tr>\n",
       "<tr>\n",
       "  <th>Date:</th>             <td>Thu, 12 Oct 2017</td> <th>  Prob (F-statistic):</th> <td>9.28e-79</td>\n",
       "</tr>\n",
       "<tr>\n",
       "  <th>Time:</th>                 <td>20:16:25</td>     <th>  Log-Likelihood:    </th> <td> -182.46</td>\n",
       "</tr>\n",
       "<tr>\n",
       "  <th>No. Observations:</th>      <td>    75</td>      <th>  AIC:               </th> <td>   368.9</td>\n",
       "</tr>\n",
       "<tr>\n",
       "  <th>Df Residuals:</th>          <td>    73</td>      <th>  BIC:               </th> <td>   373.6</td>\n",
       "</tr>\n",
       "<tr>\n",
       "  <th>Df Model:</th>              <td>     1</td>      <th>                     </th>     <td> </td>   \n",
       "</tr>\n",
       "<tr>\n",
       "  <th>Covariance Type:</th>      <td>nonrobust</td>    <th>                     </th>     <td> </td>   \n",
       "</tr>\n",
       "</table>\n",
       "<table class=\"simpletable\">\n",
       "<tr>\n",
       "    <td></td>       <th>coef</th>     <th>std err</th>      <th>t</th>      <th>P>|t|</th>  <th>[0.025</th>    <th>0.975]</th>  \n",
       "</tr>\n",
       "<tr>\n",
       "  <th>const</th> <td>   -0.2312</td> <td>    0.324</td> <td>   -0.714</td> <td> 0.478</td> <td>   -0.877</td> <td>    0.415</td>\n",
       "</tr>\n",
       "<tr>\n",
       "  <th>x1</th>    <td>    1.0143</td> <td>    0.011</td> <td>   96.561</td> <td> 0.000</td> <td>    0.993</td> <td>    1.035</td>\n",
       "</tr>\n",
       "</table>\n",
       "<table class=\"simpletable\">\n",
       "<tr>\n",
       "  <th>Omnibus:</th>       <td> 0.009</td> <th>  Durbin-Watson:     </th> <td>   2.145</td>\n",
       "</tr>\n",
       "<tr>\n",
       "  <th>Prob(Omnibus):</th> <td> 0.996</td> <th>  Jarque-Bera (JB):  </th> <td>   0.113</td>\n",
       "</tr>\n",
       "<tr>\n",
       "  <th>Skew:</th>          <td>-0.024</td> <th>  Prob(JB):          </th> <td>   0.945</td>\n",
       "</tr>\n",
       "<tr>\n",
       "  <th>Kurtosis:</th>      <td> 2.816</td> <th>  Cond. No.          </th> <td>    31.0</td>\n",
       "</tr>\n",
       "</table>"
      ],
      "text/plain": [
       "<class 'statsmodels.iolib.summary.Summary'>\n",
       "\"\"\"\n",
       "                            OLS Regression Results                            \n",
       "==============================================================================\n",
       "Dep. Variable:                      y   R-squared:                       0.992\n",
       "Model:                            OLS   Adj. R-squared:                  0.992\n",
       "Method:                 Least Squares   F-statistic:                     9324.\n",
       "Date:                Thu, 12 Oct 2017   Prob (F-statistic):           9.28e-79\n",
       "Time:                        20:16:25   Log-Likelihood:                -182.46\n",
       "No. Observations:                  75   AIC:                             368.9\n",
       "Df Residuals:                      73   BIC:                             373.6\n",
       "Df Model:                           1                                         \n",
       "Covariance Type:            nonrobust                                         \n",
       "==============================================================================\n",
       "                 coef    std err          t      P>|t|      [0.025      0.975]\n",
       "------------------------------------------------------------------------------\n",
       "const         -0.2312      0.324     -0.714      0.478      -0.877       0.415\n",
       "x1             1.0143      0.011     96.561      0.000       0.993       1.035\n",
       "==============================================================================\n",
       "Omnibus:                        0.009   Durbin-Watson:                   2.145\n",
       "Prob(Omnibus):                  0.996   Jarque-Bera (JB):                0.113\n",
       "Skew:                          -0.024   Prob(JB):                        0.945\n",
       "Kurtosis:                       2.816   Cond. No.                         31.0\n",
       "==============================================================================\n",
       "\n",
       "Warnings:\n",
       "[1] Standard Errors assume that the covariance matrix of the errors is correctly specified.\n",
       "\"\"\""
      ]
     },
     "execution_count": 47,
     "metadata": {},
     "output_type": "execute_result"
    }
   ],
   "source": [
    "linearModel_0.summary()"
   ]
  },
  {
   "cell_type": "code",
   "execution_count": null,
   "metadata": {},
   "outputs": [],
   "source": []
  }
 ],
 "metadata": {
  "kernelspec": {
   "display_name": "Python 2",
   "language": "python",
   "name": "python2"
  },
  "language_info": {
   "codemirror_mode": {
    "name": "ipython",
    "version": 2
   },
   "file_extension": ".py",
   "mimetype": "text/x-python",
   "name": "python",
   "nbconvert_exporter": "python",
   "pygments_lexer": "ipython2",
   "version": "2.7.12"
  }
 },
 "nbformat": 4,
 "nbformat_minor": 2
}
