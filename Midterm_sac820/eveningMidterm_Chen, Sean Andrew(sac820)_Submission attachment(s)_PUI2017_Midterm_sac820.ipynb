{
 "cells": [
  {
   "cell_type": "markdown",
   "metadata": {
    "run_control": {
     "frozen": false,
     "read_only": false
    },
    "toc": true
   },
   "source": [
    "<h1>Table of Contents<span class=\"tocSkip\"></span></h1>\n",
    "<div class=\"toc\" style=\"margin-top: 1em;\"><ul class=\"toc-item\"><li><span><a href=\"#Setup-notebook\" data-toc-modified-id=\"Setup-notebook-1\"><span class=\"toc-item-num\">1&nbsp;&nbsp;</span>Setup notebook</a></span></li><li><span><a href=\"#Import-and-clean-Yellow-Taxi-data\" data-toc-modified-id=\"Import-and-clean-Yellow-Taxi-data-2\"><span class=\"toc-item-num\">2&nbsp;&nbsp;</span>Import and clean Yellow Taxi data</a></span><ul class=\"toc-item\"><li><span><a href=\"#Download-the-data-and-move-it-to-PUIData\" data-toc-modified-id=\"Download-the-data-and-move-it-to-PUIData-2.1\"><span class=\"toc-item-num\">2.1&nbsp;&nbsp;</span>Download the data and move it to PUIData</a></span></li><li><span><a href=\"#Read-in-only-one-observation-every-1,000-observations\" data-toc-modified-id=\"Read-in-only-one-observation-every-1,000-observations-2.2\"><span class=\"toc-item-num\">2.2&nbsp;&nbsp;</span>Read in only one observation every 1,000 observations</a></span></li><li><span><a href=\"#Drop-unnecessary-columns\" data-toc-modified-id=\"Drop-unnecessary-columns-2.3\"><span class=\"toc-item-num\">2.3&nbsp;&nbsp;</span>Drop unnecessary columns</a></span></li><li><span><a href=\"#Calculate-trip-duration-and-tip-amount\" data-toc-modified-id=\"Calculate-trip-duration-and-tip-amount-2.4\"><span class=\"toc-item-num\">2.4&nbsp;&nbsp;</span>Calculate trip duration and tip amount</a></span></li><li><span><a href=\"#Get-Zipcodes\" data-toc-modified-id=\"Get-Zipcodes-2.5\"><span class=\"toc-item-num\">2.5&nbsp;&nbsp;</span>Get Zipcodes</a></span></li></ul></li><li><span><a href=\"#Import-and-clean-up-zip-code-income-data\" data-toc-modified-id=\"Import-and-clean-up-zip-code-income-data-3\"><span class=\"toc-item-num\">3&nbsp;&nbsp;</span>Import and clean up zip code income data</a></span></li><li><span><a href=\"#Aggregate-the-data\" data-toc-modified-id=\"Aggregate-the-data-4\"><span class=\"toc-item-num\">4&nbsp;&nbsp;</span>Aggregate the data</a></span></li><li><span><a href=\"#Plot-the-distribution-of-tip-percentages-and-describe-its-first-and-second-moment\" data-toc-modified-id=\"Plot-the-distribution-of-tip-percentages-and-describe-its-first-and-second-moment-5\"><span class=\"toc-item-num\">5&nbsp;&nbsp;</span>Plot the distribution of tip percentages and describe its first and second moment</a></span></li><li><span><a href=\"#Test-if-the-distribution-is-consistent-with-a-Gaussian\" data-toc-modified-id=\"Test-if-the-distribution-is-consistent-with-a-Gaussian-6\"><span class=\"toc-item-num\">6&nbsp;&nbsp;</span>Test if the distribution is consistent with a Gaussian</a></span></li><li><span><a href=\"#Fit-a-line-to-taxi-fare-vs-trip-duration-and-to-taxi-fare-vs-trip-distance-to-decide-which-variable-between-duration-and-distance-&quot;contains-more-information&quot;-when-used-with-the-fare\" data-toc-modified-id=\"Fit-a-line-to-taxi-fare-vs-trip-duration-and-to-taxi-fare-vs-trip-distance-to-decide-which-variable-between-duration-and-distance-&quot;contains-more-information&quot;-when-used-with-the-fare-7\"><span class=\"toc-item-num\">7&nbsp;&nbsp;</span>Fit a line to taxi fare vs trip duration and to taxi fare vs trip distance to decide which variable between duration and distance \"contains more information\" when used with the fare</a></span></li><li><span><a href=\"#Remove-outliers-and-assess-if-this-has-an-effect-this-has-on-the-model\" data-toc-modified-id=\"Remove-outliers-and-assess-if-this-has-an-effect-this-has-on-the-model-8\"><span class=\"toc-item-num\">8&nbsp;&nbsp;</span>Remove outliers and assess if this has an effect this has on the model</a></span></li><li><span><a href=\"#Create-two-multivariate-linear-model-to-predict-the-tip-percentage\" data-toc-modified-id=\"Create-two-multivariate-linear-model-to-predict-the-tip-percentage-9\"><span class=\"toc-item-num\">9&nbsp;&nbsp;</span>Create two multivariate linear model to predict the tip percentage</a></span></li><li><span><a href=\"#Compare-multivariate-linear-model-to-predict-the-tip-percentage-and-assess-importance-of-socioeconomic-variables\" data-toc-modified-id=\"Compare-multivariate-linear-model-to-predict-the-tip-percentage-and-assess-importance-of-socioeconomic-variables-10\"><span class=\"toc-item-num\">10&nbsp;&nbsp;</span>Compare multivariate linear model to predict the tip percentage and assess importance of socioeconomic variables</a></span></li><li><span><a href=\"#Look-at-this-all-again-with-actual-tips\" data-toc-modified-id=\"Look-at-this-all-again-with-actual-tips-11\"><span class=\"toc-item-num\">11&nbsp;&nbsp;</span>Look at this all again with actual tips</a></span></li></ul></div>"
   ]
  },
  {
   "cell_type": "markdown",
   "metadata": {
    "run_control": {
     "frozen": false,
     "read_only": false
    }
   },
   "source": [
    "# PUI2017 Midterm\n",
    "**NetID:** sac820@nyu.edu"
   ]
  },
  {
   "cell_type": "markdown",
   "metadata": {
    "run_control": {
     "frozen": false,
     "read_only": false
    }
   },
   "source": [
    "## Setup notebook"
   ]
  },
  {
   "cell_type": "code",
   "execution_count": 2,
   "metadata": {
    "ExecuteTime": {
     "end_time": "2017-10-31T22:22:28.469921",
     "start_time": "2017-10-31T22:22:26.310673"
    },
    "collapsed": false,
    "run_control": {
     "frozen": false,
     "read_only": false
    }
   },
   "outputs": [
    {
     "name": "stdout",
     "output_type": "stream",
     "text": [
      "Populating the interactive namespace from numpy and matplotlib\n"
     ]
    }
   ],
   "source": [
    "from __future__ import print_function, division\n",
    "import os, shutil\n",
    "import geopandas as gp\n",
    "import pandas as pd\n",
    "import xlrd\n",
    "from pandas.plotting import scatter_matrix\n",
    "import numpy as np\n",
    "import pylab as pl\n",
    "import statsmodels.api as sm\n",
    "import statsmodels.formula.api as smf\n",
    "import scipy.stats as stats\n",
    "import scipy\n",
    "\n",
    "%pylab inline"
   ]
  },
  {
   "cell_type": "markdown",
   "metadata": {
    "run_control": {
     "frozen": false,
     "read_only": false
    }
   },
   "source": [
    "## Import and clean Yellow Taxi data"
   ]
  },
  {
   "cell_type": "markdown",
   "metadata": {
    "run_control": {
     "frozen": false,
     "read_only": false
    }
   },
   "source": [
    "### Download the data and move it to PUIData"
   ]
  },
  {
   "cell_type": "code",
   "execution_count": null,
   "metadata": {
    "collapsed": true,
    "run_control": {
     "frozen": false,
     "read_only": false
    }
   },
   "outputs": [],
   "source": [
    "os.system(\"curl -O https://s3.amazonaws.com/nyc-tlc/trip+data/yellow_tripdata_2009-02.csv\");\n",
    "path = os.getcwd()\n",
    "oldFile = path + \"/\" + \"yellow_tripdata_2009-02.csv\"\n",
    "newFile = os.getenv(\"PUIDATA\") + \"yellow-taxi.csv\"\n",
    "shutil.move(oldFile, newFile);"
   ]
  },
  {
   "cell_type": "markdown",
   "metadata": {
    "run_control": {
     "frozen": false,
     "read_only": false
    }
   },
   "source": [
    "### Read in only one observation every 1,000 observations"
   ]
  },
  {
   "cell_type": "code",
   "execution_count": 123,
   "metadata": {
    "collapsed": true,
    "run_control": {
     "frozen": false,
     "read_only": false
    }
   },
   "outputs": [],
   "source": [
    "taxiData = pd.read_csv(newFile)"
   ]
  },
  {
   "cell_type": "code",
   "execution_count": 124,
   "metadata": {
    "collapsed": true,
    "run_control": {
     "frozen": false,
     "read_only": false
    }
   },
   "outputs": [],
   "source": [
    "taxiData = taxiData[::1000]"
   ]
  },
  {
   "cell_type": "code",
   "execution_count": 10,
   "metadata": {
    "ExecuteTime": {
     "end_time": "2017-10-31T22:22:29.803729",
     "start_time": "2017-10-31T22:22:29.724348"
    },
    "collapsed": false
   },
   "outputs": [],
   "source": [
    "# FBB added to speed up while grading\n",
    "taxiData = pd.read_csv(\"http://cosmo.nyu.edu/~fb55/data/yc200902_tripdata_trimmed.csv\")"
   ]
  },
  {
   "cell_type": "markdown",
   "metadata": {},
   "source": [
    "# FBB task 1 10/10"
   ]
  },
  {
   "cell_type": "markdown",
   "metadata": {
    "run_control": {
     "frozen": false,
     "read_only": false
    }
   },
   "source": [
    "### Drop unnecessary columns"
   ]
  },
  {
   "cell_type": "code",
   "execution_count": 11,
   "metadata": {
    "ExecuteTime": {
     "end_time": "2017-10-31T22:22:39.472205",
     "start_time": "2017-10-31T22:22:39.453700"
    },
    "collapsed": true,
    "run_control": {
     "frozen": false,
     "read_only": false
    }
   },
   "outputs": [],
   "source": [
    "keepColumns = ['Trip_Pickup_DateTime', 'Trip_Dropoff_DateTime','Trip_Distance', \n",
    "               'Start_Lon', 'Start_Lat', 'End_Lon', 'End_Lat', 'Fare_Amt', 'Tip_Amt']\n",
    "taxiData = pd.DataFrame(taxiData, columns=keepColumns)\n",
    "taxiData = taxiData.dropna()"
   ]
  },
  {
   "cell_type": "markdown",
   "metadata": {
    "run_control": {
     "frozen": false,
     "read_only": false
    }
   },
   "source": [
    "### Calculate trip duration and tip amount"
   ]
  },
  {
   "cell_type": "code",
   "execution_count": 12,
   "metadata": {
    "ExecuteTime": {
     "end_time": "2017-10-31T22:22:39.589775",
     "start_time": "2017-10-31T22:22:39.550657"
    },
    "collapsed": true,
    "run_control": {
     "frozen": false,
     "read_only": false
    }
   },
   "outputs": [],
   "source": [
    "taxiData['Trip_Dropoff_DateTime']  = pd.to_datetime(taxiData['Trip_Dropoff_DateTime'] )\n",
    "taxiData['Trip_Pickup_DateTime'] = pd.to_datetime(taxiData['Trip_Pickup_DateTime'])\n",
    "taxiData['Duration'] = taxiData['Trip_Dropoff_DateTime'] - taxiData['Trip_Pickup_DateTime']\n",
    "taxiData['Tip Percentage'] = (taxiData['Tip_Amt'] / taxiData['Fare_Amt']) * 100"
   ]
  },
  {
   "cell_type": "markdown",
   "metadata": {},
   "source": [
    "# FBB task 3 10/10 although I want to see the duration column in action "
   ]
  },
  {
   "cell_type": "markdown",
   "metadata": {
    "run_control": {
     "frozen": false,
     "read_only": false
    }
   },
   "source": [
    "### Get Zipcodes"
   ]
  },
  {
   "cell_type": "code",
   "execution_count": 13,
   "metadata": {
    "ExecuteTime": {
     "end_time": "2017-10-31T22:22:40.299557",
     "start_time": "2017-10-31T22:22:39.719480"
    },
    "collapsed": true,
    "run_control": {
     "frozen": false,
     "read_only": false
    }
   },
   "outputs": [],
   "source": [
    "os.system(\"curl -O http://cosmo.nyu.edu/~fb55/data/departureZIP.csv\");\n",
    "path = os.getcwd()\n",
    "oldFile = path + \"/\" + \"departureZIP.csv\"\n",
    "newFile = os.getenv(\"PUIDATA\") + \"departureZIP.csv\"\n",
    "shutil.move(oldFile, newFile);\n",
    "departureZIP = pd.read_csv(newFile)"
   ]
  },
  {
   "cell_type": "code",
   "execution_count": 14,
   "metadata": {
    "ExecuteTime": {
     "end_time": "2017-10-31T22:22:40.629669",
     "start_time": "2017-10-31T22:22:40.303230"
    },
    "collapsed": true,
    "run_control": {
     "frozen": false,
     "read_only": false
    }
   },
   "outputs": [],
   "source": [
    "os.system(\"curl -O http://cosmo.nyu.edu/~fb55/data/destinationZIP.csv\");\n",
    "path = os.getcwd()\n",
    "oldFile = path + \"/\" + \"destinationZIP.csv\"\n",
    "newFile = os.getenv(\"PUIDATA\") + \"destinationZIP.csv\"\n",
    "shutil.move(oldFile, newFile);\n",
    "destinationZIP = pd.read_csv(newFile)"
   ]
  },
  {
   "cell_type": "code",
   "execution_count": 15,
   "metadata": {
    "ExecuteTime": {
     "end_time": "2017-10-31T22:22:40.636994",
     "start_time": "2017-10-31T22:22:40.631924"
    },
    "collapsed": true,
    "run_control": {
     "frozen": false,
     "read_only": false
    }
   },
   "outputs": [],
   "source": [
    "keepColumns = ['Start_Lon', 'Start_Lat','ZIPCODE']\n",
    "departureZIP = pd.DataFrame(departureZIP, columns=keepColumns)"
   ]
  },
  {
   "cell_type": "code",
   "execution_count": 16,
   "metadata": {
    "ExecuteTime": {
     "end_time": "2017-10-31T22:22:40.644604",
     "start_time": "2017-10-31T22:22:40.639671"
    },
    "collapsed": true,
    "run_control": {
     "frozen": false,
     "read_only": false
    }
   },
   "outputs": [],
   "source": [
    "keepColumns = ['End_Lon', 'End_Lat','ZIPCODE']\n",
    "destinationZIP = pd.DataFrame(destinationZIP, columns=keepColumns)"
   ]
  },
  {
   "cell_type": "code",
   "execution_count": 17,
   "metadata": {
    "ExecuteTime": {
     "end_time": "2017-10-31T22:22:40.696195",
     "start_time": "2017-10-31T22:22:40.647032"
    },
    "collapsed": false,
    "run_control": {
     "frozen": false,
     "read_only": false
    }
   },
   "outputs": [],
   "source": [
    "taxiData = taxiData.merge(departureZIP, on=['Start_Lon', 'Start_Lat'])\n",
    "taxiData = taxiData.merge(destinationZIP, on=['End_Lon', 'End_Lat'])"
   ]
  },
  {
   "cell_type": "code",
   "execution_count": 18,
   "metadata": {
    "ExecuteTime": {
     "end_time": "2017-10-31T22:22:40.711880",
     "start_time": "2017-10-31T22:22:40.698715"
    },
    "collapsed": true,
    "run_control": {
     "frozen": false,
     "read_only": false
    }
   },
   "outputs": [],
   "source": [
    "keepColumns = ['Trip_Distance', 'Fare_Amt','Tip_Amt', 'Duration', 'Tip Percentage', 'ZIPCODE_x', \n",
    "               'ZIPCODE_y']\n",
    "taxiData = pd.DataFrame(taxiData, columns=keepColumns)\n",
    "taxiData = taxiData.dropna()"
   ]
  },
  {
   "cell_type": "code",
   "execution_count": 19,
   "metadata": {
    "ExecuteTime": {
     "end_time": "2017-10-31T22:22:40.718392",
     "start_time": "2017-10-31T22:22:40.714118"
    },
    "collapsed": true,
    "run_control": {
     "frozen": false,
     "read_only": false
    }
   },
   "outputs": [],
   "source": [
    "taxiData.columns = ['Trip Distance', 'Fare', 'Tip', 'Duration', 'Tip Percent', 'Departure', 'Destination']"
   ]
  },
  {
   "cell_type": "markdown",
   "metadata": {},
   "source": [
    "# FBB task 4 10/10"
   ]
  },
  {
   "cell_type": "markdown",
   "metadata": {},
   "source": [
    "# FBB show the reader your notebook at intermediate steps, treat this as a presentation"
   ]
  },
  {
   "cell_type": "markdown",
   "metadata": {
    "run_control": {
     "frozen": false,
     "read_only": false
    }
   },
   "source": [
    "## Import and clean up zip code income data"
   ]
  },
  {
   "cell_type": "code",
   "execution_count": 20,
   "metadata": {
    "ExecuteTime": {
     "end_time": "2017-10-31T22:23:26.393108",
     "start_time": "2017-10-31T22:23:25.401952"
    },
    "collapsed": true,
    "run_control": {
     "frozen": false,
     "read_only": false
    }
   },
   "outputs": [],
   "source": [
    "os.system(\"curl -O http://www.nber.org/tax-stats/zipcode/2009/09zp33ny.xls\");\n",
    "path = os.getcwd()\n",
    "oldFile = path + \"/\" + \"09zp33ny.xls\"\n",
    "newFile = os.getenv(\"PUIDATA\") + \"income-data.xls\"\n",
    "shutil.move(oldFile, newFile);"
   ]
  },
  {
   "cell_type": "code",
   "execution_count": 21,
   "metadata": {
    "ExecuteTime": {
     "end_time": "2017-10-31T22:23:35.741295",
     "start_time": "2017-10-31T22:23:27.073389"
    },
    "collapsed": true,
    "run_control": {
     "frozen": false,
     "read_only": false
    }
   },
   "outputs": [],
   "source": [
    "incomeData = pd.read_excel(newFile, header=3, index_col=\"ZIP\\ncode [1]\")"
   ]
  },
  {
   "cell_type": "code",
   "execution_count": 22,
   "metadata": {
    "ExecuteTime": {
     "end_time": "2017-10-31T22:23:37.542276",
     "start_time": "2017-10-31T22:23:37.511675"
    },
    "collapsed": true,
    "run_control": {
     "frozen": false,
     "read_only": false
    }
   },
   "outputs": [],
   "source": [
    "keepColumns = ['Number of returns', 'Number of joint returns','Number of dependents', \n",
    "               'Adjusted gross income (AGI)']\n",
    "incomeData = pd.DataFrame(incomeData, columns=keepColumns)\n",
    "incomeData = incomeData.dropna()"
   ]
  },
  {
   "cell_type": "code",
   "execution_count": 23,
   "metadata": {
    "ExecuteTime": {
     "end_time": "2017-10-31T22:23:38.415120",
     "start_time": "2017-10-31T22:23:38.313117"
    },
    "collapsed": true,
    "run_control": {
     "frozen": false,
     "read_only": false
    }
   },
   "outputs": [],
   "source": [
    "incomeData['Population'] = incomeData['Number of returns'] + incomeData['Number of joint returns'] + incomeData['Number of dependents']\n",
    "incomeData['Income Per Capita'] = incomeData['Adjusted gross income (AGI)'] / incomeData['Population']"
   ]
  },
  {
   "cell_type": "code",
   "execution_count": 24,
   "metadata": {
    "ExecuteTime": {
     "end_time": "2017-10-31T22:23:40.083257",
     "start_time": "2017-10-31T22:23:40.042737"
    },
    "collapsed": false,
    "run_control": {
     "frozen": false,
     "read_only": false
    }
   },
   "outputs": [
    {
     "data": {
      "text/plain": [
       "<bound method DataFrame.reset_index of                Population  Income Per Capita\n",
       "ZIP\\ncode [1]                               \n",
       "NaN                    -8           0.750000\n",
       " 0               17016108          34.735223\n",
       " 0                5603417           7.558131\n",
       " 0                3804900          20.144112\n",
       " 0                2407018          30.532293\n",
       " 0                1721106          37.097494\n",
       " 0                2550480          50.158381\n",
       " 0                 929187         222.551718\n",
       " 10001              17426          94.386319\n",
       " 10001               5594           8.757240\n",
       " 10001               3497          27.260223\n",
       " 10001               2346          46.324382\n",
       " 10001               1513          63.407799\n",
       " 10001               2286          93.640857\n",
       " 10001               2190         493.964840\n",
       " 10002              77558          21.312824\n",
       " 10002              47007           6.060991\n",
       " 10002              15439          20.130060\n",
       " 10002               6236          38.303239\n",
       " 10002               3294          52.099575\n",
       " 10002               3951          73.553025\n",
       " 10002               1631         218.393624\n",
       " 10003              38156         119.356720\n",
       " 10003               8018           9.851833\n",
       " 10003               6231          31.405232\n",
       " 10003               5445          51.357025\n",
       " 10003               3835          68.431551\n",
       " 10003               7241          98.876398\n",
       " 10003               7386         409.079204\n",
       " 10004               3231         150.291551\n",
       "...                   ...                ...\n",
       " 14898                203          23.832512\n",
       " 14898                145          26.172414\n",
       " 14898                 40          60.850000\n",
       " 14901              10659          16.631485\n",
       " 14901               5342           6.763572\n",
       " 14901               2578          18.225756\n",
       " 14901               1354          27.310931\n",
       " 14901                795          30.613836\n",
       " 14901                506          45.689723\n",
       " 14901                 84         115.738095\n",
       " 14903               7195          26.274496\n",
       " 14903               2388           8.087102\n",
       " 14903               1580          20.503797\n",
       " 14903               1177          26.131691\n",
       " 14903                765          30.392157\n",
       " 14903                948          41.957806\n",
       " 14903                337         129.240356\n",
       " 14904              13748          16.969523\n",
       " 14904               6228           7.473025\n",
       " 14904               3665          18.377080\n",
       " 14904               2157          25.707928\n",
       " 14904               1100          31.774545\n",
       " 14904                598          48.493311\n",
       " 14905               8533          29.983710\n",
       " 14905               2529           8.191380\n",
       " 14905               1618          21.534611\n",
       " 14905               1380          29.288406\n",
       " 14905               1144          32.817308\n",
       " 14905               1460          47.424658\n",
       " 14905                402         132.067164\n",
       "\n",
       "[9853 rows x 2 columns]>"
      ]
     },
     "execution_count": 24,
     "metadata": {},
     "output_type": "execute_result"
    }
   ],
   "source": [
    "keepColumns = ['Population', 'Income Per Capita']\n",
    "incomeData = pd.DataFrame(incomeData, columns=keepColumns)\n",
    "incomeData = incomeData.dropna()\n",
    "incomeData.reset_index"
   ]
  },
  {
   "cell_type": "markdown",
   "metadata": {},
   "source": [
    "# FBB broken cell: there is a nan index at index 0 which prevents conversion to int"
   ]
  },
  {
   "cell_type": "code",
   "execution_count": 25,
   "metadata": {
    "ExecuteTime": {
     "end_time": "2017-10-31T22:24:01.432354",
     "start_time": "2017-10-31T22:24:01.425484"
    },
    "collapsed": true
   },
   "outputs": [],
   "source": [
    "incomeData = incomeData[1:]"
   ]
  },
  {
   "cell_type": "code",
   "execution_count": 26,
   "metadata": {
    "ExecuteTime": {
     "end_time": "2017-10-31T22:24:02.586002",
     "start_time": "2017-10-31T22:24:02.477692"
    },
    "collapsed": false,
    "run_control": {
     "frozen": false,
     "read_only": false
    }
   },
   "outputs": [
    {
     "name": "stderr",
     "output_type": "stream",
     "text": [
      "/Users/fbianco/Library/Enthought/Canopy_64bit/User/lib/python2.7/site-packages/ipykernel/__main__.py:1: SettingWithCopyWarning: \n",
      "A value is trying to be set on a copy of a slice from a DataFrame.\n",
      "Try using .loc[row_indexer,col_indexer] = value instead\n",
      "\n",
      "See the the caveats in the documentation: http://pandas.pydata.org/pandas-docs/stable/indexing.html#indexing-view-versus-copy\n",
      "  if __name__ == '__main__':\n",
      "/Users/fbianco/Library/Enthought/Canopy_64bit/User/lib/python2.7/site-packages/ipykernel/__main__.py:2: SettingWithCopyWarning: \n",
      "A value is trying to be set on a copy of a slice from a DataFrame.\n",
      "Try using .loc[row_indexer,col_indexer] = value instead\n",
      "\n",
      "See the the caveats in the documentation: http://pandas.pydata.org/pandas-docs/stable/indexing.html#indexing-view-versus-copy\n",
      "  from ipykernel import kernelapp as app\n"
     ]
    }
   ],
   "source": [
    "incomeData['ZIP Code'] = incomeData.index.astype(float)\n",
    "incomeData['ZIP Code'] = incomeData.index.astype(int)"
   ]
  },
  {
   "cell_type": "code",
   "execution_count": 27,
   "metadata": {
    "ExecuteTime": {
     "end_time": "2017-10-31T22:24:44.565418",
     "start_time": "2017-10-31T22:24:44.553851"
    },
    "collapsed": true,
    "run_control": {
     "frozen": false,
     "read_only": false
    }
   },
   "outputs": [],
   "source": [
    "incomeData = incomeData.dropna()"
   ]
  },
  {
   "cell_type": "code",
   "execution_count": 28,
   "metadata": {
    "ExecuteTime": {
     "end_time": "2017-10-31T22:24:44.574163",
     "start_time": "2017-10-31T22:24:44.568395"
    },
    "collapsed": true,
    "run_control": {
     "frozen": false,
     "read_only": false
    }
   },
   "outputs": [],
   "source": [
    "incomeData = incomeData[::7]"
   ]
  },
  {
   "cell_type": "markdown",
   "metadata": {},
   "source": [
    "# FBB ok task 2 10/10"
   ]
  },
  {
   "cell_type": "markdown",
   "metadata": {
    "run_control": {
     "frozen": false,
     "read_only": false
    }
   },
   "source": [
    "## Aggregate the data"
   ]
  },
  {
   "cell_type": "markdown",
   "metadata": {
    "run_control": {
     "frozen": false,
     "read_only": false
    }
   },
   "source": [
    "Data aggregation task: Join the datasets so that your data contains at least: trip duration, trip distance, fare amount, tip percentage, departure zipcode income, and destination zipcode income¶"
   ]
  },
  {
   "cell_type": "code",
   "execution_count": 29,
   "metadata": {
    "ExecuteTime": {
     "end_time": "2017-10-31T22:24:44.868034",
     "start_time": "2017-10-31T22:24:44.837884"
    },
    "collapsed": false,
    "run_control": {
     "frozen": false,
     "read_only": false
    }
   },
   "outputs": [
    {
     "data": {
      "text/html": [
       "<div style=\"max-height:1000px;max-width:1500px;overflow:auto;\">\n",
       "<table border=\"1\" class=\"dataframe\">\n",
       "  <thead>\n",
       "    <tr style=\"text-align: right;\">\n",
       "      <th></th>\n",
       "      <th>Trip Distance</th>\n",
       "      <th>Fare</th>\n",
       "      <th>Tip</th>\n",
       "      <th>Duration</th>\n",
       "      <th>Tip Percent</th>\n",
       "      <th>Departure</th>\n",
       "      <th>Destination</th>\n",
       "    </tr>\n",
       "  </thead>\n",
       "  <tbody>\n",
       "    <tr>\n",
       "      <th>0</th>\n",
       "      <td>1.60</td>\n",
       "      <td>6.9</td>\n",
       "      <td>0.00</td>\n",
       "      <td>00:08:39</td>\n",
       "      <td>0.000000</td>\n",
       "      <td>10036</td>\n",
       "      <td>10011</td>\n",
       "    </tr>\n",
       "    <tr>\n",
       "      <th>1</th>\n",
       "      <td>11.95</td>\n",
       "      <td>28.5</td>\n",
       "      <td>0.00</td>\n",
       "      <td>00:26:00</td>\n",
       "      <td>0.000000</td>\n",
       "      <td>10022</td>\n",
       "      <td>11218</td>\n",
       "    </tr>\n",
       "    <tr>\n",
       "      <th>2</th>\n",
       "      <td>2.86</td>\n",
       "      <td>9.3</td>\n",
       "      <td>0.00</td>\n",
       "      <td>00:10:00</td>\n",
       "      <td>0.000000</td>\n",
       "      <td>10003</td>\n",
       "      <td>10018</td>\n",
       "    </tr>\n",
       "    <tr>\n",
       "      <th>3</th>\n",
       "      <td>4.60</td>\n",
       "      <td>14.9</td>\n",
       "      <td>2.00</td>\n",
       "      <td>00:20:00</td>\n",
       "      <td>13.422819</td>\n",
       "      <td>10002</td>\n",
       "      <td>10128</td>\n",
       "    </tr>\n",
       "    <tr>\n",
       "      <th>4</th>\n",
       "      <td>2.40</td>\n",
       "      <td>9.3</td>\n",
       "      <td>1.39</td>\n",
       "      <td>00:11:52</td>\n",
       "      <td>14.946237</td>\n",
       "      <td>10016</td>\n",
       "      <td>10002</td>\n",
       "    </tr>\n",
       "  </tbody>\n",
       "</table>\n",
       "</div>"
      ],
      "text/plain": [
       "   Trip Distance  Fare   Tip  Duration  Tip Percent  Departure  Destination\n",
       "0           1.60   6.9  0.00  00:08:39     0.000000      10036        10011\n",
       "1          11.95  28.5  0.00  00:26:00     0.000000      10022        11218\n",
       "2           2.86   9.3  0.00  00:10:00     0.000000      10003        10018\n",
       "3           4.60  14.9  2.00  00:20:00    13.422819      10002        10128\n",
       "4           2.40   9.3  1.39  00:11:52    14.946237      10016        10002"
      ]
     },
     "execution_count": 29,
     "metadata": {},
     "output_type": "execute_result"
    }
   ],
   "source": [
    "taxiData.head()"
   ]
  },
  {
   "cell_type": "code",
   "execution_count": 30,
   "metadata": {
    "ExecuteTime": {
     "end_time": "2017-10-31T22:24:44.891050",
     "start_time": "2017-10-31T22:24:44.871245"
    },
    "collapsed": false,
    "run_control": {
     "frozen": false,
     "read_only": false
    }
   },
   "outputs": [
    {
     "data": {
      "text/html": [
       "<div style=\"max-height:1000px;max-width:1500px;overflow:auto;\">\n",
       "<table border=\"1\" class=\"dataframe\">\n",
       "  <thead>\n",
       "    <tr style=\"text-align: right;\">\n",
       "      <th></th>\n",
       "      <th>Population</th>\n",
       "      <th>Income Per Capita</th>\n",
       "      <th>ZIP Code</th>\n",
       "    </tr>\n",
       "    <tr>\n",
       "      <th>ZIP\n",
       "code [1]</th>\n",
       "      <th></th>\n",
       "      <th></th>\n",
       "      <th></th>\n",
       "    </tr>\n",
       "  </thead>\n",
       "  <tbody>\n",
       "    <tr>\n",
       "      <th>0</th>\n",
       "      <td>17016108</td>\n",
       "      <td>34.735223</td>\n",
       "      <td>0</td>\n",
       "    </tr>\n",
       "    <tr>\n",
       "      <th>10001</th>\n",
       "      <td>17426</td>\n",
       "      <td>94.386319</td>\n",
       "      <td>10001</td>\n",
       "    </tr>\n",
       "    <tr>\n",
       "      <th>10002</th>\n",
       "      <td>77558</td>\n",
       "      <td>21.312824</td>\n",
       "      <td>10002</td>\n",
       "    </tr>\n",
       "    <tr>\n",
       "      <th>10003</th>\n",
       "      <td>38156</td>\n",
       "      <td>119.356720</td>\n",
       "      <td>10003</td>\n",
       "    </tr>\n",
       "    <tr>\n",
       "      <th>10004</th>\n",
       "      <td>3231</td>\n",
       "      <td>150.291551</td>\n",
       "      <td>10004</td>\n",
       "    </tr>\n",
       "  </tbody>\n",
       "</table>\n",
       "</div>"
      ],
      "text/plain": [
       "               Population  Income Per Capita  ZIP Code\n",
       "ZIP\\ncode [1]                                         \n",
       "0                17016108          34.735223         0\n",
       "10001               17426          94.386319     10001\n",
       "10002               77558          21.312824     10002\n",
       "10003               38156         119.356720     10003\n",
       "10004                3231         150.291551     10004"
      ]
     },
     "execution_count": 30,
     "metadata": {},
     "output_type": "execute_result"
    }
   ],
   "source": [
    "incomeData.head()"
   ]
  },
  {
   "cell_type": "code",
   "execution_count": 31,
   "metadata": {
    "ExecuteTime": {
     "end_time": "2017-10-31T22:24:44.908109",
     "start_time": "2017-10-31T22:24:44.894169"
    },
    "collapsed": true,
    "run_control": {
     "frozen": false,
     "read_only": false
    }
   },
   "outputs": [],
   "source": [
    "data1 = taxiData.merge(incomeData, left_on='Departure', right_on='ZIP Code')\n",
    "data1=data1.rename(columns = {'Income Per Capita':'Departure Income'})"
   ]
  },
  {
   "cell_type": "markdown",
   "metadata": {
    "run_control": {
     "frozen": false,
     "read_only": false
    }
   },
   "source": [
    "trip duration, trip distance, fare amount, tip percentage, departure zipcode income, and destination zipcode income¶"
   ]
  },
  {
   "cell_type": "code",
   "execution_count": 32,
   "metadata": {
    "ExecuteTime": {
     "end_time": "2017-10-31T22:24:44.992613",
     "start_time": "2017-10-31T22:24:44.976706"
    },
    "collapsed": true,
    "run_control": {
     "frozen": false,
     "read_only": false
    }
   },
   "outputs": [],
   "source": [
    "data2 = taxiData.merge(incomeData, left_on='Destination', right_on='ZIP Code')\n",
    "data2=data2.rename(columns = {'Income Per Capita':'Destination Income'})"
   ]
  },
  {
   "cell_type": "code",
   "execution_count": 33,
   "metadata": {
    "ExecuteTime": {
     "end_time": "2017-10-31T22:24:45.004230",
     "start_time": "2017-10-31T22:24:44.995907"
    },
    "collapsed": true,
    "run_control": {
     "frozen": false,
     "read_only": false
    }
   },
   "outputs": [],
   "source": [
    "data = data1\n",
    "data['Destination Income'] = data2['Destination Income']"
   ]
  },
  {
   "cell_type": "code",
   "execution_count": 34,
   "metadata": {
    "ExecuteTime": {
     "end_time": "2017-10-31T22:24:45.030260",
     "start_time": "2017-10-31T22:24:45.007303"
    },
    "collapsed": true,
    "run_control": {
     "frozen": false,
     "read_only": false
    }
   },
   "outputs": [],
   "source": [
    "keepColumns = ['Trip Distance', 'Duration', 'Fare', 'Tip Percent', 'Departure Income', 'Destination Income']\n",
    "data = pd.DataFrame(data, columns=keepColumns)\n",
    "data = data.dropna()"
   ]
  },
  {
   "cell_type": "markdown",
   "metadata": {},
   "source": [
    "# FBB it would be really helpful if you rendered your dataframes at intermediate steps! I think you have it right so far part 1 50/50 "
   ]
  },
  {
   "cell_type": "code",
   "execution_count": 36,
   "metadata": {
    "collapsed": false
   },
   "outputs": [
    {
     "data": {
      "text/html": [
       "<div style=\"max-height:1000px;max-width:1500px;overflow:auto;\">\n",
       "<table border=\"1\" class=\"dataframe\">\n",
       "  <thead>\n",
       "    <tr style=\"text-align: right;\">\n",
       "      <th></th>\n",
       "      <th>Trip Distance</th>\n",
       "      <th>Duration</th>\n",
       "      <th>Fare</th>\n",
       "      <th>Tip Percent</th>\n",
       "      <th>Departure Income</th>\n",
       "      <th>Destination Income</th>\n",
       "    </tr>\n",
       "  </thead>\n",
       "  <tbody>\n",
       "    <tr>\n",
       "      <th>0</th>\n",
       "      <td>1.60</td>\n",
       "      <td>00:08:39</td>\n",
       "      <td>6.9</td>\n",
       "      <td>0.000000</td>\n",
       "      <td>120.643519</td>\n",
       "      <td>121.765217</td>\n",
       "    </tr>\n",
       "    <tr>\n",
       "      <th>1</th>\n",
       "      <td>1.01</td>\n",
       "      <td>00:07:00</td>\n",
       "      <td>5.7</td>\n",
       "      <td>0.000000</td>\n",
       "      <td>120.643519</td>\n",
       "      <td>121.765217</td>\n",
       "    </tr>\n",
       "    <tr>\n",
       "      <th>2</th>\n",
       "      <td>1.16</td>\n",
       "      <td>00:09:00</td>\n",
       "      <td>6.1</td>\n",
       "      <td>0.000000</td>\n",
       "      <td>120.643519</td>\n",
       "      <td>121.765217</td>\n",
       "    </tr>\n",
       "    <tr>\n",
       "      <th>3</th>\n",
       "      <td>0.80</td>\n",
       "      <td>00:07:00</td>\n",
       "      <td>5.7</td>\n",
       "      <td>0.000000</td>\n",
       "      <td>120.643519</td>\n",
       "      <td>121.765217</td>\n",
       "    </tr>\n",
       "    <tr>\n",
       "      <th>4</th>\n",
       "      <td>0.80</td>\n",
       "      <td>00:07:00</td>\n",
       "      <td>5.7</td>\n",
       "      <td>0.000000</td>\n",
       "      <td>120.643519</td>\n",
       "      <td>121.765217</td>\n",
       "    </tr>\n",
       "    <tr>\n",
       "      <th>5</th>\n",
       "      <td>2.60</td>\n",
       "      <td>00:10:59</td>\n",
       "      <td>8.9</td>\n",
       "      <td>24.943820</td>\n",
       "      <td>120.643519</td>\n",
       "      <td>121.765217</td>\n",
       "    </tr>\n",
       "    <tr>\n",
       "      <th>6</th>\n",
       "      <td>6.09</td>\n",
       "      <td>00:23:00</td>\n",
       "      <td>20.5</td>\n",
       "      <td>0.000000</td>\n",
       "      <td>120.643519</td>\n",
       "      <td>121.765217</td>\n",
       "    </tr>\n",
       "    <tr>\n",
       "      <th>7</th>\n",
       "      <td>1.70</td>\n",
       "      <td>00:11:58</td>\n",
       "      <td>6.9</td>\n",
       "      <td>0.000000</td>\n",
       "      <td>120.643519</td>\n",
       "      <td>121.765217</td>\n",
       "    </tr>\n",
       "    <tr>\n",
       "      <th>8</th>\n",
       "      <td>5.50</td>\n",
       "      <td>00:16:52</td>\n",
       "      <td>16.2</td>\n",
       "      <td>0.000000</td>\n",
       "      <td>120.643519</td>\n",
       "      <td>121.765217</td>\n",
       "    </tr>\n",
       "    <tr>\n",
       "      <th>9</th>\n",
       "      <td>0.90</td>\n",
       "      <td>00:04:14</td>\n",
       "      <td>4.9</td>\n",
       "      <td>0.000000</td>\n",
       "      <td>120.643519</td>\n",
       "      <td>121.765217</td>\n",
       "    </tr>\n",
       "    <tr>\n",
       "      <th>10</th>\n",
       "      <td>1.80</td>\n",
       "      <td>00:10:43</td>\n",
       "      <td>7.7</td>\n",
       "      <td>0.000000</td>\n",
       "      <td>120.643519</td>\n",
       "      <td>121.765217</td>\n",
       "    </tr>\n",
       "    <tr>\n",
       "      <th>11</th>\n",
       "      <td>2.80</td>\n",
       "      <td>00:15:35</td>\n",
       "      <td>11.3</td>\n",
       "      <td>0.000000</td>\n",
       "      <td>120.643519</td>\n",
       "      <td>121.765217</td>\n",
       "    </tr>\n",
       "    <tr>\n",
       "      <th>12</th>\n",
       "      <td>1.94</td>\n",
       "      <td>00:07:00</td>\n",
       "      <td>6.9</td>\n",
       "      <td>0.000000</td>\n",
       "      <td>120.643519</td>\n",
       "      <td>121.765217</td>\n",
       "    </tr>\n",
       "    <tr>\n",
       "      <th>13</th>\n",
       "      <td>0.80</td>\n",
       "      <td>00:04:17</td>\n",
       "      <td>4.5</td>\n",
       "      <td>0.000000</td>\n",
       "      <td>120.643519</td>\n",
       "      <td>121.765217</td>\n",
       "    </tr>\n",
       "    <tr>\n",
       "      <th>14</th>\n",
       "      <td>1.20</td>\n",
       "      <td>00:10:05</td>\n",
       "      <td>6.9</td>\n",
       "      <td>0.000000</td>\n",
       "      <td>120.643519</td>\n",
       "      <td>121.765217</td>\n",
       "    </tr>\n",
       "    <tr>\n",
       "      <th>15</th>\n",
       "      <td>0.98</td>\n",
       "      <td>00:05:00</td>\n",
       "      <td>5.3</td>\n",
       "      <td>0.000000</td>\n",
       "      <td>120.643519</td>\n",
       "      <td>121.765217</td>\n",
       "    </tr>\n",
       "    <tr>\n",
       "      <th>16</th>\n",
       "      <td>0.98</td>\n",
       "      <td>00:05:00</td>\n",
       "      <td>5.3</td>\n",
       "      <td>0.000000</td>\n",
       "      <td>120.643519</td>\n",
       "      <td>121.765217</td>\n",
       "    </tr>\n",
       "    <tr>\n",
       "      <th>17</th>\n",
       "      <td>0.60</td>\n",
       "      <td>00:08:29</td>\n",
       "      <td>6.1</td>\n",
       "      <td>20.000000</td>\n",
       "      <td>120.643519</td>\n",
       "      <td>121.765217</td>\n",
       "    </tr>\n",
       "    <tr>\n",
       "      <th>18</th>\n",
       "      <td>3.65</td>\n",
       "      <td>00:11:00</td>\n",
       "      <td>10.9</td>\n",
       "      <td>0.000000</td>\n",
       "      <td>120.643519</td>\n",
       "      <td>121.765217</td>\n",
       "    </tr>\n",
       "    <tr>\n",
       "      <th>19</th>\n",
       "      <td>1.65</td>\n",
       "      <td>00:11:00</td>\n",
       "      <td>6.9</td>\n",
       "      <td>28.985507</td>\n",
       "      <td>120.643519</td>\n",
       "      <td>121.765217</td>\n",
       "    </tr>\n",
       "    <tr>\n",
       "      <th>20</th>\n",
       "      <td>0.70</td>\n",
       "      <td>00:02:46</td>\n",
       "      <td>4.6</td>\n",
       "      <td>0.000000</td>\n",
       "      <td>120.643519</td>\n",
       "      <td>121.765217</td>\n",
       "    </tr>\n",
       "    <tr>\n",
       "      <th>21</th>\n",
       "      <td>1.20</td>\n",
       "      <td>00:05:03</td>\n",
       "      <td>6.3</td>\n",
       "      <td>0.000000</td>\n",
       "      <td>120.643519</td>\n",
       "      <td>121.765217</td>\n",
       "    </tr>\n",
       "    <tr>\n",
       "      <th>22</th>\n",
       "      <td>2.30</td>\n",
       "      <td>00:11:50</td>\n",
       "      <td>9.9</td>\n",
       "      <td>0.000000</td>\n",
       "      <td>120.643519</td>\n",
       "      <td>121.765217</td>\n",
       "    </tr>\n",
       "    <tr>\n",
       "      <th>23</th>\n",
       "      <td>0.50</td>\n",
       "      <td>00:03:18</td>\n",
       "      <td>4.6</td>\n",
       "      <td>0.000000</td>\n",
       "      <td>120.643519</td>\n",
       "      <td>121.765217</td>\n",
       "    </tr>\n",
       "    <tr>\n",
       "      <th>24</th>\n",
       "      <td>2.70</td>\n",
       "      <td>00:11:06</td>\n",
       "      <td>10.2</td>\n",
       "      <td>9.803922</td>\n",
       "      <td>120.643519</td>\n",
       "      <td>121.765217</td>\n",
       "    </tr>\n",
       "    <tr>\n",
       "      <th>25</th>\n",
       "      <td>16.40</td>\n",
       "      <td>01:14:03</td>\n",
       "      <td>2.5</td>\n",
       "      <td>0.000000</td>\n",
       "      <td>120.643519</td>\n",
       "      <td>121.765217</td>\n",
       "    </tr>\n",
       "    <tr>\n",
       "      <th>26</th>\n",
       "      <td>0.70</td>\n",
       "      <td>00:10:28</td>\n",
       "      <td>6.5</td>\n",
       "      <td>0.000000</td>\n",
       "      <td>120.643519</td>\n",
       "      <td>121.765217</td>\n",
       "    </tr>\n",
       "    <tr>\n",
       "      <th>27</th>\n",
       "      <td>1.40</td>\n",
       "      <td>00:10:00</td>\n",
       "      <td>7.3</td>\n",
       "      <td>0.000000</td>\n",
       "      <td>120.643519</td>\n",
       "      <td>121.765217</td>\n",
       "    </tr>\n",
       "    <tr>\n",
       "      <th>28</th>\n",
       "      <td>0.82</td>\n",
       "      <td>00:06:00</td>\n",
       "      <td>5.3</td>\n",
       "      <td>0.000000</td>\n",
       "      <td>120.643519</td>\n",
       "      <td>121.765217</td>\n",
       "    </tr>\n",
       "    <tr>\n",
       "      <th>29</th>\n",
       "      <td>2.50</td>\n",
       "      <td>00:10:48</td>\n",
       "      <td>9.9</td>\n",
       "      <td>0.000000</td>\n",
       "      <td>120.643519</td>\n",
       "      <td>121.765217</td>\n",
       "    </tr>\n",
       "    <tr>\n",
       "      <th>30</th>\n",
       "      <td>1.20</td>\n",
       "      <td>00:08:05</td>\n",
       "      <td>7.0</td>\n",
       "      <td>0.000000</td>\n",
       "      <td>120.643519</td>\n",
       "      <td>121.765217</td>\n",
       "    </tr>\n",
       "    <tr>\n",
       "      <th>31</th>\n",
       "      <td>6.59</td>\n",
       "      <td>00:08:00</td>\n",
       "      <td>17.7</td>\n",
       "      <td>25.706215</td>\n",
       "      <td>120.643519</td>\n",
       "      <td>121.765217</td>\n",
       "    </tr>\n",
       "    <tr>\n",
       "      <th>32</th>\n",
       "      <td>3.96</td>\n",
       "      <td>00:19:00</td>\n",
       "      <td>12.9</td>\n",
       "      <td>0.000000</td>\n",
       "      <td>120.643519</td>\n",
       "      <td>121.765217</td>\n",
       "    </tr>\n",
       "    <tr>\n",
       "      <th>33</th>\n",
       "      <td>1.07</td>\n",
       "      <td>00:08:00</td>\n",
       "      <td>6.5</td>\n",
       "      <td>0.000000</td>\n",
       "      <td>120.643519</td>\n",
       "      <td>121.765217</td>\n",
       "    </tr>\n",
       "    <tr>\n",
       "      <th>34</th>\n",
       "      <td>5.12</td>\n",
       "      <td>00:20:00</td>\n",
       "      <td>15.3</td>\n",
       "      <td>0.000000</td>\n",
       "      <td>120.643519</td>\n",
       "      <td>121.765217</td>\n",
       "    </tr>\n",
       "    <tr>\n",
       "      <th>35</th>\n",
       "      <td>2.10</td>\n",
       "      <td>00:10:46</td>\n",
       "      <td>9.5</td>\n",
       "      <td>0.000000</td>\n",
       "      <td>120.643519</td>\n",
       "      <td>121.765217</td>\n",
       "    </tr>\n",
       "    <tr>\n",
       "      <th>36</th>\n",
       "      <td>2.91</td>\n",
       "      <td>00:16:00</td>\n",
       "      <td>10.5</td>\n",
       "      <td>28.571429</td>\n",
       "      <td>120.643519</td>\n",
       "      <td>121.765217</td>\n",
       "    </tr>\n",
       "    <tr>\n",
       "      <th>37</th>\n",
       "      <td>0.73</td>\n",
       "      <td>00:06:00</td>\n",
       "      <td>4.9</td>\n",
       "      <td>0.000000</td>\n",
       "      <td>120.643519</td>\n",
       "      <td>121.765217</td>\n",
       "    </tr>\n",
       "    <tr>\n",
       "      <th>38</th>\n",
       "      <td>1.19</td>\n",
       "      <td>00:06:00</td>\n",
       "      <td>5.3</td>\n",
       "      <td>0.000000</td>\n",
       "      <td>120.643519</td>\n",
       "      <td>121.765217</td>\n",
       "    </tr>\n",
       "    <tr>\n",
       "      <th>39</th>\n",
       "      <td>1.00</td>\n",
       "      <td>00:06:35</td>\n",
       "      <td>5.7</td>\n",
       "      <td>0.000000</td>\n",
       "      <td>120.643519</td>\n",
       "      <td>121.765217</td>\n",
       "    </tr>\n",
       "    <tr>\n",
       "      <th>40</th>\n",
       "      <td>9.66</td>\n",
       "      <td>00:22:00</td>\n",
       "      <td>23.7</td>\n",
       "      <td>0.000000</td>\n",
       "      <td>120.643519</td>\n",
       "      <td>121.765217</td>\n",
       "    </tr>\n",
       "    <tr>\n",
       "      <th>41</th>\n",
       "      <td>0.40</td>\n",
       "      <td>00:02:15</td>\n",
       "      <td>4.2</td>\n",
       "      <td>0.000000</td>\n",
       "      <td>120.643519</td>\n",
       "      <td>121.765217</td>\n",
       "    </tr>\n",
       "    <tr>\n",
       "      <th>42</th>\n",
       "      <td>2.22</td>\n",
       "      <td>00:08:00</td>\n",
       "      <td>7.7</td>\n",
       "      <td>0.000000</td>\n",
       "      <td>120.643519</td>\n",
       "      <td>121.765217</td>\n",
       "    </tr>\n",
       "    <tr>\n",
       "      <th>43</th>\n",
       "      <td>4.50</td>\n",
       "      <td>00:23:56</td>\n",
       "      <td>17.0</td>\n",
       "      <td>0.000000</td>\n",
       "      <td>120.643519</td>\n",
       "      <td>121.765217</td>\n",
       "    </tr>\n",
       "    <tr>\n",
       "      <th>44</th>\n",
       "      <td>3.20</td>\n",
       "      <td>00:25:13</td>\n",
       "      <td>15.4</td>\n",
       "      <td>0.000000</td>\n",
       "      <td>120.643519</td>\n",
       "      <td>121.765217</td>\n",
       "    </tr>\n",
       "    <tr>\n",
       "      <th>45</th>\n",
       "      <td>2.43</td>\n",
       "      <td>00:11:00</td>\n",
       "      <td>8.9</td>\n",
       "      <td>0.000000</td>\n",
       "      <td>120.643519</td>\n",
       "      <td>121.765217</td>\n",
       "    </tr>\n",
       "    <tr>\n",
       "      <th>46</th>\n",
       "      <td>1.85</td>\n",
       "      <td>00:09:00</td>\n",
       "      <td>7.3</td>\n",
       "      <td>0.000000</td>\n",
       "      <td>120.643519</td>\n",
       "      <td>121.765217</td>\n",
       "    </tr>\n",
       "    <tr>\n",
       "      <th>47</th>\n",
       "      <td>3.45</td>\n",
       "      <td>00:25:00</td>\n",
       "      <td>14.5</td>\n",
       "      <td>0.000000</td>\n",
       "      <td>120.643519</td>\n",
       "      <td>121.765217</td>\n",
       "    </tr>\n",
       "    <tr>\n",
       "      <th>48</th>\n",
       "      <td>0.90</td>\n",
       "      <td>00:06:54</td>\n",
       "      <td>5.3</td>\n",
       "      <td>0.000000</td>\n",
       "      <td>120.643519</td>\n",
       "      <td>121.765217</td>\n",
       "    </tr>\n",
       "    <tr>\n",
       "      <th>49</th>\n",
       "      <td>2.00</td>\n",
       "      <td>00:12:45</td>\n",
       "      <td>9.5</td>\n",
       "      <td>0.000000</td>\n",
       "      <td>120.643519</td>\n",
       "      <td>121.765217</td>\n",
       "    </tr>\n",
       "  </tbody>\n",
       "</table>\n",
       "</div>"
      ],
      "text/plain": [
       "    Trip Distance  Duration  Fare  Tip Percent  Departure Income  \\\n",
       "0            1.60  00:08:39   6.9     0.000000        120.643519   \n",
       "1            1.01  00:07:00   5.7     0.000000        120.643519   \n",
       "2            1.16  00:09:00   6.1     0.000000        120.643519   \n",
       "3            0.80  00:07:00   5.7     0.000000        120.643519   \n",
       "4            0.80  00:07:00   5.7     0.000000        120.643519   \n",
       "5            2.60  00:10:59   8.9    24.943820        120.643519   \n",
       "6            6.09  00:23:00  20.5     0.000000        120.643519   \n",
       "7            1.70  00:11:58   6.9     0.000000        120.643519   \n",
       "8            5.50  00:16:52  16.2     0.000000        120.643519   \n",
       "9            0.90  00:04:14   4.9     0.000000        120.643519   \n",
       "10           1.80  00:10:43   7.7     0.000000        120.643519   \n",
       "11           2.80  00:15:35  11.3     0.000000        120.643519   \n",
       "12           1.94  00:07:00   6.9     0.000000        120.643519   \n",
       "13           0.80  00:04:17   4.5     0.000000        120.643519   \n",
       "14           1.20  00:10:05   6.9     0.000000        120.643519   \n",
       "15           0.98  00:05:00   5.3     0.000000        120.643519   \n",
       "16           0.98  00:05:00   5.3     0.000000        120.643519   \n",
       "17           0.60  00:08:29   6.1    20.000000        120.643519   \n",
       "18           3.65  00:11:00  10.9     0.000000        120.643519   \n",
       "19           1.65  00:11:00   6.9    28.985507        120.643519   \n",
       "20           0.70  00:02:46   4.6     0.000000        120.643519   \n",
       "21           1.20  00:05:03   6.3     0.000000        120.643519   \n",
       "22           2.30  00:11:50   9.9     0.000000        120.643519   \n",
       "23           0.50  00:03:18   4.6     0.000000        120.643519   \n",
       "24           2.70  00:11:06  10.2     9.803922        120.643519   \n",
       "25          16.40  01:14:03   2.5     0.000000        120.643519   \n",
       "26           0.70  00:10:28   6.5     0.000000        120.643519   \n",
       "27           1.40  00:10:00   7.3     0.000000        120.643519   \n",
       "28           0.82  00:06:00   5.3     0.000000        120.643519   \n",
       "29           2.50  00:10:48   9.9     0.000000        120.643519   \n",
       "30           1.20  00:08:05   7.0     0.000000        120.643519   \n",
       "31           6.59  00:08:00  17.7    25.706215        120.643519   \n",
       "32           3.96  00:19:00  12.9     0.000000        120.643519   \n",
       "33           1.07  00:08:00   6.5     0.000000        120.643519   \n",
       "34           5.12  00:20:00  15.3     0.000000        120.643519   \n",
       "35           2.10  00:10:46   9.5     0.000000        120.643519   \n",
       "36           2.91  00:16:00  10.5    28.571429        120.643519   \n",
       "37           0.73  00:06:00   4.9     0.000000        120.643519   \n",
       "38           1.19  00:06:00   5.3     0.000000        120.643519   \n",
       "39           1.00  00:06:35   5.7     0.000000        120.643519   \n",
       "40           9.66  00:22:00  23.7     0.000000        120.643519   \n",
       "41           0.40  00:02:15   4.2     0.000000        120.643519   \n",
       "42           2.22  00:08:00   7.7     0.000000        120.643519   \n",
       "43           4.50  00:23:56  17.0     0.000000        120.643519   \n",
       "44           3.20  00:25:13  15.4     0.000000        120.643519   \n",
       "45           2.43  00:11:00   8.9     0.000000        120.643519   \n",
       "46           1.85  00:09:00   7.3     0.000000        120.643519   \n",
       "47           3.45  00:25:00  14.5     0.000000        120.643519   \n",
       "48           0.90  00:06:54   5.3     0.000000        120.643519   \n",
       "49           2.00  00:12:45   9.5     0.000000        120.643519   \n",
       "\n",
       "    Destination Income  \n",
       "0           121.765217  \n",
       "1           121.765217  \n",
       "2           121.765217  \n",
       "3           121.765217  \n",
       "4           121.765217  \n",
       "5           121.765217  \n",
       "6           121.765217  \n",
       "7           121.765217  \n",
       "8           121.765217  \n",
       "9           121.765217  \n",
       "10          121.765217  \n",
       "11          121.765217  \n",
       "12          121.765217  \n",
       "13          121.765217  \n",
       "14          121.765217  \n",
       "15          121.765217  \n",
       "16          121.765217  \n",
       "17          121.765217  \n",
       "18          121.765217  \n",
       "19          121.765217  \n",
       "20          121.765217  \n",
       "21          121.765217  \n",
       "22          121.765217  \n",
       "23          121.765217  \n",
       "24          121.765217  \n",
       "25          121.765217  \n",
       "26          121.765217  \n",
       "27          121.765217  \n",
       "28          121.765217  \n",
       "29          121.765217  \n",
       "30          121.765217  \n",
       "31          121.765217  \n",
       "32          121.765217  \n",
       "33          121.765217  \n",
       "34          121.765217  \n",
       "35          121.765217  \n",
       "36          121.765217  \n",
       "37          121.765217  \n",
       "38          121.765217  \n",
       "39          121.765217  \n",
       "40          121.765217  \n",
       "41          121.765217  \n",
       "42          121.765217  \n",
       "43          121.765217  \n",
       "44          121.765217  \n",
       "45          121.765217  \n",
       "46          121.765217  \n",
       "47          121.765217  \n",
       "48          121.765217  \n",
       "49          121.765217  "
      ]
     },
     "execution_count": 36,
     "metadata": {},
     "output_type": "execute_result"
    }
   ],
   "source": [
    "data.head(50)"
   ]
  },
  {
   "cell_type": "markdown",
   "metadata": {
    "run_control": {
     "frozen": false,
     "read_only": false
    }
   },
   "source": [
    "## Plot the distribution of tip percentages and describe its first and second moment"
   ]
  },
  {
   "cell_type": "code",
   "execution_count": 37,
   "metadata": {
    "ExecuteTime": {
     "end_time": "2017-10-31T22:24:45.235818",
     "start_time": "2017-10-31T22:24:45.203597"
    },
    "collapsed": false,
    "run_control": {
     "frozen": false,
     "read_only": false
    }
   },
   "outputs": [
    {
     "ename": "NameError",
     "evalue": "name 'pl' is not defined",
     "output_type": "error",
     "traceback": [
      "\u001b[0;31m---------------------------------------------------------------------------\u001b[0m",
      "\u001b[0;31mNameError\u001b[0m                                 Traceback (most recent call last)",
      "\u001b[0;32m<ipython-input-37-34b8c66d08af>\u001b[0m in \u001b[0;36m<module>\u001b[0;34m()\u001b[0m\n\u001b[0;32m----> 1\u001b[0;31m \u001b[0mpl\u001b[0m\u001b[0;34m.\u001b[0m\u001b[0mhist\u001b[0m\u001b[0;34m(\u001b[0m\u001b[0mdata\u001b[0m\u001b[0;34m[\u001b[0m\u001b[0;34m'Tip Percent'\u001b[0m\u001b[0;34m]\u001b[0m\u001b[0;34m,\u001b[0m \u001b[0;36m100\u001b[0m\u001b[0;34m,\u001b[0m \u001b[0;34m(\u001b[0m\u001b[0;36m0\u001b[0m\u001b[0;34m,\u001b[0m\u001b[0;36m30\u001b[0m\u001b[0;34m)\u001b[0m\u001b[0;34m)\u001b[0m\u001b[0;34m;\u001b[0m\u001b[0;34m\u001b[0m\u001b[0m\n\u001b[0m\u001b[1;32m      2\u001b[0m \u001b[0mtitle\u001b[0m\u001b[0;34m(\u001b[0m\u001b[0;34m\"Histogram of Tip Percentage Distribution\"\u001b[0m\u001b[0;34m)\u001b[0m\u001b[0;34m;\u001b[0m\u001b[0;34m\u001b[0m\u001b[0m\n\u001b[1;32m      3\u001b[0m \u001b[0mxlabel\u001b[0m\u001b[0;34m(\u001b[0m\u001b[0;34m\"Tip Percentage\"\u001b[0m\u001b[0;34m)\u001b[0m\u001b[0;34m;\u001b[0m\u001b[0;34m\u001b[0m\u001b[0m\n\u001b[1;32m      4\u001b[0m \u001b[0mylabel\u001b[0m\u001b[0;34m(\u001b[0m\u001b[0;34m\"Frequency\"\u001b[0m\u001b[0;34m)\u001b[0m\u001b[0;34m;\u001b[0m\u001b[0;34m\u001b[0m\u001b[0m\n",
      "\u001b[0;31mNameError\u001b[0m: name 'pl' is not defined"
     ]
    }
   ],
   "source": [
    "pl.hist(data['Tip Percent'], 100, (0,30));\n",
    "title(\"Histogram of Tip Percentage Distribution\");\n",
    "xlabel(\"Tip Percentage\");\n",
    "ylabel(\"Frequency\");"
   ]
  },
  {
   "cell_type": "code",
   "execution_count": 37,
   "metadata": {
    "collapsed": false
   },
   "outputs": [
    {
     "data": {
      "image/png": "[encoded data removed]",
      "text/plain": [
       "<matplotlib.figure.Figure at 0x103ba6950>"
      ]
     },
     "metadata": {},
     "output_type": "display_data"
    }
   ],
   "source": [
    "# FBB missing pylab import\n",
    "import pylab as pl\n",
    "pl.hist(data['Tip Percent'], 100, (0,30));\n",
    "title(\"Histogram of Tip Percentage Distribution\");\n",
    "xlabel(\"Tip Percentage\");\n",
    "ylabel(\"Frequency\");"
   ]
  },
  {
   "cell_type": "markdown",
   "metadata": {},
   "source": [
    "# FBB missing caption -3"
   ]
  },
  {
   "cell_type": "code",
   "execution_count": null,
   "metadata": {
    "ExecuteTime": {
     "end_time": "2017-10-31T22:24:45.237046",
     "start_time": "2017-11-01T02:24:45.211Z"
    },
    "collapsed": false,
    "run_control": {
     "frozen": false,
     "read_only": false
    }
   },
   "outputs": [],
   "source": [
    "#moment 1 is the mean\n",
    "mean = mean(data['Tip Percent'])\n",
    "print('The mean of the distribution of tip percentage is: ', mean)"
   ]
  },
  {
   "cell_type": "code",
   "execution_count": null,
   "metadata": {
    "ExecuteTime": {
     "end_time": "2017-10-31T22:24:45.237821",
     "start_time": "2017-11-01T02:24:45.220Z"
    },
    "collapsed": false,
    "run_control": {
     "frozen": false,
     "read_only": false
    }
   },
   "outputs": [],
   "source": [
    "#moment 2 is the variance\n",
    "variance = sqrt(std(data['Tip Percent']))\n",
    "print('The mean of the distribution of tip percentage is: ', variance)"
   ]
  },
  {
   "cell_type": "markdown",
   "metadata": {},
   "source": [
    "# FBB missing caption in figure, missing description of the fact that you trimmed the x range. taht is important especially since I specifically ask to discuss outliers!\n",
    "# FBB task 6 5/10"
   ]
  },
  {
   "cell_type": "markdown",
   "metadata": {
    "run_control": {
     "frozen": false,
     "read_only": false
    }
   },
   "source": [
    "## Test if the distribution is consistent with a Gaussian"
   ]
  },
  {
   "cell_type": "code",
   "execution_count": 38,
   "metadata": {
    "ExecuteTime": {
     "end_time": "2017-10-31T22:24:45.516023",
     "start_time": "2017-10-31T22:24:45.479144"
    },
    "collapsed": false,
    "run_control": {
     "frozen": false,
     "read_only": false
    }
   },
   "outputs": [
    {
     "ename": "NameError",
     "evalue": "name 'np' is not defined",
     "output_type": "error",
     "traceback": [
      "\u001b[0;31m---------------------------------------------------------------------------\u001b[0m",
      "\u001b[0;31mNameError\u001b[0m                                 Traceback (most recent call last)",
      "\u001b[0;32m<ipython-input-38-3c1cf2c04ac9>\u001b[0m in \u001b[0;36m<module>\u001b[0;34m()\u001b[0m\n\u001b[1;32m      1\u001b[0m \u001b[0;31m#Create a Gaussian distribution with which to compare\u001b[0m\u001b[0;34m\u001b[0m\u001b[0;34m\u001b[0m\u001b[0m\n\u001b[0;32m----> 2\u001b[0;31m \u001b[0mnp\u001b[0m\u001b[0;34m.\u001b[0m\u001b[0mrandom\u001b[0m\u001b[0;34m.\u001b[0m\u001b[0mseed\u001b[0m\u001b[0;34m(\u001b[0m\u001b[0;36m100\u001b[0m\u001b[0;34m)\u001b[0m\u001b[0;34m\u001b[0m\u001b[0m\n\u001b[0m\u001b[1;32m      3\u001b[0m \u001b[0mgaussDistribution\u001b[0m \u001b[0;34m=\u001b[0m \u001b[0mnp\u001b[0m\u001b[0;34m.\u001b[0m\u001b[0mrandom\u001b[0m\u001b[0;34m.\u001b[0m\u001b[0mnormal\u001b[0m\u001b[0;34m(\u001b[0m\u001b[0;36m0\u001b[0m\u001b[0;34m,\u001b[0m \u001b[0;36m1\u001b[0m\u001b[0;34m,\u001b[0m \u001b[0;36m100\u001b[0m\u001b[0;34m)\u001b[0m\u001b[0;34m\u001b[0m\u001b[0m\n",
      "\u001b[0;31mNameError\u001b[0m: name 'np' is not defined"
     ]
    }
   ],
   "source": [
    "#Create a Gaussian distribution with which to compare\n",
    "np.random.seed(100)\n",
    "gaussDistribution = np.random.normal(0, 1, 100)"
   ]
  },
  {
   "cell_type": "code",
   "execution_count": 38,
   "metadata": {
    "collapsed": true
   },
   "outputs": [],
   "source": [
    "#FBB did not import numpy\n",
    "import numpy as np\n",
    "np.random.seed(100)\n",
    "gaussDistribution = np.random.normal(0, 1, 100)"
   ]
  },
  {
   "cell_type": "code",
   "execution_count": 39,
   "metadata": {
    "ExecuteTime": {
     "end_time": "2017-10-31T22:24:45.516729",
     "start_time": "2017-11-01T02:24:45.497Z"
    },
    "collapsed": false,
    "run_control": {
     "frozen": false,
     "read_only": false
    }
   },
   "outputs": [
    {
     "data": {
      "image/png": "[encoded data removed]",
      "text/plain": [
       "<matplotlib.figure.Figure at 0x10f8bdb50>"
      ]
     },
     "metadata": {},
     "output_type": "display_data"
    }
   ],
   "source": [
    "fig = pl.figure(figsize=(15,5))\n",
    "fig.suptitle('Comparing Gaussian Distribution to Distribution of Tip Percentages')\n",
    "\n",
    "ax1 = fig.add_subplot(121)\n",
    "ax1.hist(gaussDistribution)\n",
    "ax1.set_xlabel(\"Value\")\n",
    "ax1.set_ylabel(\"Frequency\")\n",
    "ax1.set_ylim()\n",
    "\n",
    "ax2 = fig.add_subplot(122)\n",
    "ax2.hist(data['Tip Percent'])\n",
    "ax2.set_xlabel(\"Value\")\n",
    "ax2.set_ylabel(\"Frequency\")\n",
    "ax2.set_ylim()\n",
    "pl.show()"
   ]
  },
  {
   "cell_type": "markdown",
   "metadata": {
    "run_control": {
     "frozen": false,
     "read_only": false
    }
   },
   "source": [
    "**Figure 1:** These don't look very similar..."
   ]
  },
  {
   "cell_type": "markdown",
   "metadata": {},
   "source": [
    "# FBB not a caption. Now your x axis is \"value\" which is not descriptive"
   ]
  },
  {
   "cell_type": "code",
   "execution_count": 39,
   "metadata": {
    "ExecuteTime": {
     "end_time": "2017-10-31T22:24:45.670037",
     "start_time": "2017-10-31T22:24:45.639297"
    },
    "collapsed": false,
    "run_control": {
     "frozen": false,
     "read_only": false
    }
   },
   "outputs": [
    {
     "ename": "NameError",
     "evalue": "name 'scipy' is not defined",
     "output_type": "error",
     "traceback": [
      "\u001b[0;31m---------------------------------------------------------------------------\u001b[0m",
      "\u001b[0;31mNameError\u001b[0m                                 Traceback (most recent call last)",
      "\u001b[0;32m<ipython-input-39-0c43669cba1d>\u001b[0m in \u001b[0;36m<module>\u001b[0;34m()\u001b[0m\n\u001b[0;32m----> 1\u001b[0;31m \u001b[0mscipy\u001b[0m\u001b[0;34m.\u001b[0m\u001b[0mstats\u001b[0m\u001b[0;34m.\u001b[0m\u001b[0mkstest\u001b[0m\u001b[0;34m(\u001b[0m\u001b[0mdata\u001b[0m\u001b[0;34m[\u001b[0m\u001b[0;34m'Tip Percent'\u001b[0m\u001b[0;34m]\u001b[0m\u001b[0;34m,\u001b[0m \u001b[0;34m\"norm\"\u001b[0m\u001b[0;34m)\u001b[0m\u001b[0;34m\u001b[0m\u001b[0m\n\u001b[0m",
      "\u001b[0;31mNameError\u001b[0m: name 'scipy' is not defined"
     ]
    }
   ],
   "source": [
    "scipy.stats.kstest(data['Tip Percent'], \"norm\")"
   ]
  },
  {
   "cell_type": "markdown",
   "metadata": {},
   "source": [
    "# FBB right test but used incorrectly. for the KS test data has to be standardized:\n",
    "scipy.stats.kstest((data['Tip Percent'] - data['Tip Percent'].mean()) / data['Tip Percent'].std(), \"norm\")\n",
    "\n",
    "# FBB if 0 tips were removed this may look more gaussian $0 tips are tips not recorded for tax purposes"
   ]
  },
  {
   "cell_type": "markdown",
   "metadata": {
    "run_control": {
     "frozen": false,
     "read_only": false
    }
   },
   "source": [
    "**Interpretation:** With a p-value of zero, we have to reject the null that these two distributions are identical. Thus we can say that the distribution of tips is not Gaussian."
   ]
  },
  {
   "cell_type": "markdown",
   "metadata": {},
   "source": [
    "# FBB task 7 5/10 (test used wrong but interpreted right)"
   ]
  },
  {
   "cell_type": "markdown",
   "metadata": {
    "heading_collapsed": true,
    "run_control": {
     "frozen": false,
     "read_only": false
    }
   },
   "source": [
    "## Fit a line to taxi fare vs trip duration and to taxi fare vs trip distance to decide which variable between duration and distance \"contains more information\" when used with the fare"
   ]
  },
  {
   "cell_type": "code",
   "execution_count": 40,
   "metadata": {
    "ExecuteTime": {
     "end_time": "2017-10-31T22:24:46.240330",
     "start_time": "2017-10-31T22:24:46.209850"
    },
    "collapsed": false,
    "hidden": true,
    "run_control": {
     "frozen": false,
     "read_only": false
    }
   },
   "outputs": [
    {
     "ename": "NameError",
     "evalue": "name 'np' is not defined",
     "output_type": "error",
     "traceback": [
      "\u001b[0;31m---------------------------------------------------------------------------\u001b[0m",
      "\u001b[0;31mNameError\u001b[0m                                 Traceback (most recent call last)",
      "\u001b[0;32m<ipython-input-40-8ac45f809f8a>\u001b[0m in \u001b[0;36m<module>\u001b[0;34m()\u001b[0m\n\u001b[1;32m      1\u001b[0m \u001b[0;31m#We have to turn a time type into a float\u001b[0m\u001b[0;34m\u001b[0m\u001b[0;34m\u001b[0m\u001b[0m\n\u001b[0;32m----> 2\u001b[0;31m \u001b[0mduration\u001b[0m \u001b[0;34m=\u001b[0m \u001b[0mpd\u001b[0m\u001b[0;34m.\u001b[0m\u001b[0mDataFrame\u001b[0m\u001b[0;34m(\u001b[0m\u001b[0mdata\u001b[0m\u001b[0;34m[\u001b[0m\u001b[0;34m'Duration'\u001b[0m\u001b[0;34m]\u001b[0m\u001b[0;34m)\u001b[0m\u001b[0;34m.\u001b[0m\u001b[0mapply\u001b[0m\u001b[0;34m(\u001b[0m\u001b[0mnp\u001b[0m\u001b[0;34m.\u001b[0m\u001b[0mfloat32\u001b[0m\u001b[0;34m)\u001b[0m\u001b[0;34m\u001b[0m\u001b[0m\n\u001b[0m\u001b[1;32m      3\u001b[0m \u001b[0mX\u001b[0m \u001b[0;34m=\u001b[0m \u001b[0msm\u001b[0m\u001b[0;34m.\u001b[0m\u001b[0madd_constant\u001b[0m\u001b[0;34m(\u001b[0m\u001b[0mduration\u001b[0m\u001b[0;34m)\u001b[0m\u001b[0;34m\u001b[0m\u001b[0m\n\u001b[1;32m      4\u001b[0m \u001b[0mdurationModel\u001b[0m \u001b[0;34m=\u001b[0m \u001b[0msm\u001b[0m\u001b[0;34m.\u001b[0m\u001b[0mOLS\u001b[0m\u001b[0;34m(\u001b[0m\u001b[0mendog\u001b[0m\u001b[0;34m=\u001b[0m\u001b[0mdata\u001b[0m\u001b[0;34m[\u001b[0m\u001b[0;34m'Fare'\u001b[0m\u001b[0;34m]\u001b[0m\u001b[0;34m,\u001b[0m \u001b[0mexog\u001b[0m\u001b[0;34m=\u001b[0m\u001b[0mX\u001b[0m\u001b[0;34m)\u001b[0m\u001b[0;34m.\u001b[0m\u001b[0mfit\u001b[0m\u001b[0;34m(\u001b[0m\u001b[0;34m)\u001b[0m\u001b[0;34m\u001b[0m\u001b[0m\n",
      "\u001b[0;31mNameError\u001b[0m: name 'np' is not defined"
     ]
    }
   ],
   "source": [
    "#We have to turn a time type into a float\n",
    "duration = pd.DataFrame(data['Duration']).apply(np.float32)\n",
    "X = sm.add_constant(duration)\n",
    "durationModel = sm.OLS(endog=data['Fare'], exog=X).fit()"
   ]
  },
  {
   "cell_type": "code",
   "execution_count": null,
   "metadata": {
    "ExecuteTime": {
     "end_time": "2017-10-31T22:24:46.241520",
     "start_time": "2017-11-01T02:24:46.218Z"
    },
    "collapsed": true,
    "hidden": true,
    "run_control": {
     "frozen": false,
     "read_only": false
    }
   },
   "outputs": [],
   "source": [
    "X = sm.add_constant(data['Trip Distance'])\n",
    "distanceModel = sm.OLS(endog=data['Fare'], exog=X).fit()"
   ]
  },
  {
   "cell_type": "code",
   "execution_count": null,
   "metadata": {
    "ExecuteTime": {
     "end_time": "2017-10-31T22:24:46.242259",
     "start_time": "2017-11-01T02:24:46.230Z"
    },
    "collapsed": false,
    "hidden": true,
    "run_control": {
     "frozen": false,
     "read_only": false
    }
   },
   "outputs": [],
   "source": [
    "durationModel.summary()"
   ]
  },
  {
   "cell_type": "code",
   "execution_count": null,
   "metadata": {
    "ExecuteTime": {
     "end_time": "2017-10-31T22:24:46.244724",
     "start_time": "2017-11-01T02:24:46.242Z"
    },
    "collapsed": false,
    "hidden": true,
    "run_control": {
     "frozen": false,
     "read_only": false
    }
   },
   "outputs": [],
   "source": [
    "distanceModel.summary()"
   ]
  },
  {
   "cell_type": "markdown",
   "metadata": {
    "hidden": true,
    "run_control": {
     "frozen": false,
     "read_only": false
    }
   },
   "source": [
    "**Interpretation:** The distance model has a better R squared value but logically in my mind, I think duration is more important as distances are usually pretty small no matter what in NYC. It's the traffic that matters..."
   ]
  },
  {
   "cell_type": "code",
   "execution_count": 41,
   "metadata": {
    "ExecuteTime": {
     "end_time": "2017-10-31T22:24:46.457608",
     "start_time": "2017-10-31T22:24:46.429243"
    },
    "collapsed": false,
    "hidden": true,
    "run_control": {
     "frozen": false,
     "read_only": false
    }
   },
   "outputs": [
    {
     "ename": "NameError",
     "evalue": "name 'durationModel' is not defined",
     "output_type": "error",
     "traceback": [
      "\u001b[0;31m---------------------------------------------------------------------------\u001b[0m",
      "\u001b[0;31mNameError\u001b[0m                                 Traceback (most recent call last)",
      "\u001b[0;32m<ipython-input-41-7de4f9502f47>\u001b[0m in \u001b[0;36m<module>\u001b[0;34m()\u001b[0m\n\u001b[0;32m----> 1\u001b[0;31m \u001b[0mdurationValues\u001b[0m \u001b[0;34m=\u001b[0m \u001b[0mdurationModel\u001b[0m\u001b[0;34m.\u001b[0m\u001b[0mfittedvalues\u001b[0m\u001b[0;34m\u001b[0m\u001b[0m\n\u001b[0m\u001b[1;32m      2\u001b[0m \u001b[0mdistanceValues\u001b[0m \u001b[0;34m=\u001b[0m \u001b[0mdistanceModel\u001b[0m\u001b[0;34m.\u001b[0m\u001b[0mfittedvalues\u001b[0m\u001b[0;34m\u001b[0m\u001b[0m\n",
      "\u001b[0;31mNameError\u001b[0m: name 'durationModel' is not defined"
     ]
    }
   ],
   "source": [
    "durationValues = durationModel.fittedvalues\n",
    "distanceValues = distanceModel.fittedvalues"
   ]
  },
  {
   "cell_type": "code",
   "execution_count": null,
   "metadata": {
    "ExecuteTime": {
     "end_time": "2017-10-31T22:24:46.458298",
     "start_time": "2017-11-01T02:24:46.445Z"
    },
    "collapsed": false,
    "hidden": true,
    "run_control": {
     "frozen": false,
     "read_only": false
    }
   },
   "outputs": [],
   "source": [
    "pl.plot(data['Trip Distance'], distanceValues, '-', label='Distance Fit')\n",
    "pl.plot(data['Duration'], durationValues, '-', label='Duration Fit')\n",
    "pl.plot(data['Trip Distance'], data['Fare'], '.')\n",
    "pl.plot(data['Duration'], data['Fare'], '.')\n",
    "ax.set_xlabel(\"Duration or Distance of Trip\")\n",
    "ax.set_ylabel(\"Fare of Trip\")\n",
    "pl.legend()\n",
    "pl.show()"
   ]
  },
  {
   "cell_type": "markdown",
   "metadata": {
    "hidden": true,
    "run_control": {
     "frozen": false,
     "read_only": false
    }
   },
   "source": [
    "**Figure 2:** It does look like distance explains more than duration as its points are all along that line. But still this does not make sense as in NYC, distance in actual miles is not that much but it is time that really takes its toll in terms of fares. "
   ]
  },
  {
   "cell_type": "markdown",
   "metadata": {
    "run_control": {
     "frozen": false,
     "read_only": false
    }
   },
   "source": [
    "## Remove outliers and assess if this has an effect this has on the model"
   ]
  },
  {
   "cell_type": "code",
   "execution_count": 42,
   "metadata": {
    "ExecuteTime": {
     "end_time": "2017-10-31T22:24:47.134350",
     "start_time": "2017-10-31T22:24:47.074924"
    },
    "collapsed": false,
    "run_control": {
     "frozen": false,
     "read_only": false
    }
   },
   "outputs": [
    {
     "name": "stdout",
     "output_type": "stream",
     "text": [
      "       Trip Distance                Duration          Fare   Tip Percent  \\\n",
      "count   12799.000000                   12799  12799.000000  12799.000000   \n",
      "mean        2.494942  0 days 00:11:09.371279      9.357508      4.864673   \n",
      "std         2.753426  0 days 00:15:34.228584      6.503903     15.023289   \n",
      "min         0.000000       -1 days +23:04:00      2.500000      0.000000   \n",
      "25%         1.000000         0 days 00:05:54      5.700000      0.000000   \n",
      "50%         1.620000         0 days 00:09:00      7.500000      0.000000   \n",
      "75%         2.900000         0 days 00:14:00     10.700000      0.000000   \n",
      "max        31.430000         0 days 23:59:00     68.900000    900.000000   \n",
      "\n",
      "       Departure Income  Destination Income  \n",
      "count      12799.000000        12799.000000  \n",
      "mean         142.057856          137.696827  \n",
      "std           66.271410           69.467379  \n",
      "min            6.793243            6.655770  \n",
      "25%          111.452011          101.184332  \n",
      "50%          136.763861          121.765217  \n",
      "75%          170.259993          170.259993  \n",
      "max          430.402252          430.402252  \n"
     ]
    }
   ],
   "source": [
    "print(data.describe())"
   ]
  },
  {
   "cell_type": "markdown",
   "metadata": {
    "run_control": {
     "frozen": false,
     "read_only": false
    }
   },
   "source": [
    "**Interpretation:** We can see that there is a massive amount of no tips! It then zooms up to 233%! This 233% is definitely an outlier! (Who gives that high of a tip?! You made outta money or something?!) Let's drop tip percents that are above 50%. There's also an odd negative time. Not sure how that happened but let's fix that. And there's a 6 hour trip! Oh god. That's awful. Let's get rid of that too. Oh and that 20 miles...That's too high too!"
   ]
  },
  {
   "cell_type": "markdown",
   "metadata": {},
   "source": [
    "# FBB good, one of the few notebook that shared the rational for the outliers. However, you never told me what that did to the data? what are the new stats? new mean for tip? turns out its just about 20%!"
   ]
  },
  {
   "cell_type": "markdown",
   "metadata": {},
   "source": [
    "# FBB yes!"
   ]
  },
  {
   "cell_type": "code",
   "execution_count": 43,
   "metadata": {
    "ExecuteTime": {
     "end_time": "2017-10-31T22:24:47.691823",
     "start_time": "2017-10-31T22:24:47.681761"
    },
    "collapsed": true,
    "run_control": {
     "frozen": false,
     "read_only": false
    }
   },
   "outputs": [],
   "source": [
    "#Our duration is in an annoying deltatime dtype and I don't have enough time to figure out\n",
    "#how to change this cause I've never used this before so I'm gonna\n",
    "#Coerce it and it turns it into nanoseconds so I divide them by how many\n",
    "#nanoseconds are in an hour to get a rough approximation of an hour\n",
    "data['Duration'] = pd.to_numeric(data['Duration'], errors='coerce')\n",
    "data['Duration'] = data['Duration'] / 3.6e+12"
   ]
  },
  {
   "cell_type": "markdown",
   "metadata": {},
   "source": [
    "# FBB good enough "
   ]
  },
  {
   "cell_type": "code",
   "execution_count": 44,
   "metadata": {
    "ExecuteTime": {
     "end_time": "2017-10-31T22:24:47.921543",
     "start_time": "2017-10-31T22:24:47.906888"
    },
    "collapsed": true,
    "run_control": {
     "frozen": false,
     "read_only": false
    }
   },
   "outputs": [],
   "source": [
    "newData = data[data['Tip Percent'] < 50]\n",
    "newData = newData[newData['Duration'] > 0]\n",
    "newData = newData[newData['Duration'] < .23]\n",
    "newData = newData[newData['Trip Distance'] < 5]"
   ]
  },
  {
   "cell_type": "code",
   "execution_count": 45,
   "metadata": {
    "ExecuteTime": {
     "end_time": "2017-10-31T22:24:47.955200",
     "start_time": "2017-10-31T22:24:47.926482"
    },
    "collapsed": false,
    "run_control": {
     "frozen": false,
     "read_only": false
    }
   },
   "outputs": [
    {
     "ename": "NameError",
     "evalue": "name 'sm' is not defined",
     "output_type": "error",
     "traceback": [
      "\u001b[0;31m---------------------------------------------------------------------------\u001b[0m",
      "\u001b[0;31mNameError\u001b[0m                                 Traceback (most recent call last)",
      "\u001b[0;32m<ipython-input-45-966dc5fbc01e>\u001b[0m in \u001b[0;36m<module>\u001b[0;34m()\u001b[0m\n\u001b[0;32m----> 1\u001b[0;31m \u001b[0mX\u001b[0m \u001b[0;34m=\u001b[0m \u001b[0msm\u001b[0m\u001b[0;34m.\u001b[0m\u001b[0madd_constant\u001b[0m\u001b[0;34m(\u001b[0m\u001b[0mnewData\u001b[0m\u001b[0;34m[\u001b[0m\u001b[0;34m'Duration'\u001b[0m\u001b[0;34m]\u001b[0m\u001b[0;34m)\u001b[0m\u001b[0;34m\u001b[0m\u001b[0m\n\u001b[0m\u001b[1;32m      2\u001b[0m \u001b[0mdurationModel\u001b[0m \u001b[0;34m=\u001b[0m \u001b[0msm\u001b[0m\u001b[0;34m.\u001b[0m\u001b[0mOLS\u001b[0m\u001b[0;34m(\u001b[0m\u001b[0mendog\u001b[0m\u001b[0;34m=\u001b[0m\u001b[0mnewData\u001b[0m\u001b[0;34m[\u001b[0m\u001b[0;34m'Fare'\u001b[0m\u001b[0;34m]\u001b[0m\u001b[0;34m,\u001b[0m \u001b[0mexog\u001b[0m\u001b[0;34m=\u001b[0m\u001b[0mX\u001b[0m\u001b[0;34m)\u001b[0m\u001b[0;34m.\u001b[0m\u001b[0mfit\u001b[0m\u001b[0;34m(\u001b[0m\u001b[0;34m)\u001b[0m\u001b[0;34m\u001b[0m\u001b[0m\n",
      "\u001b[0;31mNameError\u001b[0m: name 'sm' is not defined"
     ]
    }
   ],
   "source": [
    "X = sm.add_constant(newData['Duration'])\n",
    "durationModel = sm.OLS(endog=newData['Fare'], exog=X).fit()"
   ]
  },
  {
   "cell_type": "code",
   "execution_count": null,
   "metadata": {
    "ExecuteTime": {
     "end_time": "2017-10-31T22:24:47.956161",
     "start_time": "2017-11-01T02:24:47.934Z"
    },
    "collapsed": false,
    "run_control": {
     "frozen": false,
     "read_only": false
    }
   },
   "outputs": [],
   "source": [
    "durationModel.summary()"
   ]
  },
  {
   "cell_type": "code",
   "execution_count": null,
   "metadata": {
    "ExecuteTime": {
     "end_time": "2017-10-31T22:24:47.956600",
     "start_time": "2017-11-01T02:24:47.948Z"
    },
    "collapsed": true,
    "run_control": {
     "frozen": false,
     "read_only": false
    }
   },
   "outputs": [],
   "source": [
    "X = sm.add_constant(newData['Trip Distance'])\n",
    "distanceModel = sm.OLS(endog=newData['Fare'], exog=X).fit()"
   ]
  },
  {
   "cell_type": "code",
   "execution_count": null,
   "metadata": {
    "ExecuteTime": {
     "end_time": "2017-10-31T22:24:47.963498",
     "start_time": "2017-11-01T02:24:47.961Z"
    },
    "collapsed": false,
    "run_control": {
     "frozen": false,
     "read_only": false
    }
   },
   "outputs": [],
   "source": [
    "distanceModel.summary()"
   ]
  },
  {
   "cell_type": "code",
   "execution_count": null,
   "metadata": {
    "ExecuteTime": {
     "end_time": "2017-10-31T22:24:47.973028",
     "start_time": "2017-11-01T02:24:47.970Z"
    },
    "collapsed": false,
    "run_control": {
     "frozen": false,
     "read_only": false
    }
   },
   "outputs": [],
   "source": [
    "durationValues = durationModel.fittedvalues\n",
    "\n",
    "fig = pl.figure(figsize=(15,5)) \n",
    "ax = fig.add_subplot(111)\n",
    "\n",
    "pl.plot(newData['Duration'], durationValues, '-', label='Duration Fit')\n",
    "pl.plot(newData['Duration'], newData['Fare'], '.')\n",
    "ax.set_xlabel(\"Duration of Trip\")\n",
    "ax.set_ylabel(\"Fare of Trip\")\n",
    "pl.legend()\n",
    "pl.show()"
   ]
  },
  {
   "cell_type": "code",
   "execution_count": null,
   "metadata": {
    "ExecuteTime": {
     "end_time": "2017-10-31T22:24:47.985921",
     "start_time": "2017-11-01T02:24:47.983Z"
    },
    "collapsed": false,
    "run_control": {
     "frozen": false,
     "read_only": false
    }
   },
   "outputs": [],
   "source": [
    "distanceValues = distanceModel.fittedvalues\n",
    "\n",
    "fig = pl.figure(figsize=(15,5)) \n",
    "ax = fig.add_subplot(111)\n",
    "\n",
    "pl.plot(newData['Trip Distance'], distanceValues, '-', label='Duration Fit')\n",
    "pl.plot(newData['Trip Distance'], newData['Fare'], '.')\n",
    "ax.set_xlabel(\"Distance of Trip\")\n",
    "ax.set_ylabel(\"Fare of Trip\")\n",
    "pl.legend()\n",
    "pl.show()"
   ]
  },
  {
   "cell_type": "markdown",
   "metadata": {
    "run_control": {
     "frozen": false,
     "read_only": false
    }
   },
   "source": [
    "**Figure 3:** Well look at that! As the distance goes higher, there are fewer points compared to duration. Yet, distance still has a better R-squared. But it still makes more sense for duration."
   ]
  },
  {
   "cell_type": "markdown",
   "metadata": {
    "ExecuteTime": {
     "end_time": "2017-10-31T22:13:33.105991",
     "start_time": "2017-10-31T22:13:33.094853"
    }
   },
   "source": [
    "# FBB good observation in p- but the answer to my question, which should be used, is confusing at best"
   ]
  },
  {
   "cell_type": "markdown",
   "metadata": {
    "run_control": {
     "frozen": false,
     "read_only": false
    }
   },
   "source": [
    "## Create two multivariate linear model to predict the tip percentage"
   ]
  },
  {
   "cell_type": "code",
   "execution_count": 46,
   "metadata": {
    "ExecuteTime": {
     "end_time": "2017-10-31T22:24:48.735891",
     "start_time": "2017-10-31T22:24:48.705601"
    },
    "collapsed": false,
    "run_control": {
     "frozen": false,
     "read_only": false
    }
   },
   "outputs": [
    {
     "ename": "NameError",
     "evalue": "name 'smf' is not defined",
     "output_type": "error",
     "traceback": [
      "\u001b[0;31m---------------------------------------------------------------------------\u001b[0m",
      "\u001b[0;31mNameError\u001b[0m                                 Traceback (most recent call last)",
      "\u001b[0;32m<ipython-input-46-8ccd22594bc5>\u001b[0m in \u001b[0;36m<module>\u001b[0;34m()\u001b[0m\n\u001b[1;32m      1\u001b[0m \u001b[0mdf\u001b[0m \u001b[0;34m=\u001b[0m \u001b[0mpd\u001b[0m\u001b[0;34m.\u001b[0m\u001b[0mDataFrame\u001b[0m\u001b[0;34m(\u001b[0m\u001b[0;34m{\u001b[0m\u001b[0;34m'y'\u001b[0m\u001b[0;34m:\u001b[0m\u001b[0mnewData\u001b[0m\u001b[0;34m[\u001b[0m\u001b[0;34m'Tip Percent'\u001b[0m\u001b[0;34m]\u001b[0m\u001b[0;34m,\u001b[0m \u001b[0;34m'x1'\u001b[0m\u001b[0;34m:\u001b[0m\u001b[0mnewData\u001b[0m\u001b[0;34m[\u001b[0m\u001b[0;34m'Destination Income'\u001b[0m\u001b[0;34m]\u001b[0m\u001b[0;34m,\u001b[0m \u001b[0;34m'x2'\u001b[0m\u001b[0;34m:\u001b[0m\u001b[0mnewData\u001b[0m\u001b[0;34m[\u001b[0m\u001b[0;34m'Departure Income'\u001b[0m\u001b[0;34m]\u001b[0m\u001b[0;34m}\u001b[0m\u001b[0;34m)\u001b[0m\u001b[0;34m\u001b[0m\u001b[0m\n\u001b[0;32m----> 2\u001b[0;31m \u001b[0mmultivariateModel_1\u001b[0m \u001b[0;34m=\u001b[0m \u001b[0msmf\u001b[0m\u001b[0;34m.\u001b[0m\u001b[0mols\u001b[0m\u001b[0;34m(\u001b[0m\u001b[0;34m'y ~ x1 + x2'\u001b[0m\u001b[0;34m,\u001b[0m \u001b[0mdata\u001b[0m\u001b[0;34m=\u001b[0m\u001b[0mdf\u001b[0m\u001b[0;34m)\u001b[0m\u001b[0;34m.\u001b[0m\u001b[0mfit\u001b[0m\u001b[0;34m(\u001b[0m\u001b[0;34m)\u001b[0m\u001b[0;34m\u001b[0m\u001b[0m\n\u001b[0m\u001b[1;32m      3\u001b[0m \u001b[0mmultivariateModel_1\u001b[0m\u001b[0;34m.\u001b[0m\u001b[0msummary\u001b[0m\u001b[0;34m(\u001b[0m\u001b[0;34m)\u001b[0m\u001b[0;34m\u001b[0m\u001b[0m\n",
      "\u001b[0;31mNameError\u001b[0m: name 'smf' is not defined"
     ]
    }
   ],
   "source": [
    "df = pd.DataFrame({'y':newData['Tip Percent'], 'x1':newData['Destination Income'], 'x2':newData['Departure Income']})\n",
    "multivariateModel_1 = smf.ols('y ~ x1 + x2', data=df).fit()\n",
    "multivariateModel_1.summary()"
   ]
  },
  {
   "cell_type": "markdown",
   "metadata": {},
   "source": [
    "# FBB you did not import smf (or you removed the import in the final version)"
   ]
  },
  {
   "cell_type": "code",
   "execution_count": 51,
   "metadata": {
    "ExecuteTime": {
     "end_time": "2017-10-31T22:25:53.807945",
     "start_time": "2017-10-31T22:25:52.494519"
    },
    "collapsed": false
   },
   "outputs": [
    {
     "data": {
      "text/html": [
       "<table class=\"simpletable\">\n",
       "<caption>OLS Regression Results</caption>\n",
       "<tr>\n",
       "  <th>Dep. Variable:</th>            <td>y</td>        <th>  R-squared:         </th> <td>   0.001</td> \n",
       "</tr>\n",
       "<tr>\n",
       "  <th>Model:</th>                   <td>OLS</td>       <th>  Adj. R-squared:    </th> <td>   0.001</td> \n",
       "</tr>\n",
       "<tr>\n",
       "  <th>Method:</th>             <td>Least Squares</td>  <th>  F-statistic:       </th> <td>   6.114</td> \n",
       "</tr>\n",
       "<tr>\n",
       "  <th>Date:</th>             <td>Tue, 31 Oct 2017</td> <th>  Prob (F-statistic):</th>  <td>0.00222</td> \n",
       "</tr>\n",
       "<tr>\n",
       "  <th>Time:</th>                 <td>22:25:53</td>     <th>  Log-Likelihood:    </th> <td> -33056.</td> \n",
       "</tr>\n",
       "<tr>\n",
       "  <th>No. Observations:</th>      <td>  9097</td>      <th>  AIC:               </th> <td>6.612e+04</td>\n",
       "</tr>\n",
       "<tr>\n",
       "  <th>Df Residuals:</th>          <td>  9094</td>      <th>  BIC:               </th> <td>6.614e+04</td>\n",
       "</tr>\n",
       "<tr>\n",
       "  <th>Df Model:</th>              <td>     2</td>      <th>                     </th>     <td> </td>    \n",
       "</tr>\n",
       "<tr>\n",
       "  <th>Covariance Type:</th>      <td>nonrobust</td>    <th>                     </th>     <td> </td>    \n",
       "</tr>\n",
       "</table>\n",
       "<table class=\"simpletable\">\n",
       "<tr>\n",
       "      <td></td>         <th>coef</th>     <th>std err</th>      <th>t</th>      <th>P>|t|</th> <th>[95.0% Conf. Int.]</th> \n",
       "</tr>\n",
       "<tr>\n",
       "  <th>Intercept</th> <td>    4.1769</td> <td>    0.318</td> <td>   13.143</td> <td> 0.000</td> <td>    3.554     4.800</td>\n",
       "</tr>\n",
       "<tr>\n",
       "  <th>x1</th>        <td>    0.0036</td> <td>    0.001</td> <td>    2.567</td> <td> 0.010</td> <td>    0.001     0.006</td>\n",
       "</tr>\n",
       "<tr>\n",
       "  <th>x2</th>        <td>   -0.0033</td> <td>    0.002</td> <td>   -2.172</td> <td> 0.030</td> <td>   -0.006    -0.000</td>\n",
       "</tr>\n",
       "</table>\n",
       "<table class=\"simpletable\">\n",
       "<tr>\n",
       "  <th>Omnibus:</th>       <td>3782.404</td> <th>  Durbin-Watson:     </th> <td>   1.928</td> \n",
       "</tr>\n",
       "<tr>\n",
       "  <th>Prob(Omnibus):</th>  <td> 0.000</td>  <th>  Jarque-Bera (JB):  </th> <td>13320.264</td>\n",
       "</tr>\n",
       "<tr>\n",
       "  <th>Skew:</th>           <td> 2.165</td>  <th>  Prob(JB):          </th> <td>    0.00</td> \n",
       "</tr>\n",
       "<tr>\n",
       "  <th>Kurtosis:</th>       <td> 7.049</td>  <th>  Cond. No.          </th> <td>    693.</td> \n",
       "</tr>\n",
       "</table>"
      ],
      "text/plain": [
       "<class 'statsmodels.iolib.summary.Summary'>\n",
       "\"\"\"\n",
       "                            OLS Regression Results                            \n",
       "==============================================================================\n",
       "Dep. Variable:                      y   R-squared:                       0.001\n",
       "Model:                            OLS   Adj. R-squared:                  0.001\n",
       "Method:                 Least Squares   F-statistic:                     6.114\n",
       "Date:                Tue, 31 Oct 2017   Prob (F-statistic):            0.00222\n",
       "Time:                        22:25:53   Log-Likelihood:                -33056.\n",
       "No. Observations:                9097   AIC:                         6.612e+04\n",
       "Df Residuals:                    9094   BIC:                         6.614e+04\n",
       "Df Model:                           2                                         \n",
       "Covariance Type:            nonrobust                                         \n",
       "==============================================================================\n",
       "                 coef    std err          t      P>|t|      [95.0% Conf. Int.]\n",
       "------------------------------------------------------------------------------\n",
       "Intercept      4.1769      0.318     13.143      0.000         3.554     4.800\n",
       "x1             0.0036      0.001      2.567      0.010         0.001     0.006\n",
       "x2            -0.0033      0.002     -2.172      0.030        -0.006    -0.000\n",
       "==============================================================================\n",
       "Omnibus:                     3782.404   Durbin-Watson:                   1.928\n",
       "Prob(Omnibus):                  0.000   Jarque-Bera (JB):            13320.264\n",
       "Skew:                           2.165   Prob(JB):                         0.00\n",
       "Kurtosis:                       7.049   Cond. No.                         693.\n",
       "==============================================================================\n",
       "\n",
       "Warnings:\n",
       "[1] Standard Errors assume that the covariance matrix of the errors is correctly specified.\n",
       "\"\"\""
      ]
     },
     "execution_count": 51,
     "metadata": {},
     "output_type": "execute_result"
    }
   ],
   "source": [
    "import statsmodels.formula.api as smf\n",
    "df = pd.DataFrame({'y':newData['Tip Percent'], 'x1':newData['Destination Income'], 'x2':newData['Departure Income']})\n",
    "multivariateModel_1 = smf.ols('y ~ x1 + x2', data=df).fit()\n",
    "multivariateModel_1.summary()"
   ]
  },
  {
   "cell_type": "code",
   "execution_count": 52,
   "metadata": {
    "ExecuteTime": {
     "end_time": "2017-10-31T22:25:56.816234",
     "start_time": "2017-10-31T22:25:56.763524"
    },
    "collapsed": false,
    "run_control": {
     "frozen": false,
     "read_only": false
    }
   },
   "outputs": [
    {
     "data": {
      "text/html": [
       "<table class=\"simpletable\">\n",
       "<caption>OLS Regression Results</caption>\n",
       "<tr>\n",
       "  <th>Dep. Variable:</th>            <td>y</td>        <th>  R-squared:         </th> <td>   0.007</td> \n",
       "</tr>\n",
       "<tr>\n",
       "  <th>Model:</th>                   <td>OLS</td>       <th>  Adj. R-squared:    </th> <td>   0.007</td> \n",
       "</tr>\n",
       "<tr>\n",
       "  <th>Method:</th>             <td>Least Squares</td>  <th>  F-statistic:       </th> <td>   32.33</td> \n",
       "</tr>\n",
       "<tr>\n",
       "  <th>Date:</th>             <td>Tue, 31 Oct 2017</td> <th>  Prob (F-statistic):</th> <td>1.02e-14</td> \n",
       "</tr>\n",
       "<tr>\n",
       "  <th>Time:</th>                 <td>22:25:56</td>     <th>  Log-Likelihood:    </th> <td> -33030.</td> \n",
       "</tr>\n",
       "<tr>\n",
       "  <th>No. Observations:</th>      <td>  9097</td>      <th>  AIC:               </th> <td>6.607e+04</td>\n",
       "</tr>\n",
       "<tr>\n",
       "  <th>Df Residuals:</th>          <td>  9094</td>      <th>  BIC:               </th> <td>6.609e+04</td>\n",
       "</tr>\n",
       "<tr>\n",
       "  <th>Df Model:</th>              <td>     2</td>      <th>                     </th>     <td> </td>    \n",
       "</tr>\n",
       "<tr>\n",
       "  <th>Covariance Type:</th>      <td>nonrobust</td>    <th>                     </th>     <td> </td>    \n",
       "</tr>\n",
       "</table>\n",
       "<table class=\"simpletable\">\n",
       "<tr>\n",
       "      <td></td>         <th>coef</th>     <th>std err</th>      <th>t</th>      <th>P>|t|</th> <th>[95.0% Conf. Int.]</th> \n",
       "</tr>\n",
       "<tr>\n",
       "  <th>Intercept</th> <td>    2.7453</td> <td>    0.240</td> <td>   11.428</td> <td> 0.000</td> <td>    2.274     3.216</td>\n",
       "</tr>\n",
       "<tr>\n",
       "  <th>x1</th>        <td>    0.7820</td> <td>    0.152</td> <td>    5.138</td> <td> 0.000</td> <td>    0.484     1.080</td>\n",
       "</tr>\n",
       "<tr>\n",
       "  <th>x2</th>        <td>    2.6248</td> <td>    2.437</td> <td>    1.077</td> <td> 0.282</td> <td>   -2.153     7.402</td>\n",
       "</tr>\n",
       "</table>\n",
       "<table class=\"simpletable\">\n",
       "<tr>\n",
       "  <th>Omnibus:</th>       <td>3863.747</td> <th>  Durbin-Watson:     </th> <td>   1.929</td> \n",
       "</tr>\n",
       "<tr>\n",
       "  <th>Prob(Omnibus):</th>  <td> 0.000</td>  <th>  Jarque-Bera (JB):  </th> <td>14250.935</td>\n",
       "</tr>\n",
       "<tr>\n",
       "  <th>Skew:</th>           <td> 2.192</td>  <th>  Prob(JB):          </th> <td>    0.00</td> \n",
       "</tr>\n",
       "<tr>\n",
       "  <th>Kurtosis:</th>       <td> 7.287</td>  <th>  Cond. No.          </th> <td>    48.9</td> \n",
       "</tr>\n",
       "</table>"
      ],
      "text/plain": [
       "<class 'statsmodels.iolib.summary.Summary'>\n",
       "\"\"\"\n",
       "                            OLS Regression Results                            \n",
       "==============================================================================\n",
       "Dep. Variable:                      y   R-squared:                       0.007\n",
       "Model:                            OLS   Adj. R-squared:                  0.007\n",
       "Method:                 Least Squares   F-statistic:                     32.33\n",
       "Date:                Tue, 31 Oct 2017   Prob (F-statistic):           1.02e-14\n",
       "Time:                        22:25:56   Log-Likelihood:                -33030.\n",
       "No. Observations:                9097   AIC:                         6.607e+04\n",
       "Df Residuals:                    9094   BIC:                         6.609e+04\n",
       "Df Model:                           2                                         \n",
       "Covariance Type:            nonrobust                                         \n",
       "==============================================================================\n",
       "                 coef    std err          t      P>|t|      [95.0% Conf. Int.]\n",
       "------------------------------------------------------------------------------\n",
       "Intercept      2.7453      0.240     11.428      0.000         2.274     3.216\n",
       "x1             0.7820      0.152      5.138      0.000         0.484     1.080\n",
       "x2             2.6248      2.437      1.077      0.282        -2.153     7.402\n",
       "==============================================================================\n",
       "Omnibus:                     3863.747   Durbin-Watson:                   1.929\n",
       "Prob(Omnibus):                  0.000   Jarque-Bera (JB):            14250.935\n",
       "Skew:                           2.192   Prob(JB):                         0.00\n",
       "Kurtosis:                       7.287   Cond. No.                         48.9\n",
       "==============================================================================\n",
       "\n",
       "Warnings:\n",
       "[1] Standard Errors assume that the covariance matrix of the errors is correctly specified.\n",
       "\"\"\""
      ]
     },
     "execution_count": 52,
     "metadata": {},
     "output_type": "execute_result"
    }
   ],
   "source": [
    "df = pd.DataFrame({'y':newData['Tip Percent'], 'x1':newData['Trip Distance'], 'x2':newData['Duration']})\n",
    "multivariateMode_2 = smf.ols('y ~ x1 + x2', data=df).fit()\n",
    "multivariateMode_2.summary()"
   ]
  },
  {
   "cell_type": "code",
   "execution_count": 53,
   "metadata": {
    "ExecuteTime": {
     "end_time": "2017-10-31T22:25:57.734072",
     "start_time": "2017-10-31T22:25:57.646196"
    },
    "collapsed": false,
    "run_control": {
     "frozen": false,
     "read_only": false
    }
   },
   "outputs": [
    {
     "data": {
      "text/html": [
       "<table class=\"simpletable\">\n",
       "<caption>OLS Regression Results</caption>\n",
       "<tr>\n",
       "  <th>Dep. Variable:</th>            <td>y</td>        <th>  R-squared:         </th> <td>   0.008</td> \n",
       "</tr>\n",
       "<tr>\n",
       "  <th>Model:</th>                   <td>OLS</td>       <th>  Adj. R-squared:    </th> <td>   0.008</td> \n",
       "</tr>\n",
       "<tr>\n",
       "  <th>Method:</th>             <td>Least Squares</td>  <th>  F-statistic:       </th> <td>   18.73</td> \n",
       "</tr>\n",
       "<tr>\n",
       "  <th>Date:</th>             <td>Tue, 31 Oct 2017</td> <th>  Prob (F-statistic):</th> <td>2.39e-15</td> \n",
       "</tr>\n",
       "<tr>\n",
       "  <th>Time:</th>                 <td>22:25:57</td>     <th>  Log-Likelihood:    </th> <td> -33025.</td> \n",
       "</tr>\n",
       "<tr>\n",
       "  <th>No. Observations:</th>      <td>  9097</td>      <th>  AIC:               </th> <td>6.606e+04</td>\n",
       "</tr>\n",
       "<tr>\n",
       "  <th>Df Residuals:</th>          <td>  9092</td>      <th>  BIC:               </th> <td>6.610e+04</td>\n",
       "</tr>\n",
       "<tr>\n",
       "  <th>Df Model:</th>              <td>     4</td>      <th>                     </th>     <td> </td>    \n",
       "</tr>\n",
       "<tr>\n",
       "  <th>Covariance Type:</th>      <td>nonrobust</td>    <th>                     </th>     <td> </td>    \n",
       "</tr>\n",
       "</table>\n",
       "<table class=\"simpletable\">\n",
       "<tr>\n",
       "      <td></td>         <th>coef</th>     <th>std err</th>      <th>t</th>      <th>P>|t|</th> <th>[95.0% Conf. Int.]</th> \n",
       "</tr>\n",
       "<tr>\n",
       "  <th>Intercept</th> <td>    2.6674</td> <td>    0.387</td> <td>    6.897</td> <td> 0.000</td> <td>    1.909     3.426</td>\n",
       "</tr>\n",
       "<tr>\n",
       "  <th>x1</th>        <td>    0.0035</td> <td>    0.001</td> <td>    2.496</td> <td> 0.013</td> <td>    0.001     0.006</td>\n",
       "</tr>\n",
       "<tr>\n",
       "  <th>x2</th>        <td>   -0.0027</td> <td>    0.002</td> <td>   -1.798</td> <td> 0.072</td> <td>   -0.006     0.000</td>\n",
       "</tr>\n",
       "<tr>\n",
       "  <th>x3</th>        <td>    0.7659</td> <td>    0.152</td> <td>    5.026</td> <td> 0.000</td> <td>    0.467     1.065</td>\n",
       "</tr>\n",
       "<tr>\n",
       "  <th>x4</th>        <td>    2.6714</td> <td>    2.437</td> <td>    1.096</td> <td> 0.273</td> <td>   -2.106     7.449</td>\n",
       "</tr>\n",
       "</table>\n",
       "<table class=\"simpletable\">\n",
       "<tr>\n",
       "  <th>Omnibus:</th>       <td>3848.035</td> <th>  Durbin-Watson:     </th> <td>   1.932</td> \n",
       "</tr>\n",
       "<tr>\n",
       "  <th>Prob(Omnibus):</th>  <td> 0.000</td>  <th>  Jarque-Bera (JB):  </th> <td>14104.918</td>\n",
       "</tr>\n",
       "<tr>\n",
       "  <th>Skew:</th>           <td> 2.185</td>  <th>  Prob(JB):          </th> <td>    0.00</td> \n",
       "</tr>\n",
       "<tr>\n",
       "  <th>Kurtosis:</th>       <td> 7.257</td>  <th>  Cond. No.          </th> <td>5.34e+03</td> \n",
       "</tr>\n",
       "</table>"
      ],
      "text/plain": [
       "<class 'statsmodels.iolib.summary.Summary'>\n",
       "\"\"\"\n",
       "                            OLS Regression Results                            \n",
       "==============================================================================\n",
       "Dep. Variable:                      y   R-squared:                       0.008\n",
       "Model:                            OLS   Adj. R-squared:                  0.008\n",
       "Method:                 Least Squares   F-statistic:                     18.73\n",
       "Date:                Tue, 31 Oct 2017   Prob (F-statistic):           2.39e-15\n",
       "Time:                        22:25:57   Log-Likelihood:                -33025.\n",
       "No. Observations:                9097   AIC:                         6.606e+04\n",
       "Df Residuals:                    9092   BIC:                         6.610e+04\n",
       "Df Model:                           4                                         \n",
       "Covariance Type:            nonrobust                                         \n",
       "==============================================================================\n",
       "                 coef    std err          t      P>|t|      [95.0% Conf. Int.]\n",
       "------------------------------------------------------------------------------\n",
       "Intercept      2.6674      0.387      6.897      0.000         1.909     3.426\n",
       "x1             0.0035      0.001      2.496      0.013         0.001     0.006\n",
       "x2            -0.0027      0.002     -1.798      0.072        -0.006     0.000\n",
       "x3             0.7659      0.152      5.026      0.000         0.467     1.065\n",
       "x4             2.6714      2.437      1.096      0.273        -2.106     7.449\n",
       "==============================================================================\n",
       "Omnibus:                     3848.035   Durbin-Watson:                   1.932\n",
       "Prob(Omnibus):                  0.000   Jarque-Bera (JB):            14104.918\n",
       "Skew:                           2.185   Prob(JB):                         0.00\n",
       "Kurtosis:                       7.257   Cond. No.                     5.34e+03\n",
       "==============================================================================\n",
       "\n",
       "Warnings:\n",
       "[1] Standard Errors assume that the covariance matrix of the errors is correctly specified.\n",
       "[2] The condition number is large, 5.34e+03. This might indicate that there are\n",
       "strong multicollinearity or other numerical problems.\n",
       "\"\"\""
      ]
     },
     "execution_count": 53,
     "metadata": {},
     "output_type": "execute_result"
    }
   ],
   "source": [
    "df = pd.DataFrame({'y':newData['Tip Percent'], 'x1':newData['Destination Income'], 'x2':newData['Departure Income'],\n",
    "                  'x3':newData['Trip Distance'], 'x4':newData['Duration']})\n",
    "multivariateModel_3 = smf.ols('y ~ x1 + x2 + x3 + x4', data=df).fit()\n",
    "multivariateModel_3.summary()"
   ]
  },
  {
   "cell_type": "markdown",
   "metadata": {
    "run_control": {
     "frozen": false,
     "read_only": false
    }
   },
   "source": [
    "## Compare multivariate linear model to predict the tip percentage and assess importance of socioeconomic variables"
   ]
  },
  {
   "cell_type": "markdown",
   "metadata": {
    "run_control": {
     "frozen": false,
     "read_only": false
    }
   },
   "source": [
    "**Interpretation:** If we regressed all of the variables, the coefficients for the departure and destination zipcode per capita income are low!! They also have high p-values! So, just because you're poor or you're rich doesn't mean you're gonna be stingy with tips!!!! (Actually, since most people don't give tips, I think that's actually what's driving all this.) But duration has the highest coefficient, though an awfully high p-value. Which leaves us with the positive and significant coefficient for distance. Which makes sense in that if you're gonna go to JFK or LaGaurdia, you're probably gonna give a tip. Maybe you're a businessperson on the way to take a flight and your company will pay for the fare and tip.\n",
    "\n",
    "But let us look at the two different multivariate OLS regressions. The one that is trip duration and distance has a higher R-squared value than the one using area incomes as variables. So we can see that this is perhaps a model that explains more of the data. Then let us look at each coefficient's p-value. For trip duration and distance, duration has such a high p-value that this coefficient is not significant. But distance has a zero p-value! When we look at origin and destination incomes, destination is above 0.05 and origin is almost at 0.05. Thus we cannot really consider these coefficients as significant explainers of tip percentage variation.\n",
    "\n",
    "One of the real problems here is that there really is no variation in our data. That is there is hardly any distribution. Almost everyone doesn't tip! (Honestly, I've never tipped in a cab...I didn't know you were supposed to and now I feel really bad. Are we supposed to? UGH. Can America just get rid of tipping and just pay people - you know - a living wage? It would do a lot for socioeconomic fairness and also my social anxiety.) Let's do all this if we get rid of zero percentage tips, shall we?"
   ]
  },
  {
   "cell_type": "markdown",
   "metadata": {
    "run_control": {
     "frozen": false,
     "read_only": false
    }
   },
   "source": [
    "## Look at this all again with actual tips"
   ]
  },
  {
   "cell_type": "code",
   "execution_count": 54,
   "metadata": {
    "ExecuteTime": {
     "end_time": "2017-10-31T22:25:59.591349",
     "start_time": "2017-10-31T22:25:59.583908"
    },
    "collapsed": true,
    "run_control": {
     "frozen": false,
     "read_only": false
    }
   },
   "outputs": [],
   "source": [
    "newerData = data[data['Tip Percent'] > 0]"
   ]
  },
  {
   "cell_type": "code",
   "execution_count": 55,
   "metadata": {
    "ExecuteTime": {
     "end_time": "2017-10-31T22:26:00.288106",
     "start_time": "2017-10-31T22:26:00.226222"
    },
    "collapsed": false,
    "run_control": {
     "frozen": false,
     "read_only": false
    }
   },
   "outputs": [
    {
     "data": {
      "text/html": [
       "<table class=\"simpletable\">\n",
       "<caption>OLS Regression Results</caption>\n",
       "<tr>\n",
       "  <th>Dep. Variable:</th>            <td>y</td>        <th>  R-squared:         </th> <td>   0.010</td> \n",
       "</tr>\n",
       "<tr>\n",
       "  <th>Model:</th>                   <td>OLS</td>       <th>  Adj. R-squared:    </th> <td>   0.008</td> \n",
       "</tr>\n",
       "<tr>\n",
       "  <th>Method:</th>             <td>Least Squares</td>  <th>  F-statistic:       </th> <td>   7.066</td> \n",
       "</tr>\n",
       "<tr>\n",
       "  <th>Date:</th>             <td>Tue, 31 Oct 2017</td> <th>  Prob (F-statistic):</th> <td>1.17e-05</td> \n",
       "</tr>\n",
       "<tr>\n",
       "  <th>Time:</th>                 <td>22:26:00</td>     <th>  Log-Likelihood:    </th> <td> -13586.</td> \n",
       "</tr>\n",
       "<tr>\n",
       "  <th>No. Observations:</th>      <td>  2926</td>      <th>  AIC:               </th> <td>2.718e+04</td>\n",
       "</tr>\n",
       "<tr>\n",
       "  <th>Df Residuals:</th>          <td>  2921</td>      <th>  BIC:               </th> <td>2.721e+04</td>\n",
       "</tr>\n",
       "<tr>\n",
       "  <th>Df Model:</th>              <td>     4</td>      <th>                     </th>     <td> </td>    \n",
       "</tr>\n",
       "<tr>\n",
       "  <th>Covariance Type:</th>      <td>nonrobust</td>    <th>                     </th>     <td> </td>    \n",
       "</tr>\n",
       "</table>\n",
       "<table class=\"simpletable\">\n",
       "<tr>\n",
       "      <td></td>         <th>coef</th>     <th>std err</th>      <th>t</th>      <th>P>|t|</th> <th>[95.0% Conf. Int.]</th> \n",
       "</tr>\n",
       "<tr>\n",
       "  <th>Intercept</th> <td>   24.5995</td> <td>    1.585</td> <td>   15.522</td> <td> 0.000</td> <td>   21.492    27.707</td>\n",
       "</tr>\n",
       "<tr>\n",
       "  <th>x1</th>        <td>   -0.0066</td> <td>    0.007</td> <td>   -0.994</td> <td> 0.320</td> <td>   -0.019     0.006</td>\n",
       "</tr>\n",
       "<tr>\n",
       "  <th>x2</th>        <td>    0.0004</td> <td>    0.007</td> <td>    0.060</td> <td> 0.952</td> <td>   -0.013     0.014</td>\n",
       "</tr>\n",
       "<tr>\n",
       "  <th>x3</th>        <td>   -0.7398</td> <td>    0.156</td> <td>   -4.742</td> <td> 0.000</td> <td>   -1.046    -0.434</td>\n",
       "</tr>\n",
       "<tr>\n",
       "  <th>x4</th>        <td>   -0.9894</td> <td>    1.021</td> <td>   -0.969</td> <td> 0.332</td> <td>   -2.991     1.012</td>\n",
       "</tr>\n",
       "</table>\n",
       "<table class=\"simpletable\">\n",
       "<tr>\n",
       "  <th>Omnibus:</th>       <td>7383.557</td> <th>  Durbin-Watson:     </th>   <td>   1.964</td>   \n",
       "</tr>\n",
       "<tr>\n",
       "  <th>Prob(Omnibus):</th>  <td> 0.000</td>  <th>  Jarque-Bera (JB):  </th> <td>100071773.949</td>\n",
       "</tr>\n",
       "<tr>\n",
       "  <th>Skew:</th>           <td>27.338</td>  <th>  Prob(JB):          </th>   <td>    0.00</td>   \n",
       "</tr>\n",
       "<tr>\n",
       "  <th>Kurtosis:</th>       <td>907.340</td> <th>  Cond. No.          </th>   <td>    716.</td>   \n",
       "</tr>\n",
       "</table>"
      ],
      "text/plain": [
       "<class 'statsmodels.iolib.summary.Summary'>\n",
       "\"\"\"\n",
       "                            OLS Regression Results                            \n",
       "==============================================================================\n",
       "Dep. Variable:                      y   R-squared:                       0.010\n",
       "Model:                            OLS   Adj. R-squared:                  0.008\n",
       "Method:                 Least Squares   F-statistic:                     7.066\n",
       "Date:                Tue, 31 Oct 2017   Prob (F-statistic):           1.17e-05\n",
       "Time:                        22:26:00   Log-Likelihood:                -13586.\n",
       "No. Observations:                2926   AIC:                         2.718e+04\n",
       "Df Residuals:                    2921   BIC:                         2.721e+04\n",
       "Df Model:                           4                                         \n",
       "Covariance Type:            nonrobust                                         \n",
       "==============================================================================\n",
       "                 coef    std err          t      P>|t|      [95.0% Conf. Int.]\n",
       "------------------------------------------------------------------------------\n",
       "Intercept     24.5995      1.585     15.522      0.000        21.492    27.707\n",
       "x1            -0.0066      0.007     -0.994      0.320        -0.019     0.006\n",
       "x2             0.0004      0.007      0.060      0.952        -0.013     0.014\n",
       "x3            -0.7398      0.156     -4.742      0.000        -1.046    -0.434\n",
       "x4            -0.9894      1.021     -0.969      0.332        -2.991     1.012\n",
       "==============================================================================\n",
       "Omnibus:                     7383.557   Durbin-Watson:                   1.964\n",
       "Prob(Omnibus):                  0.000   Jarque-Bera (JB):        100071773.949\n",
       "Skew:                          27.338   Prob(JB):                         0.00\n",
       "Kurtosis:                     907.340   Cond. No.                         716.\n",
       "==============================================================================\n",
       "\n",
       "Warnings:\n",
       "[1] Standard Errors assume that the covariance matrix of the errors is correctly specified.\n",
       "\"\"\""
      ]
     },
     "execution_count": 55,
     "metadata": {},
     "output_type": "execute_result"
    }
   ],
   "source": [
    "df = pd.DataFrame({'y':newerData['Tip Percent'], 'x1':newerData['Destination Income'], 'x2':newerData['Departure Income'],\n",
    "                  'x3':newerData['Trip Distance'], 'x4':newerData['Duration']})\n",
    "multivariateModel_4 = smf.ols('y ~ x1 + x2 + x3 + x4', data=df).fit()\n",
    "multivariateModel_4.summary()"
   ]
  },
  {
   "cell_type": "markdown",
   "metadata": {
    "run_control": {
     "frozen": false,
     "read_only": false
    }
   },
   "source": [
    "**Interpretation:** Well there. The only coefficient that is significant is trip duration. And basically the longer your trip, the less you're gonna tip! Well, that makes sense if you're an impatient New Yorker and a cabbie has decided he thinks you're a tourist that he can take on the longer route."
   ]
  },
  {
   "cell_type": "code",
   "execution_count": 56,
   "metadata": {
    "ExecuteTime": {
     "end_time": "2017-10-31T22:26:01.005225",
     "start_time": "2017-10-31T22:26:00.898385"
    },
    "collapsed": false,
    "run_control": {
     "frozen": false,
     "read_only": false
    }
   },
   "outputs": [
    {
     "ename": "NameError",
     "evalue": "name 'sm' is not defined",
     "output_type": "error",
     "traceback": [
      "\u001b[0;31m---------------------------------------------------------------------------\u001b[0m",
      "\u001b[0;31mNameError\u001b[0m                                 Traceback (most recent call last)",
      "\u001b[0;32m<ipython-input-56-33a838d32b84>\u001b[0m in \u001b[0;36m<module>\u001b[0;34m()\u001b[0m\n\u001b[0;32m----> 1\u001b[0;31m \u001b[0mX\u001b[0m \u001b[0;34m=\u001b[0m \u001b[0msm\u001b[0m\u001b[0;34m.\u001b[0m\u001b[0madd_constant\u001b[0m\u001b[0;34m(\u001b[0m\u001b[0mnewData\u001b[0m\u001b[0;34m[\u001b[0m\u001b[0;34m'Duration'\u001b[0m\u001b[0;34m]\u001b[0m\u001b[0;34m)\u001b[0m\u001b[0;34m\u001b[0m\u001b[0m\n\u001b[0m\u001b[1;32m      2\u001b[0m \u001b[0mdurationModel2\u001b[0m \u001b[0;34m=\u001b[0m \u001b[0msm\u001b[0m\u001b[0;34m.\u001b[0m\u001b[0mOLS\u001b[0m\u001b[0;34m(\u001b[0m\u001b[0mendog\u001b[0m\u001b[0;34m=\u001b[0m\u001b[0mnewData\u001b[0m\u001b[0;34m[\u001b[0m\u001b[0;34m'Fare'\u001b[0m\u001b[0;34m]\u001b[0m\u001b[0;34m,\u001b[0m \u001b[0mexog\u001b[0m\u001b[0;34m=\u001b[0m\u001b[0mX\u001b[0m\u001b[0;34m)\u001b[0m\u001b[0;34m.\u001b[0m\u001b[0mfit\u001b[0m\u001b[0;34m(\u001b[0m\u001b[0;34m)\u001b[0m\u001b[0;34m\u001b[0m\u001b[0m\n\u001b[1;32m      3\u001b[0m \u001b[0mdurationModel2\u001b[0m\u001b[0;34m.\u001b[0m\u001b[0msummary\u001b[0m\u001b[0;34m(\u001b[0m\u001b[0;34m)\u001b[0m\u001b[0;34m\u001b[0m\u001b[0m\n",
      "\u001b[0;31mNameError\u001b[0m: name 'sm' is not defined"
     ]
    }
   ],
   "source": [
    "X = sm.add_constant(newData['Duration'])\n",
    "durationModel2 = sm.OLS(endog=newData['Fare'], exog=X).fit()\n",
    "durationModel2.summary()"
   ]
  },
  {
   "cell_type": "code",
   "execution_count": 57,
   "metadata": {
    "ExecuteTime": {
     "end_time": "2017-10-31T22:26:01.410491",
     "start_time": "2017-10-31T22:26:01.372356"
    },
    "collapsed": false,
    "run_control": {
     "frozen": false,
     "read_only": false
    }
   },
   "outputs": [
    {
     "ename": "NameError",
     "evalue": "name 'sm' is not defined",
     "output_type": "error",
     "traceback": [
      "\u001b[0;31m---------------------------------------------------------------------------\u001b[0m",
      "\u001b[0;31mNameError\u001b[0m                                 Traceback (most recent call last)",
      "\u001b[0;32m<ipython-input-57-74b8ce0b24a8>\u001b[0m in \u001b[0;36m<module>\u001b[0;34m()\u001b[0m\n\u001b[0;32m----> 1\u001b[0;31m \u001b[0mX\u001b[0m \u001b[0;34m=\u001b[0m \u001b[0msm\u001b[0m\u001b[0;34m.\u001b[0m\u001b[0madd_constant\u001b[0m\u001b[0;34m(\u001b[0m\u001b[0mnewData\u001b[0m\u001b[0;34m[\u001b[0m\u001b[0;34m'Trip Distance'\u001b[0m\u001b[0;34m]\u001b[0m\u001b[0;34m)\u001b[0m\u001b[0;34m\u001b[0m\u001b[0m\n\u001b[0m\u001b[1;32m      2\u001b[0m \u001b[0mdistanceModel2\u001b[0m \u001b[0;34m=\u001b[0m \u001b[0msm\u001b[0m\u001b[0;34m.\u001b[0m\u001b[0mOLS\u001b[0m\u001b[0;34m(\u001b[0m\u001b[0mendog\u001b[0m\u001b[0;34m=\u001b[0m\u001b[0mnewData\u001b[0m\u001b[0;34m[\u001b[0m\u001b[0;34m'Fare'\u001b[0m\u001b[0;34m]\u001b[0m\u001b[0;34m,\u001b[0m \u001b[0mexog\u001b[0m\u001b[0;34m=\u001b[0m\u001b[0mX\u001b[0m\u001b[0;34m)\u001b[0m\u001b[0;34m.\u001b[0m\u001b[0mfit\u001b[0m\u001b[0;34m(\u001b[0m\u001b[0;34m)\u001b[0m\u001b[0;34m\u001b[0m\u001b[0m\n\u001b[1;32m      3\u001b[0m \u001b[0mdistanceModel2\u001b[0m\u001b[0;34m.\u001b[0m\u001b[0msummary\u001b[0m\u001b[0;34m(\u001b[0m\u001b[0;34m)\u001b[0m\u001b[0;34m\u001b[0m\u001b[0m\n",
      "\u001b[0;31mNameError\u001b[0m: name 'sm' is not defined"
     ]
    }
   ],
   "source": [
    "X = sm.add_constant(newData['Trip Distance'])\n",
    "distanceModel2 = sm.OLS(endog=newData['Fare'], exog=X).fit()\n",
    "distanceModel2.summary()"
   ]
  },
  {
   "cell_type": "markdown",
   "metadata": {},
   "source": [
    "# FBB you also removed the statsmodels import..."
   ]
  },
  {
   "cell_type": "code",
   "execution_count": 58,
   "metadata": {
    "ExecuteTime": {
     "end_time": "2017-10-31T22:26:02.304754",
     "start_time": "2017-10-31T22:26:02.259897"
    },
    "collapsed": false,
    "run_control": {
     "frozen": false,
     "read_only": false
    }
   },
   "outputs": [
    {
     "data": {
      "text/html": [
       "<table class=\"simpletable\">\n",
       "<caption>OLS Regression Results</caption>\n",
       "<tr>\n",
       "  <th>Dep. Variable:</th>            <td>y</td>        <th>  R-squared:         </th> <td>   0.009</td> \n",
       "</tr>\n",
       "<tr>\n",
       "  <th>Model:</th>                   <td>OLS</td>       <th>  Adj. R-squared:    </th> <td>   0.009</td> \n",
       "</tr>\n",
       "<tr>\n",
       "  <th>Method:</th>             <td>Least Squares</td>  <th>  F-statistic:       </th> <td>   13.63</td> \n",
       "</tr>\n",
       "<tr>\n",
       "  <th>Date:</th>             <td>Tue, 31 Oct 2017</td> <th>  Prob (F-statistic):</th> <td>1.28e-06</td> \n",
       "</tr>\n",
       "<tr>\n",
       "  <th>Time:</th>                 <td>22:26:02</td>     <th>  Log-Likelihood:    </th> <td> -13587.</td> \n",
       "</tr>\n",
       "<tr>\n",
       "  <th>No. Observations:</th>      <td>  2926</td>      <th>  AIC:               </th> <td>2.718e+04</td>\n",
       "</tr>\n",
       "<tr>\n",
       "  <th>Df Residuals:</th>          <td>  2923</td>      <th>  BIC:               </th> <td>2.720e+04</td>\n",
       "</tr>\n",
       "<tr>\n",
       "  <th>Df Model:</th>              <td>     2</td>      <th>                     </th>     <td> </td>    \n",
       "</tr>\n",
       "<tr>\n",
       "  <th>Covariance Type:</th>      <td>nonrobust</td>    <th>                     </th>     <td> </td>    \n",
       "</tr>\n",
       "</table>\n",
       "<table class=\"simpletable\">\n",
       "<tr>\n",
       "      <td></td>         <th>coef</th>     <th>std err</th>      <th>t</th>      <th>P>|t|</th> <th>[95.0% Conf. Int.]</th> \n",
       "</tr>\n",
       "<tr>\n",
       "  <th>Intercept</th> <td>   23.7413</td> <td>    0.663</td> <td>   35.813</td> <td> 0.000</td> <td>   22.441    25.041</td>\n",
       "</tr>\n",
       "<tr>\n",
       "  <th>x3</th>        <td>   -0.7438</td> <td>    0.155</td> <td>   -4.790</td> <td> 0.000</td> <td>   -1.048    -0.439</td>\n",
       "</tr>\n",
       "<tr>\n",
       "  <th>x4</th>        <td>   -0.9545</td> <td>    1.020</td> <td>   -0.936</td> <td> 0.349</td> <td>   -2.954     1.045</td>\n",
       "</tr>\n",
       "</table>\n",
       "<table class=\"simpletable\">\n",
       "<tr>\n",
       "  <th>Omnibus:</th>       <td>7386.180</td> <th>  Durbin-Watson:     </th>   <td>   1.963</td>   \n",
       "</tr>\n",
       "<tr>\n",
       "  <th>Prob(Omnibus):</th>  <td> 0.000</td>  <th>  Jarque-Bera (JB):  </th> <td>100273974.235</td>\n",
       "</tr>\n",
       "<tr>\n",
       "  <th>Skew:</th>           <td>27.362</td>  <th>  Prob(JB):          </th>   <td>    0.00</td>   \n",
       "</tr>\n",
       "<tr>\n",
       "  <th>Kurtosis:</th>       <td>908.254</td> <th>  Cond. No.          </th>   <td>    9.72</td>   \n",
       "</tr>\n",
       "</table>"
      ],
      "text/plain": [
       "<class 'statsmodels.iolib.summary.Summary'>\n",
       "\"\"\"\n",
       "                            OLS Regression Results                            \n",
       "==============================================================================\n",
       "Dep. Variable:                      y   R-squared:                       0.009\n",
       "Model:                            OLS   Adj. R-squared:                  0.009\n",
       "Method:                 Least Squares   F-statistic:                     13.63\n",
       "Date:                Tue, 31 Oct 2017   Prob (F-statistic):           1.28e-06\n",
       "Time:                        22:26:02   Log-Likelihood:                -13587.\n",
       "No. Observations:                2926   AIC:                         2.718e+04\n",
       "Df Residuals:                    2923   BIC:                         2.720e+04\n",
       "Df Model:                           2                                         \n",
       "Covariance Type:            nonrobust                                         \n",
       "==============================================================================\n",
       "                 coef    std err          t      P>|t|      [95.0% Conf. Int.]\n",
       "------------------------------------------------------------------------------\n",
       "Intercept     23.7413      0.663     35.813      0.000        22.441    25.041\n",
       "x3            -0.7438      0.155     -4.790      0.000        -1.048    -0.439\n",
       "x4            -0.9545      1.020     -0.936      0.349        -2.954     1.045\n",
       "==============================================================================\n",
       "Omnibus:                     7386.180   Durbin-Watson:                   1.963\n",
       "Prob(Omnibus):                  0.000   Jarque-Bera (JB):        100273974.235\n",
       "Skew:                          27.362   Prob(JB):                         0.00\n",
       "Kurtosis:                     908.254   Cond. No.                         9.72\n",
       "==============================================================================\n",
       "\n",
       "Warnings:\n",
       "[1] Standard Errors assume that the covariance matrix of the errors is correctly specified.\n",
       "\"\"\""
      ]
     },
     "execution_count": 58,
     "metadata": {},
     "output_type": "execute_result"
    }
   ],
   "source": [
    "df = pd.DataFrame({'y':newerData['Tip Percent'],'x3':newerData['Trip Distance'], 'x4':newerData['Duration']})\n",
    "multivariateModel_4 = smf.ols('y ~ x3 + x4', data=df).fit()\n",
    "multivariateModel_4.summary()"
   ]
  },
  {
   "cell_type": "code",
   "execution_count": 59,
   "metadata": {
    "ExecuteTime": {
     "end_time": "2017-10-31T22:26:02.375470",
     "start_time": "2017-10-31T22:26:02.307289"
    },
    "collapsed": false,
    "run_control": {
     "frozen": false,
     "read_only": false
    }
   },
   "outputs": [
    {
     "data": {
      "text/html": [
       "<table class=\"simpletable\">\n",
       "<caption>OLS Regression Results</caption>\n",
       "<tr>\n",
       "  <th>Dep. Variable:</th>            <td>y</td>        <th>  R-squared:         </th> <td>   0.001</td> \n",
       "</tr>\n",
       "<tr>\n",
       "  <th>Model:</th>                   <td>OLS</td>       <th>  Adj. R-squared:    </th> <td>   0.001</td> \n",
       "</tr>\n",
       "<tr>\n",
       "  <th>Method:</th>             <td>Least Squares</td>  <th>  F-statistic:       </th> <td>   6.114</td> \n",
       "</tr>\n",
       "<tr>\n",
       "  <th>Date:</th>             <td>Tue, 31 Oct 2017</td> <th>  Prob (F-statistic):</th>  <td>0.00222</td> \n",
       "</tr>\n",
       "<tr>\n",
       "  <th>Time:</th>                 <td>22:26:02</td>     <th>  Log-Likelihood:    </th> <td> -33056.</td> \n",
       "</tr>\n",
       "<tr>\n",
       "  <th>No. Observations:</th>      <td>  9097</td>      <th>  AIC:               </th> <td>6.612e+04</td>\n",
       "</tr>\n",
       "<tr>\n",
       "  <th>Df Residuals:</th>          <td>  9094</td>      <th>  BIC:               </th> <td>6.614e+04</td>\n",
       "</tr>\n",
       "<tr>\n",
       "  <th>Df Model:</th>              <td>     2</td>      <th>                     </th>     <td> </td>    \n",
       "</tr>\n",
       "<tr>\n",
       "  <th>Covariance Type:</th>      <td>nonrobust</td>    <th>                     </th>     <td> </td>    \n",
       "</tr>\n",
       "</table>\n",
       "<table class=\"simpletable\">\n",
       "<tr>\n",
       "      <td></td>         <th>coef</th>     <th>std err</th>      <th>t</th>      <th>P>|t|</th> <th>[95.0% Conf. Int.]</th> \n",
       "</tr>\n",
       "<tr>\n",
       "  <th>Intercept</th> <td>    4.1769</td> <td>    0.318</td> <td>   13.143</td> <td> 0.000</td> <td>    3.554     4.800</td>\n",
       "</tr>\n",
       "<tr>\n",
       "  <th>x1</th>        <td>    0.0036</td> <td>    0.001</td> <td>    2.567</td> <td> 0.010</td> <td>    0.001     0.006</td>\n",
       "</tr>\n",
       "<tr>\n",
       "  <th>x2</th>        <td>   -0.0033</td> <td>    0.002</td> <td>   -2.172</td> <td> 0.030</td> <td>   -0.006    -0.000</td>\n",
       "</tr>\n",
       "</table>\n",
       "<table class=\"simpletable\">\n",
       "<tr>\n",
       "  <th>Omnibus:</th>       <td>3782.404</td> <th>  Durbin-Watson:     </th> <td>   1.928</td> \n",
       "</tr>\n",
       "<tr>\n",
       "  <th>Prob(Omnibus):</th>  <td> 0.000</td>  <th>  Jarque-Bera (JB):  </th> <td>13320.264</td>\n",
       "</tr>\n",
       "<tr>\n",
       "  <th>Skew:</th>           <td> 2.165</td>  <th>  Prob(JB):          </th> <td>    0.00</td> \n",
       "</tr>\n",
       "<tr>\n",
       "  <th>Kurtosis:</th>       <td> 7.049</td>  <th>  Cond. No.          </th> <td>    693.</td> \n",
       "</tr>\n",
       "</table>"
      ],
      "text/plain": [
       "<class 'statsmodels.iolib.summary.Summary'>\n",
       "\"\"\"\n",
       "                            OLS Regression Results                            \n",
       "==============================================================================\n",
       "Dep. Variable:                      y   R-squared:                       0.001\n",
       "Model:                            OLS   Adj. R-squared:                  0.001\n",
       "Method:                 Least Squares   F-statistic:                     6.114\n",
       "Date:                Tue, 31 Oct 2017   Prob (F-statistic):            0.00222\n",
       "Time:                        22:26:02   Log-Likelihood:                -33056.\n",
       "No. Observations:                9097   AIC:                         6.612e+04\n",
       "Df Residuals:                    9094   BIC:                         6.614e+04\n",
       "Df Model:                           2                                         \n",
       "Covariance Type:            nonrobust                                         \n",
       "==============================================================================\n",
       "                 coef    std err          t      P>|t|      [95.0% Conf. Int.]\n",
       "------------------------------------------------------------------------------\n",
       "Intercept      4.1769      0.318     13.143      0.000         3.554     4.800\n",
       "x1             0.0036      0.001      2.567      0.010         0.001     0.006\n",
       "x2            -0.0033      0.002     -2.172      0.030        -0.006    -0.000\n",
       "==============================================================================\n",
       "Omnibus:                     3782.404   Durbin-Watson:                   1.928\n",
       "Prob(Omnibus):                  0.000   Jarque-Bera (JB):            13320.264\n",
       "Skew:                           2.165   Prob(JB):                         0.00\n",
       "Kurtosis:                       7.049   Cond. No.                         693.\n",
       "==============================================================================\n",
       "\n",
       "Warnings:\n",
       "[1] Standard Errors assume that the covariance matrix of the errors is correctly specified.\n",
       "\"\"\""
      ]
     },
     "execution_count": 59,
     "metadata": {},
     "output_type": "execute_result"
    }
   ],
   "source": [
    "df = pd.DataFrame({'y':newData['Tip Percent'], 'x1':newData['Destination Income'], 'x2':newData['Departure Income'],})\n",
    "multivariateModel_5 = smf.ols('y ~ x1 + x2', data=df).fit()\n",
    "multivariateModel_5.summary()"
   ]
  },
  {
   "cell_type": "markdown",
   "metadata": {
    "run_control": {
     "frozen": false,
     "read_only": false
    }
   },
   "source": [
    "**Interpretation:** That is a really, really low r-squared value and pretty high p-values. Per capita income of origin and destination zipcodes have no bearing on tip percentage when we take out zero percent tips. What is interesting is that when we run a multivariate regression of duration and distance together, we get a lower r-squared value than if we run them separately. One of the problems we have here is that these two variables are endogenous!!!!!! BIG NOOOOOPE there! Of course your duration is going to be partially affected by your distance traveled!!!! We need to figure out a better variable."
   ]
  },
  {
   "cell_type": "markdown",
   "metadata": {
    "run_control": {
     "frozen": false,
     "read_only": false
    }
   },
   "source": [
    "# FBB very good observations.  Your models are interesting, but they are not the ones I asked for! I was asking for a model with Fare and one other variables between distance and duration, and the same plus income variables, both and then one at a time.\n",
    "# I will give you 1/2 point for each task. \n",
    "\n",
    "# FBB tasks 8-11 5 each: 20/40\n",
    "\n"
   ]
  },
  {
   "cell_type": "markdown",
   "metadata": {
    "ExecuteTime": {
     "end_time": "2017-10-31T22:24:50.492404",
     "start_time": "2017-10-31T22:24:50.488834"
    }
   },
   "source": [
    "# FBB total: 70/100 + 5 for very good insight - 5 for no captions , but I cannot give you points for the notebooks does not run, and because you did not actually answer a lot of the quesrions I asked. "
   ]
  },
  {
   "cell_type": "markdown",
   "metadata": {
    "ExecuteTime": {
     "end_time": "2017-10-31T22:27:35.512447",
     "start_time": "2017-10-31T22:27:35.503860"
    }
   },
   "source": [
    "# 70/100"
   ]
  },
  {
   "cell_type": "code",
   "execution_count": 61,
   "metadata": {
    "ExecuteTime": {
     "end_time": "2017-10-31T22:27:56.250707",
     "start_time": "2017-10-31T22:27:56.114246"
    },
    "collapsed": false
   },
   "outputs": [
    {
     "name": "stdout",
     "output_type": "stream",
     "text": [
      "/Users/fbianco/Dropbox/UI/PUI2017_fb55/midterm/eve/PUI Midterm Evening Session/Chen, Sean Andrew(sac820)/Submission attachment(s)\r\n"
     ]
    }
   ],
   "source": [
    "!pwd"
   ]
  },
  {
   "cell_type": "code",
   "execution_count": null,
   "metadata": {
    "collapsed": true
   },
   "outputs": [],
   "source": []
  }
 ],
 "metadata": {
  "anaconda-cloud": {},
  "kernelspec": {
   "display_name": "Python [conda root]",
   "language": "python",
   "name": "conda-root-py"
  },
  "language_info": {
   "codemirror_mode": {
    "name": "ipython",
    "version": 2
   },
   "file_extension": ".py",
   "mimetype": "text/x-python",
   "name": "python",
   "nbconvert_exporter": "python",
   "pygments_lexer": "ipython2",
   "version": "2.7.3"
  },
  "latex_envs": {
   "LaTeX_envs_menu_present": true,
   "bibliofile": "biblio.bib",
   "cite_by": "apalike",
   "current_citInitial": 1,
   "eqLabelWithNumbers": true,
   "eqNumInitial": 1,
   "hotkeys": {
    "equation": "Ctrl-E",
    "itemize": "Ctrl-I"
   },
   "labels_anchors": false,
   "latex_user_defs": false,
   "report_style_numbering": false,
   "user_envs_cfg": false
  },
  "toc": {
   "colors": {
    "hover_highlight": "#DAA520",
    "running_highlight": "#FF0000",
    "selected_highlight": "#FFD700"
   },
   "moveMenuLeft": true,
   "nav_menu": {},
   "navigate_menu": true,
   "number_sections": false,
   "sideBar": true,
   "skip_h1_title": true,
   "threshold": 4,
   "toc_cell": false,
   "toc_position": {
    "height": "685px",
    "left": "0px",
    "right": "1177px",
    "top": "52px",
    "width": "212px"
   },
   "toc_section_display": "block",
   "toc_window_display": true
  }
 },
 "nbformat": 4,
 "nbformat_minor": 2
}
