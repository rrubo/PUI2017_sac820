{
 "cells": [
  {
   "cell_type": "markdown",
   "metadata": {
    "toc": true
   },
   "source": [
    "<h1>Table of Contents<span class=\"tocSkip\"></span></h1>\n",
    "<div class=\"toc\" style=\"margin-top: 1em;\"><ul class=\"toc-item\"><li><span><a href=\"#Setup-notebook\" data-toc-modified-id=\"Setup-notebook-1\"><span class=\"toc-item-num\">1&nbsp;&nbsp;</span>Setup notebook</a></span></li><li><span><a href=\"#Import-and-clean-Yellow-Taxi-data\" data-toc-modified-id=\"Import-and-clean-Yellow-Taxi-data-2\"><span class=\"toc-item-num\">2&nbsp;&nbsp;</span>Import and clean Yellow Taxi data</a></span><ul class=\"toc-item\"><li><span><a href=\"#Download-the-data-and-move-it-to-PUIData\" data-toc-modified-id=\"Download-the-data-and-move-it-to-PUIData-2.1\"><span class=\"toc-item-num\">2.1&nbsp;&nbsp;</span>Download the data and move it to PUIData</a></span></li><li><span><a href=\"#Read-in-only-one-observation-every-1,000-observations\" data-toc-modified-id=\"Read-in-only-one-observation-every-1,000-observations-2.2\"><span class=\"toc-item-num\">2.2&nbsp;&nbsp;</span>Read in only one observation every 1,000 observations</a></span></li><li><span><a href=\"#Drop-unnecessary-columns\" data-toc-modified-id=\"Drop-unnecessary-columns-2.3\"><span class=\"toc-item-num\">2.3&nbsp;&nbsp;</span>Drop unnecessary columns</a></span></li><li><span><a href=\"#Calculate-trip-duration-and-tip-amount\" data-toc-modified-id=\"Calculate-trip-duration-and-tip-amount-2.4\"><span class=\"toc-item-num\">2.4&nbsp;&nbsp;</span>Calculate trip duration and tip amount</a></span></li><li><span><a href=\"#Get-Zipcodes\" data-toc-modified-id=\"Get-Zipcodes-2.5\"><span class=\"toc-item-num\">2.5&nbsp;&nbsp;</span>Get Zipcodes</a></span></li></ul></li><li><span><a href=\"#Import-and-clean-up-zip-code-income-data\" data-toc-modified-id=\"Import-and-clean-up-zip-code-income-data-3\"><span class=\"toc-item-num\">3&nbsp;&nbsp;</span>Import and clean up zip code income data</a></span></li><li><span><a href=\"#Aggregate-the-data\" data-toc-modified-id=\"Aggregate-the-data-4\"><span class=\"toc-item-num\">4&nbsp;&nbsp;</span>Aggregate the data</a></span></li><li><span><a href=\"#Plot-the-distribution-of-tip-percentages-and-describe-its-first-and-second-moment\" data-toc-modified-id=\"Plot-the-distribution-of-tip-percentages-and-describe-its-first-and-second-moment-5\"><span class=\"toc-item-num\">5&nbsp;&nbsp;</span>Plot the distribution of tip percentages and describe its first and second moment</a></span></li><li><span><a href=\"#Test-if-the-distribution-is-consistent-with-a-Gaussian\" data-toc-modified-id=\"Test-if-the-distribution-is-consistent-with-a-Gaussian-6\"><span class=\"toc-item-num\">6&nbsp;&nbsp;</span>Test if the distribution is consistent with a Gaussian</a></span></li><li><span><a href=\"#Fit-a-line-to-taxi-fare-vs-trip-duration-and-to-taxi-fare-vs-trip-distance-to-decide-which-variable-between-duration-and-distance-&quot;contains-more-information&quot;-when-used-with-the-fare\" data-toc-modified-id=\"Fit-a-line-to-taxi-fare-vs-trip-duration-and-to-taxi-fare-vs-trip-distance-to-decide-which-variable-between-duration-and-distance-&quot;contains-more-information&quot;-when-used-with-the-fare-7\"><span class=\"toc-item-num\">7&nbsp;&nbsp;</span>Fit a line to taxi fare vs trip duration and to taxi fare vs trip distance to decide which variable between duration and distance \"contains more information\" when used with the fare</a></span></li><li><span><a href=\"#Remove-outliers-and-assess-if-this-has-an-effect-this-has-on-the-model\" data-toc-modified-id=\"Remove-outliers-and-assess-if-this-has-an-effect-this-has-on-the-model-8\"><span class=\"toc-item-num\">8&nbsp;&nbsp;</span>Remove outliers and assess if this has an effect this has on the model</a></span></li><li><span><a href=\"#Create-two-multivariate-linear-model-to-predict-the-tip-percentage\" data-toc-modified-id=\"Create-two-multivariate-linear-model-to-predict-the-tip-percentage-9\"><span class=\"toc-item-num\">9&nbsp;&nbsp;</span>Create two multivariate linear model to predict the tip percentage</a></span></li><li><span><a href=\"#Compare-multivariate-linear-model-to-predict-the-tip-percentage-and-assess-importance-of-socioeconomic-variables\" data-toc-modified-id=\"Compare-multivariate-linear-model-to-predict-the-tip-percentage-and-assess-importance-of-socioeconomic-variables-10\"><span class=\"toc-item-num\">10&nbsp;&nbsp;</span>Compare multivariate linear model to predict the tip percentage and assess importance of socioeconomic variables</a></span></li><li><span><a href=\"#Look-at-this-all-again-with-actual-tips\" data-toc-modified-id=\"Look-at-this-all-again-with-actual-tips-11\"><span class=\"toc-item-num\">11&nbsp;&nbsp;</span>Look at this all again with actual tips</a></span></li></ul></div>"
   ]
  },
  {
   "cell_type": "markdown",
   "metadata": {},
   "source": [
    "# PUI2017 Midterm\n",
    "**NetID:** sac820@nyu.edu"
   ]
  },
  {
   "cell_type": "markdown",
   "metadata": {},
   "source": [
    "## Setup notebook"
   ]
  },
  {
   "cell_type": "code",
   "execution_count": 264,
   "metadata": {},
   "outputs": [
    {
     "name": "stdout",
     "output_type": "stream",
     "text": [
      "Populating the interactive namespace from numpy and matplotlib\n"
     ]
    },
    {
     "name": "stderr",
     "output_type": "stream",
     "text": [
      "/Users/seanandrewchen/Dropbox/academics/graduate/nyu-cusp/semester_01/urban-informatics/coding/PUI2017/lib/python3.6/site-packages/IPython/core/magics/pylab.py:160: UserWarning: pylab import has clobbered these variables: ['mean']\n",
      "`%matplotlib` prevents importing * from pylab and numpy\n",
      "  \"\\n`%matplotlib` prevents importing * from pylab and numpy\"\n"
     ]
    }
   ],
   "source": [
    "from __future__ import print_function, division\n",
    "import os, shutil\n",
    "import geopandas as gp\n",
    "import pandas as pd\n",
    "import xlrd\n",
    "from pandas.plotting import scatter_matrix\n",
    "import numpy as np\n",
    "import pylab as pl\n",
    "import statsmodels.api as sm\n",
    "import statsmodels.formula.api as smf\n",
    "import scipy.stats as stats\n",
    "import scipy\n",
    "\n",
    "%pylab inline"
   ]
  },
  {
   "cell_type": "markdown",
   "metadata": {},
   "source": [
    "## Import and clean Yellow Taxi data"
   ]
  },
  {
   "cell_type": "markdown",
   "metadata": {},
   "source": [
    "### Download the data and move it to PUIData"
   ]
  },
  {
   "cell_type": "code",
   "execution_count": null,
   "metadata": {},
   "outputs": [],
   "source": [
    "os.system(\"curl -O https://s3.amazonaws.com/nyc-tlc/trip+data/yellow_tripdata_2009-02.csv\");\n",
    "path = os.getcwd()\n",
    "oldFile = path + \"/\" + \"yellow_tripdata_2009-02.csv\"\n",
    "newFile = os.getenv(\"PUIDATA\") + \"yellow-taxi.csv\"\n",
    "shutil.move(oldFile, newFile);"
   ]
  },
  {
   "cell_type": "markdown",
   "metadata": {},
   "source": [
    "### Read in only one observation every 1,000 observations"
   ]
  },
  {
   "cell_type": "code",
   "execution_count": 123,
   "metadata": {},
   "outputs": [],
   "source": [
    "taxiData = pd.read_csv(newFile)"
   ]
  },
  {
   "cell_type": "code",
   "execution_count": 124,
   "metadata": {},
   "outputs": [],
   "source": [
    "taxiData = taxiData[::1000]"
   ]
  },
  {
   "cell_type": "markdown",
   "metadata": {},
   "source": [
    "### Drop unnecessary columns"
   ]
  },
  {
   "cell_type": "code",
   "execution_count": 125,
   "metadata": {},
   "outputs": [],
   "source": [
    "keepColumns = ['Trip_Pickup_DateTime', 'Trip_Dropoff_DateTime','Trip_Distance', \n",
    "               'Start_Lon', 'Start_Lat', 'End_Lon', 'End_Lat', 'Fare_Amt', 'Tip_Amt']\n",
    "taxiData = pd.DataFrame(taxiData, columns=keepColumns)\n",
    "taxiData = taxiData.dropna()"
   ]
  },
  {
   "cell_type": "markdown",
   "metadata": {},
   "source": [
    "### Calculate trip duration and tip amount"
   ]
  },
  {
   "cell_type": "code",
   "execution_count": 126,
   "metadata": {},
   "outputs": [],
   "source": [
    "taxiData['Trip_Dropoff_DateTime']  = pd.to_datetime(taxiData['Trip_Dropoff_DateTime'] )\n",
    "taxiData['Trip_Pickup_DateTime'] = pd.to_datetime(taxiData['Trip_Pickup_DateTime'])\n",
    "taxiData['Duration'] = taxiData['Trip_Dropoff_DateTime'] - taxiData['Trip_Pickup_DateTime']\n",
    "taxiData['Tip Percentage'] = (taxiData['Tip_Amt'] / taxiData['Fare_Amt']) * 100"
   ]
  },
  {
   "cell_type": "markdown",
   "metadata": {},
   "source": [
    "### Get Zipcodes"
   ]
  },
  {
   "cell_type": "code",
   "execution_count": 127,
   "metadata": {},
   "outputs": [],
   "source": [
    "os.system(\"curl -O http://cosmo.nyu.edu/~fb55/data/departureZIP.csv\");\n",
    "path = os.getcwd()\n",
    "oldFile = path + \"/\" + \"departureZIP.csv\"\n",
    "newFile = os.getenv(\"PUIDATA\") + \"departureZIP.csv\"\n",
    "shutil.move(oldFile, newFile);\n",
    "departureZIP = pd.read_csv(newFile)"
   ]
  },
  {
   "cell_type": "code",
   "execution_count": 128,
   "metadata": {},
   "outputs": [],
   "source": [
    "os.system(\"curl -O http://cosmo.nyu.edu/~fb55/data/destinationZIP.csv\");\n",
    "path = os.getcwd()\n",
    "oldFile = path + \"/\" + \"destinationZIP.csv\"\n",
    "newFile = os.getenv(\"PUIDATA\") + \"destinationZIP.csv\"\n",
    "shutil.move(oldFile, newFile);\n",
    "destinationZIP = pd.read_csv(newFile)"
   ]
  },
  {
   "cell_type": "code",
   "execution_count": 130,
   "metadata": {},
   "outputs": [],
   "source": [
    "keepColumns = ['Start_Lon', 'Start_Lat','ZIPCODE']\n",
    "departureZIP = pd.DataFrame(departureZIP, columns=keepColumns)"
   ]
  },
  {
   "cell_type": "code",
   "execution_count": 131,
   "metadata": {},
   "outputs": [],
   "source": [
    "keepColumns = ['End_Lon', 'End_Lat','ZIPCODE']\n",
    "destinationZIP = pd.DataFrame(destinationZIP, columns=keepColumns)"
   ]
  },
  {
   "cell_type": "code",
   "execution_count": 134,
   "metadata": {},
   "outputs": [],
   "source": [
    "taxiData = taxiData.merge(departureZIP, on=['Start_Lon', 'Start_Lat'])\n",
    "taxiData = taxiData.merge(destinationZIP, on=['End_Lon', 'End_Lat'])"
   ]
  },
  {
   "cell_type": "code",
   "execution_count": 136,
   "metadata": {},
   "outputs": [],
   "source": [
    "keepColumns = ['Trip_Distance', 'Fare_Amt','Tip_Amt', 'Duration', 'Tip Percentage', 'ZIPCODE_x', \n",
    "               'ZIPCODE_y']\n",
    "taxiData = pd.DataFrame(taxiData, columns=keepColumns)\n",
    "taxiData = taxiData.dropna()"
   ]
  },
  {
   "cell_type": "code",
   "execution_count": 138,
   "metadata": {},
   "outputs": [],
   "source": [
    "taxiData.columns = ['Trip Distance', 'Fare', 'Tip', 'Duration', 'Tip Percent', 'Departure', 'Destination']"
   ]
  },
  {
   "cell_type": "markdown",
   "metadata": {},
   "source": [
    "## Import and clean up zip code income data"
   ]
  },
  {
   "cell_type": "code",
   "execution_count": 141,
   "metadata": {},
   "outputs": [],
   "source": [
    "os.system(\"curl -O http://www.nber.org/tax-stats/zipcode/2009/09zp33ny.xls\");\n",
    "path = os.getcwd()\n",
    "oldFile = path + \"/\" + \"09zp33ny.xls\"\n",
    "newFile = os.getenv(\"PUIDATA\") + \"income-data.xls\"\n",
    "shutil.move(oldFile, newFile);"
   ]
  },
  {
   "cell_type": "code",
   "execution_count": 157,
   "metadata": {},
   "outputs": [],
   "source": [
    "incomeData = pd.read_excel(newFile, header=3, index_col=\"ZIP\\ncode [1]\")"
   ]
  },
  {
   "cell_type": "code",
   "execution_count": 158,
   "metadata": {},
   "outputs": [],
   "source": [
    "keepColumns = ['Number of returns', 'Number of joint returns','Number of dependents', \n",
    "               'Adjusted gross income (AGI)']\n",
    "incomeData = pd.DataFrame(incomeData, columns=keepColumns)\n",
    "incomeData = incomeData.dropna()"
   ]
  },
  {
   "cell_type": "code",
   "execution_count": 164,
   "metadata": {},
   "outputs": [],
   "source": [
    "incomeData['Population'] = incomeData['Number of returns'] + incomeData['Number of joint returns'] + incomeData['Number of dependents']\n",
    "incomeData['Income Per Capita'] = incomeData['Adjusted gross income (AGI)'] / incomeData['Population']"
   ]
  },
  {
   "cell_type": "code",
   "execution_count": 169,
   "metadata": {},
   "outputs": [],
   "source": [
    "keepColumns = ['Population', 'Income Per Capita']\n",
    "incomeData = pd.DataFrame(incomeData, columns=keepColumns)\n",
    "incomeData = incomeData.dropna()\n",
    "incomeData.reset_index"
   ]
  },
  {
   "cell_type": "code",
   "execution_count": 172,
   "metadata": {},
   "outputs": [],
   "source": [
    "incomeData['ZIP Code'] = incomeData.index.astype(float)\n",
    "incomeData['ZIP Code'] = incomeData.index.astype(int)"
   ]
  },
  {
   "cell_type": "code",
   "execution_count": 182,
   "metadata": {},
   "outputs": [],
   "source": [
    "incomeData = incomeData.dropna()"
   ]
  },
  {
   "cell_type": "code",
   "execution_count": 206,
   "metadata": {},
   "outputs": [],
   "source": [
    "incomeData = incomeData[::7]"
   ]
  },
  {
   "cell_type": "markdown",
   "metadata": {},
   "source": [
    "## Aggregate the data"
   ]
  },
  {
   "cell_type": "markdown",
   "metadata": {},
   "source": [
    "Data aggregation task: Join the datasets so that your data contains at least: trip duration, trip distance, fare amount, tip percentage, departure zipcode income, and destination zipcode income¶"
   ]
  },
  {
   "cell_type": "code",
   "execution_count": 207,
   "metadata": {},
   "outputs": [
    {
     "data": {
      "text/html": [
       "<div>\n",
       "<style>\n",
       "    .dataframe thead tr:only-child th {\n",
       "        text-align: right;\n",
       "    }\n",
       "\n",
       "    .dataframe thead th {\n",
       "        text-align: left;\n",
       "    }\n",
       "\n",
       "    .dataframe tbody tr th {\n",
       "        vertical-align: top;\n",
       "    }\n",
       "</style>\n",
       "<table border=\"1\" class=\"dataframe\">\n",
       "  <thead>\n",
       "    <tr style=\"text-align: right;\">\n",
       "      <th></th>\n",
       "      <th>Trip Distance</th>\n",
       "      <th>Fare</th>\n",
       "      <th>Tip</th>\n",
       "      <th>Duration</th>\n",
       "      <th>Tip Percent</th>\n",
       "      <th>Departure</th>\n",
       "      <th>Destination</th>\n",
       "    </tr>\n",
       "  </thead>\n",
       "  <tbody>\n",
       "    <tr>\n",
       "      <th>0</th>\n",
       "      <td>1.6</td>\n",
       "      <td>6.9</td>\n",
       "      <td>0.0</td>\n",
       "      <td>00:08:39</td>\n",
       "      <td>0.000000</td>\n",
       "      <td>10036</td>\n",
       "      <td>10011</td>\n",
       "    </tr>\n",
       "    <tr>\n",
       "      <th>1</th>\n",
       "      <td>1.0</td>\n",
       "      <td>5.3</td>\n",
       "      <td>0.0</td>\n",
       "      <td>00:05:28</td>\n",
       "      <td>0.000000</td>\n",
       "      <td>10028</td>\n",
       "      <td>10024</td>\n",
       "    </tr>\n",
       "    <tr>\n",
       "      <th>2</th>\n",
       "      <td>1.7</td>\n",
       "      <td>6.6</td>\n",
       "      <td>0.0</td>\n",
       "      <td>00:05:55</td>\n",
       "      <td>0.000000</td>\n",
       "      <td>10022</td>\n",
       "      <td>10023</td>\n",
       "    </tr>\n",
       "    <tr>\n",
       "      <th>3</th>\n",
       "      <td>0.0</td>\n",
       "      <td>3.0</td>\n",
       "      <td>7.0</td>\n",
       "      <td>00:00:12</td>\n",
       "      <td>233.333333</td>\n",
       "      <td>10019</td>\n",
       "      <td>10019</td>\n",
       "    </tr>\n",
       "    <tr>\n",
       "      <th>4</th>\n",
       "      <td>3.2</td>\n",
       "      <td>14.2</td>\n",
       "      <td>0.0</td>\n",
       "      <td>00:22:12</td>\n",
       "      <td>0.000000</td>\n",
       "      <td>10012</td>\n",
       "      <td>10022</td>\n",
       "    </tr>\n",
       "  </tbody>\n",
       "</table>\n",
       "</div>"
      ],
      "text/plain": [
       "   Trip Distance  Fare  Tip Duration  Tip Percent  Departure  Destination\n",
       "0            1.6   6.9  0.0 00:08:39     0.000000      10036        10011\n",
       "1            1.0   5.3  0.0 00:05:28     0.000000      10028        10024\n",
       "2            1.7   6.6  0.0 00:05:55     0.000000      10022        10023\n",
       "3            0.0   3.0  7.0 00:00:12   233.333333      10019        10019\n",
       "4            3.2  14.2  0.0 00:22:12     0.000000      10012        10022"
      ]
     },
     "execution_count": 207,
     "metadata": {},
     "output_type": "execute_result"
    }
   ],
   "source": [
    "taxiData.head()"
   ]
  },
  {
   "cell_type": "code",
   "execution_count": 208,
   "metadata": {},
   "outputs": [
    {
     "data": {
      "text/html": [
       "<div>\n",
       "<style>\n",
       "    .dataframe thead tr:only-child th {\n",
       "        text-align: right;\n",
       "    }\n",
       "\n",
       "    .dataframe thead th {\n",
       "        text-align: left;\n",
       "    }\n",
       "\n",
       "    .dataframe tbody tr th {\n",
       "        vertical-align: top;\n",
       "    }\n",
       "</style>\n",
       "<table border=\"1\" class=\"dataframe\">\n",
       "  <thead>\n",
       "    <tr style=\"text-align: right;\">\n",
       "      <th></th>\n",
       "      <th>Population</th>\n",
       "      <th>Income Per Capita</th>\n",
       "      <th>ZIP Code</th>\n",
       "    </tr>\n",
       "    <tr>\n",
       "      <th>ZIP\n",
       "code [1]</th>\n",
       "      <th></th>\n",
       "      <th></th>\n",
       "      <th></th>\n",
       "    </tr>\n",
       "  </thead>\n",
       "  <tbody>\n",
       "    <tr>\n",
       "      <th>0</th>\n",
       "      <td>17016108.0</td>\n",
       "      <td>34.735223</td>\n",
       "      <td>0</td>\n",
       "    </tr>\n",
       "    <tr>\n",
       "      <th>10001</th>\n",
       "      <td>17426.0</td>\n",
       "      <td>94.386319</td>\n",
       "      <td>10001</td>\n",
       "    </tr>\n",
       "    <tr>\n",
       "      <th>10002</th>\n",
       "      <td>77558.0</td>\n",
       "      <td>21.312824</td>\n",
       "      <td>10002</td>\n",
       "    </tr>\n",
       "    <tr>\n",
       "      <th>10003</th>\n",
       "      <td>38156.0</td>\n",
       "      <td>119.356720</td>\n",
       "      <td>10003</td>\n",
       "    </tr>\n",
       "    <tr>\n",
       "      <th>10004</th>\n",
       "      <td>3231.0</td>\n",
       "      <td>150.291551</td>\n",
       "      <td>10004</td>\n",
       "    </tr>\n",
       "  </tbody>\n",
       "</table>\n",
       "</div>"
      ],
      "text/plain": [
       "               Population  Income Per Capita  ZIP Code\n",
       "ZIP\\ncode [1]                                         \n",
       "0              17016108.0          34.735223         0\n",
       "10001             17426.0          94.386319     10001\n",
       "10002             77558.0          21.312824     10002\n",
       "10003             38156.0         119.356720     10003\n",
       "10004              3231.0         150.291551     10004"
      ]
     },
     "execution_count": 208,
     "metadata": {},
     "output_type": "execute_result"
    }
   ],
   "source": [
    "incomeData.head()"
   ]
  },
  {
   "cell_type": "code",
   "execution_count": 239,
   "metadata": {},
   "outputs": [],
   "source": [
    "data1 = taxiData.merge(incomeData, left_on='Departure', right_on='ZIP Code')\n",
    "data1=data1.rename(columns = {'Income Per Capita':'Departure Income'})"
   ]
  },
  {
   "cell_type": "markdown",
   "metadata": {},
   "source": [
    "trip duration, trip distance, fare amount, tip percentage, departure zipcode income, and destination zipcode income¶"
   ]
  },
  {
   "cell_type": "code",
   "execution_count": 240,
   "metadata": {},
   "outputs": [],
   "source": [
    "data2 = taxiData.merge(incomeData, left_on='Destination', right_on='ZIP Code')\n",
    "data2=data2.rename(columns = {'Income Per Capita':'Destination Income'})"
   ]
  },
  {
   "cell_type": "code",
   "execution_count": 242,
   "metadata": {},
   "outputs": [],
   "source": [
    "data = data1\n",
    "data['Destination Income'] = data2['Destination Income']"
   ]
  },
  {
   "cell_type": "code",
   "execution_count": 248,
   "metadata": {},
   "outputs": [],
   "source": [
    "keepColumns = ['Trip Distance', 'Duration', 'Fare', 'Tip Percent', 'Departure Income', 'Destination Income']\n",
    "data = pd.DataFrame(data, columns=keepColumns)\n",
    "data = data.dropna()"
   ]
  },
  {
   "cell_type": "markdown",
   "metadata": {},
   "source": [
    "## Plot the distribution of tip percentages and describe its first and second moment"
   ]
  },
  {
   "cell_type": "code",
   "execution_count": 254,
   "metadata": {},
   "outputs": [
    {
     "data": {
      "image/png": "[encoded data removed]",
      "text/plain": [
       "<matplotlib.figure.Figure at 0x117e92be0>"
      ]
     },
     "metadata": {},
     "output_type": "display_data"
    }
   ],
   "source": [
    "pl.hist(data['Tip Percent'], 100, (0,30));\n",
    "title(\"Histogram of Tip Percentage Distribution\");\n",
    "xlabel(\"Tip Percentage\");\n",
    "ylabel(\"Frequency\");"
   ]
  },
  {
   "cell_type": "code",
   "execution_count": 255,
   "metadata": {},
   "outputs": [
    {
     "name": "stdout",
     "output_type": "stream",
     "text": [
      "The mean of the distribution of tip percentage is:  4.70509669212\n"
     ]
    }
   ],
   "source": [
    "#moment 1 is the mean\n",
    "mean = mean(data['Tip Percent'])\n",
    "print('The mean of the distribution of tip percentage is: ', mean)"
   ]
  },
  {
   "cell_type": "code",
   "execution_count": 256,
   "metadata": {},
   "outputs": [
    {
     "name": "stdout",
     "output_type": "stream",
     "text": [
      "The mean of the distribution of tip percentage is:  3.35299063592\n"
     ]
    }
   ],
   "source": [
    "#moment 2 is the variance\n",
    "variance = sqrt(std(data['Tip Percent']))\n",
    "print('The mean of the distribution of tip percentage is: ', variance)"
   ]
  },
  {
   "cell_type": "markdown",
   "metadata": {},
   "source": [
    "## Test if the distribution is consistent with a Gaussian"
   ]
  },
  {
   "cell_type": "code",
   "execution_count": 258,
   "metadata": {},
   "outputs": [],
   "source": [
    "#Create a Gaussian distribution with which to compare\n",
    "np.random.seed(100)\n",
    "gaussDistribution = np.random.normal(0, 1, 100)"
   ]
  },
  {
   "cell_type": "code",
   "execution_count": 262,
   "metadata": {},
   "outputs": [
    {
     "data": {
      "image/png": "[encoded data removed]",
      "text/plain": [
       "<matplotlib.figure.Figure at 0x18c203f28>"
      ]
     },
     "metadata": {},
     "output_type": "display_data"
    }
   ],
   "source": [
    "fig = pl.figure(figsize=(15,5))\n",
    "fig.suptitle('Comparing Gaussian Distribution to Distribution of Tip Percentages')\n",
    "\n",
    "ax1 = fig.add_subplot(121)\n",
    "ax1.hist(gaussDistribution)\n",
    "ax1.set_xlabel(\"Value\")\n",
    "ax1.set_ylabel(\"Frequency\")\n",
    "ax1.set_ylim()\n",
    "\n",
    "ax2 = fig.add_subplot(122)\n",
    "ax2.hist(data['Tip Percent'])\n",
    "ax2.set_xlabel(\"Value\")\n",
    "ax2.set_ylabel(\"Frequency\")\n",
    "ax2.set_ylim()\n",
    "pl.show()"
   ]
  },
  {
   "cell_type": "markdown",
   "metadata": {},
   "source": [
    "**Figure 1:** These don't look very similar..."
   ]
  },
  {
   "cell_type": "code",
   "execution_count": 265,
   "metadata": {},
   "outputs": [
    {
     "data": {
      "text/plain": [
       "KstestResult(statistic=0.5, pvalue=0.0)"
      ]
     },
     "execution_count": 265,
     "metadata": {},
     "output_type": "execute_result"
    }
   ],
   "source": [
    "scipy.stats.kstest(data['Tip Percent'], \"norm\")"
   ]
  },
  {
   "cell_type": "markdown",
   "metadata": {},
   "source": [
    "**Interpretation:** With a p-value of zero, we have to reject the null that these two distributions are identical. Thus we can say that the distribution of tips is not Gaussian."
   ]
  },
  {
   "cell_type": "markdown",
   "metadata": {
    "heading_collapsed": true
   },
   "source": [
    "## Fit a line to taxi fare vs trip duration and to taxi fare vs trip distance to decide which variable between duration and distance \"contains more information\" when used with the fare"
   ]
  },
  {
   "cell_type": "code",
   "execution_count": 306,
   "metadata": {
    "hidden": true
   },
   "outputs": [],
   "source": [
    "#We have to turn a time type into a float\n",
    "duration = pd.DataFrame(data['Duration']).apply(np.float32)\n",
    "X = sm.add_constant(duration)\n",
    "durationModel = sm.OLS(endog=data['Fare'], exog=X).fit()"
   ]
  },
  {
   "cell_type": "code",
   "execution_count": 307,
   "metadata": {
    "hidden": true
   },
   "outputs": [],
   "source": [
    "X = sm.add_constant(data['Trip Distance'])\n",
    "distanceModel = sm.OLS(endog=data['Fare'], exog=X).fit()"
   ]
  },
  {
   "cell_type": "code",
   "execution_count": 308,
   "metadata": {
    "hidden": true
   },
   "outputs": [
    {
     "data": {
      "text/html": [
       "<table class=\"simpletable\">\n",
       "<caption>OLS Regression Results</caption>\n",
       "<tr>\n",
       "  <th>Dep. Variable:</th>          <td>Fare</td>       <th>  R-squared:         </th> <td>   0.305</td> \n",
       "</tr>\n",
       "<tr>\n",
       "  <th>Model:</th>                   <td>OLS</td>       <th>  Adj. R-squared:    </th> <td>   0.304</td> \n",
       "</tr>\n",
       "<tr>\n",
       "  <th>Method:</th>             <td>Least Squares</td>  <th>  F-statistic:       </th> <td>   1154.</td> \n",
       "</tr>\n",
       "<tr>\n",
       "  <th>Date:</th>             <td>Thu, 26 Oct 2017</td> <th>  Prob (F-statistic):</th> <td>4.14e-210</td>\n",
       "</tr>\n",
       "<tr>\n",
       "  <th>Time:</th>                 <td>20:02:31</td>     <th>  Log-Likelihood:    </th> <td> -8100.8</td> \n",
       "</tr>\n",
       "<tr>\n",
       "  <th>No. Observations:</th>      <td>  2635</td>      <th>  AIC:               </th> <td>1.621e+04</td>\n",
       "</tr>\n",
       "<tr>\n",
       "  <th>Df Residuals:</th>          <td>  2633</td>      <th>  BIC:               </th> <td>1.622e+04</td>\n",
       "</tr>\n",
       "<tr>\n",
       "  <th>Df Model:</th>              <td>     1</td>      <th>                     </th>     <td> </td>    \n",
       "</tr>\n",
       "<tr>\n",
       "  <th>Covariance Type:</th>      <td>nonrobust</td>    <th>                     </th>     <td> </td>    \n",
       "</tr>\n",
       "</table>\n",
       "<table class=\"simpletable\">\n",
       "<tr>\n",
       "      <td></td>        <th>coef</th>     <th>std err</th>      <th>t</th>      <th>P>|t|</th>  <th>[0.025</th>    <th>0.975]</th>  \n",
       "</tr>\n",
       "<tr>\n",
       "  <th>const</th>    <td>    5.9401</td> <td>    0.142</td> <td>   41.783</td> <td> 0.000</td> <td>    5.661</td> <td>    6.219</td>\n",
       "</tr>\n",
       "<tr>\n",
       "  <th>Duration</th> <td> 5.054e-12</td> <td> 1.49e-13</td> <td>   33.973</td> <td> 0.000</td> <td> 4.76e-12</td> <td> 5.35e-12</td>\n",
       "</tr>\n",
       "</table>\n",
       "<table class=\"simpletable\">\n",
       "<tr>\n",
       "  <th>Omnibus:</th>       <td>2443.686</td> <th>  Durbin-Watson:     </th>  <td>   1.703</td>  \n",
       "</tr>\n",
       "<tr>\n",
       "  <th>Prob(Omnibus):</th>  <td> 0.000</td>  <th>  Jarque-Bera (JB):  </th> <td>2574424.999</td>\n",
       "</tr>\n",
       "<tr>\n",
       "  <th>Skew:</th>           <td>-3.275</td>  <th>  Prob(JB):          </th>  <td>    0.00</td>  \n",
       "</tr>\n",
       "<tr>\n",
       "  <th>Kurtosis:</th>       <td>155.988</td> <th>  Cond. No.          </th>  <td>1.33e+12</td>  \n",
       "</tr>\n",
       "</table>"
      ],
      "text/plain": [
       "<class 'statsmodels.iolib.summary.Summary'>\n",
       "\"\"\"\n",
       "                            OLS Regression Results                            \n",
       "==============================================================================\n",
       "Dep. Variable:                   Fare   R-squared:                       0.305\n",
       "Model:                            OLS   Adj. R-squared:                  0.304\n",
       "Method:                 Least Squares   F-statistic:                     1154.\n",
       "Date:                Thu, 26 Oct 2017   Prob (F-statistic):          4.14e-210\n",
       "Time:                        20:02:31   Log-Likelihood:                -8100.8\n",
       "No. Observations:                2635   AIC:                         1.621e+04\n",
       "Df Residuals:                    2633   BIC:                         1.622e+04\n",
       "Df Model:                           1                                         \n",
       "Covariance Type:            nonrobust                                         \n",
       "==============================================================================\n",
       "                 coef    std err          t      P>|t|      [0.025      0.975]\n",
       "------------------------------------------------------------------------------\n",
       "const          5.9401      0.142     41.783      0.000       5.661       6.219\n",
       "Duration    5.054e-12   1.49e-13     33.973      0.000    4.76e-12    5.35e-12\n",
       "==============================================================================\n",
       "Omnibus:                     2443.686   Durbin-Watson:                   1.703\n",
       "Prob(Omnibus):                  0.000   Jarque-Bera (JB):          2574424.999\n",
       "Skew:                          -3.275   Prob(JB):                         0.00\n",
       "Kurtosis:                     155.988   Cond. No.                     1.33e+12\n",
       "==============================================================================\n",
       "\n",
       "Warnings:\n",
       "[1] Standard Errors assume that the covariance matrix of the errors is correctly specified.\n",
       "[2] The condition number is large, 1.33e+12. This might indicate that there are\n",
       "strong multicollinearity or other numerical problems.\n",
       "\"\"\""
      ]
     },
     "execution_count": 308,
     "metadata": {},
     "output_type": "execute_result"
    }
   ],
   "source": [
    "durationModel.summary()"
   ]
  },
  {
   "cell_type": "code",
   "execution_count": 309,
   "metadata": {
    "hidden": true
   },
   "outputs": [
    {
     "data": {
      "text/html": [
       "<table class=\"simpletable\">\n",
       "<caption>OLS Regression Results</caption>\n",
       "<tr>\n",
       "  <th>Dep. Variable:</th>          <td>Fare</td>       <th>  R-squared:         </th> <td>   0.868</td> \n",
       "</tr>\n",
       "<tr>\n",
       "  <th>Model:</th>                   <td>OLS</td>       <th>  Adj. R-squared:    </th> <td>   0.868</td> \n",
       "</tr>\n",
       "<tr>\n",
       "  <th>Method:</th>             <td>Least Squares</td>  <th>  F-statistic:       </th> <td>1.734e+04</td>\n",
       "</tr>\n",
       "<tr>\n",
       "  <th>Date:</th>             <td>Thu, 26 Oct 2017</td> <th>  Prob (F-statistic):</th>  <td>  0.00</td>  \n",
       "</tr>\n",
       "<tr>\n",
       "  <th>Time:</th>                 <td>20:02:35</td>     <th>  Log-Likelihood:    </th> <td> -5910.4</td> \n",
       "</tr>\n",
       "<tr>\n",
       "  <th>No. Observations:</th>      <td>  2635</td>      <th>  AIC:               </th> <td>1.182e+04</td>\n",
       "</tr>\n",
       "<tr>\n",
       "  <th>Df Residuals:</th>          <td>  2633</td>      <th>  BIC:               </th> <td>1.184e+04</td>\n",
       "</tr>\n",
       "<tr>\n",
       "  <th>Df Model:</th>              <td>     1</td>      <th>                     </th>     <td> </td>    \n",
       "</tr>\n",
       "<tr>\n",
       "  <th>Covariance Type:</th>      <td>nonrobust</td>    <th>                     </th>     <td> </td>    \n",
       "</tr>\n",
       "</table>\n",
       "<table class=\"simpletable\">\n",
       "<tr>\n",
       "        <td></td>           <th>coef</th>     <th>std err</th>      <th>t</th>      <th>P>|t|</th>  <th>[0.025</th>    <th>0.975]</th>  \n",
       "</tr>\n",
       "<tr>\n",
       "  <th>const</th>         <td>    3.7627</td> <td>    0.061</td> <td>   61.483</td> <td> 0.000</td> <td>    3.643</td> <td>    3.883</td>\n",
       "</tr>\n",
       "<tr>\n",
       "  <th>Trip Distance</th> <td>    2.2195</td> <td>    0.017</td> <td>  131.664</td> <td> 0.000</td> <td>    2.186</td> <td>    2.253</td>\n",
       "</tr>\n",
       "</table>\n",
       "<table class=\"simpletable\">\n",
       "<tr>\n",
       "  <th>Omnibus:</th>       <td>3829.358</td> <th>  Durbin-Watson:     </th>  <td>   1.889</td>  \n",
       "</tr>\n",
       "<tr>\n",
       "  <th>Prob(Omnibus):</th>  <td> 0.000</td>  <th>  Jarque-Bera (JB):  </th> <td>3492086.595</td>\n",
       "</tr>\n",
       "<tr>\n",
       "  <th>Skew:</th>           <td> 8.148</td>  <th>  Prob(JB):          </th>  <td>    0.00</td>  \n",
       "</tr>\n",
       "<tr>\n",
       "  <th>Kurtosis:</th>       <td>180.598</td> <th>  Cond. No.          </th>  <td>    5.19</td>  \n",
       "</tr>\n",
       "</table>"
      ],
      "text/plain": [
       "<class 'statsmodels.iolib.summary.Summary'>\n",
       "\"\"\"\n",
       "                            OLS Regression Results                            \n",
       "==============================================================================\n",
       "Dep. Variable:                   Fare   R-squared:                       0.868\n",
       "Model:                            OLS   Adj. R-squared:                  0.868\n",
       "Method:                 Least Squares   F-statistic:                 1.734e+04\n",
       "Date:                Thu, 26 Oct 2017   Prob (F-statistic):               0.00\n",
       "Time:                        20:02:35   Log-Likelihood:                -5910.4\n",
       "No. Observations:                2635   AIC:                         1.182e+04\n",
       "Df Residuals:                    2633   BIC:                         1.184e+04\n",
       "Df Model:                           1                                         \n",
       "Covariance Type:            nonrobust                                         \n",
       "=================================================================================\n",
       "                    coef    std err          t      P>|t|      [0.025      0.975]\n",
       "---------------------------------------------------------------------------------\n",
       "const             3.7627      0.061     61.483      0.000       3.643       3.883\n",
       "Trip Distance     2.2195      0.017    131.664      0.000       2.186       2.253\n",
       "==============================================================================\n",
       "Omnibus:                     3829.358   Durbin-Watson:                   1.889\n",
       "Prob(Omnibus):                  0.000   Jarque-Bera (JB):          3492086.595\n",
       "Skew:                           8.148   Prob(JB):                         0.00\n",
       "Kurtosis:                     180.598   Cond. No.                         5.19\n",
       "==============================================================================\n",
       "\n",
       "Warnings:\n",
       "[1] Standard Errors assume that the covariance matrix of the errors is correctly specified.\n",
       "\"\"\""
      ]
     },
     "execution_count": 309,
     "metadata": {},
     "output_type": "execute_result"
    }
   ],
   "source": [
    "distanceModel.summary()"
   ]
  },
  {
   "cell_type": "markdown",
   "metadata": {
    "hidden": true
   },
   "source": [
    "**Interpretation:** The distance model has a better R squared value but logically in my mind, I think duration is more important as distances are usually pretty small no matter what in NYC. It's the traffic that matters..."
   ]
  },
  {
   "cell_type": "code",
   "execution_count": null,
   "metadata": {
    "hidden": true
   },
   "outputs": [],
   "source": [
    "durationValues = durationModel.fittedvalues\n",
    "distanceValues = distanceModel.fittedvalues"
   ]
  },
  {
   "cell_type": "code",
   "execution_count": 315,
   "metadata": {
    "hidden": true
   },
   "outputs": [
    {
     "data": {
      "image/png": "[encoded data removed]",
      "text/plain": [
       "<matplotlib.figure.Figure at 0x11b877d30>"
      ]
     },
     "metadata": {},
     "output_type": "display_data"
    }
   ],
   "source": [
    "pl.plot(data['Trip Distance'], distanceValues, '-', label='Distance Fit')\n",
    "pl.plot(data['Duration'], durationValues, '-', label='Duration Fit')\n",
    "pl.plot(data['Trip Distance'], data['Fare'], '.')\n",
    "pl.plot(data['Duration'], data['Fare'], '.')\n",
    "ax.set_xlabel(\"Duration or Distance of Trip\")\n",
    "ax.set_ylabel(\"Fare of Trip\")\n",
    "pl.legend()\n",
    "pl.show()"
   ]
  },
  {
   "cell_type": "markdown",
   "metadata": {
    "hidden": true
   },
   "source": [
    "**Figure 2:** It does look like distance explains more than duration as its points are all along that line. But still this does not make sense as in NYC, distance in actual miles is not that much but it is time that really takes its toll in terms of fares. "
   ]
  },
  {
   "cell_type": "markdown",
   "metadata": {},
   "source": [
    "## Remove outliers and assess if this has an effect this has on the model"
   ]
  },
  {
   "cell_type": "code",
   "execution_count": 316,
   "metadata": {},
   "outputs": [
    {
     "name": "stdout",
     "output_type": "stream",
     "text": [
      "       Trip Distance                Duration         Fare  Tip Percent  \\\n",
      "count    2635.000000                    2635  2635.000000  2635.000000   \n",
      "mean        2.496641  0 days 00:11:05.622390     9.303985     4.705097   \n",
      "std         2.636118  0 days 00:11:25.960388     6.279512    11.244680   \n",
      "min         0.000000       -1 days +23:55:00     2.500000     0.000000   \n",
      "25%         1.000000         0 days 00:05:51     5.700000     0.000000   \n",
      "50%         1.660000         0 days 00:09:00     7.700000     0.000000   \n",
      "75%         2.900000         0 days 00:14:00    10.900000     0.000000   \n",
      "max        20.200000         0 days 06:57:33    45.000000   233.333333   \n",
      "\n",
      "       Departure Income  Destination Income  \n",
      "count       2635.000000         2635.000000  \n",
      "mean         143.004242          138.413306  \n",
      "std           67.648740           70.736313  \n",
      "min           15.122242            6.655770  \n",
      "25%          111.452011           99.700046  \n",
      "50%          137.214153          121.765217  \n",
      "75%          170.259993          170.550404  \n",
      "max          430.402252          430.402252  \n"
     ]
    }
   ],
   "source": [
    "print(data.describe())"
   ]
  },
  {
   "cell_type": "markdown",
   "metadata": {},
   "source": [
    "**Interpretation:** We can see that there is a massive amount of no tips! It then zooms up to 233%! This 233% is definitely an outlier! (Who gives that high of a tip?! You made outta money or something?!) Let's drop tip percents that are above 50%. There's also an odd negative time. Not sure how that happened but let's fix that. And there's a 6 hour trip! Oh god. That's awful. Let's get rid of that too. Oh and that 20 miles...That's too high too!"
   ]
  },
  {
   "cell_type": "code",
   "execution_count": 321,
   "metadata": {},
   "outputs": [],
   "source": [
    "#Our duration is in an annoying deltatime dtype and I don't have enough time to figure out\n",
    "#how to change this cause I've never used this before so I'm gonna\n",
    "#Coerce it and it turns it into nanoseconds so I divide them by how many\n",
    "#nanoseconds are in an hour to get a rough approximation of an hour\n",
    "data['Duration'] = pd.to_numeric(data['Duration'], errors='coerce')\n",
    "data['Duration'] = data['Duration'] / 3.6e+12"
   ]
  },
  {
   "cell_type": "code",
   "execution_count": 343,
   "metadata": {},
   "outputs": [],
   "source": [
    "newData = data[data['Tip Percent'] < 50]\n",
    "newData = newData[newData['Duration'] > 0]\n",
    "newData = newData[newData['Duration'] < .23]\n",
    "newData = newData[newData['Trip Distance'] < 5]"
   ]
  },
  {
   "cell_type": "code",
   "execution_count": 344,
   "metadata": {},
   "outputs": [],
   "source": [
    "X = sm.add_constant(newData['Duration'])\n",
    "durationModel = sm.OLS(endog=newData['Fare'], exog=X).fit()"
   ]
  },
  {
   "cell_type": "code",
   "execution_count": 345,
   "metadata": {},
   "outputs": [
    {
     "data": {
      "text/html": [
       "<table class=\"simpletable\">\n",
       "<caption>OLS Regression Results</caption>\n",
       "<tr>\n",
       "  <th>Dep. Variable:</th>          <td>Fare</td>       <th>  R-squared:         </th> <td>   0.403</td> \n",
       "</tr>\n",
       "<tr>\n",
       "  <th>Model:</th>                   <td>OLS</td>       <th>  Adj. R-squared:    </th> <td>   0.403</td> \n",
       "</tr>\n",
       "<tr>\n",
       "  <th>Method:</th>             <td>Least Squares</td>  <th>  F-statistic:       </th> <td>   1260.</td> \n",
       "</tr>\n",
       "<tr>\n",
       "  <th>Date:</th>             <td>Thu, 26 Oct 2017</td> <th>  Prob (F-statistic):</th> <td>2.51e-211</td>\n",
       "</tr>\n",
       "<tr>\n",
       "  <th>Time:</th>                 <td>20:19:02</td>     <th>  Log-Likelihood:    </th> <td> -3933.8</td> \n",
       "</tr>\n",
       "<tr>\n",
       "  <th>No. Observations:</th>      <td>  1868</td>      <th>  AIC:               </th> <td>   7872.</td> \n",
       "</tr>\n",
       "<tr>\n",
       "  <th>Df Residuals:</th>          <td>  1866</td>      <th>  BIC:               </th> <td>   7883.</td> \n",
       "</tr>\n",
       "<tr>\n",
       "  <th>Df Model:</th>              <td>     1</td>      <th>                     </th>     <td> </td>    \n",
       "</tr>\n",
       "<tr>\n",
       "  <th>Covariance Type:</th>      <td>nonrobust</td>    <th>                     </th>     <td> </td>    \n",
       "</tr>\n",
       "</table>\n",
       "<table class=\"simpletable\">\n",
       "<tr>\n",
       "      <td></td>        <th>coef</th>     <th>std err</th>      <th>t</th>      <th>P>|t|</th>  <th>[0.025</th>    <th>0.975]</th>  \n",
       "</tr>\n",
       "<tr>\n",
       "  <th>const</th>    <td>    2.9798</td> <td>    0.115</td> <td>   25.844</td> <td> 0.000</td> <td>    2.754</td> <td>    3.206</td>\n",
       "</tr>\n",
       "<tr>\n",
       "  <th>Duration</th> <td>   30.7304</td> <td>    0.866</td> <td>   35.496</td> <td> 0.000</td> <td>   29.032</td> <td>   32.428</td>\n",
       "</tr>\n",
       "</table>\n",
       "<table class=\"simpletable\">\n",
       "<tr>\n",
       "  <th>Omnibus:</th>       <td>3637.991</td> <th>  Durbin-Watson:     </th>  <td>   1.920</td>  \n",
       "</tr>\n",
       "<tr>\n",
       "  <th>Prob(Omnibus):</th>  <td> 0.000</td>  <th>  Jarque-Bera (JB):  </th> <td>7264093.002</td>\n",
       "</tr>\n",
       "<tr>\n",
       "  <th>Skew:</th>           <td>14.880</td>  <th>  Prob(JB):          </th>  <td>    0.00</td>  \n",
       "</tr>\n",
       "<tr>\n",
       "  <th>Kurtosis:</th>       <td>307.045</td> <th>  Cond. No.          </th>  <td>    19.1</td>  \n",
       "</tr>\n",
       "</table>"
      ],
      "text/plain": [
       "<class 'statsmodels.iolib.summary.Summary'>\n",
       "\"\"\"\n",
       "                            OLS Regression Results                            \n",
       "==============================================================================\n",
       "Dep. Variable:                   Fare   R-squared:                       0.403\n",
       "Model:                            OLS   Adj. R-squared:                  0.403\n",
       "Method:                 Least Squares   F-statistic:                     1260.\n",
       "Date:                Thu, 26 Oct 2017   Prob (F-statistic):          2.51e-211\n",
       "Time:                        20:19:02   Log-Likelihood:                -3933.8\n",
       "No. Observations:                1868   AIC:                             7872.\n",
       "Df Residuals:                    1866   BIC:                             7883.\n",
       "Df Model:                           1                                         \n",
       "Covariance Type:            nonrobust                                         \n",
       "==============================================================================\n",
       "                 coef    std err          t      P>|t|      [0.025      0.975]\n",
       "------------------------------------------------------------------------------\n",
       "const          2.9798      0.115     25.844      0.000       2.754       3.206\n",
       "Duration      30.7304      0.866     35.496      0.000      29.032      32.428\n",
       "==============================================================================\n",
       "Omnibus:                     3637.991   Durbin-Watson:                   1.920\n",
       "Prob(Omnibus):                  0.000   Jarque-Bera (JB):          7264093.002\n",
       "Skew:                          14.880   Prob(JB):                         0.00\n",
       "Kurtosis:                     307.045   Cond. No.                         19.1\n",
       "==============================================================================\n",
       "\n",
       "Warnings:\n",
       "[1] Standard Errors assume that the covariance matrix of the errors is correctly specified.\n",
       "\"\"\""
      ]
     },
     "execution_count": 345,
     "metadata": {},
     "output_type": "execute_result"
    }
   ],
   "source": [
    "durationModel.summary()"
   ]
  },
  {
   "cell_type": "code",
   "execution_count": 346,
   "metadata": {},
   "outputs": [],
   "source": [
    "X = sm.add_constant(newData['Trip Distance'])\n",
    "distanceModel = sm.OLS(endog=newData['Fare'], exog=X).fit()"
   ]
  },
  {
   "cell_type": "code",
   "execution_count": 347,
   "metadata": {},
   "outputs": [
    {
     "data": {
      "text/html": [
       "<table class=\"simpletable\">\n",
       "<caption>OLS Regression Results</caption>\n",
       "<tr>\n",
       "  <th>Dep. Variable:</th>          <td>Fare</td>       <th>  R-squared:         </th> <td>   0.490</td> \n",
       "</tr>\n",
       "<tr>\n",
       "  <th>Model:</th>                   <td>OLS</td>       <th>  Adj. R-squared:    </th> <td>   0.489</td> \n",
       "</tr>\n",
       "<tr>\n",
       "  <th>Method:</th>             <td>Least Squares</td>  <th>  F-statistic:       </th> <td>   1790.</td> \n",
       "</tr>\n",
       "<tr>\n",
       "  <th>Date:</th>             <td>Thu, 26 Oct 2017</td> <th>  Prob (F-statistic):</th> <td>8.12e-275</td>\n",
       "</tr>\n",
       "<tr>\n",
       "  <th>Time:</th>                 <td>20:19:05</td>     <th>  Log-Likelihood:    </th> <td> -3787.5</td> \n",
       "</tr>\n",
       "<tr>\n",
       "  <th>No. Observations:</th>      <td>  1868</td>      <th>  AIC:               </th> <td>   7579.</td> \n",
       "</tr>\n",
       "<tr>\n",
       "  <th>Df Residuals:</th>          <td>  1866</td>      <th>  BIC:               </th> <td>   7590.</td> \n",
       "</tr>\n",
       "<tr>\n",
       "  <th>Df Model:</th>              <td>     1</td>      <th>                     </th>     <td> </td>    \n",
       "</tr>\n",
       "<tr>\n",
       "  <th>Covariance Type:</th>      <td>nonrobust</td>    <th>                     </th>     <td> </td>    \n",
       "</tr>\n",
       "</table>\n",
       "<table class=\"simpletable\">\n",
       "<tr>\n",
       "        <td></td>           <th>coef</th>     <th>std err</th>      <th>t</th>      <th>P>|t|</th>  <th>[0.025</th>    <th>0.975]</th>  \n",
       "</tr>\n",
       "<tr>\n",
       "  <th>const</th>         <td>    3.6953</td> <td>    0.083</td> <td>   44.281</td> <td> 0.000</td> <td>    3.532</td> <td>    3.859</td>\n",
       "</tr>\n",
       "<tr>\n",
       "  <th>Trip Distance</th> <td>    2.0385</td> <td>    0.048</td> <td>   42.307</td> <td> 0.000</td> <td>    1.944</td> <td>    2.133</td>\n",
       "</tr>\n",
       "</table>\n",
       "<table class=\"simpletable\">\n",
       "<tr>\n",
       "  <th>Omnibus:</th>       <td>3988.094</td> <th>  Durbin-Watson:     </th>   <td>   1.988</td>  \n",
       "</tr>\n",
       "<tr>\n",
       "  <th>Prob(Omnibus):</th>  <td> 0.000</td>  <th>  Jarque-Bera (JB):  </th> <td>12871888.329</td>\n",
       "</tr>\n",
       "<tr>\n",
       "  <th>Skew:</th>           <td>18.235</td>  <th>  Prob(JB):          </th>   <td>    0.00</td>  \n",
       "</tr>\n",
       "<tr>\n",
       "  <th>Kurtosis:</th>       <td>408.028</td> <th>  Cond. No.          </th>   <td>    4.30</td>  \n",
       "</tr>\n",
       "</table>"
      ],
      "text/plain": [
       "<class 'statsmodels.iolib.summary.Summary'>\n",
       "\"\"\"\n",
       "                            OLS Regression Results                            \n",
       "==============================================================================\n",
       "Dep. Variable:                   Fare   R-squared:                       0.490\n",
       "Model:                            OLS   Adj. R-squared:                  0.489\n",
       "Method:                 Least Squares   F-statistic:                     1790.\n",
       "Date:                Thu, 26 Oct 2017   Prob (F-statistic):          8.12e-275\n",
       "Time:                        20:19:05   Log-Likelihood:                -3787.5\n",
       "No. Observations:                1868   AIC:                             7579.\n",
       "Df Residuals:                    1866   BIC:                             7590.\n",
       "Df Model:                           1                                         \n",
       "Covariance Type:            nonrobust                                         \n",
       "=================================================================================\n",
       "                    coef    std err          t      P>|t|      [0.025      0.975]\n",
       "---------------------------------------------------------------------------------\n",
       "const             3.6953      0.083     44.281      0.000       3.532       3.859\n",
       "Trip Distance     2.0385      0.048     42.307      0.000       1.944       2.133\n",
       "==============================================================================\n",
       "Omnibus:                     3988.094   Durbin-Watson:                   1.988\n",
       "Prob(Omnibus):                  0.000   Jarque-Bera (JB):         12871888.329\n",
       "Skew:                          18.235   Prob(JB):                         0.00\n",
       "Kurtosis:                     408.028   Cond. No.                         4.30\n",
       "==============================================================================\n",
       "\n",
       "Warnings:\n",
       "[1] Standard Errors assume that the covariance matrix of the errors is correctly specified.\n",
       "\"\"\""
      ]
     },
     "execution_count": 347,
     "metadata": {},
     "output_type": "execute_result"
    }
   ],
   "source": [
    "distanceModel.summary()"
   ]
  },
  {
   "cell_type": "code",
   "execution_count": 348,
   "metadata": {},
   "outputs": [
    {
     "data": {
      "image/png": "[encoded data removed]",
      "text/plain": [
       "<matplotlib.figure.Figure at 0x133ec2f98>"
      ]
     },
     "metadata": {},
     "output_type": "display_data"
    }
   ],
   "source": [
    "durationValues = durationModel.fittedvalues\n",
    "\n",
    "fig = pl.figure(figsize=(15,5)) \n",
    "ax = fig.add_subplot(111)\n",
    "\n",
    "pl.plot(newData['Duration'], durationValues, '-', label='Duration Fit')\n",
    "pl.plot(newData['Duration'], newData['Fare'], '.')\n",
    "ax.set_xlabel(\"Duration of Trip\")\n",
    "ax.set_ylabel(\"Fare of Trip\")\n",
    "pl.legend()\n",
    "pl.show()"
   ]
  },
  {
   "cell_type": "code",
   "execution_count": 349,
   "metadata": {},
   "outputs": [
    {
     "data": {
      "image/png": "[encoded data removed]",
      "text/plain": [
       "<matplotlib.figure.Figure at 0x133ec4c18>"
      ]
     },
     "metadata": {},
     "output_type": "display_data"
    }
   ],
   "source": [
    "distanceValues = distanceModel.fittedvalues\n",
    "\n",
    "fig = pl.figure(figsize=(15,5)) \n",
    "ax = fig.add_subplot(111)\n",
    "\n",
    "pl.plot(newData['Trip Distance'], distanceValues, '-', label='Duration Fit')\n",
    "pl.plot(newData['Trip Distance'], newData['Fare'], '.')\n",
    "ax.set_xlabel(\"Distance of Trip\")\n",
    "ax.set_ylabel(\"Fare of Trip\")\n",
    "pl.legend()\n",
    "pl.show()"
   ]
  },
  {
   "cell_type": "markdown",
   "metadata": {},
   "source": [
    "**Figure 3:** Well look at that! As the distance goes higher, there are fewer points compared to duration. Yet, distance still has a better R-squared. But it still makes more sense for duration."
   ]
  },
  {
   "cell_type": "markdown",
   "metadata": {},
   "source": [
    "## Create two multivariate linear model to predict the tip percentage"
   ]
  },
  {
   "cell_type": "code",
   "execution_count": 351,
   "metadata": {},
   "outputs": [
    {
     "data": {
      "text/html": [
       "<table class=\"simpletable\">\n",
       "<caption>OLS Regression Results</caption>\n",
       "<tr>\n",
       "  <th>Dep. Variable:</th>            <td>y</td>        <th>  R-squared:         </th> <td>   0.004</td> \n",
       "</tr>\n",
       "<tr>\n",
       "  <th>Model:</th>                   <td>OLS</td>       <th>  Adj. R-squared:    </th> <td>   0.003</td> \n",
       "</tr>\n",
       "<tr>\n",
       "  <th>Method:</th>             <td>Least Squares</td>  <th>  F-statistic:       </th> <td>   3.708</td> \n",
       "</tr>\n",
       "<tr>\n",
       "  <th>Date:</th>             <td>Thu, 26 Oct 2017</td> <th>  Prob (F-statistic):</th>  <td>0.0247</td>  \n",
       "</tr>\n",
       "<tr>\n",
       "  <th>Time:</th>                 <td>20:20:51</td>     <th>  Log-Likelihood:    </th> <td> -6705.8</td> \n",
       "</tr>\n",
       "<tr>\n",
       "  <th>No. Observations:</th>      <td>  1868</td>      <th>  AIC:               </th> <td>1.342e+04</td>\n",
       "</tr>\n",
       "<tr>\n",
       "  <th>Df Residuals:</th>          <td>  1865</td>      <th>  BIC:               </th> <td>1.343e+04</td>\n",
       "</tr>\n",
       "<tr>\n",
       "  <th>Df Model:</th>              <td>     2</td>      <th>                     </th>     <td> </td>    \n",
       "</tr>\n",
       "<tr>\n",
       "  <th>Covariance Type:</th>      <td>nonrobust</td>    <th>                     </th>     <td> </td>    \n",
       "</tr>\n",
       "</table>\n",
       "<table class=\"simpletable\">\n",
       "<tr>\n",
       "      <td></td>         <th>coef</th>     <th>std err</th>      <th>t</th>      <th>P>|t|</th>  <th>[0.025</th>    <th>0.975]</th>  \n",
       "</tr>\n",
       "<tr>\n",
       "  <th>Intercept</th> <td>    4.1314</td> <td>    0.645</td> <td>    6.410</td> <td> 0.000</td> <td>    2.867</td> <td>    5.396</td>\n",
       "</tr>\n",
       "<tr>\n",
       "  <th>x1</th>        <td>    0.0053</td> <td>    0.003</td> <td>    1.817</td> <td> 0.069</td> <td>   -0.000</td> <td>    0.011</td>\n",
       "</tr>\n",
       "<tr>\n",
       "  <th>x2</th>        <td>   -0.0062</td> <td>    0.003</td> <td>   -1.985</td> <td> 0.047</td> <td>   -0.012</td> <td>-7.32e-05</td>\n",
       "</tr>\n",
       "</table>\n",
       "<table class=\"simpletable\">\n",
       "<tr>\n",
       "  <th>Omnibus:</th>       <td>770.374</td> <th>  Durbin-Watson:     </th> <td>   2.025</td>\n",
       "</tr>\n",
       "<tr>\n",
       "  <th>Prob(Omnibus):</th> <td> 0.000</td>  <th>  Jarque-Bera (JB):  </th> <td>2555.476</td>\n",
       "</tr>\n",
       "<tr>\n",
       "  <th>Skew:</th>          <td> 2.135</td>  <th>  Prob(JB):          </th> <td>    0.00</td>\n",
       "</tr>\n",
       "<tr>\n",
       "  <th>Kurtosis:</th>      <td> 6.822</td>  <th>  Cond. No.          </th> <td>    671.</td>\n",
       "</tr>\n",
       "</table>"
      ],
      "text/plain": [
       "<class 'statsmodels.iolib.summary.Summary'>\n",
       "\"\"\"\n",
       "                            OLS Regression Results                            \n",
       "==============================================================================\n",
       "Dep. Variable:                      y   R-squared:                       0.004\n",
       "Model:                            OLS   Adj. R-squared:                  0.003\n",
       "Method:                 Least Squares   F-statistic:                     3.708\n",
       "Date:                Thu, 26 Oct 2017   Prob (F-statistic):             0.0247\n",
       "Time:                        20:20:51   Log-Likelihood:                -6705.8\n",
       "No. Observations:                1868   AIC:                         1.342e+04\n",
       "Df Residuals:                    1865   BIC:                         1.343e+04\n",
       "Df Model:                           2                                         \n",
       "Covariance Type:            nonrobust                                         \n",
       "==============================================================================\n",
       "                 coef    std err          t      P>|t|      [0.025      0.975]\n",
       "------------------------------------------------------------------------------\n",
       "Intercept      4.1314      0.645      6.410      0.000       2.867       5.396\n",
       "x1             0.0053      0.003      1.817      0.069      -0.000       0.011\n",
       "x2            -0.0062      0.003     -1.985      0.047      -0.012   -7.32e-05\n",
       "==============================================================================\n",
       "Omnibus:                      770.374   Durbin-Watson:                   2.025\n",
       "Prob(Omnibus):                  0.000   Jarque-Bera (JB):             2555.476\n",
       "Skew:                           2.135   Prob(JB):                         0.00\n",
       "Kurtosis:                       6.822   Cond. No.                         671.\n",
       "==============================================================================\n",
       "\n",
       "Warnings:\n",
       "[1] Standard Errors assume that the covariance matrix of the errors is correctly specified.\n",
       "\"\"\""
      ]
     },
     "execution_count": 351,
     "metadata": {},
     "output_type": "execute_result"
    }
   ],
   "source": [
    "df = pd.DataFrame({'y':newData['Tip Percent'], 'x1':newData['Destination Income'], 'x2':newData['Departure Income']})\n",
    "multivariateModel_1 = smf.ols('y ~ x1 + x2', data=df).fit()\n",
    "multivariateModel_1.summary()"
   ]
  },
  {
   "cell_type": "code",
   "execution_count": 353,
   "metadata": {},
   "outputs": [
    {
     "data": {
      "text/html": [
       "<table class=\"simpletable\">\n",
       "<caption>OLS Regression Results</caption>\n",
       "<tr>\n",
       "  <th>Dep. Variable:</th>            <td>y</td>        <th>  R-squared:         </th> <td>   0.012</td> \n",
       "</tr>\n",
       "<tr>\n",
       "  <th>Model:</th>                   <td>OLS</td>       <th>  Adj. R-squared:    </th> <td>   0.011</td> \n",
       "</tr>\n",
       "<tr>\n",
       "  <th>Method:</th>             <td>Least Squares</td>  <th>  F-statistic:       </th> <td>   11.65</td> \n",
       "</tr>\n",
       "<tr>\n",
       "  <th>Date:</th>             <td>Thu, 26 Oct 2017</td> <th>  Prob (F-statistic):</th> <td>9.40e-06</td> \n",
       "</tr>\n",
       "<tr>\n",
       "  <th>Time:</th>                 <td>20:21:15</td>     <th>  Log-Likelihood:    </th> <td> -6697.9</td> \n",
       "</tr>\n",
       "<tr>\n",
       "  <th>No. Observations:</th>      <td>  1868</td>      <th>  AIC:               </th> <td>1.340e+04</td>\n",
       "</tr>\n",
       "<tr>\n",
       "  <th>Df Residuals:</th>          <td>  1865</td>      <th>  BIC:               </th> <td>1.342e+04</td>\n",
       "</tr>\n",
       "<tr>\n",
       "  <th>Df Model:</th>              <td>     2</td>      <th>                     </th>     <td> </td>    \n",
       "</tr>\n",
       "<tr>\n",
       "  <th>Covariance Type:</th>      <td>nonrobust</td>    <th>                     </th>     <td> </td>    \n",
       "</tr>\n",
       "</table>\n",
       "<table class=\"simpletable\">\n",
       "<tr>\n",
       "      <td></td>         <th>coef</th>     <th>std err</th>      <th>t</th>      <th>P>|t|</th>  <th>[0.025</th>    <th>0.975]</th>  \n",
       "</tr>\n",
       "<tr>\n",
       "  <th>Intercept</th> <td>    2.6017</td> <td>    0.508</td> <td>    5.126</td> <td> 0.000</td> <td>    1.606</td> <td>    3.597</td>\n",
       "</tr>\n",
       "<tr>\n",
       "  <th>x1</th>        <td>    1.2567</td> <td>    0.313</td> <td>    4.016</td> <td> 0.000</td> <td>    0.643</td> <td>    1.870</td>\n",
       "</tr>\n",
       "<tr>\n",
       "  <th>x2</th>        <td>   -4.0558</td> <td>    5.199</td> <td>   -0.780</td> <td> 0.435</td> <td>  -14.253</td> <td>    6.141</td>\n",
       "</tr>\n",
       "</table>\n",
       "<table class=\"simpletable\">\n",
       "<tr>\n",
       "  <th>Omnibus:</th>       <td>788.307</td> <th>  Durbin-Watson:     </th> <td>   2.016</td>\n",
       "</tr>\n",
       "<tr>\n",
       "  <th>Prob(Omnibus):</th> <td> 0.000</td>  <th>  Jarque-Bera (JB):  </th> <td>2752.863</td>\n",
       "</tr>\n",
       "<tr>\n",
       "  <th>Skew:</th>          <td> 2.160</td>  <th>  Prob(JB):          </th> <td>    0.00</td>\n",
       "</tr>\n",
       "<tr>\n",
       "  <th>Kurtosis:</th>      <td> 7.088</td>  <th>  Cond. No.          </th> <td>    50.3</td>\n",
       "</tr>\n",
       "</table>"
      ],
      "text/plain": [
       "<class 'statsmodels.iolib.summary.Summary'>\n",
       "\"\"\"\n",
       "                            OLS Regression Results                            \n",
       "==============================================================================\n",
       "Dep. Variable:                      y   R-squared:                       0.012\n",
       "Model:                            OLS   Adj. R-squared:                  0.011\n",
       "Method:                 Least Squares   F-statistic:                     11.65\n",
       "Date:                Thu, 26 Oct 2017   Prob (F-statistic):           9.40e-06\n",
       "Time:                        20:21:15   Log-Likelihood:                -6697.9\n",
       "No. Observations:                1868   AIC:                         1.340e+04\n",
       "Df Residuals:                    1865   BIC:                         1.342e+04\n",
       "Df Model:                           2                                         \n",
       "Covariance Type:            nonrobust                                         \n",
       "==============================================================================\n",
       "                 coef    std err          t      P>|t|      [0.025      0.975]\n",
       "------------------------------------------------------------------------------\n",
       "Intercept      2.6017      0.508      5.126      0.000       1.606       3.597\n",
       "x1             1.2567      0.313      4.016      0.000       0.643       1.870\n",
       "x2            -4.0558      5.199     -0.780      0.435     -14.253       6.141\n",
       "==============================================================================\n",
       "Omnibus:                      788.307   Durbin-Watson:                   2.016\n",
       "Prob(Omnibus):                  0.000   Jarque-Bera (JB):             2752.863\n",
       "Skew:                           2.160   Prob(JB):                         0.00\n",
       "Kurtosis:                       7.088   Cond. No.                         50.3\n",
       "==============================================================================\n",
       "\n",
       "Warnings:\n",
       "[1] Standard Errors assume that the covariance matrix of the errors is correctly specified.\n",
       "\"\"\""
      ]
     },
     "execution_count": 353,
     "metadata": {},
     "output_type": "execute_result"
    }
   ],
   "source": [
    "df = pd.DataFrame({'y':newData['Tip Percent'], 'x1':newData['Trip Distance'], 'x2':newData['Duration']})\n",
    "multivariateMode_2 = smf.ols('y ~ x1 + x2', data=df).fit()\n",
    "multivariateMode_2.summary()"
   ]
  },
  {
   "cell_type": "code",
   "execution_count": 355,
   "metadata": {},
   "outputs": [
    {
     "data": {
      "text/html": [
       "<table class=\"simpletable\">\n",
       "<caption>OLS Regression Results</caption>\n",
       "<tr>\n",
       "  <th>Dep. Variable:</th>            <td>y</td>        <th>  R-squared:         </th> <td>   0.016</td> \n",
       "</tr>\n",
       "<tr>\n",
       "  <th>Model:</th>                   <td>OLS</td>       <th>  Adj. R-squared:    </th> <td>   0.014</td> \n",
       "</tr>\n",
       "<tr>\n",
       "  <th>Method:</th>             <td>Least Squares</td>  <th>  F-statistic:       </th> <td>   7.519</td> \n",
       "</tr>\n",
       "<tr>\n",
       "  <th>Date:</th>             <td>Thu, 26 Oct 2017</td> <th>  Prob (F-statistic):</th> <td>5.25e-06</td> \n",
       "</tr>\n",
       "<tr>\n",
       "  <th>Time:</th>                 <td>20:25:21</td>     <th>  Log-Likelihood:    </th> <td> -6694.5</td> \n",
       "</tr>\n",
       "<tr>\n",
       "  <th>No. Observations:</th>      <td>  1868</td>      <th>  AIC:               </th> <td>1.340e+04</td>\n",
       "</tr>\n",
       "<tr>\n",
       "  <th>Df Residuals:</th>          <td>  1863</td>      <th>  BIC:               </th> <td>1.343e+04</td>\n",
       "</tr>\n",
       "<tr>\n",
       "  <th>Df Model:</th>              <td>     4</td>      <th>                     </th>     <td> </td>    \n",
       "</tr>\n",
       "<tr>\n",
       "  <th>Covariance Type:</th>      <td>nonrobust</td>    <th>                     </th>     <td> </td>    \n",
       "</tr>\n",
       "</table>\n",
       "<table class=\"simpletable\">\n",
       "<tr>\n",
       "      <td></td>         <th>coef</th>     <th>std err</th>      <th>t</th>      <th>P>|t|</th>  <th>[0.025</th>    <th>0.975]</th>  \n",
       "</tr>\n",
       "<tr>\n",
       "  <th>Intercept</th> <td>    2.6163</td> <td>    0.793</td> <td>    3.297</td> <td> 0.001</td> <td>    1.060</td> <td>    4.172</td>\n",
       "</tr>\n",
       "<tr>\n",
       "  <th>x1</th>        <td>    0.0056</td> <td>    0.003</td> <td>    1.923</td> <td> 0.055</td> <td>   -0.000</td> <td>    0.011</td>\n",
       "</tr>\n",
       "<tr>\n",
       "  <th>x2</th>        <td>   -0.0052</td> <td>    0.003</td> <td>   -1.688</td> <td> 0.092</td> <td>   -0.011</td> <td>    0.001</td>\n",
       "</tr>\n",
       "<tr>\n",
       "  <th>x3</th>        <td>    1.2463</td> <td>    0.313</td> <td>    3.976</td> <td> 0.000</td> <td>    0.632</td> <td>    1.861</td>\n",
       "</tr>\n",
       "<tr>\n",
       "  <th>x4</th>        <td>   -4.2335</td> <td>    5.201</td> <td>   -0.814</td> <td> 0.416</td> <td>  -14.434</td> <td>    5.967</td>\n",
       "</tr>\n",
       "</table>\n",
       "<table class=\"simpletable\">\n",
       "<tr>\n",
       "  <th>Omnibus:</th>       <td>783.057</td> <th>  Durbin-Watson:     </th> <td>   2.024</td>\n",
       "</tr>\n",
       "<tr>\n",
       "  <th>Prob(Omnibus):</th> <td> 0.000</td>  <th>  Jarque-Bera (JB):  </th> <td>2713.202</td>\n",
       "</tr>\n",
       "<tr>\n",
       "  <th>Skew:</th>          <td> 2.147</td>  <th>  Prob(JB):          </th> <td>    0.00</td>\n",
       "</tr>\n",
       "<tr>\n",
       "  <th>Kurtosis:</th>      <td> 7.052</td>  <th>  Cond. No.          </th> <td>5.46e+03</td>\n",
       "</tr>\n",
       "</table>"
      ],
      "text/plain": [
       "<class 'statsmodels.iolib.summary.Summary'>\n",
       "\"\"\"\n",
       "                            OLS Regression Results                            \n",
       "==============================================================================\n",
       "Dep. Variable:                      y   R-squared:                       0.016\n",
       "Model:                            OLS   Adj. R-squared:                  0.014\n",
       "Method:                 Least Squares   F-statistic:                     7.519\n",
       "Date:                Thu, 26 Oct 2017   Prob (F-statistic):           5.25e-06\n",
       "Time:                        20:25:21   Log-Likelihood:                -6694.5\n",
       "No. Observations:                1868   AIC:                         1.340e+04\n",
       "Df Residuals:                    1863   BIC:                         1.343e+04\n",
       "Df Model:                           4                                         \n",
       "Covariance Type:            nonrobust                                         \n",
       "==============================================================================\n",
       "                 coef    std err          t      P>|t|      [0.025      0.975]\n",
       "------------------------------------------------------------------------------\n",
       "Intercept      2.6163      0.793      3.297      0.001       1.060       4.172\n",
       "x1             0.0056      0.003      1.923      0.055      -0.000       0.011\n",
       "x2            -0.0052      0.003     -1.688      0.092      -0.011       0.001\n",
       "x3             1.2463      0.313      3.976      0.000       0.632       1.861\n",
       "x4            -4.2335      5.201     -0.814      0.416     -14.434       5.967\n",
       "==============================================================================\n",
       "Omnibus:                      783.057   Durbin-Watson:                   2.024\n",
       "Prob(Omnibus):                  0.000   Jarque-Bera (JB):             2713.202\n",
       "Skew:                           2.147   Prob(JB):                         0.00\n",
       "Kurtosis:                       7.052   Cond. No.                     5.46e+03\n",
       "==============================================================================\n",
       "\n",
       "Warnings:\n",
       "[1] Standard Errors assume that the covariance matrix of the errors is correctly specified.\n",
       "[2] The condition number is large, 5.46e+03. This might indicate that there are\n",
       "strong multicollinearity or other numerical problems.\n",
       "\"\"\""
      ]
     },
     "execution_count": 355,
     "metadata": {},
     "output_type": "execute_result"
    }
   ],
   "source": [
    "df = pd.DataFrame({'y':newData['Tip Percent'], 'x1':newData['Destination Income'], 'x2':newData['Departure Income'],\n",
    "                  'x3':newData['Trip Distance'], 'x4':newData['Duration']})\n",
    "multivariateModel_3 = smf.ols('y ~ x1 + x2 + x3 + x4', data=df).fit()\n",
    "multivariateModel_3.summary()"
   ]
  },
  {
   "cell_type": "markdown",
   "metadata": {},
   "source": [
    "## Compare multivariate linear model to predict the tip percentage and assess importance of socioeconomic variables"
   ]
  },
  {
   "cell_type": "markdown",
   "metadata": {},
   "source": [
    "**Interpretation:** If we regressed all of the variables, the coefficients for the departure and destination zipcode per capita income are low!! They also have high p-values! So, just because you're poor or you're rich doesn't mean you're gonna be stingy with tips!!!! (Actually, since most people don't give tips, I think that's actually what's driving all this.) But duration has the highest coefficient, though an awfully high p-value. Which leaves us with the positive and significant coefficient for distance. Which makes sense in that if you're gonna go to JFK or LaGaurdia, you're probably gonna give a tip. Maybe you're a businessperson on the way to take a flight and your company will pay for the fare and tip.\n",
    "\n",
    "But let us look at the two different multivariate OLS regressions. The one that is trip duration and distance has a higher R-squared value than the one using area incomes as variables. So we can see that this is perhaps a model that explains more of the data. Then let us look at each coefficient's p-value. For trip duration and distance, duration has such a high p-value that this coefficient is not significant. But distance has a zero p-value! When we look at origin and destination incomes, destination is above 0.05 and origin is almost at 0.05. Thus we cannot really consider these coefficients as significant explainers of tip percentage variation.\n",
    "\n",
    "One of the real problems here is that there really is no variation in our data. That is there is hardly any distribution. Almost everyone doesn't tip! (Honestly, I've never tipped in a cab...I didn't know you were supposed to and now I feel really bad. Are we supposed to? UGH. Can America just get rid of tipping and just pay people - you know - a living wage? It would do a lot for socioeconomic fairness and also my social anxiety.) Let's do all this if we get rid of zero percentage tips, shall we?"
   ]
  },
  {
   "cell_type": "markdown",
   "metadata": {},
   "source": [
    "## Look at this all again with actual tips"
   ]
  },
  {
   "cell_type": "code",
   "execution_count": 356,
   "metadata": {},
   "outputs": [],
   "source": [
    "newerData = data[data['Tip Percent'] > 0]"
   ]
  },
  {
   "cell_type": "code",
   "execution_count": 357,
   "metadata": {},
   "outputs": [
    {
     "data": {
      "text/html": [
       "<table class=\"simpletable\">\n",
       "<caption>OLS Regression Results</caption>\n",
       "<tr>\n",
       "  <th>Dep. Variable:</th>            <td>y</td>        <th>  R-squared:         </th> <td>   0.041</td>\n",
       "</tr>\n",
       "<tr>\n",
       "  <th>Model:</th>                   <td>OLS</td>       <th>  Adj. R-squared:    </th> <td>   0.034</td>\n",
       "</tr>\n",
       "<tr>\n",
       "  <th>Method:</th>             <td>Least Squares</td>  <th>  F-statistic:       </th> <td>   6.133</td>\n",
       "</tr>\n",
       "<tr>\n",
       "  <th>Date:</th>             <td>Thu, 26 Oct 2017</td> <th>  Prob (F-statistic):</th> <td>7.73e-05</td>\n",
       "</tr>\n",
       "<tr>\n",
       "  <th>Time:</th>                 <td>20:35:38</td>     <th>  Log-Likelihood:    </th> <td> -2400.1</td>\n",
       "</tr>\n",
       "<tr>\n",
       "  <th>No. Observations:</th>      <td>   586</td>      <th>  AIC:               </th> <td>   4810.</td>\n",
       "</tr>\n",
       "<tr>\n",
       "  <th>Df Residuals:</th>          <td>   581</td>      <th>  BIC:               </th> <td>   4832.</td>\n",
       "</tr>\n",
       "<tr>\n",
       "  <th>Df Model:</th>              <td>     4</td>      <th>                     </th>     <td> </td>   \n",
       "</tr>\n",
       "<tr>\n",
       "  <th>Covariance Type:</th>      <td>nonrobust</td>    <th>                     </th>     <td> </td>   \n",
       "</tr>\n",
       "</table>\n",
       "<table class=\"simpletable\">\n",
       "<tr>\n",
       "      <td></td>         <th>coef</th>     <th>std err</th>      <th>t</th>      <th>P>|t|</th>  <th>[0.025</th>    <th>0.975]</th>  \n",
       "</tr>\n",
       "<tr>\n",
       "  <th>Intercept</th> <td>   26.4407</td> <td>    2.103</td> <td>   12.570</td> <td> 0.000</td> <td>   22.310</td> <td>   30.572</td>\n",
       "</tr>\n",
       "<tr>\n",
       "  <th>x1</th>        <td>   -0.0003</td> <td>    0.008</td> <td>   -0.044</td> <td> 0.965</td> <td>   -0.016</td> <td>    0.015</td>\n",
       "</tr>\n",
       "<tr>\n",
       "  <th>x2</th>        <td>   -0.0056</td> <td>    0.009</td> <td>   -0.605</td> <td> 0.545</td> <td>   -0.024</td> <td>    0.013</td>\n",
       "</tr>\n",
       "<tr>\n",
       "  <th>x3</th>        <td>    0.3215</td> <td>    0.350</td> <td>    0.918</td> <td> 0.359</td> <td>   -0.366</td> <td>    1.009</td>\n",
       "</tr>\n",
       "<tr>\n",
       "  <th>x4</th>        <td>  -26.0164</td> <td>    7.052</td> <td>   -3.689</td> <td> 0.000</td> <td>  -39.866</td> <td>  -12.167</td>\n",
       "</tr>\n",
       "</table>\n",
       "<table class=\"simpletable\">\n",
       "<tr>\n",
       "  <th>Omnibus:</th>       <td>885.584</td> <th>  Durbin-Watson:     </th>  <td>   2.062</td> \n",
       "</tr>\n",
       "<tr>\n",
       "  <th>Prob(Omnibus):</th> <td> 0.000</td>  <th>  Jarque-Bera (JB):  </th> <td>260073.239</td>\n",
       "</tr>\n",
       "<tr>\n",
       "  <th>Skew:</th>          <td> 8.388</td>  <th>  Prob(JB):          </th>  <td>    0.00</td> \n",
       "</tr>\n",
       "<tr>\n",
       "  <th>Kurtosis:</th>      <td>104.833</td> <th>  Cond. No.          </th>  <td>2.51e+03</td> \n",
       "</tr>\n",
       "</table>"
      ],
      "text/plain": [
       "<class 'statsmodels.iolib.summary.Summary'>\n",
       "\"\"\"\n",
       "                            OLS Regression Results                            \n",
       "==============================================================================\n",
       "Dep. Variable:                      y   R-squared:                       0.041\n",
       "Model:                            OLS   Adj. R-squared:                  0.034\n",
       "Method:                 Least Squares   F-statistic:                     6.133\n",
       "Date:                Thu, 26 Oct 2017   Prob (F-statistic):           7.73e-05\n",
       "Time:                        20:35:38   Log-Likelihood:                -2400.1\n",
       "No. Observations:                 586   AIC:                             4810.\n",
       "Df Residuals:                     581   BIC:                             4832.\n",
       "Df Model:                           4                                         \n",
       "Covariance Type:            nonrobust                                         \n",
       "==============================================================================\n",
       "                 coef    std err          t      P>|t|      [0.025      0.975]\n",
       "------------------------------------------------------------------------------\n",
       "Intercept     26.4407      2.103     12.570      0.000      22.310      30.572\n",
       "x1            -0.0003      0.008     -0.044      0.965      -0.016       0.015\n",
       "x2            -0.0056      0.009     -0.605      0.545      -0.024       0.013\n",
       "x3             0.3215      0.350      0.918      0.359      -0.366       1.009\n",
       "x4           -26.0164      7.052     -3.689      0.000     -39.866     -12.167\n",
       "==============================================================================\n",
       "Omnibus:                      885.584   Durbin-Watson:                   2.062\n",
       "Prob(Omnibus):                  0.000   Jarque-Bera (JB):           260073.239\n",
       "Skew:                           8.388   Prob(JB):                         0.00\n",
       "Kurtosis:                     104.833   Cond. No.                     2.51e+03\n",
       "==============================================================================\n",
       "\n",
       "Warnings:\n",
       "[1] Standard Errors assume that the covariance matrix of the errors is correctly specified.\n",
       "[2] The condition number is large, 2.51e+03. This might indicate that there are\n",
       "strong multicollinearity or other numerical problems.\n",
       "\"\"\""
      ]
     },
     "execution_count": 357,
     "metadata": {},
     "output_type": "execute_result"
    }
   ],
   "source": [
    "df = pd.DataFrame({'y':newerData['Tip Percent'], 'x1':newerData['Destination Income'], 'x2':newerData['Departure Income'],\n",
    "                  'x3':newerData['Trip Distance'], 'x4':newerData['Duration']})\n",
    "multivariateModel_4 = smf.ols('y ~ x1 + x2 + x3 + x4', data=df).fit()\n",
    "multivariateModel_4.summary()"
   ]
  },
  {
   "cell_type": "markdown",
   "metadata": {},
   "source": [
    "**Interpretation:** Well there. The only coefficient that is significant is trip duration. And basically the longer your trip, the less you're gonna tip! Well, that makes sense if you're an impatient New Yorker and a cabbie has decided he thinks you're a tourist that he can take on the longer route."
   ]
  },
  {
   "cell_type": "code",
   "execution_count": 360,
   "metadata": {},
   "outputs": [
    {
     "data": {
      "text/html": [
       "<table class=\"simpletable\">\n",
       "<caption>OLS Regression Results</caption>\n",
       "<tr>\n",
       "  <th>Dep. Variable:</th>          <td>Fare</td>       <th>  R-squared:         </th> <td>   0.403</td> \n",
       "</tr>\n",
       "<tr>\n",
       "  <th>Model:</th>                   <td>OLS</td>       <th>  Adj. R-squared:    </th> <td>   0.403</td> \n",
       "</tr>\n",
       "<tr>\n",
       "  <th>Method:</th>             <td>Least Squares</td>  <th>  F-statistic:       </th> <td>   1260.</td> \n",
       "</tr>\n",
       "<tr>\n",
       "  <th>Date:</th>             <td>Thu, 26 Oct 2017</td> <th>  Prob (F-statistic):</th> <td>2.51e-211</td>\n",
       "</tr>\n",
       "<tr>\n",
       "  <th>Time:</th>                 <td>20:37:44</td>     <th>  Log-Likelihood:    </th> <td> -3933.8</td> \n",
       "</tr>\n",
       "<tr>\n",
       "  <th>No. Observations:</th>      <td>  1868</td>      <th>  AIC:               </th> <td>   7872.</td> \n",
       "</tr>\n",
       "<tr>\n",
       "  <th>Df Residuals:</th>          <td>  1866</td>      <th>  BIC:               </th> <td>   7883.</td> \n",
       "</tr>\n",
       "<tr>\n",
       "  <th>Df Model:</th>              <td>     1</td>      <th>                     </th>     <td> </td>    \n",
       "</tr>\n",
       "<tr>\n",
       "  <th>Covariance Type:</th>      <td>nonrobust</td>    <th>                     </th>     <td> </td>    \n",
       "</tr>\n",
       "</table>\n",
       "<table class=\"simpletable\">\n",
       "<tr>\n",
       "      <td></td>        <th>coef</th>     <th>std err</th>      <th>t</th>      <th>P>|t|</th>  <th>[0.025</th>    <th>0.975]</th>  \n",
       "</tr>\n",
       "<tr>\n",
       "  <th>const</th>    <td>    2.9798</td> <td>    0.115</td> <td>   25.844</td> <td> 0.000</td> <td>    2.754</td> <td>    3.206</td>\n",
       "</tr>\n",
       "<tr>\n",
       "  <th>Duration</th> <td>   30.7304</td> <td>    0.866</td> <td>   35.496</td> <td> 0.000</td> <td>   29.032</td> <td>   32.428</td>\n",
       "</tr>\n",
       "</table>\n",
       "<table class=\"simpletable\">\n",
       "<tr>\n",
       "  <th>Omnibus:</th>       <td>3637.991</td> <th>  Durbin-Watson:     </th>  <td>   1.920</td>  \n",
       "</tr>\n",
       "<tr>\n",
       "  <th>Prob(Omnibus):</th>  <td> 0.000</td>  <th>  Jarque-Bera (JB):  </th> <td>7264093.002</td>\n",
       "</tr>\n",
       "<tr>\n",
       "  <th>Skew:</th>           <td>14.880</td>  <th>  Prob(JB):          </th>  <td>    0.00</td>  \n",
       "</tr>\n",
       "<tr>\n",
       "  <th>Kurtosis:</th>       <td>307.045</td> <th>  Cond. No.          </th>  <td>    19.1</td>  \n",
       "</tr>\n",
       "</table>"
      ],
      "text/plain": [
       "<class 'statsmodels.iolib.summary.Summary'>\n",
       "\"\"\"\n",
       "                            OLS Regression Results                            \n",
       "==============================================================================\n",
       "Dep. Variable:                   Fare   R-squared:                       0.403\n",
       "Model:                            OLS   Adj. R-squared:                  0.403\n",
       "Method:                 Least Squares   F-statistic:                     1260.\n",
       "Date:                Thu, 26 Oct 2017   Prob (F-statistic):          2.51e-211\n",
       "Time:                        20:37:44   Log-Likelihood:                -3933.8\n",
       "No. Observations:                1868   AIC:                             7872.\n",
       "Df Residuals:                    1866   BIC:                             7883.\n",
       "Df Model:                           1                                         \n",
       "Covariance Type:            nonrobust                                         \n",
       "==============================================================================\n",
       "                 coef    std err          t      P>|t|      [0.025      0.975]\n",
       "------------------------------------------------------------------------------\n",
       "const          2.9798      0.115     25.844      0.000       2.754       3.206\n",
       "Duration      30.7304      0.866     35.496      0.000      29.032      32.428\n",
       "==============================================================================\n",
       "Omnibus:                     3637.991   Durbin-Watson:                   1.920\n",
       "Prob(Omnibus):                  0.000   Jarque-Bera (JB):          7264093.002\n",
       "Skew:                          14.880   Prob(JB):                         0.00\n",
       "Kurtosis:                     307.045   Cond. No.                         19.1\n",
       "==============================================================================\n",
       "\n",
       "Warnings:\n",
       "[1] Standard Errors assume that the covariance matrix of the errors is correctly specified.\n",
       "\"\"\""
      ]
     },
     "execution_count": 360,
     "metadata": {},
     "output_type": "execute_result"
    }
   ],
   "source": [
    "X = sm.add_constant(newData['Duration'])\n",
    "durationModel2 = sm.OLS(endog=newData['Fare'], exog=X).fit()\n",
    "durationModel2.summary()"
   ]
  },
  {
   "cell_type": "code",
   "execution_count": 361,
   "metadata": {},
   "outputs": [
    {
     "data": {
      "text/html": [
       "<table class=\"simpletable\">\n",
       "<caption>OLS Regression Results</caption>\n",
       "<tr>\n",
       "  <th>Dep. Variable:</th>          <td>Fare</td>       <th>  R-squared:         </th> <td>   0.490</td> \n",
       "</tr>\n",
       "<tr>\n",
       "  <th>Model:</th>                   <td>OLS</td>       <th>  Adj. R-squared:    </th> <td>   0.489</td> \n",
       "</tr>\n",
       "<tr>\n",
       "  <th>Method:</th>             <td>Least Squares</td>  <th>  F-statistic:       </th> <td>   1790.</td> \n",
       "</tr>\n",
       "<tr>\n",
       "  <th>Date:</th>             <td>Thu, 26 Oct 2017</td> <th>  Prob (F-statistic):</th> <td>8.12e-275</td>\n",
       "</tr>\n",
       "<tr>\n",
       "  <th>Time:</th>                 <td>20:38:01</td>     <th>  Log-Likelihood:    </th> <td> -3787.5</td> \n",
       "</tr>\n",
       "<tr>\n",
       "  <th>No. Observations:</th>      <td>  1868</td>      <th>  AIC:               </th> <td>   7579.</td> \n",
       "</tr>\n",
       "<tr>\n",
       "  <th>Df Residuals:</th>          <td>  1866</td>      <th>  BIC:               </th> <td>   7590.</td> \n",
       "</tr>\n",
       "<tr>\n",
       "  <th>Df Model:</th>              <td>     1</td>      <th>                     </th>     <td> </td>    \n",
       "</tr>\n",
       "<tr>\n",
       "  <th>Covariance Type:</th>      <td>nonrobust</td>    <th>                     </th>     <td> </td>    \n",
       "</tr>\n",
       "</table>\n",
       "<table class=\"simpletable\">\n",
       "<tr>\n",
       "        <td></td>           <th>coef</th>     <th>std err</th>      <th>t</th>      <th>P>|t|</th>  <th>[0.025</th>    <th>0.975]</th>  \n",
       "</tr>\n",
       "<tr>\n",
       "  <th>const</th>         <td>    3.6953</td> <td>    0.083</td> <td>   44.281</td> <td> 0.000</td> <td>    3.532</td> <td>    3.859</td>\n",
       "</tr>\n",
       "<tr>\n",
       "  <th>Trip Distance</th> <td>    2.0385</td> <td>    0.048</td> <td>   42.307</td> <td> 0.000</td> <td>    1.944</td> <td>    2.133</td>\n",
       "</tr>\n",
       "</table>\n",
       "<table class=\"simpletable\">\n",
       "<tr>\n",
       "  <th>Omnibus:</th>       <td>3988.094</td> <th>  Durbin-Watson:     </th>   <td>   1.988</td>  \n",
       "</tr>\n",
       "<tr>\n",
       "  <th>Prob(Omnibus):</th>  <td> 0.000</td>  <th>  Jarque-Bera (JB):  </th> <td>12871888.329</td>\n",
       "</tr>\n",
       "<tr>\n",
       "  <th>Skew:</th>           <td>18.235</td>  <th>  Prob(JB):          </th>   <td>    0.00</td>  \n",
       "</tr>\n",
       "<tr>\n",
       "  <th>Kurtosis:</th>       <td>408.028</td> <th>  Cond. No.          </th>   <td>    4.30</td>  \n",
       "</tr>\n",
       "</table>"
      ],
      "text/plain": [
       "<class 'statsmodels.iolib.summary.Summary'>\n",
       "\"\"\"\n",
       "                            OLS Regression Results                            \n",
       "==============================================================================\n",
       "Dep. Variable:                   Fare   R-squared:                       0.490\n",
       "Model:                            OLS   Adj. R-squared:                  0.489\n",
       "Method:                 Least Squares   F-statistic:                     1790.\n",
       "Date:                Thu, 26 Oct 2017   Prob (F-statistic):          8.12e-275\n",
       "Time:                        20:38:01   Log-Likelihood:                -3787.5\n",
       "No. Observations:                1868   AIC:                             7579.\n",
       "Df Residuals:                    1866   BIC:                             7590.\n",
       "Df Model:                           1                                         \n",
       "Covariance Type:            nonrobust                                         \n",
       "=================================================================================\n",
       "                    coef    std err          t      P>|t|      [0.025      0.975]\n",
       "---------------------------------------------------------------------------------\n",
       "const             3.6953      0.083     44.281      0.000       3.532       3.859\n",
       "Trip Distance     2.0385      0.048     42.307      0.000       1.944       2.133\n",
       "==============================================================================\n",
       "Omnibus:                     3988.094   Durbin-Watson:                   1.988\n",
       "Prob(Omnibus):                  0.000   Jarque-Bera (JB):         12871888.329\n",
       "Skew:                          18.235   Prob(JB):                         0.00\n",
       "Kurtosis:                     408.028   Cond. No.                         4.30\n",
       "==============================================================================\n",
       "\n",
       "Warnings:\n",
       "[1] Standard Errors assume that the covariance matrix of the errors is correctly specified.\n",
       "\"\"\""
      ]
     },
     "execution_count": 361,
     "metadata": {},
     "output_type": "execute_result"
    }
   ],
   "source": [
    "X = sm.add_constant(newData['Trip Distance'])\n",
    "distanceModel2 = sm.OLS(endog=newData['Fare'], exog=X).fit()\n",
    "distanceModel2.summary()"
   ]
  },
  {
   "cell_type": "code",
   "execution_count": 362,
   "metadata": {},
   "outputs": [
    {
     "data": {
      "text/html": [
       "<table class=\"simpletable\">\n",
       "<caption>OLS Regression Results</caption>\n",
       "<tr>\n",
       "  <th>Dep. Variable:</th>            <td>y</td>        <th>  R-squared:         </th> <td>   0.040</td>\n",
       "</tr>\n",
       "<tr>\n",
       "  <th>Model:</th>                   <td>OLS</td>       <th>  Adj. R-squared:    </th> <td>   0.037</td>\n",
       "</tr>\n",
       "<tr>\n",
       "  <th>Method:</th>             <td>Least Squares</td>  <th>  F-statistic:       </th> <td>   12.12</td>\n",
       "</tr>\n",
       "<tr>\n",
       "  <th>Date:</th>             <td>Thu, 26 Oct 2017</td> <th>  Prob (F-statistic):</th> <td>6.98e-06</td>\n",
       "</tr>\n",
       "<tr>\n",
       "  <th>Time:</th>                 <td>20:38:37</td>     <th>  Log-Likelihood:    </th> <td> -2400.3</td>\n",
       "</tr>\n",
       "<tr>\n",
       "  <th>No. Observations:</th>      <td>   586</td>      <th>  AIC:               </th> <td>   4807.</td>\n",
       "</tr>\n",
       "<tr>\n",
       "  <th>Df Residuals:</th>          <td>   583</td>      <th>  BIC:               </th> <td>   4820.</td>\n",
       "</tr>\n",
       "<tr>\n",
       "  <th>Df Model:</th>              <td>     2</td>      <th>                     </th>     <td> </td>   \n",
       "</tr>\n",
       "<tr>\n",
       "  <th>Covariance Type:</th>      <td>nonrobust</td>    <th>                     </th>     <td> </td>   \n",
       "</tr>\n",
       "</table>\n",
       "<table class=\"simpletable\">\n",
       "<tr>\n",
       "      <td></td>         <th>coef</th>     <th>std err</th>      <th>t</th>      <th>P>|t|</th>  <th>[0.025</th>    <th>0.975]</th>  \n",
       "</tr>\n",
       "<tr>\n",
       "  <th>Intercept</th> <td>   25.5806</td> <td>    1.084</td> <td>   23.607</td> <td> 0.000</td> <td>   23.452</td> <td>   27.709</td>\n",
       "</tr>\n",
       "<tr>\n",
       "  <th>x3</th>        <td>    0.3488</td> <td>    0.347</td> <td>    1.006</td> <td> 0.315</td> <td>   -0.332</td> <td>    1.030</td>\n",
       "</tr>\n",
       "<tr>\n",
       "  <th>x4</th>        <td>  -26.2609</td> <td>    7.030</td> <td>   -3.736</td> <td> 0.000</td> <td>  -40.068</td> <td>  -12.454</td>\n",
       "</tr>\n",
       "</table>\n",
       "<table class=\"simpletable\">\n",
       "<tr>\n",
       "  <th>Omnibus:</th>       <td>884.626</td> <th>  Durbin-Watson:     </th>  <td>   2.063</td> \n",
       "</tr>\n",
       "<tr>\n",
       "  <th>Prob(Omnibus):</th> <td> 0.000</td>  <th>  Jarque-Bera (JB):  </th> <td>258962.593</td>\n",
       "</tr>\n",
       "<tr>\n",
       "  <th>Skew:</th>          <td> 8.371</td>  <th>  Prob(JB):          </th>  <td>    0.00</td> \n",
       "</tr>\n",
       "<tr>\n",
       "  <th>Kurtosis:</th>      <td>104.615</td> <th>  Cond. No.          </th>  <td>    49.3</td> \n",
       "</tr>\n",
       "</table>"
      ],
      "text/plain": [
       "<class 'statsmodels.iolib.summary.Summary'>\n",
       "\"\"\"\n",
       "                            OLS Regression Results                            \n",
       "==============================================================================\n",
       "Dep. Variable:                      y   R-squared:                       0.040\n",
       "Model:                            OLS   Adj. R-squared:                  0.037\n",
       "Method:                 Least Squares   F-statistic:                     12.12\n",
       "Date:                Thu, 26 Oct 2017   Prob (F-statistic):           6.98e-06\n",
       "Time:                        20:38:37   Log-Likelihood:                -2400.3\n",
       "No. Observations:                 586   AIC:                             4807.\n",
       "Df Residuals:                     583   BIC:                             4820.\n",
       "Df Model:                           2                                         \n",
       "Covariance Type:            nonrobust                                         \n",
       "==============================================================================\n",
       "                 coef    std err          t      P>|t|      [0.025      0.975]\n",
       "------------------------------------------------------------------------------\n",
       "Intercept     25.5806      1.084     23.607      0.000      23.452      27.709\n",
       "x3             0.3488      0.347      1.006      0.315      -0.332       1.030\n",
       "x4           -26.2609      7.030     -3.736      0.000     -40.068     -12.454\n",
       "==============================================================================\n",
       "Omnibus:                      884.626   Durbin-Watson:                   2.063\n",
       "Prob(Omnibus):                  0.000   Jarque-Bera (JB):           258962.593\n",
       "Skew:                           8.371   Prob(JB):                         0.00\n",
       "Kurtosis:                     104.615   Cond. No.                         49.3\n",
       "==============================================================================\n",
       "\n",
       "Warnings:\n",
       "[1] Standard Errors assume that the covariance matrix of the errors is correctly specified.\n",
       "\"\"\""
      ]
     },
     "execution_count": 362,
     "metadata": {},
     "output_type": "execute_result"
    }
   ],
   "source": [
    "df = pd.DataFrame({'y':newerData['Tip Percent'],'x3':newerData['Trip Distance'], 'x4':newerData['Duration']})\n",
    "multivariateModel_4 = smf.ols('y ~ x3 + x4', data=df).fit()\n",
    "multivariateModel_4.summary()"
   ]
  },
  {
   "cell_type": "code",
   "execution_count": 363,
   "metadata": {},
   "outputs": [
    {
     "data": {
      "text/html": [
       "<table class=\"simpletable\">\n",
       "<caption>OLS Regression Results</caption>\n",
       "<tr>\n",
       "  <th>Dep. Variable:</th>            <td>y</td>        <th>  R-squared:         </th> <td>   0.004</td> \n",
       "</tr>\n",
       "<tr>\n",
       "  <th>Model:</th>                   <td>OLS</td>       <th>  Adj. R-squared:    </th> <td>   0.003</td> \n",
       "</tr>\n",
       "<tr>\n",
       "  <th>Method:</th>             <td>Least Squares</td>  <th>  F-statistic:       </th> <td>   3.708</td> \n",
       "</tr>\n",
       "<tr>\n",
       "  <th>Date:</th>             <td>Thu, 26 Oct 2017</td> <th>  Prob (F-statistic):</th>  <td>0.0247</td>  \n",
       "</tr>\n",
       "<tr>\n",
       "  <th>Time:</th>                 <td>20:39:21</td>     <th>  Log-Likelihood:    </th> <td> -6705.8</td> \n",
       "</tr>\n",
       "<tr>\n",
       "  <th>No. Observations:</th>      <td>  1868</td>      <th>  AIC:               </th> <td>1.342e+04</td>\n",
       "</tr>\n",
       "<tr>\n",
       "  <th>Df Residuals:</th>          <td>  1865</td>      <th>  BIC:               </th> <td>1.343e+04</td>\n",
       "</tr>\n",
       "<tr>\n",
       "  <th>Df Model:</th>              <td>     2</td>      <th>                     </th>     <td> </td>    \n",
       "</tr>\n",
       "<tr>\n",
       "  <th>Covariance Type:</th>      <td>nonrobust</td>    <th>                     </th>     <td> </td>    \n",
       "</tr>\n",
       "</table>\n",
       "<table class=\"simpletable\">\n",
       "<tr>\n",
       "      <td></td>         <th>coef</th>     <th>std err</th>      <th>t</th>      <th>P>|t|</th>  <th>[0.025</th>    <th>0.975]</th>  \n",
       "</tr>\n",
       "<tr>\n",
       "  <th>Intercept</th> <td>    4.1314</td> <td>    0.645</td> <td>    6.410</td> <td> 0.000</td> <td>    2.867</td> <td>    5.396</td>\n",
       "</tr>\n",
       "<tr>\n",
       "  <th>x1</th>        <td>    0.0053</td> <td>    0.003</td> <td>    1.817</td> <td> 0.069</td> <td>   -0.000</td> <td>    0.011</td>\n",
       "</tr>\n",
       "<tr>\n",
       "  <th>x2</th>        <td>   -0.0062</td> <td>    0.003</td> <td>   -1.985</td> <td> 0.047</td> <td>   -0.012</td> <td>-7.32e-05</td>\n",
       "</tr>\n",
       "</table>\n",
       "<table class=\"simpletable\">\n",
       "<tr>\n",
       "  <th>Omnibus:</th>       <td>770.374</td> <th>  Durbin-Watson:     </th> <td>   2.025</td>\n",
       "</tr>\n",
       "<tr>\n",
       "  <th>Prob(Omnibus):</th> <td> 0.000</td>  <th>  Jarque-Bera (JB):  </th> <td>2555.476</td>\n",
       "</tr>\n",
       "<tr>\n",
       "  <th>Skew:</th>          <td> 2.135</td>  <th>  Prob(JB):          </th> <td>    0.00</td>\n",
       "</tr>\n",
       "<tr>\n",
       "  <th>Kurtosis:</th>      <td> 6.822</td>  <th>  Cond. No.          </th> <td>    671.</td>\n",
       "</tr>\n",
       "</table>"
      ],
      "text/plain": [
       "<class 'statsmodels.iolib.summary.Summary'>\n",
       "\"\"\"\n",
       "                            OLS Regression Results                            \n",
       "==============================================================================\n",
       "Dep. Variable:                      y   R-squared:                       0.004\n",
       "Model:                            OLS   Adj. R-squared:                  0.003\n",
       "Method:                 Least Squares   F-statistic:                     3.708\n",
       "Date:                Thu, 26 Oct 2017   Prob (F-statistic):             0.0247\n",
       "Time:                        20:39:21   Log-Likelihood:                -6705.8\n",
       "No. Observations:                1868   AIC:                         1.342e+04\n",
       "Df Residuals:                    1865   BIC:                         1.343e+04\n",
       "Df Model:                           2                                         \n",
       "Covariance Type:            nonrobust                                         \n",
       "==============================================================================\n",
       "                 coef    std err          t      P>|t|      [0.025      0.975]\n",
       "------------------------------------------------------------------------------\n",
       "Intercept      4.1314      0.645      6.410      0.000       2.867       5.396\n",
       "x1             0.0053      0.003      1.817      0.069      -0.000       0.011\n",
       "x2            -0.0062      0.003     -1.985      0.047      -0.012   -7.32e-05\n",
       "==============================================================================\n",
       "Omnibus:                      770.374   Durbin-Watson:                   2.025\n",
       "Prob(Omnibus):                  0.000   Jarque-Bera (JB):             2555.476\n",
       "Skew:                           2.135   Prob(JB):                         0.00\n",
       "Kurtosis:                       6.822   Cond. No.                         671.\n",
       "==============================================================================\n",
       "\n",
       "Warnings:\n",
       "[1] Standard Errors assume that the covariance matrix of the errors is correctly specified.\n",
       "\"\"\""
      ]
     },
     "execution_count": 363,
     "metadata": {},
     "output_type": "execute_result"
    }
   ],
   "source": [
    "df = pd.DataFrame({'y':newData['Tip Percent'], 'x1':newData['Destination Income'], 'x2':newData['Departure Income'],})\n",
    "multivariateModel_5 = smf.ols('y ~ x1 + x2', data=df).fit()\n",
    "multivariateModel_5.summary()"
   ]
  },
  {
   "cell_type": "markdown",
   "metadata": {},
   "source": [
    "**Interpretation:** That is a really, really low r-squared value and pretty high p-values. Per capita income of origin and destination zipcodes have no bearing on tip percentage when we take out zero percent tips. What is interesting is that when we run a multivariate regression of duration and distance together, we get a lower r-squared value than if we run them separately. One of the problems we have here is that these two variables are endogenous!!!!!! BIG NOOOOOPE there! Of course your duration is going to be partially affected by your distance traveled!!!! We need to figure out a better variable."
   ]
  },
  {
   "cell_type": "code",
   "execution_count": null,
   "metadata": {},
   "outputs": [],
   "source": []
  }
 ],
 "metadata": {
  "kernelspec": {
   "display_name": "PUI2017",
   "language": "python",
   "name": "pui2017"
  },
  "language_info": {
   "codemirror_mode": {
    "name": "ipython",
    "version": 3
   },
   "file_extension": ".py",
   "mimetype": "text/x-python",
   "name": "python",
   "nbconvert_exporter": "python",
   "pygments_lexer": "ipython3",
   "version": "3.6.3"
  },
  "toc": {
   "nav_menu": {},
   "number_sections": true,
   "sideBar": true,
   "skip_h1_title": true,
   "toc_cell": true,
   "toc_position": {
    "height": "685px",
    "left": "0px",
    "right": "1177px",
    "top": "52px",
    "width": "212px"
   },
   "toc_section_display": "block",
   "toc_window_display": true
  }
 },
 "nbformat": 4,
 "nbformat_minor": 2
}
